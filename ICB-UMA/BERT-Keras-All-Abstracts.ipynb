{
 "cells": [
  {
   "cell_type": "markdown",
   "metadata": {},
   "source": [
    "# Abstracts BERT Tokenizer\n",
    "\n",
    "We analyze the tokenization performed by different BERT Tokenizers when applied to additional abstracts with CIE-D codes corpus."
   ]
  },
  {
   "cell_type": "code",
   "execution_count": 1,
   "metadata": {},
   "outputs": [
    {
     "name": "stderr",
     "output_type": "stream",
     "text": [
      "Using TensorFlow backend.\n"
     ]
    }
   ],
   "source": [
    "import pandas as pd\n",
    "import numpy as np\n",
    "\n",
    "# Auxiliary components\n",
    "from nlp_utils import *"
   ]
  },
  {
   "cell_type": "code",
   "execution_count": 2,
   "metadata": {},
   "outputs": [],
   "source": [
    "corpus_path = \"../datasets/abstractsWithCIE10_v2/\""
   ]
  },
  {
   "cell_type": "markdown",
   "metadata": {},
   "source": [
    "## Load text\n",
    "\n",
    "Firstly, all docs from additional abstracts with CIE-D codes associated are loaded (see `CodiEsp_Exploration` notebook). Apart from the raw text, we also save a pre-processed version of the text where the stop words are removed."
   ]
  },
  {
   "cell_type": "code",
   "execution_count": 3,
   "metadata": {},
   "outputs": [],
   "source": [
    "# All abstracts\n",
    "df_codes_d_abs_all = pd.read_table(corpus_path + \"all_abstracts_table_valid_codes_D.tsv\", sep='\\t', header=None)"
   ]
  },
  {
   "cell_type": "code",
   "execution_count": 4,
   "metadata": {},
   "outputs": [],
   "source": [
    "df_codes_d_abs_all.columns = [\"doc_id\", \"code\"]"
   ]
  },
  {
   "cell_type": "code",
   "execution_count": 5,
   "metadata": {},
   "outputs": [
    {
     "data": {
      "text/plain": [
       "(403856, 2)"
      ]
     },
     "execution_count": 5,
     "metadata": {},
     "output_type": "execute_result"
    }
   ],
   "source": [
    "df_codes_d_abs_all.shape"
   ]
  },
  {
   "cell_type": "code",
   "execution_count": 6,
   "metadata": {},
   "outputs": [
    {
     "data": {
      "text/html": [
       "<div>\n",
       "<style scoped>\n",
       "    .dataframe tbody tr th:only-of-type {\n",
       "        vertical-align: middle;\n",
       "    }\n",
       "\n",
       "    .dataframe tbody tr th {\n",
       "        vertical-align: top;\n",
       "    }\n",
       "\n",
       "    .dataframe thead th {\n",
       "        text-align: right;\n",
       "    }\n",
       "</style>\n",
       "<table border=\"1\" class=\"dataframe\">\n",
       "  <thead>\n",
       "    <tr style=\"text-align: right;\">\n",
       "      <th></th>\n",
       "      <th>doc_id</th>\n",
       "      <th>code</th>\n",
       "    </tr>\n",
       "  </thead>\n",
       "  <tbody>\n",
       "    <tr>\n",
       "      <th>0</th>\n",
       "      <td>biblio-994981</td>\n",
       "      <td>r68.82</td>\n",
       "    </tr>\n",
       "    <tr>\n",
       "      <th>1</th>\n",
       "      <td>biblio-1008268</td>\n",
       "      <td>f91.9</td>\n",
       "    </tr>\n",
       "    <tr>\n",
       "      <th>2</th>\n",
       "      <td>biblio-1008268</td>\n",
       "      <td>f99</td>\n",
       "    </tr>\n",
       "    <tr>\n",
       "      <th>3</th>\n",
       "      <td>biblio-1008288</td>\n",
       "      <td>r09.02</td>\n",
       "    </tr>\n",
       "    <tr>\n",
       "      <th>4</th>\n",
       "      <td>biblio-1010254</td>\n",
       "      <td>h91.9</td>\n",
       "    </tr>\n",
       "  </tbody>\n",
       "</table>\n",
       "</div>"
      ],
      "text/plain": [
       "           doc_id    code\n",
       "0   biblio-994981  r68.82\n",
       "1  biblio-1008268   f91.9\n",
       "2  biblio-1008268     f99\n",
       "3  biblio-1008288  r09.02\n",
       "4  biblio-1010254   h91.9"
      ]
     },
     "execution_count": 6,
     "metadata": {},
     "output_type": "execute_result"
    }
   ],
   "source": [
    "df_codes_d_abs_all.head()"
   ]
  },
  {
   "cell_type": "code",
   "execution_count": 7,
   "metadata": {},
   "outputs": [
    {
     "data": {
      "text/plain": [
       "170120"
      ]
     },
     "execution_count": 7,
     "metadata": {},
     "output_type": "execute_result"
    }
   ],
   "source": [
    "# Number of distinct docs\n",
    "len(set(df_codes_d_abs_all[\"doc_id\"]))"
   ]
  },
  {
   "cell_type": "code",
   "execution_count": 8,
   "metadata": {},
   "outputs": [
    {
     "data": {
      "text/plain": [
       "2984"
      ]
     },
     "execution_count": 8,
     "metadata": {},
     "output_type": "execute_result"
    }
   ],
   "source": [
    "# Number of distinct codes\n",
    "len(set(df_codes_d_abs_all[\"code\"]))"
   ]
  },
  {
   "cell_type": "code",
   "execution_count": 9,
   "metadata": {},
   "outputs": [],
   "source": [
    "from nltk.corpus import stopwords\n",
    "\n",
    "spanish_sw = stopwords.words('spanish')"
   ]
  },
  {
   "cell_type": "code",
   "execution_count": 10,
   "metadata": {},
   "outputs": [
    {
     "data": {
      "text/plain": [
       "True"
      ]
     },
     "execution_count": 10,
     "metadata": {},
     "output_type": "execute_result"
    }
   ],
   "source": [
    "# All Spanish stop words are lowercase\n",
    "all([w.islower() for w in spanish_sw])"
   ]
  },
  {
   "cell_type": "code",
   "execution_count": 11,
   "metadata": {},
   "outputs": [],
   "source": [
    "from functools import partial"
   ]
  },
  {
   "cell_type": "markdown",
   "metadata": {},
   "source": [
    "### All abstracts with valid codes corpus"
   ]
  },
  {
   "cell_type": "code",
   "execution_count": 12,
   "metadata": {},
   "outputs": [],
   "source": [
    "all_abs_doc_list = sorted(set(df_codes_d_abs_all[\"doc_id\"]))"
   ]
  },
  {
   "cell_type": "code",
   "execution_count": 13,
   "metadata": {},
   "outputs": [
    {
     "data": {
      "text/plain": [
       "170120"
      ]
     },
     "execution_count": 13,
     "metadata": {},
     "output_type": "execute_result"
    }
   ],
   "source": [
    "len(all_abs_doc_list)"
   ]
  },
  {
   "cell_type": "code",
   "execution_count": 14,
   "metadata": {},
   "outputs": [
    {
     "data": {
      "text/plain": [
       "['biblio-1000005',\n",
       " 'biblio-1000026',\n",
       " 'biblio-1000027',\n",
       " 'biblio-1000028',\n",
       " 'biblio-1000029',\n",
       " 'biblio-1000030',\n",
       " 'biblio-1000049',\n",
       " 'biblio-1000075',\n",
       " 'biblio-1000083',\n",
       " 'biblio-1000087']"
      ]
     },
     "execution_count": 14,
     "metadata": {},
     "output_type": "execute_result"
    }
   ],
   "source": [
    "all_abs_doc_list[:10]"
   ]
  },
  {
   "cell_type": "code",
   "execution_count": 15,
   "metadata": {},
   "outputs": [
    {
     "name": "stdout",
     "output_type": "stream",
     "text": [
      "CPU times: user 4min 4s, sys: 1.13 s, total: 4min 6s\n",
      "Wall time: 4min 6s\n"
     ]
    }
   ],
   "source": [
    "%%time\n",
    "abs_path = corpus_path + \"ankush_txt/\"\n",
    "abs_text_data = load_text_files([d + \".txt\" for d in all_abs_doc_list], abs_path)\n",
    "df_text_all_abs = pd.DataFrame({'doc_id': all_abs_doc_list, 'raw_text': abs_text_data})\n",
    "df_text_all_abs[\"sw_text\"] = df_text_all_abs[\"raw_text\"].apply(partial(remove_sw, stop_words=spanish_sw))"
   ]
  },
  {
   "cell_type": "code",
   "execution_count": 16,
   "metadata": {},
   "outputs": [
    {
     "data": {
      "text/plain": [
       "(170120, 3)"
      ]
     },
     "execution_count": 16,
     "metadata": {},
     "output_type": "execute_result"
    }
   ],
   "source": [
    "df_text_all_abs.shape"
   ]
  },
  {
   "cell_type": "code",
   "execution_count": 17,
   "metadata": {},
   "outputs": [
    {
     "data": {
      "text/html": [
       "<div>\n",
       "<style scoped>\n",
       "    .dataframe tbody tr th:only-of-type {\n",
       "        vertical-align: middle;\n",
       "    }\n",
       "\n",
       "    .dataframe tbody tr th {\n",
       "        vertical-align: top;\n",
       "    }\n",
       "\n",
       "    .dataframe thead th {\n",
       "        text-align: right;\n",
       "    }\n",
       "</style>\n",
       "<table border=\"1\" class=\"dataframe\">\n",
       "  <thead>\n",
       "    <tr style=\"text-align: right;\">\n",
       "      <th></th>\n",
       "      <th>doc_id</th>\n",
       "      <th>raw_text</th>\n",
       "      <th>sw_text</th>\n",
       "    </tr>\n",
       "  </thead>\n",
       "  <tbody>\n",
       "    <tr>\n",
       "      <th>0</th>\n",
       "      <td>biblio-1000005</td>\n",
       "      <td>Introducción: A pesar del difícil acceso anató...</td>\n",
       "      <td>Introducción : pesar difícil acceso anatómico ...</td>\n",
       "    </tr>\n",
       "    <tr>\n",
       "      <th>1</th>\n",
       "      <td>biblio-1000026</td>\n",
       "      <td>Introducción: La enterocolitis neutropénica se...</td>\n",
       "      <td>Introducción : enterocolitis neutropénica defi...</td>\n",
       "    </tr>\n",
       "    <tr>\n",
       "      <th>2</th>\n",
       "      <td>biblio-1000027</td>\n",
       "      <td>Introducción: La presencia de anticuerpos anti...</td>\n",
       "      <td>Introducción : presencia anticuerpos anti erit...</td>\n",
       "    </tr>\n",
       "    <tr>\n",
       "      <th>3</th>\n",
       "      <td>biblio-1000028</td>\n",
       "      <td>Introducción: El Carcinoma de lengua móvil es ...</td>\n",
       "      <td>Introducción : Carcinoma lengua móvil tumores ...</td>\n",
       "    </tr>\n",
       "    <tr>\n",
       "      <th>4</th>\n",
       "      <td>biblio-1000029</td>\n",
       "      <td>Introducción: El cáncer de ovario epitelial au...</td>\n",
       "      <td>Introducción : cáncer ovario epitelial aunque ...</td>\n",
       "    </tr>\n",
       "  </tbody>\n",
       "</table>\n",
       "</div>"
      ],
      "text/plain": [
       "           doc_id                                           raw_text  \\\n",
       "0  biblio-1000005  Introducción: A pesar del difícil acceso anató...   \n",
       "1  biblio-1000026  Introducción: La enterocolitis neutropénica se...   \n",
       "2  biblio-1000027  Introducción: La presencia de anticuerpos anti...   \n",
       "3  biblio-1000028  Introducción: El Carcinoma de lengua móvil es ...   \n",
       "4  biblio-1000029  Introducción: El cáncer de ovario epitelial au...   \n",
       "\n",
       "                                             sw_text  \n",
       "0  Introducción : pesar difícil acceso anatómico ...  \n",
       "1  Introducción : enterocolitis neutropénica defi...  \n",
       "2  Introducción : presencia anticuerpos anti erit...  \n",
       "3  Introducción : Carcinoma lengua móvil tumores ...  \n",
       "4  Introducción : cáncer ovario epitelial aunque ...  "
      ]
     },
     "execution_count": 17,
     "metadata": {},
     "output_type": "execute_result"
    }
   ],
   "source": [
    "df_text_all_abs.head()"
   ]
  },
  {
   "cell_type": "code",
   "execution_count": 18,
   "metadata": {},
   "outputs": [
    {
     "data": {
      "text/plain": [
       "'Introducción: A pesar del difícil acceso anatómico para los tumores de mediastino, la resección quirúrgica sigue siendo el mejor enfoque diagnóstico y terapéutico. El objetivo de la presente serie de casos presentamos la experiencia de un centro oncológico en el abordaje de tumores del mediastino y sus resultados.  Métodos: En el departamento de Jefatura de Cirugía Oncológica del Instituto Oncológico nacional de Solca-Guayaquil, durante los meses de Enero del 2013 a Enero 2017 se realizó un estudio descriptivo, retrospectivo. Se analizaron todos los casos de pacientes derivados del área de pre admisión con diagnóstico inicial de tumor de mediastino, a los cuales previo a realizarles marcadores tumorales, Tomografía de Tórax, y a quienes se les realizó como método diagnóstico y en algunos casos terapéutico con abordaje quirúrgico. Se excluyeron pacientes con neoplasias de origen secundario, con historias clínicas incompletas que imposibilitaron el análisis. Se estudiaron las variables sexo, edad, Tipo de Técnica quirúrgica, localización del tumor, diagnostico histopatológico y mortalidad perioperatoria. El análisis estadístico realizado fue descriptivo.  Resultados: Se evaluaron 22 pacientes con diagnóstico tumor de mediastino, con una edad media de 60 años. Fueron 13 hombres (59 %). Catorce pacientes con lesión maligna, 8 fueron operados con resección tumoral y 6 se sometieron a biopsia. Se reportaron fallecimientos post-operatorios hasta los 30 días postquirúrgicos en 5 casos (22.7%). Las intervenciones quirúrgicas realizadas con más frecuencia fueron toracotomías derechas con toma de biopsia o resección tumoral 7 casos (31.8 %). En relación al resultado anatomopatológico de los tumores de mediastino reportados más de la mitad constituyeron Adenocarcinomas 14 casos (63.6 %).  Conclusión: Los pacientes portadores de neoplasia benigna en esta serie tuvieron una evolución posquirúrgica satisfactoria. El adenocarcinoma fue el tumor maligno más frecuente en esta serie.'"
      ]
     },
     "execution_count": 18,
     "metadata": {},
     "output_type": "execute_result"
    }
   ],
   "source": [
    "df_text_all_abs.raw_text.values[0]"
   ]
  },
  {
   "cell_type": "code",
   "execution_count": 19,
   "metadata": {},
   "outputs": [
    {
     "data": {
      "text/plain": [
       "'Introducción : pesar difícil acceso anatómico tumores mediastino , resección quirúrgica sigue siendo mejor enfoque diagnóstico terapéutico . objetivo presente serie casos presentamos experiencia centro oncológico abordaje tumores mediastino resultados . Métodos : departamento Jefatura Cirugía Oncológica Instituto Oncológico nacional Solca - Guayaquil , meses Enero 2013 Enero 2017 realizó estudio descriptivo , retrospectivo . analizaron casos pacientes derivados área pre admisión diagnóstico inicial tumor mediastino , cuales previo realizarles marcadores tumorales , Tomografía Tórax , realizó método diagnóstico casos terapéutico abordaje quirúrgico . excluyeron pacientes neoplasias origen secundario , historias clínicas incompletas imposibilitaron análisis . estudiaron variables sexo , edad , Tipo Técnica quirúrgica , localización tumor , diagnostico histopatológico mortalidad perioperatoria . análisis estadístico realizado descriptivo . Resultados : evaluaron 22 pacientes diagnóstico tumor mediastino , edad media 60 años . 13 hombres ( 59 % ) . Catorce pacientes lesión maligna , 8 operados resección tumoral 6 sometieron biopsia . reportaron fallecimientos post - operatorios 30 días postquirúrgicos 5 casos ( 22 . 7 % ) . intervenciones quirúrgicas realizadas frecuencia toracotomías derechas toma biopsia resección tumoral 7 casos ( 31 . 8 % ) . relación resultado anatomopatológico tumores mediastino reportados mitad constituyeron Adenocarcinomas 14 casos ( 63 . 6 % ) . Conclusión : pacientes portadores neoplasia benigna serie evolución posquirúrgica satisfactoria . adenocarcinoma tumor maligno frecuente serie .'"
      ]
     },
     "execution_count": 19,
     "metadata": {},
     "output_type": "execute_result"
    }
   ],
   "source": [
    "df_text_all_abs.sw_text.values[0]"
   ]
  },
  {
   "cell_type": "markdown",
   "metadata": {},
   "source": [
    "## BERT Tokenizers\n",
    "\n",
    "Inspecting the [Keras BERT Tokenizer source code](https://github.com/CyberZHG/keras-bert/blob/26bdfe3c36e77fa0524902f31263a920ccd62efb/keras_bert/tokenizer.py#L101), we can see that spaces (' ', '\\n', '\\t', etc.) are only used to split tokens from the text and they are not considered when performing sub-word (WordPiece) tokenization, while punctuations ('.', ',', ':', etc.) are kept as separated tokens, as they are part of different vocabularies."
   ]
  },
  {
   "cell_type": "code",
   "execution_count": 20,
   "metadata": {},
   "outputs": [],
   "source": [
    "from keras_bert import load_vocabulary, Tokenizer"
   ]
  },
  {
   "cell_type": "code",
   "execution_count": 21,
   "metadata": {},
   "outputs": [],
   "source": [
    "base_path = \"../bert_models/\"\n",
    "vocab_file = \"vocab.txt\""
   ]
  },
  {
   "cell_type": "markdown",
   "metadata": {},
   "source": [
    "### BioBERT\n",
    "\n",
    "This Tokenizer uses the same English-cased vocabulary used by the original BERT model (see [BioBERT paper](https://academic.oup.com/bioinformatics/article/36/4/1234/5566506) for more details)."
   ]
  },
  {
   "cell_type": "code",
   "execution_count": 7,
   "metadata": {},
   "outputs": [],
   "source": [
    "bio_path = \"biobert_v1.1_pubmed/\""
   ]
  },
  {
   "cell_type": "code",
   "execution_count": 8,
   "metadata": {},
   "outputs": [],
   "source": [
    "bio_token_dict = load_vocabulary(base_path + bio_path + vocab_file)"
   ]
  },
  {
   "cell_type": "code",
   "execution_count": 9,
   "metadata": {},
   "outputs": [
    {
     "data": {
      "text/plain": [
       "28996"
      ]
     },
     "execution_count": 9,
     "metadata": {},
     "output_type": "execute_result"
    }
   ],
   "source": [
    "# 28996 expected\n",
    "len(bio_token_dict)"
   ]
  },
  {
   "cell_type": "code",
   "execution_count": 10,
   "metadata": {},
   "outputs": [],
   "source": [
    "bio_tokenizer = Tokenizer(token_dict=bio_token_dict, cased=True)"
   ]
  },
  {
   "cell_type": "code",
   "execution_count": 11,
   "metadata": {},
   "outputs": [
    {
     "name": "stdout",
     "output_type": "stream",
     "text": [
      "CPU times: user 7min 21s, sys: 211 ms, total: 7min 21s\n",
      "Wall time: 7min 21s\n"
     ]
    }
   ],
   "source": [
    "%%time\n",
    "df_text_all_abs[\"raw_BioBERT\"] = [len(bio_tokenizer.tokenize(text)) for text in df_text_all_abs.raw_text]\n",
    "df_text_all_abs[\"sw_BioBERT\"] = [len(bio_tokenizer.tokenize(text)) for text in df_text_all_abs.sw_text]"
   ]
  },
  {
   "cell_type": "markdown",
   "metadata": {},
   "source": [
    "### Multilingual\n",
    "\n",
    "This Tokenizer uses a multilingual-cased vocabulary containing tokens from 104 different languages (see [BERT multilingual](https://github.com/google-research/bert/blob/master/multilingual.md) for more details)."
   ]
  },
  {
   "cell_type": "code",
   "execution_count": 12,
   "metadata": {},
   "outputs": [],
   "source": [
    "multi_path = \"multi_cased_L-12_H-768_A-12/\""
   ]
  },
  {
   "cell_type": "code",
   "execution_count": 13,
   "metadata": {},
   "outputs": [],
   "source": [
    "multi_token_dict = load_vocabulary(base_path + multi_path + vocab_file)"
   ]
  },
  {
   "cell_type": "code",
   "execution_count": 14,
   "metadata": {},
   "outputs": [
    {
     "data": {
      "text/plain": [
       "119547"
      ]
     },
     "execution_count": 14,
     "metadata": {},
     "output_type": "execute_result"
    }
   ],
   "source": [
    "# 119547 expected\n",
    "len(multi_token_dict)"
   ]
  },
  {
   "cell_type": "code",
   "execution_count": 15,
   "metadata": {},
   "outputs": [],
   "source": [
    "multi_tokenizer = Tokenizer(token_dict=multi_token_dict, cased=True)"
   ]
  },
  {
   "cell_type": "code",
   "execution_count": 16,
   "metadata": {},
   "outputs": [
    {
     "name": "stdout",
     "output_type": "stream",
     "text": [
      "CPU times: user 6min 33s, sys: 52 ms, total: 6min 33s\n",
      "Wall time: 6min 33s\n"
     ]
    }
   ],
   "source": [
    "%%time\n",
    "df_text_all_abs[\"raw_Multi\"] = [len(multi_tokenizer.tokenize(text)) for text in df_text_all_abs.raw_text]\n",
    "df_text_all_abs[\"sw_Multi\"] = [len(multi_tokenizer.tokenize(text)) for text in df_text_all_abs.sw_text]"
   ]
  },
  {
   "cell_type": "markdown",
   "metadata": {},
   "source": [
    "### BETO\n",
    "\n",
    "This Tokenizer uses a Spanish-cased vocabulary (see [BETO](https://github.com/dccuchile/beto) for more details)."
   ]
  },
  {
   "cell_type": "code",
   "execution_count": 17,
   "metadata": {},
   "outputs": [],
   "source": [
    "beto_path = \"BETO_cased/\""
   ]
  },
  {
   "cell_type": "code",
   "execution_count": 18,
   "metadata": {},
   "outputs": [],
   "source": [
    "beto_token_dict = load_vocabulary(base_path + beto_path + vocab_file)"
   ]
  },
  {
   "cell_type": "code",
   "execution_count": 19,
   "metadata": {},
   "outputs": [
    {
     "data": {
      "text/plain": [
       "31002"
      ]
     },
     "execution_count": 19,
     "metadata": {},
     "output_type": "execute_result"
    }
   ],
   "source": [
    "# 31002 expected\n",
    "len(beto_token_dict)"
   ]
  },
  {
   "cell_type": "code",
   "execution_count": 20,
   "metadata": {},
   "outputs": [],
   "source": [
    "beto_tokenizer = Tokenizer(token_dict=beto_token_dict, pad_index=1, cased=True)"
   ]
  },
  {
   "cell_type": "code",
   "execution_count": 21,
   "metadata": {},
   "outputs": [
    {
     "name": "stdout",
     "output_type": "stream",
     "text": [
      "CPU times: user 6min 13s, sys: 32 ms, total: 6min 13s\n",
      "Wall time: 6min 13s\n"
     ]
    }
   ],
   "source": [
    "%%time\n",
    "df_text_all_abs[\"raw_BETO\"] = [len(beto_tokenizer.tokenize(text)) for text in df_text_all_abs.raw_text]\n",
    "df_text_all_abs[\"sw_BETO\"] = [len(beto_tokenizer.tokenize(text)) for text in df_text_all_abs.sw_text]"
   ]
  },
  {
   "cell_type": "code",
   "execution_count": 22,
   "metadata": {},
   "outputs": [
    {
     "data": {
      "text/html": [
       "<div>\n",
       "<style scoped>\n",
       "    .dataframe tbody tr th:only-of-type {\n",
       "        vertical-align: middle;\n",
       "    }\n",
       "\n",
       "    .dataframe tbody tr th {\n",
       "        vertical-align: top;\n",
       "    }\n",
       "\n",
       "    .dataframe thead th {\n",
       "        text-align: right;\n",
       "    }\n",
       "</style>\n",
       "<table border=\"1\" class=\"dataframe\">\n",
       "  <thead>\n",
       "    <tr style=\"text-align: right;\">\n",
       "      <th></th>\n",
       "      <th>doc_id</th>\n",
       "      <th>raw_text</th>\n",
       "      <th>sw_text</th>\n",
       "      <th>raw_BioBERT</th>\n",
       "      <th>sw_BioBERT</th>\n",
       "      <th>raw_Multi</th>\n",
       "      <th>sw_Multi</th>\n",
       "      <th>raw_BETO</th>\n",
       "      <th>sw_BETO</th>\n",
       "    </tr>\n",
       "  </thead>\n",
       "  <tbody>\n",
       "    <tr>\n",
       "      <th>0</th>\n",
       "      <td>biblio-1000005</td>\n",
       "      <td>Introducción: A pesar del difícil acceso anató...</td>\n",
       "      <td>Introducción : pesar difícil acceso anatómico ...</td>\n",
       "      <td>755</td>\n",
       "      <td>613</td>\n",
       "      <td>491</td>\n",
       "      <td>376</td>\n",
       "      <td>444</td>\n",
       "      <td>330</td>\n",
       "    </tr>\n",
       "    <tr>\n",
       "      <th>1</th>\n",
       "      <td>biblio-1000026</td>\n",
       "      <td>Introducción: La enterocolitis neutropénica se...</td>\n",
       "      <td>Introducción : enterocolitis neutropénica defi...</td>\n",
       "      <td>707</td>\n",
       "      <td>579</td>\n",
       "      <td>461</td>\n",
       "      <td>361</td>\n",
       "      <td>393</td>\n",
       "      <td>293</td>\n",
       "    </tr>\n",
       "    <tr>\n",
       "      <th>2</th>\n",
       "      <td>biblio-1000027</td>\n",
       "      <td>Introducción: La presencia de anticuerpos anti...</td>\n",
       "      <td>Introducción : presencia anticuerpos anti erit...</td>\n",
       "      <td>851</td>\n",
       "      <td>693</td>\n",
       "      <td>551</td>\n",
       "      <td>413</td>\n",
       "      <td>487</td>\n",
       "      <td>349</td>\n",
       "    </tr>\n",
       "    <tr>\n",
       "      <th>3</th>\n",
       "      <td>biblio-1000028</td>\n",
       "      <td>Introducción: El Carcinoma de lengua móvil es ...</td>\n",
       "      <td>Introducción : Carcinoma lengua móvil tumores ...</td>\n",
       "      <td>646</td>\n",
       "      <td>492</td>\n",
       "      <td>444</td>\n",
       "      <td>317</td>\n",
       "      <td>391</td>\n",
       "      <td>264</td>\n",
       "    </tr>\n",
       "    <tr>\n",
       "      <th>4</th>\n",
       "      <td>biblio-1000029</td>\n",
       "      <td>Introducción: El cáncer de ovario epitelial au...</td>\n",
       "      <td>Introducción : cáncer ovario epitelial aunque ...</td>\n",
       "      <td>649</td>\n",
       "      <td>546</td>\n",
       "      <td>457</td>\n",
       "      <td>367</td>\n",
       "      <td>405</td>\n",
       "      <td>315</td>\n",
       "    </tr>\n",
       "  </tbody>\n",
       "</table>\n",
       "</div>"
      ],
      "text/plain": [
       "           doc_id                                           raw_text  \\\n",
       "0  biblio-1000005  Introducción: A pesar del difícil acceso anató...   \n",
       "1  biblio-1000026  Introducción: La enterocolitis neutropénica se...   \n",
       "2  biblio-1000027  Introducción: La presencia de anticuerpos anti...   \n",
       "3  biblio-1000028  Introducción: El Carcinoma de lengua móvil es ...   \n",
       "4  biblio-1000029  Introducción: El cáncer de ovario epitelial au...   \n",
       "\n",
       "                                             sw_text  raw_BioBERT  sw_BioBERT  \\\n",
       "0  Introducción : pesar difícil acceso anatómico ...          755         613   \n",
       "1  Introducción : enterocolitis neutropénica defi...          707         579   \n",
       "2  Introducción : presencia anticuerpos anti erit...          851         693   \n",
       "3  Introducción : Carcinoma lengua móvil tumores ...          646         492   \n",
       "4  Introducción : cáncer ovario epitelial aunque ...          649         546   \n",
       "\n",
       "   raw_Multi  sw_Multi  raw_BETO  sw_BETO  \n",
       "0        491       376       444      330  \n",
       "1        461       361       393      293  \n",
       "2        551       413       487      349  \n",
       "3        444       317       391      264  \n",
       "4        457       367       405      315  "
      ]
     },
     "execution_count": 22,
     "metadata": {},
     "output_type": "execute_result"
    }
   ],
   "source": [
    "df_text_all_abs.head()"
   ]
  },
  {
   "cell_type": "markdown",
   "metadata": {},
   "source": [
    "### Token sequence analysis\n",
    "\n",
    "To compare the distribution of the number of extracted tokens from the texts for each BERT Tokenizer, we generate the next tables:"
   ]
  },
  {
   "cell_type": "code",
   "execution_count": 4,
   "metadata": {},
   "outputs": [],
   "source": [
    "col_names = [\"BioBERT\", \"Multilingual\", \"BETO\"]"
   ]
  },
  {
   "cell_type": "code",
   "execution_count": 5,
   "metadata": {},
   "outputs": [],
   "source": [
    "df_res = df_text_all_abs\n",
    "raw_all_abs_res = pd.DataFrame({col_names[0]: df_res[\"raw_BioBERT\"].describe(), \n",
    "              col_names[1]: df_res[\"raw_Multi\"].describe(), \n",
    "              col_names[2]: df_res[\"raw_BETO\"].describe()})"
   ]
  },
  {
   "cell_type": "code",
   "execution_count": 6,
   "metadata": {},
   "outputs": [],
   "source": [
    "sw_all_abs_res = pd.DataFrame({col_names[0]: df_res[\"sw_BioBERT\"].describe(), \n",
    "              col_names[1]: df_res[\"sw_Multi\"].describe(), \n",
    "              col_names[2]: df_res[\"sw_BETO\"].describe()})"
   ]
  },
  {
   "cell_type": "code",
   "execution_count": 7,
   "metadata": {},
   "outputs": [
    {
     "data": {
      "text/html": [
       "<div>\n",
       "<style scoped>\n",
       "    .dataframe tbody tr th:only-of-type {\n",
       "        vertical-align: middle;\n",
       "    }\n",
       "\n",
       "    .dataframe tbody tr th {\n",
       "        vertical-align: top;\n",
       "    }\n",
       "\n",
       "    .dataframe thead th {\n",
       "        text-align: right;\n",
       "    }\n",
       "</style>\n",
       "<table border=\"1\" class=\"dataframe\">\n",
       "  <thead>\n",
       "    <tr style=\"text-align: right;\">\n",
       "      <th></th>\n",
       "      <th>BioBERT</th>\n",
       "      <th>Multilingual</th>\n",
       "      <th>BETO</th>\n",
       "    </tr>\n",
       "  </thead>\n",
       "  <tbody>\n",
       "    <tr>\n",
       "      <th>count</th>\n",
       "      <td>170120.000000</td>\n",
       "      <td>170120.000000</td>\n",
       "      <td>170120.000000</td>\n",
       "    </tr>\n",
       "    <tr>\n",
       "      <th>mean</th>\n",
       "      <td>375.978815</td>\n",
       "      <td>255.762626</td>\n",
       "      <td>226.619463</td>\n",
       "    </tr>\n",
       "    <tr>\n",
       "      <th>std</th>\n",
       "      <td>233.063960</td>\n",
       "      <td>162.010409</td>\n",
       "      <td>145.448418</td>\n",
       "    </tr>\n",
       "    <tr>\n",
       "      <th>min</th>\n",
       "      <td>3.000000</td>\n",
       "      <td>3.000000</td>\n",
       "      <td>3.000000</td>\n",
       "    </tr>\n",
       "    <tr>\n",
       "      <th>25%</th>\n",
       "      <td>208.000000</td>\n",
       "      <td>139.000000</td>\n",
       "      <td>122.000000</td>\n",
       "    </tr>\n",
       "    <tr>\n",
       "      <th>50%</th>\n",
       "      <td>369.000000</td>\n",
       "      <td>247.000000</td>\n",
       "      <td>216.000000</td>\n",
       "    </tr>\n",
       "    <tr>\n",
       "      <th>75%</th>\n",
       "      <td>551.000000</td>\n",
       "      <td>374.000000</td>\n",
       "      <td>329.000000</td>\n",
       "    </tr>\n",
       "    <tr>\n",
       "      <th>max</th>\n",
       "      <td>3158.000000</td>\n",
       "      <td>2096.000000</td>\n",
       "      <td>1863.000000</td>\n",
       "    </tr>\n",
       "  </tbody>\n",
       "</table>\n",
       "</div>"
      ],
      "text/plain": [
       "             BioBERT   Multilingual           BETO\n",
       "count  170120.000000  170120.000000  170120.000000\n",
       "mean      375.978815     255.762626     226.619463\n",
       "std       233.063960     162.010409     145.448418\n",
       "min         3.000000       3.000000       3.000000\n",
       "25%       208.000000     139.000000     122.000000\n",
       "50%       369.000000     247.000000     216.000000\n",
       "75%       551.000000     374.000000     329.000000\n",
       "max      3158.000000    2096.000000    1863.000000"
      ]
     },
     "execution_count": 7,
     "metadata": {},
     "output_type": "execute_result"
    }
   ],
   "source": [
    "raw_all_abs_res"
   ]
  },
  {
   "cell_type": "code",
   "execution_count": 8,
   "metadata": {},
   "outputs": [
    {
     "data": {
      "text/html": [
       "<div>\n",
       "<style scoped>\n",
       "    .dataframe tbody tr th:only-of-type {\n",
       "        vertical-align: middle;\n",
       "    }\n",
       "\n",
       "    .dataframe tbody tr th {\n",
       "        vertical-align: top;\n",
       "    }\n",
       "\n",
       "    .dataframe thead th {\n",
       "        text-align: right;\n",
       "    }\n",
       "</style>\n",
       "<table border=\"1\" class=\"dataframe\">\n",
       "  <thead>\n",
       "    <tr style=\"text-align: right;\">\n",
       "      <th></th>\n",
       "      <th>BioBERT</th>\n",
       "      <th>Multilingual</th>\n",
       "      <th>BETO</th>\n",
       "    </tr>\n",
       "  </thead>\n",
       "  <tbody>\n",
       "    <tr>\n",
       "      <th>count</th>\n",
       "      <td>170120.000000</td>\n",
       "      <td>170120.000000</td>\n",
       "      <td>170120.000000</td>\n",
       "    </tr>\n",
       "    <tr>\n",
       "      <th>mean</th>\n",
       "      <td>298.874871</td>\n",
       "      <td>190.132894</td>\n",
       "      <td>161.132871</td>\n",
       "    </tr>\n",
       "    <tr>\n",
       "      <th>std</th>\n",
       "      <td>187.681522</td>\n",
       "      <td>124.563585</td>\n",
       "      <td>109.135381</td>\n",
       "    </tr>\n",
       "    <tr>\n",
       "      <th>min</th>\n",
       "      <td>3.000000</td>\n",
       "      <td>3.000000</td>\n",
       "      <td>3.000000</td>\n",
       "    </tr>\n",
       "    <tr>\n",
       "      <th>25%</th>\n",
       "      <td>163.000000</td>\n",
       "      <td>100.000000</td>\n",
       "      <td>83.000000</td>\n",
       "    </tr>\n",
       "    <tr>\n",
       "      <th>50%</th>\n",
       "      <td>291.000000</td>\n",
       "      <td>180.000000</td>\n",
       "      <td>149.000000</td>\n",
       "    </tr>\n",
       "    <tr>\n",
       "      <th>75%</th>\n",
       "      <td>437.000000</td>\n",
       "      <td>276.000000</td>\n",
       "      <td>232.000000</td>\n",
       "    </tr>\n",
       "    <tr>\n",
       "      <th>max</th>\n",
       "      <td>2358.000000</td>\n",
       "      <td>1471.000000</td>\n",
       "      <td>1226.000000</td>\n",
       "    </tr>\n",
       "  </tbody>\n",
       "</table>\n",
       "</div>"
      ],
      "text/plain": [
       "             BioBERT   Multilingual           BETO\n",
       "count  170120.000000  170120.000000  170120.000000\n",
       "mean      298.874871     190.132894     161.132871\n",
       "std       187.681522     124.563585     109.135381\n",
       "min         3.000000       3.000000       3.000000\n",
       "25%       163.000000     100.000000      83.000000\n",
       "50%       291.000000     180.000000     149.000000\n",
       "75%       437.000000     276.000000     232.000000\n",
       "max      2358.000000    1471.000000    1226.000000"
      ]
     },
     "execution_count": 8,
     "metadata": {},
     "output_type": "execute_result"
    }
   ],
   "source": [
    "sw_all_abs_res"
   ]
  },
  {
   "cell_type": "markdown",
   "metadata": {},
   "source": [
    "To sum up, we generate a final table showing, for each Tokenizer, the fraction of texts with a sub-token sequence length <= 512 (maximum input sequence length of BERT model)."
   ]
  },
  {
   "cell_type": "code",
   "execution_count": 9,
   "metadata": {},
   "outputs": [],
   "source": [
    "max_len = 512\n",
    "row_names = [\"All (raw)\", \"All (sw)\"]\n",
    "res_512 = pd.DataFrame({col_names[0]: [sum(df_res[\"raw_BioBERT\"] <= max_len)/df_res.shape[0], \n",
    "                                       sum(df_res[\"sw_BioBERT\"] <= max_len)/df_res.shape[0]],\n",
    "                        col_names[1]: [sum(df_res[\"raw_Multi\"] <= max_len)/df_res.shape[0], \n",
    "                                       sum(df_res[\"sw_Multi\"] <= max_len)/df_res.shape[0]],\n",
    "                        col_names[2]: [sum(df_res[\"raw_BETO\"] <= max_len)/df_res.shape[0], \n",
    "                                       sum(df_res[\"sw_BETO\"] <= max_len)/df_res.shape[0]]}, \n",
    "                       index=row_names)"
   ]
  },
  {
   "cell_type": "code",
   "execution_count": 10,
   "metadata": {},
   "outputs": [
    {
     "data": {
      "text/html": [
       "<div>\n",
       "<style scoped>\n",
       "    .dataframe tbody tr th:only-of-type {\n",
       "        vertical-align: middle;\n",
       "    }\n",
       "\n",
       "    .dataframe tbody tr th {\n",
       "        vertical-align: top;\n",
       "    }\n",
       "\n",
       "    .dataframe thead th {\n",
       "        text-align: right;\n",
       "    }\n",
       "</style>\n",
       "<table border=\"1\" class=\"dataframe\">\n",
       "  <thead>\n",
       "    <tr style=\"text-align: right;\">\n",
       "      <th></th>\n",
       "      <th>BioBERT</th>\n",
       "      <th>Multilingual</th>\n",
       "      <th>BETO</th>\n",
       "    </tr>\n",
       "  </thead>\n",
       "  <tbody>\n",
       "    <tr>\n",
       "      <th>All (raw)</th>\n",
       "      <td>0.704044</td>\n",
       "      <td>0.945556</td>\n",
       "      <td>0.973119</td>\n",
       "    </tr>\n",
       "    <tr>\n",
       "      <th>All (sw)</th>\n",
       "      <td>0.861774</td>\n",
       "      <td>0.991629</td>\n",
       "      <td>0.995521</td>\n",
       "    </tr>\n",
       "  </tbody>\n",
       "</table>\n",
       "</div>"
      ],
      "text/plain": [
       "            BioBERT  Multilingual      BETO\n",
       "All (raw)  0.704044      0.945556  0.973119\n",
       "All (sw)   0.861774      0.991629  0.995521"
      ]
     },
     "execution_count": 10,
     "metadata": {},
     "output_type": "execute_result"
    }
   ],
   "source": [
    "res_512"
   ]
  },
  {
   "cell_type": "markdown",
   "metadata": {},
   "source": [
    "As expected, in increasing order, the vocabularies containing more complete words (generating shorter sub-token sequences) in Spanish are: BETO, Multilingual and BioBERT."
   ]
  },
  {
   "cell_type": "code",
   "execution_count": 11,
   "metadata": {},
   "outputs": [],
   "source": [
    "max_len = 256\n",
    "row_names = [\"All (raw)\", \"All (sw)\"]\n",
    "res_256 = pd.DataFrame({col_names[0]: [sum(df_res[\"raw_BioBERT\"] <= max_len)/df_res.shape[0], \n",
    "                                       sum(df_res[\"sw_BioBERT\"] <= max_len)/df_res.shape[0]],\n",
    "                        col_names[1]: [sum(df_res[\"raw_Multi\"] <= max_len)/df_res.shape[0], \n",
    "                                       sum(df_res[\"sw_Multi\"] <= max_len)/df_res.shape[0]],\n",
    "                        col_names[2]: [sum(df_res[\"raw_BETO\"] <= max_len)/df_res.shape[0], \n",
    "                                       sum(df_res[\"sw_BETO\"] <= max_len)/df_res.shape[0]]}, \n",
    "                       index=row_names)"
   ]
  },
  {
   "cell_type": "code",
   "execution_count": 12,
   "metadata": {},
   "outputs": [
    {
     "data": {
      "text/html": [
       "<div>\n",
       "<style scoped>\n",
       "    .dataframe tbody tr th:only-of-type {\n",
       "        vertical-align: middle;\n",
       "    }\n",
       "\n",
       "    .dataframe tbody tr th {\n",
       "        vertical-align: top;\n",
       "    }\n",
       "\n",
       "    .dataframe thead th {\n",
       "        text-align: right;\n",
       "    }\n",
       "</style>\n",
       "<table border=\"1\" class=\"dataframe\">\n",
       "  <thead>\n",
       "    <tr style=\"text-align: right;\">\n",
       "      <th></th>\n",
       "      <th>BioBERT</th>\n",
       "      <th>Multilingual</th>\n",
       "      <th>BETO</th>\n",
       "    </tr>\n",
       "  </thead>\n",
       "  <tbody>\n",
       "    <tr>\n",
       "      <th>All (raw)</th>\n",
       "      <td>0.318628</td>\n",
       "      <td>0.523366</td>\n",
       "      <td>0.601722</td>\n",
       "    </tr>\n",
       "    <tr>\n",
       "      <th>All (sw)</th>\n",
       "      <td>0.428051</td>\n",
       "      <td>0.705808</td>\n",
       "      <td>0.809775</td>\n",
       "    </tr>\n",
       "  </tbody>\n",
       "</table>\n",
       "</div>"
      ],
      "text/plain": [
       "            BioBERT  Multilingual      BETO\n",
       "All (raw)  0.318628      0.523366  0.601722\n",
       "All (sw)   0.428051      0.705808  0.809775"
      ]
     },
     "execution_count": 12,
     "metadata": {},
     "output_type": "execute_result"
    }
   ],
   "source": [
    "res_256"
   ]
  },
  {
   "cell_type": "markdown",
   "metadata": {},
   "source": [
    "## Text content \n",
    "\n",
    "We also want to analyze the sub-token length frequency of the texts from the abstracts, in order to perform a simple sanity check of text content."
   ]
  },
  {
   "cell_type": "markdown",
   "metadata": {},
   "source": [
    "Something strange seems to happen. The minimum sequence token length in all Tokenizers is 3, that means there are text/s with ONLY a single word (as '[CLS]' and '[SEP]' are always added)."
   ]
  },
  {
   "cell_type": "code",
   "execution_count": 12,
   "metadata": {},
   "outputs": [],
   "source": [
    "# As BETO is the tokenizer that produces the shortest sub-token sequences\n",
    "col_analyze = \"raw_BETO\""
   ]
  },
  {
   "cell_type": "code",
   "execution_count": 13,
   "metadata": {},
   "outputs": [],
   "source": [
    "beto_len = df_text_all_abs[col_analyze].drop_duplicates().sort_values()"
   ]
  },
  {
   "cell_type": "code",
   "execution_count": 14,
   "metadata": {},
   "outputs": [
    {
     "data": {
      "text/plain": [
       "155011       3\n",
       "9337         4\n",
       "21162        5\n",
       "11544        6\n",
       "17047        7\n",
       "          ... \n",
       "1308      1405\n",
       "3144      1453\n",
       "2641      1504\n",
       "3599      1727\n",
       "4649      1863\n",
       "Name: raw_BETO, Length: 940, dtype: int64"
      ]
     },
     "execution_count": 14,
     "metadata": {},
     "output_type": "execute_result"
    }
   ],
   "source": [
    "beto_len"
   ]
  },
  {
   "cell_type": "code",
   "execution_count": 15,
   "metadata": {},
   "outputs": [],
   "source": [
    "beto_len_min = beto_len.values[0]"
   ]
  },
  {
   "cell_type": "code",
   "execution_count": 16,
   "metadata": {},
   "outputs": [
    {
     "data": {
      "text/plain": [
       "3"
      ]
     },
     "execution_count": 16,
     "metadata": {},
     "output_type": "execute_result"
    }
   ],
   "source": [
    "beto_len_min"
   ]
  },
  {
   "cell_type": "code",
   "execution_count": 17,
   "metadata": {},
   "outputs": [],
   "source": [
    "beto_len_freq = df_text_all_abs[col_analyze].value_counts()"
   ]
  },
  {
   "cell_type": "code",
   "execution_count": 18,
   "metadata": {},
   "outputs": [
    {
     "data": {
      "text/plain": [
       "4       20348\n",
       "200       545\n",
       "212       539\n",
       "205       529\n",
       "210       522\n",
       "        ...  \n",
       "815         1\n",
       "1071        1\n",
       "816         1\n",
       "944         1\n",
       "1151        1\n",
       "Name: raw_BETO, Length: 940, dtype: int64"
      ]
     },
     "execution_count": 18,
     "metadata": {},
     "output_type": "execute_result"
    }
   ],
   "source": [
    "# More than 20K texts with a length of ONLY 4!!!!\n",
    "beto_len_freq"
   ]
  },
  {
   "cell_type": "code",
   "execution_count": 19,
   "metadata": {},
   "outputs": [
    {
     "data": {
      "text/plain": [
       "2"
      ]
     },
     "execution_count": 19,
     "metadata": {},
     "output_type": "execute_result"
    }
   ],
   "source": [
    "# Two texts of length 3\n",
    "beto_len_freq[beto_len_min]"
   ]
  },
  {
   "cell_type": "code",
   "execution_count": 20,
   "metadata": {},
   "outputs": [
    {
     "data": {
      "text/plain": [
       "array(['.'], dtype=object)"
      ]
     },
     "execution_count": 20,
     "metadata": {},
     "output_type": "execute_result"
    }
   ],
   "source": [
    "df_text_all_abs[df_text_all_abs[col_analyze] == beto_len_min][\"raw_text\"].drop_duplicates().values"
   ]
  },
  {
   "cell_type": "code",
   "execution_count": 21,
   "metadata": {},
   "outputs": [
    {
     "data": {
      "text/html": [
       "<div>\n",
       "<style scoped>\n",
       "    .dataframe tbody tr th:only-of-type {\n",
       "        vertical-align: middle;\n",
       "    }\n",
       "\n",
       "    .dataframe tbody tr th {\n",
       "        vertical-align: top;\n",
       "    }\n",
       "\n",
       "    .dataframe thead th {\n",
       "        text-align: right;\n",
       "    }\n",
       "</style>\n",
       "<table border=\"1\" class=\"dataframe\">\n",
       "  <thead>\n",
       "    <tr style=\"text-align: right;\">\n",
       "      <th></th>\n",
       "      <th>doc_id</th>\n",
       "      <th>raw_text</th>\n",
       "      <th>sw_text</th>\n",
       "      <th>raw_BioBERT</th>\n",
       "      <th>sw_BioBERT</th>\n",
       "      <th>raw_Multi</th>\n",
       "      <th>sw_Multi</th>\n",
       "      <th>raw_BETO</th>\n",
       "      <th>sw_BETO</th>\n",
       "    </tr>\n",
       "  </thead>\n",
       "  <tbody>\n",
       "    <tr>\n",
       "      <th>155011</th>\n",
       "      <td>lil-695802</td>\n",
       "      <td>.</td>\n",
       "      <td>.</td>\n",
       "      <td>3</td>\n",
       "      <td>3</td>\n",
       "      <td>3</td>\n",
       "      <td>3</td>\n",
       "      <td>3</td>\n",
       "      <td>3</td>\n",
       "    </tr>\n",
       "    <tr>\n",
       "      <th>157046</th>\n",
       "      <td>lil-712416</td>\n",
       "      <td>.</td>\n",
       "      <td>.</td>\n",
       "      <td>3</td>\n",
       "      <td>3</td>\n",
       "      <td>3</td>\n",
       "      <td>3</td>\n",
       "      <td>3</td>\n",
       "      <td>3</td>\n",
       "    </tr>\n",
       "  </tbody>\n",
       "</table>\n",
       "</div>"
      ],
      "text/plain": [
       "            doc_id raw_text sw_text  raw_BioBERT  sw_BioBERT  raw_Multi  \\\n",
       "155011  lil-695802        .       .            3           3          3   \n",
       "157046  lil-712416        .       .            3           3          3   \n",
       "\n",
       "        sw_Multi  raw_BETO  sw_BETO  \n",
       "155011         3         3        3  \n",
       "157046         3         3        3  "
      ]
     },
     "execution_count": 21,
     "metadata": {},
     "output_type": "execute_result"
    }
   ],
   "source": [
    "df_text_all_abs[df_text_all_abs[col_analyze] == beto_len_min]"
   ]
  },
  {
   "cell_type": "markdown",
   "metadata": {},
   "source": [
    "We check the codes associated to these \"texts\":"
   ]
  },
  {
   "cell_type": "code",
   "execution_count": 22,
   "metadata": {},
   "outputs": [],
   "source": [
    "df_codes_d_abs_all.index = pd.Index(df_codes_d_abs_all.doc_id)"
   ]
  },
  {
   "cell_type": "code",
   "execution_count": 23,
   "metadata": {},
   "outputs": [
    {
     "data": {
      "text/html": [
       "<div>\n",
       "<style scoped>\n",
       "    .dataframe tbody tr th:only-of-type {\n",
       "        vertical-align: middle;\n",
       "    }\n",
       "\n",
       "    .dataframe tbody tr th {\n",
       "        vertical-align: top;\n",
       "    }\n",
       "\n",
       "    .dataframe thead th {\n",
       "        text-align: right;\n",
       "    }\n",
       "</style>\n",
       "<table border=\"1\" class=\"dataframe\">\n",
       "  <thead>\n",
       "    <tr style=\"text-align: right;\">\n",
       "      <th></th>\n",
       "      <th>doc_id</th>\n",
       "      <th>code</th>\n",
       "    </tr>\n",
       "    <tr>\n",
       "      <th>doc_id</th>\n",
       "      <th></th>\n",
       "      <th></th>\n",
       "    </tr>\n",
       "  </thead>\n",
       "  <tbody>\n",
       "    <tr>\n",
       "      <th>lil-695802</th>\n",
       "      <td>lil-695802</td>\n",
       "      <td>a91</td>\n",
       "    </tr>\n",
       "    <tr>\n",
       "      <th>lil-712416</th>\n",
       "      <td>lil-712416</td>\n",
       "      <td>a49</td>\n",
       "    </tr>\n",
       "    <tr>\n",
       "      <th>lil-712416</th>\n",
       "      <td>lil-712416</td>\n",
       "      <td>a49.9</td>\n",
       "    </tr>\n",
       "  </tbody>\n",
       "</table>\n",
       "</div>"
      ],
      "text/plain": [
       "                doc_id   code\n",
       "doc_id                       \n",
       "lil-695802  lil-695802    a91\n",
       "lil-712416  lil-712416    a49\n",
       "lil-712416  lil-712416  a49.9"
      ]
     },
     "execution_count": 23,
     "metadata": {},
     "output_type": "execute_result"
    }
   ],
   "source": [
    "df_codes_d_abs_all.loc[df_text_all_abs[df_text_all_abs[col_analyze] == beto_len_min][\"doc_id\"]]"
   ]
  },
  {
   "cell_type": "code",
   "execution_count": 40,
   "metadata": {},
   "outputs": [
    {
     "data": {
      "text/plain": [
       "array(['Contribuir en la reducción de la incidencia de morbilidad y mortalidad del cáncer de cuello uterino en el Perú.',\n",
       "       'Se ofrecen datos epidemiológicos sobre los registros del cáncer en Guatemala durante el año 2011.',\n",
       "       'Se presentan los trabajos que fueron seleccionados para su presentación oral en el Congreso Iberoamericano de Neurología Pediátrica.',\n",
       "       'La preeclampsia \\xad eclampsia es una de las principales causas de morbimortalidad materna y perinatal a nivel mundial',\n",
       "       'Evaluar los factores del riesgo de caída en ancianos. Estudio descriptivo, transversal con enfoque cuantitativo...',\n",
       "       'Describir características sociodemográficas y opiniones sobre la institución de pacientes con lepra residentes en un hospital...',\n",
       "       'El objetivo del estudio es describir dos pacientes con patologías poco frecuentes, de elevada mortalidad que se presentaron con diez días de diferencia.',\n",
       "       'Contribuir a mejorar a nivel de salud de la población y mantener al Perú libre de sarampión autóctono.',\n",
       "       'Este documento abarca temas de diagnóstico y manejo de dengue con y sin signos de alarma.',\n",
       "       'Este documento abarca temas de prevención y tratamiento de preeclampsia y eclampsia.',\n",
       "       'resumen está disponible en el texto completo',\n",
       "       'Fortalecer la sensibilidad y oportunidad de la notificación del sistema de vigilancia de dengue a nivel nacional.',\n",
       "       'En el presente documento detalla los lineamiento para el manejo del dengue en zonas de desastres en el Perú para el año 2017.',\n",
       "       'Contribuir a la reducción de la morbilidad y mortalidad de la enfermedad hipertensiva.',\n",
       "       'Eliminar la transmisión materno infantil del VIH, sífilis y hepatitis B en el Perú.',\n",
       "       'El presente protocolo permite establecer las pautas para la vigilancia epidemiológica, tipo centinela, de microcefalia en el país',\n",
       "       'Contribuir a disminuir el riesgo de las gestantes ante la presencia del virus Zika en nuestro medio',\n",
       "       'Elaborar una guía de práctica clínica para el diagnóstico y tratamiento del paciente con crisis de migraña episódica',\n",
       "       'No disponible',\n",
       "       'Discapacidad en pacientes bipolares ancianos en tratamiento ambulatorio. Variables asociadas(AU)',\n",
       "       'No dispnible', 'No dsponible', 'No diponible', 'No dsiponible',\n",
       "       'No disponuible', 'Nop disponible', 'No dipsonible',\n",
       "       'No  disponible', 'No disponbile', 'No disponble',\n",
       "       'Noi disponible',\n",
       "       'Desde la sensibilidad y el realismo de una madre, reflexiones sobre lo que puede significar, o no, el coeficiente intelectual (AU)',\n",
       "       'Normas muy concretas de salud bucal, dictadas por una especialista y madre de un chico con síndrome de Down (AU)',\n",
       "       'No disponible ', 'No disponibl', 'No disponible (AU)',\n",
       "       'No dispoinble', 'No disponible(AU)',\n",
       "       'Se valoran las características radiológicas del pseudotumor renal dentro del diagnóstico diferencial de masa renal general (AU)',\n",
       "       'No disponiblde', 'No disponibles', 'No disponbible',\n",
       "       'Ni disponible', 'No disponiblel',\n",
       "       'Introducción: Según la Encuesta Europea de Condiciones de...',\n",
       "       'El Amor verdadero es la experiencia neurótica más cercana a la psicosis (AU)',\n",
       "       'Funcionamiento de las Residencias para personas con trastorno mental severo, basado en su eficiencia y coste económico (AU)',\n",
       "       'Mostramos un programa de tratamiento grupal de la fibromialgia realizado en un centro de salud mental (AU)',\n",
       "       'Reflexión acerca del desarrollo histórico y estado actual en la investigación del autismo (AU)',\n",
       "       'Análisis y evolución histórica en las últimas décadas en prevención primaria y promoción de la salud. Propuestas para investigaciones futuras (AU)',\n",
       "       'La psicosis puerperal como patología psiquiátrica frecuente en el posparto (AU)',\n",
       "       'Transexualismo tratado desde un abordaje multidisciplinar en el que se ofrece un planteamiento desde distintas perspectivas (AU)',\n",
       "       'Se presenta un caso muy complejo, debido a la patología de base del paciente, que ha sido resuelto satisfactoriamente(AU)',\n",
       "       'Desde hace algún tiempo, se está reconociendo cada vez más que incluso una disfunción renal (..) (AU)',\n",
       "       'El presente trabajo está basado en la presentación de un caso clínico cuya resolución fue la elección quirúrgica mediante matricectomía total(AU)',\n",
       "       'no disponible',\n",
       "       'La enfermedad de Darier segmentaria es una variante rara de esta patológica. Se caracteriza por una (..) (AU)',\n",
       "       'Se ha obeservado un incremento de las enfermedades (..) (AU)',\n",
       "       'El presente estudio representa una revisión de la litaratura (..) (AU)',\n",
       "       'Evaluación de los derechos de las personas con discapacidad intelectual: estudio preliminar (AU)',\n",
       "       'Se evaluaron 20 casos de tuberculosis (TBC) abdominal; de los cuales 10',\n",
       "       'El autor explica los factores legales y administrativos que un hospital en Puerto Rico debe considerar en la implantación de una política de no fumar',\n",
       "       'Se presenta el concepto de área de admisión de un centro de trauma y los requisitos que debe reunir la misma. Se hacen consideraciones estadísticas',\n",
       "       'El presente estudio consiste en una revisión bibliográfica acerca de la caries dental; nuevos conceptos y factores etiológicos',\n",
       "       'El presente estudio consiste en una revisión bibiliográfica acerca de la caries dental: nuevos conceptos y factores etiológicos',\n",
       "       'Se informará la presentación clínica poco usual de un absceso retroperitoneal en un paciente diabético insulino dependiente',\n",
       "       'El examen micológico directo es un procedimiento útil para el diagnóstico de micosis superficiales. Presentamos 15 recomendaciones básicas para obtener resultados positivos',\n",
       "       'Se presentan 12 pacientes tratados con ND Yag láser con diversas afecciones oculares. Se le realiza a cada uno la técnica requerida',\n",
       "       'Los autores plantean en este trabajo todo lo concerniente al torque en ortodoncia y sus implicancias en el tratamiento',\n",
       "       'Se intenta una aproximación general al tema de las adicciones. Se enfatiza especialmente por qué la drogadicción adquiere',\n",
       "       'Revisa la fisiologia del envejecimiento y presenta una guia para la evaluacion fisica del anciano.',\n",
       "       'Se presenta una reseña de cómo se trataba y combatía el dolor en tiempos antiguos',\n",
       "       'Se analizan las indicaciones y efectividad del Gadolinio en 30 pacientes con estudios del SNC y columna vertebral',\n",
       "       'Presenta material educativo sobre sexualidad y prevención de ETS y SIDA para jóvenes',\n",
       "       'En este trabajo el autor expone los últimos conceptos sobre sustancias de contraste, reacciones adversas y tratamiento',\n",
       "       'Se hace un estudio de las heridas por arma blanca evaluadas en el Hospital Pérez Carreño',\n",
       "       'Se expone la experiencia del abordaje transumbilical en reparación de hernias moldeable en una casuística de 80 casos',\n",
       "       'Recién nacido con múltiples anomalias congénitas asociadas a trastorno en el desarrollo embrionario de región caudal',\n",
       "       'Se realiza una valoracion cualitativa en el Centro de investigacion de el Instituto de Ciencias medicas de la Universidad de Cuba de la',\n",
       "       'Presentamos un caso de una patología poco común y sobre la cual existe poca literatura',\n",
       "       'Se reportan dos casos de Osteogénesis Imperfecta, forma tardía y se hacen explicaciones sobre su etiología',\n",
       "       'Reportamos un caso de Toxocariasis Ocular en una mujer de 44 años',\n",
       "       'Manual de primeros auxilios. Describe la atención inmediata y temporal que se debe prestar a víctimas antes y hasta la llegada del médico',\n",
       "       'Se presenta un caso de tumor de Brenner Maligno del ovario. Se revisan aspectos clínicos y anatomopatológicos',\n",
       "       'Presenta las propuestas de los diferentes países de la región sobre medidas básicas necesarias a fin de controlar la diseminación del cólera',\n",
       "       'Presenta el resumen de actividades de la Reunión de Ministros, participantes y principales propuestas',\n",
       "       'Cartilla educativa, dirigida a poblaciones de bajos recursos. Ilustra un caso de cólera y da pautas e instrucciones para evitar la enfermedad',\n",
       "       'Se presenta una puesta al día de la epidemia del Sida a abril de 1992',\n",
       "       'Se propone la cera ósea como material útil para aislar y proteger la corona de un diente expuesto quirúrgicamente',\n",
       "       'El siguiente documento es una selección de artículos sobre la Deficiencia de Vitamina A, la cual provoca sobre todo la ceguera',\n",
       "       'El presente documento contiene tablas sobre estadisticas de salud, epidemilogía, cólera, en las zonas fornterizas.',\n",
       "       'Se presenta un caso de psoriasis pustulosa en una embarazada',\n",
       "       'Se presenta un caso clínico exitoso de manejo de hemodiálisis y embarazo',\n",
       "       'Se pasan revistas a algunos aspectos clinicos de la obesidad y su repercusion en la patologia cutanea',\n",
       "       'Se reseña el estado actual de la Ultrasonografía mamaria, incluyendo indicaciones y técnicas de la punción biopsia ecoguiada',\n",
       "       'Se reporta un caso de pseudotumor orbitario en un paciente de 13 años de edad',\n",
       "       'Esta colaboración tiene por objeto ampliar el concepto psicosomático jerarquizando la holística homeopática como realidad terapéutica',\n",
       "       'El documento detalla la introducción y objetivos del Seminario; así como los mecanismos de trabajo y organización; recomendaciones y programación',\n",
       "       'Paciente masculino, quien presenta un linfangioma ciscunscrito superficial con buen resultado a la crioterapia',\n",
       "       'Ofrece varias posibilidades que permitan encontrar al fumador o fumadora, la más adecuada a su caso para dejar totalmente el hábito de fumar',\n",
       "       'Es indispensable posponer el tratamiento de la hiperuricemia subyacente hasta que el ataque agudo de gota haya sido resuelto',\n",
       "       'Se presenta un caso de paraganglioma vesical, un tumor poco frecuente del sistema APUD',\n",
       "       'Se reporta un caso de artropatía por plomo y se hace una revisión de la literatura',\n",
       "       'Se revisan los conceptos fundamentales para el diagnostico de cefaleas y particularmente la migrana en ninos',\n",
       "       'Contiene: sarampión; barrido nacional contra el sarampión; vigilancia epidemiológica; laboratorio; comunicaciones',\n",
       "       'Dentro del efecto teratogénico de los fármacos antiepilépticos, se han asociado las dismorfias faciales',\n",
       "       'Presentamos una revisión de los supernumerarios retenidos y su resolución quirúrgica en odontología pediátrica',\n",
       "       'Se presenta un caso de hernia del cordón umbilical y se describe la patología del cordón umbilical',\n",
       "       'Su propósito es normar los criterios y delimitar las responsabilidades del personal de salud para la ejecución del Barrido Nacional',\n",
       "       'Las hipoproteinemia y los síndromes edematosos consecutivos representan un problema frecuente en clínica médica',\n",
       "       'Las diarreas crónicas constituyen un síndrome clínico frecuente, que reconoce muy variadas y numerosas posibles causas etiológicas, tanto orgánicas como funcionales',\n",
       "       'Se describe un caso clínico de DIU ectópico, fistulizado a sigmoides y posteriormente eliminado',\n",
       "       'Dividido en cuatro capítulos: temas oficiales; investigaciones operacionales; información estadística y anexos',\n",
       "       'Se presenta una revisión bibliográfica crítica en torno al tema. Se discute la posición de los autores',\n",
       "       'Se presenta un caso clínico de embarazo cornual diagnosticado y tratado precozmente, se discute su cuadro clínico y tratamiento',\n",
       "       'Se presentan los casos clinicos de dos ninos afectados',\n",
       "       'Se hace un estudio exhaustivo con actualización sobre la osteoporosis, enfocándola desde el punto de vista de salud pública',\n",
       "       'Se expone un caso de alergia al latex en un paciente con reacción cruzada a frutas',\n",
       "       'Contiene: cuestiones generales; asuntos de clasificación; notas sobre epidemiología; aspectos clínicos',\n",
       "       'Contiene: frecuencia del aborto en el Perú; aspiración manual endouterina(AMEU); anticoncepción post aborto',\n",
       "       'Objetivo: determinar la distribución y frecuencia de las lesiones fatales de causa externa en el municipio de Florencia, Caquetá',\n",
       "       'Objetivos: determinar la probabilidad clínica preexamen del diagnóstico de embolia pulomonar',\n",
       "       'La autora expone aspectos relevantes de enfermería ante accidentes por quemaduras en el niño, en la etapa escolar',\n",
       "       'Se presentan los conceptos mas actuales para el manejo de la EDA en base a los mas recientes conocimientos fisiopatologicos',\n",
       "       'El autor revisa los conocimientos actuales relacionados con las anormalidades cromosomicas presentes en los diferentes tipos de leucemias',\n",
       "       'Se revisan algunos de los aspectos históricos más importantes en la evolución de los conocimientos de la enfermedad de Parkinson.',\n",
       "       'Los autores ofrecen las conclusiones halladas al estudiar la ocurrencia de malformaciones congénitas en una determinada comunidad',\n",
       "       'El artículo describe las características de la enfermedad y los desafíos que plantea el cuidado de los enfermos con Alzheimer al equipo de enfermería',\n",
       "       'Se describe una novedosa técnica de laparoscopia diagnóstica por via inguinal',\n",
       "       'El objetivo fundamental de esta investigación fue - investigar si los niveles de ruido que se generaban en los gimnasios',\n",
       "       'Se presenta un caso clínico de diagnóstico prenatal de placenta previa y acreta por método de ultrasonido doppler color',\n",
       "       'Trata sobre factores de riesgo que se relaciona con el desarrollo de sepsis temprana en el neonato',\n",
       "       'Se presenta el etudio y tratamiento de 34 enfermos con heridas vasculares en distintas partes del organismo',\n",
       "       'Se hace una revisión bibliográfica de las principales características de la orbitopatía tiroidea y se menciona la experiencia de nuestro servicio',\n",
       "       'Con una alta proporción de habitantes con edades superiores a los 60 años, Cuba está preparada para garantizarles una vejez más plena',\n",
       "       'Resultados de trabajos investigativos acerca de posibilidades terapéuticas contra el VIH, fueron premiados por la Academia de Ciencias de Cuba',\n",
       "       'Presentamos un caso clínico de diagnóstico antenatal de Pentalogía de Cantrell. Se discute diagnóstico y manejo perinatal',\n",
       "       'Revisión de los cambios neurobiológicos que se producen como consecuencia de los trastornos de la biopatografía',\n",
       "       'Manual que tiene como objetivo proporcionar una información general sobre la salud ocular y va dirigido a los trabajadores de la salud',\n",
       "       'Es presentada de manera elocuente una reseña histórica de la odontología que incita a la reflexión',\n",
       "       'El presente artículo actualiza conceptos básicos vinculados a las técnicas de colocación del drenaje torácico y la participación de enfermería en esta técnica',\n",
       "       'Presenta la evaluación el uso del manual guía para la implementación de programas de educación sexual, prevención del SIDA y ETS dirigidas a docentes',\n",
       "       'Presenta el análisis sobre la percepción de los países del Cono sur respecto a la problemática del dengue',\n",
       "       'Presentado en el III Congreso Nacional de Medicina Interna, organizado por la Sociedad Peruana de Medicina Interna',\n",
       "       'Consultar el documento PE7.1, 17721, que trata el mismo tema y por el mismo grupo de investigación',\n",
       "       'GBS paciente masculino de 59 años, originario de Oaxaca ingresó al Hospital el 22 de octubre de 1989 y falleció cuatro días después',\n",
       "       'Se presenta un caso clínico exitoso de embarazo y parto en un paciente portadora de una ataxia de Friedrich',\n",
       "       'Se describen dos niños con enfermedad respiratoria, en quienes se presentaron dificultades para llegar al diagnóstico causal',\n",
       "       'El cuadro del embolismo pulmonar es altamente frecuente, mucho más de lo esperado, raramente',\n",
       "       'Se hace una revisión de los conceptos actuales que se aplicaron en el estudio diagnóstico y en el tratamiento del prolapso rectal.',\n",
       "       'por ciento',\n",
       "       'Se presenta un caso clínico de Paranoia de Renta, describiendo los elementos psicopatológicos que permiten hacer el diagnóstico',\n",
       "       'Presentación de un caso de quiste del uraco infectado, y discusión de su apariencia imaginológica',\n",
       "       'Se realiza una revisión de los aspectos técnicos básicos de la ecografía oftalmica y patologías oculares más importantes',\n",
       "       'El avance en el cuidado del paciente cardíaco en estado crítico han mejorado el pronóstico de quienes sufren insuficiencia cardíaca por infarto del miocardio',\n",
       "       'Cuatro pacientes con Encefalitis que mostraron evidencias serológicas de infección aguda por Dengue son presentados y discutidos',\n",
       "       'La cateterización del corazón en electrofisiología se ha venido utilizando con fines...',\n",
       "       'El puente miocárdio coronario es una anomalía anatómica que produce...',\n",
       "       'Se presenta un estudio de las diferentes causas que pueden causar el hipo, el tratamiento que se ha empleado y sus resultados.',\n",
       "       'El objetivo de este trabajo es el estudio desde la Medicina Homeopatica de las pacientes con flujo genital',\n",
       "       'Este estudio es sobre la esclerodermia y sus efectos en el embarazo, las manifestaciones clinicas y el tratamiento a realizar',\n",
       "       'En este artículo se presenta a la infección por herpesvirus, la confirmación del diagnóstico y el respectivo tratamiento',\n",
       "       'Después de una breve revisión histórica este documento presenta una revisión del tema sobre los principales hallazgos neurológicos en la enfermedad de Alzheimer',\n",
       "       'Se presenta un caso de hernia lumbar verdadera del triángulo inferior que fue tratado por cierre primario en dos planos con buenos resultados',\n",
       "       'Describe con datos sobre el avance vertiginoso del SIDA en el mundo; e induce a plantearse algunos lineamientos de prevención',\n",
       "       'Se anlizan tres casos de pancreatitis aguda que ocurrieron durante el embarazo, y se analiza la literatura al respecto',\n",
       "       'Presenta el caso de un niño de 11 años con dolor de cadera',\n",
       "       'Artículo de carácter histórico biográfico sobre la sordera del gran compositor Beethoven',\n",
       "       'La fiebre amarilla en el Per',\n",
       "       'Proporcionar información para un cambio de actitud en los Centinelas que les permita disfrutar de una vida sexual y reproductiva sana y saludable.',\n",
       "       'En el presente capítulo se presenta las normas respecto a la vacunación regular que se debe aplicar en menores de un año',\n",
       "       'En este capítulo se presentan las normas para el tratamiento de las infecciones bacterianas graves en niños menores de dos meses',\n",
       "       'En este capítulo se presenta las normas de tratamiento de las infecciones bacterianas graves en niños de 2 mese a niños menores de 5 años',\n",
       "       'En este capítulo se brinda las norams para el tratamiento de las enfermedades diarreicas',\n",
       "       'El objetivo del módulo 2 es que el alumno este capacitado conceptual y tecnológicamente para el diagnóstico de la tuberculosis.',\n",
       "       'Se hace un reporte sobre un tipo de Sinostosis múltiples congénita que no parece haber sido reportado en la literatura',\n",
       "       'Este capítulo presenta el tema de las infecciones oculares y su sintomatología',\n",
       "       'Contiene: Panorama epidemiológico; Respuesta nacional al SIDA; Los desafíos para la acción',\n",
       "       'Presenta indicadores de consulta externa, de hospitalización, de sala de operaciones y de calidad',\n",
       "       'Manual dirigido a los agentes de la comunidad que vienen desarrollando acciones que benefician o protegen la salud de su comunidad',\n",
       "       'Los autores efectuamos una revisión bibliográfica del tema, señalando los aspectos perinatales de mayor interés. Se establecen conclusiones',\n",
       "       'En el presente artículo se realiza una revisión de la paracoccidiodomicosis brasilense, presentándose un caso clínico',\n",
       "       'Este capítulo trata sobre las diversas enfermedades tratadas en infectología pediatrica, en el texto presenta las diversas características clínicas de las diferentes enfermedades',\n",
       "       'Este capítulo trata sobre el tema de las enfermedades de transmisión sexual en pediatría y también sobre el maltrato infantil',\n",
       "       'El documento es un manual donde presenta capitulos de la planificacion familiar, las enfermedades transmisibles,colera y la malaria.',\n",
       "       'Este taller congregó diversas presentaciones sobre temas de salud, que compartían un denominador común: una perspectiva de derechos humanos',\n",
       "       'Es el resumen de 15 aÑos de trabajo en los programas PANFAR y KUSIAYLLU',\n",
       "       'Esta parte contiene en sus capitulos los siguientes temas: necesidades nutricionales, lactancia materna y transtornos de la nutrición - malnutrición',\n",
       "       'Es la salida de la sangre en escasa o abundante cantidad por la ruptura de un vaso sanguineo.(au)',\n",
       "       'Se revisan los cambios del sistema nervioso central y psíquicos asociados al envejecimiento normal señalando las tendencias actuales de la investigación en el área.',\n",
       "       'Estudio de caso del Virus identificado como agente etiológico de la enfermedad, presentado el Municipio Guanarito Estado Portuguesa, Venezuela',\n",
       "       'Este caso clínico documenta la evaluación de la mecánica de tratamiento con extracciones utilizando anclaje mínimo',\n",
       "       'En este informe presenta la situación del sarampión en Bolivia a 1999',\n",
       "       'Este es un informe de la situación de la fiebre amarilla en Bolivia a 1999',\n",
       "       'Informa acerca de la situación de las lesiones de causa externa como reflejo del comportamiento violento y delictivo en Panamá',\n",
       "       'Mediante un cuento corto, enseña a reconocer al chinche que transmite la enfermedad de chagas y las medidas sanitarias para exterminarlo',\n",
       "       'Presentamos la primera experiencia nacional con el uso de cabergolina en el tratamiento de los macroadenomas hipofisarios.',\n",
       "       'El presente documento detalla: introducción, antecedentes, métodos, resultados de los estudios realizados en 1999, conclusiones y recomendaciones, bibliografía',\n",
       "       'Frecuencia de diabetes gestacional en embarazadas en riesgo diabetico de Santiago, Chile',\n",
       "       'Esta publicación contine una introduccion titutalda \"Orientaciones Generales para estudiar a distancia: Guia para el estudiante\"',\n",
       "       'Informamos de un caso de fasceitis necrotizante posterior a una cesárea.',\n",
       "       'Se informa un caso de embarazo heterotópico espontáneo en nuestro servicio.',\n",
       "       'Se presenta caso clínico infrecuente de embarazo ovárico en paciente portadora de infertilidad secundaria a factor tubario.',\n",
       "       'En este artículo se revisan los aspectos epidemiológicos, clasificación, fases cronológicas y tratamiento actualizado de la falla cardiaca.',\n",
       "       'Se presentan los estudios clínicos e imagenológicos realizados a un paciente con diagnóstico de hiperostosis esternocostoclavicular',\n",
       "       'Presenta generalidades sobre el tema, diagnostico, prueba indirecta de diagnostico y el tratamiento',\n",
       "       'Analiza la metodología diagnóstica utilizada, el tratamiento quirúrgico prácticado y los resultados inmediatos obtenidos',\n",
       "       'Presenta las características epidemiológicas de tumores del sistema nervioso central',\n",
       "       'Presenta los detalles técnicos de la cirugía adaptados a la realidad paraguaya, en pacientes de escasos recursos',\n",
       "       'Presenta una revisión bibliográfica sobre la presentación clínica, métedos diagnósticos y tratamiento actual',\n",
       "       'Determina los factores más frecuentes que producen trastornos de la deglución en personas de la tercera edad en nuestro medio',\n",
       "       'Presenta sobre las recomendaciones para la prevención de la transmisión vertical del VIH',\n",
       "       'Presenta el cuadro de procedimiento de evaluar clasificar niño enfermo de 2 meses a 4 años de edad',\n",
       "       'Contiene el cuadro de procedimiento para evaluar y clasificar al niño enfermo de 2 meses a 4 años de edad',\n",
       "       'Presenta cuadro de procedimiento evaluar y clasificar al niño enfermo de 2 meses a 4 años de edad',\n",
       "       'Presenta norma de procedimientos para la prevención y control del cáncer de cuello uterino',\n",
       "       'Presenta sobre síndrome respiratoria agudo severo SARS, su apectos clinicos epidemiógicos y diagnóstico',\n",
       "       'Se presenta globalmente el dolor crónico y una breve revisión de algunas teorías psicológicas que explican su actuación en el paciente enfermo',\n",
       "       'La diarrea aguda es aquella que tiene una duración menor de tres semanas y la crónica cuando dura mas de tres semanas.',\n",
       "       'Contiene: Protozoarios de importancia medica, helmintos,artropodos',\n",
       "       'contiene: I anestesiologia general,II practicas de anestesiologia general',\n",
       "       'Se describen diferentes acciones realizadas por la fundación, y articuladas con diferentes instituciones o sectores, a nivel nacional',\n",
       "       'El documento contiene: periodo de incubación, clínica de un ataque agudo de malaria, formas clínicas, diganóstico',\n",
       "       'En este artículo se recopilan y describen los distintos farmacos antifúngicos para el tratamiento de micosis sistémicas',\n",
       "       'Se presenta el caso de paciente con eritema multiforme, secundario al uso de medicamentos antirretrovirales',\n",
       "       'Paciente masculino de 26 años de edad con pediculosis pubis e infección VIH con buena respuesta al tratamiento con ivermectina oral',\n",
       "       'Hace 180 años, la medicina francesa de la observación tenía claros conceptos generales sobre el herpes simple.',\n",
       "       'Se presenta la experiencia de colocación de cultivo de queratinocitos en un caso de fasceitis necrotizante',\n",
       "       'Actualización de Hipertensión Arterial. Guía de diagnóstico y tratamiento',\n",
       "       'Objectiva conocer el grado de información y las actitudes preventivas y poner en evidencia factores de riesgo para ITS entre los estudiantes de medicina',\n",
       "       'Se presentan las infecciones de origen odontogénico y se hacen las recomendaciones para su tratamiento, asimismo, la forma de prevenirlas',\n",
       "       'Se presenta un caso de síndrome de QT largo congénito que debutó con muerte súbita durante el período del puerperio.',\n",
       "       'Se describen a continuación las técnicas utilizads en el tratamiento de las lesiones virales producidas por el virus del papiloma humano',\n",
       "       'El objetivo del trabajo es demostrar la utilidad de las endoprótesis vasculares de nitinol en el tratamiento de lesiones ilíacas',\n",
       "       'Se presenta un caso de Aplasia congénita de cutis complicada con hemorragia del seno sagital',\n",
       "       'El diagnóstico de ezquizofrenia no significa necesidad de tratamiento.',\n",
       "       'Se reporta un caso de embarazo ectópico tubario bilateral. Se analiza el cuadro clínico y su dificultad diagnóstica.',\n",
       "       'Se comenta un nuevo caso de endometriosis en la cicatriz de cesárea; es el tercer caso en la literatura nacional',\n",
       "       'Los trastornos facticios son diagnisticados muy excepcionalmente en nuestro medio. Estos pacientes se',\n",
       "       'A partir de las estadísticas mas confiables existentes se inicia un estudio epidemiológico sobre un grave problema social y de salud, el alcoholismo',\n",
       "       'Damos a conocer un caso de gestación cuádruple espontánea, el manejo y su resolución.',\n",
       "       'Presentación de dos casos clínicos, y una breve revisión del manejo de esta emergencia. Se analizan diferentes métodos diagnósticos y terapéuticos.',\n",
       "       'Principales patologías de la medicina del buceo, su diagnóstico y tratamiento.',\n",
       "       'Se presenta un caso de himen imperforado y su resolución quirúrgica llegando a presentar abdomen agudo con secuelas.',\n",
       "       'Se revisa la evolucion y el estado actual de las enfermedades diarreicas en la Republica de Cuba',\n",
       "       'Se estudian las caracteristicas clinicas y evolutivas de 20 casos de septicemias en recien nacidos',\n",
       "       'Presenta medidas de prevención de infecciones de vías respiratorias.',\n",
       "       'Este artículo presenta un caso de exantema agudo y sus aspectos clínicos, con especial énfasis en sus diagnósticos diferenciales.',\n",
       "       'Este artículo revisa la bibliografía actualizada del trauma por bombas y explosiones, y hace hincapié en el daño cerebral asociado.',\n",
       "       'Se realiza el estudio del 100',\n",
       "       'Se proponen varios articulos sobre las infecciones del sistema nervioso central',\n",
       "       'Se presentan resultados que se obtuvieron del estudio de 39 pacientes con enfermedades malignas, de ellos, 37 (94,8',\n",
       "       'Estudio descriptivo de corte transversal realizado para analizar los elementos que contribuyen a la adopcion del tratamiento no farmacologico.',\n",
       "       'Da a conocer el comportamiento clínico epidemiológico del dengue para prevenir el desarrollo de formas severas de dendue.',\n",
       "       'Contiene: estudios de brotes epidémicos, evaluación de un sistema de vigilancia, publicaciones e informes, conferencias científicas.',\n",
       "       'Existen productos frecuentes de uso doméstico y plantas ornamentales en nuestros jardines con gran poder toxigénico que son importantes de conocer.',\n",
       "       'Se presenta el caso de un niño con un hemangioma de mama y se revisa la bibliografía al respecto.',\n",
       "       'Esta segunda parte del artículo sobre flatulencia toca aspectos sobre la etiopatogenia, diagnóstico y tratamiento del síndrome.',\n",
       "       'El autor relata un caso de Síndrome Adreno Genital con catarata encontrado en el Norte del Brasil',\n",
       "       'Este artículo presenta un caso de diarrea aguda sanguinolenta y sus aspectos clínicos, con especial énfasis en la forma adecuada de manejo.',\n",
       "       'Se exponen las caracteristicas etiologicas, clinicas y evolutivas de 20 ninos con bronquiectasia',\n",
       "       'Se expone la teoría de las características de las quemaduras como indicadores de la etiología médico-legal de la muerte.',\n",
       "       'Contenido: Clínica de las psicosis. El caso Rousseau. Finales de análisis...',\n",
       "       'Se resume la morbilidad y prevalencia de las principales enfermedades de transmisión sexual que afectan a la embarazada, feto, y recién nacido',\n",
       "       'Se ilustra con un caso de hidatidosis hepática y se hace una revisión exhaustiva de la literatura hasta el momento',\n",
       "       'Leptospirosis una de las enfermedades zoonóticas más importantes. Más frecuente en los trópicos y zonas subtropicales.',\n",
       "       'Descripción de un estudio realizado con el objetivo de comprender las dimensiones culturales del VIH/Sida de estudiantes adolescentes de tres países latinoamericanos.',\n",
       "       'La terapia cognitivo-conductual es la intervención psicológica más eficaz para los trastornos de angustia y los síntomas de agorafobia.',\n",
       "       'Consenso del Comité de Terapia Intensiva de la Sociedad Paraguaya de Pediatría.',\n",
       "       'clínica, la radiología y la anatomía patológica en forma similar a la EMH',\n",
       "       'Contiene notas breves referidas a diversas patologías dermatológicas',\n",
       "       'Notas breves referidas a diversas patologías dermatológicas',\n",
       "       'Comentarios breves referidos a diversas patologías dematológicas',\n",
       "       'Notas breves relacionadas a la dermatología y sus diversas patologías',\n",
       "       'Notas breves relacionadas a la dermatología, y sus diversas patologías',\n",
       "       'Grupo de pacientes hondureñas con diagnóstico de este síndrome',\n",
       "       'El presente documento estandariza las normas de atención médica para el diagnóstico precoz y tratamiento etiológico oportuno de la enfermedad de Chagas',\n",
       "       'El presente documento detalla: objetivo general, procedimientos, ficha de ingreso PND, control de visitas, efectos adversos.',\n",
       "       'El presente documento detalla: historia, justificación, objetivos, metodología, medicación, recursos.',\n",
       "       'El presente documento detalla: justificación, objetivos, metodología, medicación, recursos.',\n",
       "       'El presente documento detalla: historia, objetivos, métodos, medicación, recursos.',\n",
       "       'El presente documento detalla: evaluación, clasificación, tratamiento.',\n",
       "       'Este documento contiene: resolución Ministerial, objetivos de las normas, base legal, ámbito de aplicación, contenidos de las normas.',\n",
       "       'El presente documento detalla: introducción, generalidades, componentes de las normas: técnico, administrativo, educativo, investigación, anexos.',\n",
       "       'Introducción, objetivo, organización, metodología, procesamiento y analisis de datos, desarrollo de la visita, anexos, Acta de compromiso',\n",
       "       'Presentación, introducción, base legal, objetivos, ambito de acción, administración del programa, normas técnicas y procedimientos, anexos',\n",
       "       'Introducción, objetivos, criterios de programación de actividades, cirterios de programación de medicinas e insumos.',\n",
       "       'El presente está dirigido al promotor de salud que se convierte en un instrumento práctico y valioso para desarrollar acciones de prevención y promoción de la salud',\n",
       "       'Introducción, propósito-objetivos, estrategias, componentes de las normas: técnico, administrativo, educativo, investigación, anexos.',\n",
       "       'Este documento detalla: antecedentes, situación actual, tendencia, brote, tendencia y vigilancia vectorial',\n",
       "       'El presente documento contiene las normas e instrumentos legales que sirven de referencia para el manejo integral de los pacientes expuestos a la contaminación por plomo.',\n",
       "       'La guía constituye un instrumento que contribuye a lograr la universalización en el acceso al Sistema Único Intercultural y Comunitario de Salud.',\n",
       "       'Paciente masculino, eutrófico, de 12 años de edad, procedente y residente de la comunidad Carahuito Potosí.',\n",
       "       'La generación actual de jóvenes es la mayor de la historia, casi la mitad de la población mundial menos de 25 años.',\n",
       "       'Determinar los factores de riesgo relacionados con la hipernatremia neonatal.',\n",
       "       'La enfermedad de Chagas representa un serio problema de Salud Pública tanto por su magnitud, trascendencia, impacto y dificil vulnerablidad.',\n",
       "       'Proporcionar elementos conceptuales sobre los Drechos Humanos en general humano ala alimentacion adecuada (DHAA) en particular.',\n",
       "       'Revisión acerca de los aspectos epidemiológicos locales e internacionales en relación con este grupo heterogéneo de neoplasias hematológicas.',\n",
       "       'El objetivo de la presente investigación es conocer las características de las mujeres que están asociadas con mayores probabilidades de pérdica fetal.',\n",
       "       'La rehabilitación',\n",
       "       'Se, presenta una revisión del tema: \"Lupus Eritematoso Sistémico y Embarazo\".',\n",
       "       '.',\n",
       "       'Todo factor que retrase el diagnóstico demora el tratamiento de la tuberculosis pulmonar, provoca mayor daño pulmonar y aumenta el período de transmisibilidad.',\n",
       "       'Resolución de un caso clínico con aparatología dinámico-funcionales y funcionales.',\n",
       "       'Presentamos el primer caso de pie de madura publicado en Argentina y realizamos una breve actualización de su diagnóstico y terapéutica.',\n",
       "       'Se resume la situación mundial del problema del SIDA a diciembre de 1988. Informe preparado para la II Teleconferencia Panamericana sobre SIDA',\n",
       "       'Caso clínico que muestra tratamiento periodontal evaluado durante 30 años e implantes colocados hace 13 años...',\n",
       "       'La fiebra amarilla sigue siendo una de las causas más importantes de morbilidad y mortalidad en la Amazonía Peruana',\n",
       "       'El diagóstico es Enfermedad de Darier.',\n",
       "       'El diagnóstico es Diastematomielia.',\n",
       "       'El diagnóstico es Quiste aracnoideo de la fosa media con extensión a la fosa anterior Galassi III',\n",
       "       'El diagnóstico es Pitiriasis liquenoide crónica',\n",
       "       'El diagnóstico es Rabdomiomas cardiacos/ Esclerosis tuberosa.',\n",
       "       'El diagnóstico es: síndrome megavejiga-microcolon-hipoperistaltismo intestinal: SMMHI',\n",
       "       'El diagnóstico es Fístula arterioportal congénita',\n",
       "       'El diagnóstico es Ductus arterioso permeable (DAP)',\n",
       "       'Objetivo: Demonstrar', 'El sistema motor posee.',\n",
       "       'Analisis de los resultados obtenidos en 20 pacientes con este antimicotico oral, en dosis de 200 mg diarios durante cuatro semanas',\n",
       "       'Se reporta un caso de granuloma de línea media en un niño masculino de 6 años',\n",
       "       'Se reporta un caso de teratoma inmaduro de mediastino en una niña de tres años',\n",
       "       'En el presente trabajo se hace una descripción de las diferentes urgencias odontopediátricas, su prevención, diagnóstico y tratamiento',\n",
       "       'Se presenta un caso clínico de embarazo ectópico complicado izquierdo; en paciente sometida a FIV-TE por esterilidad secundaria',\n",
       "       'El presente trabajo establece las normas que sirven para prevenir la transmisión de la infección por HIV en el medio hospitalario',\n",
       "       'Presenta los objetivos, metodología, resultados y conclusiones',\n",
       "       'Se hace un estudio docente del diagnóstico de lumbalgia en niños con sus distintas formas clínicas y diagnósticos diferencial',\n",
       "       'Reportamos un caso clínicoquirúrgico de Neurilemoma primitivo del nervio lingual',\n",
       "       'Se hace un estudio de la posibilidad de infección con el virus HIV en preparados de plasma, crios y comerciales',\n",
       "       'Seminario Docente de Etiología, clínica tratamiento de las fracturas extremo proximal del femur',\n",
       "       'Realiza un perfil sobre las diversas patologías, específicamente sobre la alveolitis; identificando concepto y características de la misma',\n",
       "       'Explica, mediante una revision bibliográfica, la relación que puede existir entre el tratamiento ortodóntico y las alteraciones periodontales',\n",
       "       'Se presenta un caso de embarazo heterotópico. Se revisa la literatura y se hacen recomendaciones para el diagnóstico y tratamiento'],\n",
       "      dtype=object)"
      ]
     },
     "execution_count": 40,
     "metadata": {},
     "output_type": "execute_result"
    }
   ],
   "source": [
    "df_text_all_abs[df_text_all_abs[col_analyze] < 30][\"raw_text\"].drop_duplicates().values"
   ]
  },
  {
   "cell_type": "code",
   "execution_count": 44,
   "metadata": {},
   "outputs": [
    {
     "data": {
      "text/plain": [
       "(20696, 9)"
      ]
     },
     "execution_count": 44,
     "metadata": {},
     "output_type": "execute_result"
    }
   ],
   "source": [
    "df_text_all_abs[df_text_all_abs[col_analyze] < 30].shape"
   ]
  },
  {
   "cell_type": "markdown",
   "metadata": {},
   "source": [
    "As a sanity check procedure, we also save a pre-processed version of the corpus where texts with length < 30 are eliminated:"
   ]
  },
  {
   "cell_type": "code",
   "execution_count": 27,
   "metadata": {},
   "outputs": [
    {
     "data": {
      "text/plain": [
       "0.12165530213966612"
      ]
     },
     "execution_count": 27,
     "metadata": {},
     "output_type": "execute_result"
    }
   ],
   "source": [
    "# Fraction of texts that will be removed\n",
    "df_text_all_abs[df_text_all_abs[col_analyze] < 30].shape[0]/df_text_all_abs.shape[0]"
   ]
  },
  {
   "cell_type": "code",
   "execution_count": 29,
   "metadata": {},
   "outputs": [],
   "source": [
    "df_text_all_abs_v2_30 = df_text_all_abs[df_text_all_abs[col_analyze] >= 30]"
   ]
  },
  {
   "cell_type": "code",
   "execution_count": 30,
   "metadata": {},
   "outputs": [
    {
     "data": {
      "text/plain": [
       "(149424, 9)"
      ]
     },
     "execution_count": 30,
     "metadata": {},
     "output_type": "execute_result"
    }
   ],
   "source": [
    "df_text_all_abs_v2_30.shape"
   ]
  },
  {
   "cell_type": "code",
   "execution_count": 47,
   "metadata": {},
   "outputs": [
    {
     "name": "stdout",
     "output_type": "stream",
     "text": [
      "CPU times: user 4.07 s, sys: 127 ms, total: 4.2 s\n",
      "Wall time: 4.2 s\n"
     ]
    }
   ],
   "source": [
    "%%time\n",
    "df_text_all_abs_v2_30[[\"doc_id\", \"raw_text\", \"sw_text\"]].to_csv(path_or_buf=corpus_path + \n",
    "                                                                        \"all_abstracts_valid_codes_D_text_raw_sw_v2_30.tsv\", \n",
    "                                                                        sep=\"\\t\", header=True, index=False)"
   ]
  },
  {
   "cell_type": "code",
   "execution_count": 38,
   "metadata": {},
   "outputs": [
    {
     "data": {
      "text/plain": [
       "0.12959569747632815"
      ]
     },
     "execution_count": 38,
     "metadata": {},
     "output_type": "execute_result"
    }
   ],
   "source": [
    "# Fraction of codes occurrences that will be removed (~ same as texts)\n",
    "1 - df_codes_d_abs_all_v2_30.shape[0]/df_codes_d_abs_all.shape[0]"
   ]
  },
  {
   "cell_type": "code",
   "execution_count": 34,
   "metadata": {},
   "outputs": [],
   "source": [
    "df_codes_d_abs_all_v2_30 = df_codes_d_abs_all.loc[set(df_text_all_abs_v2_30[\"doc_id\"])]"
   ]
  },
  {
   "cell_type": "code",
   "execution_count": 37,
   "metadata": {},
   "outputs": [
    {
     "data": {
      "text/plain": [
       "(351518, 2)"
      ]
     },
     "execution_count": 37,
     "metadata": {},
     "output_type": "execute_result"
    }
   ],
   "source": [
    "df_codes_d_abs_all_v2_30.shape"
   ]
  },
  {
   "cell_type": "code",
   "execution_count": 45,
   "metadata": {},
   "outputs": [
    {
     "name": "stdout",
     "output_type": "stream",
     "text": [
      "CPU times: user 187 ms, sys: 7.87 ms, total: 195 ms\n",
      "Wall time: 195 ms\n"
     ]
    }
   ],
   "source": [
    "%%time\n",
    "df_codes_d_abs_all_v2_30.to_csv(path_or_buf=corpus_path + \"all_abstracts_table_valid_codes_D_v2_30.tsv\", \n",
    "                                                   sep=\"\\t\", header=False, index=False)"
   ]
  },
  {
   "cell_type": "markdown",
   "metadata": {},
   "source": [
    "We check the updated sub-token sequence length frequency distribution tables:"
   ]
  },
  {
   "cell_type": "code",
   "execution_count": 62,
   "metadata": {},
   "outputs": [
    {
     "data": {
      "text/plain": [
       "7294       30\n",
       "15518      31\n",
       "7087       32\n",
       "8107       33\n",
       "5098       34\n",
       "         ... \n",
       "1308     1405\n",
       "3144     1453\n",
       "2641     1504\n",
       "3599     1727\n",
       "4649     1863\n",
       "Name: raw_BETO, Length: 914, dtype: int64"
      ]
     },
     "execution_count": 62,
     "metadata": {},
     "output_type": "execute_result"
    }
   ],
   "source": [
    "df_text_all_abs_v2_30[\"raw_BETO\"].drop_duplicates().sort_values()"
   ]
  },
  {
   "cell_type": "code",
   "execution_count": 63,
   "metadata": {},
   "outputs": [
    {
     "data": {
      "text/plain": [
       "200     545\n",
       "212     539\n",
       "205     529\n",
       "210     522\n",
       "197     515\n",
       "       ... \n",
       "1213      1\n",
       "912       1\n",
       "958       1\n",
       "1023      1\n",
       "1151      1\n",
       "Name: raw_BETO, Length: 914, dtype: int64"
      ]
     },
     "execution_count": 63,
     "metadata": {},
     "output_type": "execute_result"
    }
   ],
   "source": [
    "df_text_all_abs_v2_30[\"raw_BETO\"].value_counts()"
   ]
  },
  {
   "cell_type": "code",
   "execution_count": 50,
   "metadata": {},
   "outputs": [],
   "source": [
    "col_names = [\"BioBERT\", \"Multilingual\", \"BETO\"]"
   ]
  },
  {
   "cell_type": "code",
   "execution_count": 51,
   "metadata": {},
   "outputs": [],
   "source": [
    "df_res = df_text_all_abs_v2_30\n",
    "raw_all_abs_res = pd.DataFrame({col_names[0]: df_res[\"raw_BioBERT\"].describe(), \n",
    "              col_names[1]: df_res[\"raw_Multi\"].describe(), \n",
    "              col_names[2]: df_res[\"raw_BETO\"].describe()})"
   ]
  },
  {
   "cell_type": "code",
   "execution_count": 52,
   "metadata": {},
   "outputs": [],
   "source": [
    "sw_all_abs_res = pd.DataFrame({col_names[0]: df_res[\"sw_BioBERT\"].describe(), \n",
    "              col_names[1]: df_res[\"sw_Multi\"].describe(), \n",
    "              col_names[2]: df_res[\"sw_BETO\"].describe()})"
   ]
  },
  {
   "cell_type": "code",
   "execution_count": 53,
   "metadata": {},
   "outputs": [
    {
     "data": {
      "text/html": [
       "<div>\n",
       "<style scoped>\n",
       "    .dataframe tbody tr th:only-of-type {\n",
       "        vertical-align: middle;\n",
       "    }\n",
       "\n",
       "    .dataframe tbody tr th {\n",
       "        vertical-align: top;\n",
       "    }\n",
       "\n",
       "    .dataframe thead th {\n",
       "        text-align: right;\n",
       "    }\n",
       "</style>\n",
       "<table border=\"1\" class=\"dataframe\">\n",
       "  <thead>\n",
       "    <tr style=\"text-align: right;\">\n",
       "      <th></th>\n",
       "      <th>BioBERT</th>\n",
       "      <th>Multilingual</th>\n",
       "      <th>BETO</th>\n",
       "    </tr>\n",
       "  </thead>\n",
       "  <tbody>\n",
       "    <tr>\n",
       "      <th>count</th>\n",
       "      <td>149424.000000</td>\n",
       "      <td>149424.000000</td>\n",
       "      <td>149424.000000</td>\n",
       "    </tr>\n",
       "    <tr>\n",
       "      <th>mean</th>\n",
       "      <td>427.013659</td>\n",
       "      <td>290.583942</td>\n",
       "      <td>257.412069</td>\n",
       "    </tr>\n",
       "    <tr>\n",
       "      <th>std</th>\n",
       "      <td>201.072809</td>\n",
       "      <td>141.119278</td>\n",
       "      <td>127.634050</td>\n",
       "    </tr>\n",
       "    <tr>\n",
       "      <th>min</th>\n",
       "      <td>28.000000</td>\n",
       "      <td>23.000000</td>\n",
       "      <td>30.000000</td>\n",
       "    </tr>\n",
       "    <tr>\n",
       "      <th>25%</th>\n",
       "      <td>271.000000</td>\n",
       "      <td>182.000000</td>\n",
       "      <td>160.000000</td>\n",
       "    </tr>\n",
       "    <tr>\n",
       "      <th>50%</th>\n",
       "      <td>404.000000</td>\n",
       "      <td>272.000000</td>\n",
       "      <td>239.000000</td>\n",
       "    </tr>\n",
       "    <tr>\n",
       "      <th>75%</th>\n",
       "      <td>576.000000</td>\n",
       "      <td>391.000000</td>\n",
       "      <td>344.000000</td>\n",
       "    </tr>\n",
       "    <tr>\n",
       "      <th>max</th>\n",
       "      <td>3158.000000</td>\n",
       "      <td>2096.000000</td>\n",
       "      <td>1863.000000</td>\n",
       "    </tr>\n",
       "  </tbody>\n",
       "</table>\n",
       "</div>"
      ],
      "text/plain": [
       "             BioBERT   Multilingual           BETO\n",
       "count  149424.000000  149424.000000  149424.000000\n",
       "mean      427.013659     290.583942     257.412069\n",
       "std       201.072809     141.119278     127.634050\n",
       "min        28.000000      23.000000      30.000000\n",
       "25%       271.000000     182.000000     160.000000\n",
       "50%       404.000000     272.000000     239.000000\n",
       "75%       576.000000     391.000000     344.000000\n",
       "max      3158.000000    2096.000000    1863.000000"
      ]
     },
     "execution_count": 53,
     "metadata": {},
     "output_type": "execute_result"
    }
   ],
   "source": [
    "raw_all_abs_res"
   ]
  },
  {
   "cell_type": "code",
   "execution_count": 58,
   "metadata": {},
   "outputs": [
    {
     "data": {
      "text/plain": [
       "array(['Uterine mucinosis and vasculitis associated with lupus erythematous(AU)'],\n",
       "      dtype=object)"
      ]
     },
     "execution_count": 58,
     "metadata": {},
     "output_type": "execute_result"
    }
   ],
   "source": [
    "# Corpus contain a few multilingual examples\n",
    "df_res[df_res[\"raw_BioBERT\"] < 30][\"raw_text\"].values"
   ]
  },
  {
   "cell_type": "code",
   "execution_count": 59,
   "metadata": {},
   "outputs": [
    {
     "data": {
      "text/plain": [
       "array(['Uterine mucinosis and vasculitis associated with lupus erythematous(AU)',\n",
       "       'A poroceratose de Mibelli é uma genodermatose disceratósica (..) (AU)'],\n",
       "      dtype=object)"
      ]
     },
     "execution_count": 59,
     "metadata": {},
     "output_type": "execute_result"
    }
   ],
   "source": [
    "df_res[df_res[\"raw_Multi\"] < 30][\"raw_text\"].values"
   ]
  },
  {
   "cell_type": "code",
   "execution_count": 54,
   "metadata": {},
   "outputs": [
    {
     "data": {
      "text/html": [
       "<div>\n",
       "<style scoped>\n",
       "    .dataframe tbody tr th:only-of-type {\n",
       "        vertical-align: middle;\n",
       "    }\n",
       "\n",
       "    .dataframe tbody tr th {\n",
       "        vertical-align: top;\n",
       "    }\n",
       "\n",
       "    .dataframe thead th {\n",
       "        text-align: right;\n",
       "    }\n",
       "</style>\n",
       "<table border=\"1\" class=\"dataframe\">\n",
       "  <thead>\n",
       "    <tr style=\"text-align: right;\">\n",
       "      <th></th>\n",
       "      <th>BioBERT</th>\n",
       "      <th>Multilingual</th>\n",
       "      <th>BETO</th>\n",
       "    </tr>\n",
       "  </thead>\n",
       "  <tbody>\n",
       "    <tr>\n",
       "      <th>count</th>\n",
       "      <td>149424.000000</td>\n",
       "      <td>149424.000000</td>\n",
       "      <td>149424.000000</td>\n",
       "    </tr>\n",
       "    <tr>\n",
       "      <th>mean</th>\n",
       "      <td>339.383325</td>\n",
       "      <td>216.014998</td>\n",
       "      <td>183.006083</td>\n",
       "    </tr>\n",
       "    <tr>\n",
       "      <th>std</th>\n",
       "      <td>163.134923</td>\n",
       "      <td>110.263527</td>\n",
       "      <td>98.117481</td>\n",
       "    </tr>\n",
       "    <tr>\n",
       "      <th>min</th>\n",
       "      <td>27.000000</td>\n",
       "      <td>18.000000</td>\n",
       "      <td>15.000000</td>\n",
       "    </tr>\n",
       "    <tr>\n",
       "      <th>25%</th>\n",
       "      <td>213.000000</td>\n",
       "      <td>131.000000</td>\n",
       "      <td>109.000000</td>\n",
       "    </tr>\n",
       "    <tr>\n",
       "      <th>50%</th>\n",
       "      <td>320.000000</td>\n",
       "      <td>199.000000</td>\n",
       "      <td>166.000000</td>\n",
       "    </tr>\n",
       "    <tr>\n",
       "      <th>75%</th>\n",
       "      <td>457.000000</td>\n",
       "      <td>290.000000</td>\n",
       "      <td>244.000000</td>\n",
       "    </tr>\n",
       "    <tr>\n",
       "      <th>max</th>\n",
       "      <td>2358.000000</td>\n",
       "      <td>1471.000000</td>\n",
       "      <td>1226.000000</td>\n",
       "    </tr>\n",
       "  </tbody>\n",
       "</table>\n",
       "</div>"
      ],
      "text/plain": [
       "             BioBERT   Multilingual           BETO\n",
       "count  149424.000000  149424.000000  149424.000000\n",
       "mean      339.383325     216.014998     183.006083\n",
       "std       163.134923     110.263527      98.117481\n",
       "min        27.000000      18.000000      15.000000\n",
       "25%       213.000000     131.000000     109.000000\n",
       "50%       320.000000     199.000000     166.000000\n",
       "75%       457.000000     290.000000     244.000000\n",
       "max      2358.000000    1471.000000    1226.000000"
      ]
     },
     "execution_count": 54,
     "metadata": {},
     "output_type": "execute_result"
    }
   ],
   "source": [
    "sw_all_abs_res"
   ]
  }
 ],
 "metadata": {
  "kernelspec": {
   "display_name": "Python 3",
   "language": "python",
   "name": "python3"
  },
  "language_info": {
   "codemirror_mode": {
    "name": "ipython",
    "version": 3
   },
   "file_extension": ".py",
   "mimetype": "text/x-python",
   "name": "python",
   "nbconvert_exporter": "python",
   "pygments_lexer": "ipython3",
   "version": "3.6.5"
  }
 },
 "nbformat": 4,
 "nbformat_minor": 2
}
