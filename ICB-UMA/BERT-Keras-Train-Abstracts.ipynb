{
 "cells": [
  {
   "cell_type": "markdown",
   "metadata": {},
   "source": [
    "# Train Abstracts BERT\n",
    "\n",
    "From the all abstracts corpus, we only select the texts associated to CIE-D codes present in train CodiEsp corpus, generating the train-asbtracts corpus."
   ]
  },
  {
   "cell_type": "code",
   "execution_count": 1,
   "metadata": {},
   "outputs": [],
   "source": [
    "import pandas as pd\n",
    "import numpy as np"
   ]
  },
  {
   "cell_type": "code",
   "execution_count": 2,
   "metadata": {},
   "outputs": [],
   "source": [
    "corpus_path = \"../datasets/abstractsWithCIE10_v2/\""
   ]
  },
  {
   "cell_type": "markdown",
   "metadata": {},
   "source": [
    "## Load pre-processed text\n",
    "\n",
    "Firstly, text from all additional abstracts with CIE-D codes associated are loaded. We use the pre-processed version of the corpus where only texts with BETO sub-token length >= 30 are contained (see `BERT-Keras-All-Abstracts` notebook):"
   ]
  },
  {
   "cell_type": "code",
   "execution_count": 3,
   "metadata": {},
   "outputs": [
    {
     "name": "stdout",
     "output_type": "stream",
     "text": [
      "CPU times: user 1.93 s, sys: 184 ms, total: 2.11 s\n",
      "Wall time: 2.11 s\n"
     ]
    }
   ],
   "source": [
    "%%time\n",
    "# Pre-processed version (BETO len >= 30)\n",
    "df_text_all_abs = pd.read_table(corpus_path + \"all_abstracts_valid_codes_D_text_raw_sw_v2_30.tsv\", sep='\\t')"
   ]
  },
  {
   "cell_type": "code",
   "execution_count": 4,
   "metadata": {},
   "outputs": [
    {
     "data": {
      "text/plain": [
       "(149424, 3)"
      ]
     },
     "execution_count": 4,
     "metadata": {},
     "output_type": "execute_result"
    }
   ],
   "source": [
    "df_text_all_abs.shape"
   ]
  },
  {
   "cell_type": "code",
   "execution_count": 5,
   "metadata": {},
   "outputs": [
    {
     "data": {
      "text/html": [
       "<div>\n",
       "<style scoped>\n",
       "    .dataframe tbody tr th:only-of-type {\n",
       "        vertical-align: middle;\n",
       "    }\n",
       "\n",
       "    .dataframe tbody tr th {\n",
       "        vertical-align: top;\n",
       "    }\n",
       "\n",
       "    .dataframe thead th {\n",
       "        text-align: right;\n",
       "    }\n",
       "</style>\n",
       "<table border=\"1\" class=\"dataframe\">\n",
       "  <thead>\n",
       "    <tr style=\"text-align: right;\">\n",
       "      <th></th>\n",
       "      <th>doc_id</th>\n",
       "      <th>raw_text</th>\n",
       "      <th>sw_text</th>\n",
       "    </tr>\n",
       "  </thead>\n",
       "  <tbody>\n",
       "    <tr>\n",
       "      <th>0</th>\n",
       "      <td>biblio-1000005</td>\n",
       "      <td>Introducción: A pesar del difícil acceso anató...</td>\n",
       "      <td>Introducción : pesar difícil acceso anatómico ...</td>\n",
       "    </tr>\n",
       "    <tr>\n",
       "      <th>1</th>\n",
       "      <td>biblio-1000026</td>\n",
       "      <td>Introducción: La enterocolitis neutropénica se...</td>\n",
       "      <td>Introducción : enterocolitis neutropénica defi...</td>\n",
       "    </tr>\n",
       "    <tr>\n",
       "      <th>2</th>\n",
       "      <td>biblio-1000027</td>\n",
       "      <td>Introducción: La presencia de anticuerpos anti...</td>\n",
       "      <td>Introducción : presencia anticuerpos anti erit...</td>\n",
       "    </tr>\n",
       "    <tr>\n",
       "      <th>3</th>\n",
       "      <td>biblio-1000028</td>\n",
       "      <td>Introducción: El Carcinoma de lengua móvil es ...</td>\n",
       "      <td>Introducción : Carcinoma lengua móvil tumores ...</td>\n",
       "    </tr>\n",
       "    <tr>\n",
       "      <th>4</th>\n",
       "      <td>biblio-1000029</td>\n",
       "      <td>Introducción: El cáncer de ovario epitelial au...</td>\n",
       "      <td>Introducción : cáncer ovario epitelial aunque ...</td>\n",
       "    </tr>\n",
       "  </tbody>\n",
       "</table>\n",
       "</div>"
      ],
      "text/plain": [
       "           doc_id                                           raw_text  \\\n",
       "0  biblio-1000005  Introducción: A pesar del difícil acceso anató...   \n",
       "1  biblio-1000026  Introducción: La enterocolitis neutropénica se...   \n",
       "2  biblio-1000027  Introducción: La presencia de anticuerpos anti...   \n",
       "3  biblio-1000028  Introducción: El Carcinoma de lengua móvil es ...   \n",
       "4  biblio-1000029  Introducción: El cáncer de ovario epitelial au...   \n",
       "\n",
       "                                             sw_text  \n",
       "0  Introducción : pesar difícil acceso anatómico ...  \n",
       "1  Introducción : enterocolitis neutropénica defi...  \n",
       "2  Introducción : presencia anticuerpos anti erit...  \n",
       "3  Introducción : Carcinoma lengua móvil tumores ...  \n",
       "4  Introducción : cáncer ovario epitelial aunque ...  "
      ]
     },
     "execution_count": 5,
     "metadata": {},
     "output_type": "execute_result"
    }
   ],
   "source": [
    "df_text_all_abs.head()"
   ]
  },
  {
   "cell_type": "code",
   "execution_count": 6,
   "metadata": {},
   "outputs": [
    {
     "data": {
      "text/plain": [
       "'Introducción: A pesar del difícil acceso anatómico para los tumores de mediastino, la resección quirúrgica sigue siendo el mejor enfoque diagnóstico y terapéutico. El objetivo de la presente serie de casos presentamos la experiencia de un centro oncológico en el abordaje de tumores del mediastino y sus resultados.  Métodos: En el departamento de Jefatura de Cirugía Oncológica del Instituto Oncológico nacional de Solca-Guayaquil, durante los meses de Enero del 2013 a Enero 2017 se realizó un estudio descriptivo, retrospectivo. Se analizaron todos los casos de pacientes derivados del área de pre admisión con diagnóstico inicial de tumor de mediastino, a los cuales previo a realizarles marcadores tumorales, Tomografía de Tórax, y a quienes se les realizó como método diagnóstico y en algunos casos terapéutico con abordaje quirúrgico. Se excluyeron pacientes con neoplasias de origen secundario, con historias clínicas incompletas que imposibilitaron el análisis. Se estudiaron las variables sexo, edad, Tipo de Técnica quirúrgica, localización del tumor, diagnostico histopatológico y mortalidad perioperatoria. El análisis estadístico realizado fue descriptivo.  Resultados: Se evaluaron 22 pacientes con diagnóstico tumor de mediastino, con una edad media de 60 años. Fueron 13 hombres (59 %). Catorce pacientes con lesión maligna, 8 fueron operados con resección tumoral y 6 se sometieron a biopsia. Se reportaron fallecimientos post-operatorios hasta los 30 días postquirúrgicos en 5 casos (22.7%). Las intervenciones quirúrgicas realizadas con más frecuencia fueron toracotomías derechas con toma de biopsia o resección tumoral 7 casos (31.8 %). En relación al resultado anatomopatológico de los tumores de mediastino reportados más de la mitad constituyeron Adenocarcinomas 14 casos (63.6 %).  Conclusión: Los pacientes portadores de neoplasia benigna en esta serie tuvieron una evolución posquirúrgica satisfactoria. El adenocarcinoma fue el tumor maligno más frecuente en esta serie.'"
      ]
     },
     "execution_count": 6,
     "metadata": {},
     "output_type": "execute_result"
    }
   ],
   "source": [
    "df_text_all_abs.raw_text[0]"
   ]
  },
  {
   "cell_type": "code",
   "execution_count": 7,
   "metadata": {},
   "outputs": [
    {
     "data": {
      "text/plain": [
       "'Introducción : pesar difícil acceso anatómico tumores mediastino , resección quirúrgica sigue siendo mejor enfoque diagnóstico terapéutico . objetivo presente serie casos presentamos experiencia centro oncológico abordaje tumores mediastino resultados . Métodos : departamento Jefatura Cirugía Oncológica Instituto Oncológico nacional Solca - Guayaquil , meses Enero 2013 Enero 2017 realizó estudio descriptivo , retrospectivo . analizaron casos pacientes derivados área pre admisión diagnóstico inicial tumor mediastino , cuales previo realizarles marcadores tumorales , Tomografía Tórax , realizó método diagnóstico casos terapéutico abordaje quirúrgico . excluyeron pacientes neoplasias origen secundario , historias clínicas incompletas imposibilitaron análisis . estudiaron variables sexo , edad , Tipo Técnica quirúrgica , localización tumor , diagnostico histopatológico mortalidad perioperatoria . análisis estadístico realizado descriptivo . Resultados : evaluaron 22 pacientes diagnóstico tumor mediastino , edad media 60 años . 13 hombres ( 59 % ) . Catorce pacientes lesión maligna , 8 operados resección tumoral 6 sometieron biopsia . reportaron fallecimientos post - operatorios 30 días postquirúrgicos 5 casos ( 22 . 7 % ) . intervenciones quirúrgicas realizadas frecuencia toracotomías derechas toma biopsia resección tumoral 7 casos ( 31 . 8 % ) . relación resultado anatomopatológico tumores mediastino reportados mitad constituyeron Adenocarcinomas 14 casos ( 63 . 6 % ) . Conclusión : pacientes portadores neoplasia benigna serie evolución posquirúrgica satisfactoria . adenocarcinoma tumor maligno frecuente serie .'"
      ]
     },
     "execution_count": 7,
     "metadata": {},
     "output_type": "execute_result"
    }
   ],
   "source": [
    "df_text_all_abs.sw_text[0]"
   ]
  },
  {
   "cell_type": "code",
   "execution_count": 8,
   "metadata": {},
   "outputs": [
    {
     "data": {
      "text/plain": [
       "149424"
      ]
     },
     "execution_count": 8,
     "metadata": {},
     "output_type": "execute_result"
    }
   ],
   "source": [
    "# Number of distinct docs\n",
    "len(set(df_text_all_abs.doc_id))"
   ]
  },
  {
   "cell_type": "markdown",
   "metadata": {},
   "source": [
    "## Load train-asbtracts codes\n",
    "\n",
    "We load the codes dataset containing the abstracts IDs associated with CIE-D codes present in train corpus (see `CodiEsp_Exploration` notebook):"
   ]
  },
  {
   "cell_type": "code",
   "execution_count": 9,
   "metadata": {},
   "outputs": [],
   "source": [
    "# Train-abstracts codes\n",
    "df_codes_d_train_abs = pd.read_table(corpus_path + \"train_abstracts_table_valid_codes_D.tsv\", sep='\\t', header=None)"
   ]
  },
  {
   "cell_type": "code",
   "execution_count": 10,
   "metadata": {},
   "outputs": [],
   "source": [
    "df_codes_d_train_abs.columns = [\"doc_id\", \"code\"]"
   ]
  },
  {
   "cell_type": "code",
   "execution_count": 11,
   "metadata": {},
   "outputs": [
    {
     "data": {
      "text/plain": [
       "(148197, 2)"
      ]
     },
     "execution_count": 11,
     "metadata": {},
     "output_type": "execute_result"
    }
   ],
   "source": [
    "df_codes_d_train_abs.shape"
   ]
  },
  {
   "cell_type": "code",
   "execution_count": 12,
   "metadata": {},
   "outputs": [
    {
     "data": {
      "text/html": [
       "<div>\n",
       "<style scoped>\n",
       "    .dataframe tbody tr th:only-of-type {\n",
       "        vertical-align: middle;\n",
       "    }\n",
       "\n",
       "    .dataframe tbody tr th {\n",
       "        vertical-align: top;\n",
       "    }\n",
       "\n",
       "    .dataframe thead th {\n",
       "        text-align: right;\n",
       "    }\n",
       "</style>\n",
       "<table border=\"1\" class=\"dataframe\">\n",
       "  <thead>\n",
       "    <tr style=\"text-align: right;\">\n",
       "      <th></th>\n",
       "      <th>doc_id</th>\n",
       "      <th>code</th>\n",
       "    </tr>\n",
       "  </thead>\n",
       "  <tbody>\n",
       "    <tr>\n",
       "      <th>0</th>\n",
       "      <td>biblio-1008268</td>\n",
       "      <td>f99</td>\n",
       "    </tr>\n",
       "    <tr>\n",
       "      <th>1</th>\n",
       "      <td>biblio-1008288</td>\n",
       "      <td>r09.02</td>\n",
       "    </tr>\n",
       "    <tr>\n",
       "      <th>2</th>\n",
       "      <td>biblio-1008344</td>\n",
       "      <td>a90</td>\n",
       "    </tr>\n",
       "    <tr>\n",
       "      <th>3</th>\n",
       "      <td>biblio-1008711</td>\n",
       "      <td>i49.9</td>\n",
       "    </tr>\n",
       "    <tr>\n",
       "      <th>4</th>\n",
       "      <td>biblio-1008711</td>\n",
       "      <td>i48.0</td>\n",
       "    </tr>\n",
       "  </tbody>\n",
       "</table>\n",
       "</div>"
      ],
      "text/plain": [
       "           doc_id    code\n",
       "0  biblio-1008268     f99\n",
       "1  biblio-1008288  r09.02\n",
       "2  biblio-1008344     a90\n",
       "3  biblio-1008711   i49.9\n",
       "4  biblio-1008711   i48.0"
      ]
     },
     "execution_count": 12,
     "metadata": {},
     "output_type": "execute_result"
    }
   ],
   "source": [
    "df_codes_d_train_abs.head()"
   ]
  },
  {
   "cell_type": "code",
   "execution_count": 13,
   "metadata": {},
   "outputs": [
    {
     "data": {
      "text/plain": [
       "108029"
      ]
     },
     "execution_count": 13,
     "metadata": {},
     "output_type": "execute_result"
    }
   ],
   "source": [
    "# Number of distinct docs\n",
    "len(set(df_codes_d_train_abs[\"doc_id\"]))"
   ]
  },
  {
   "cell_type": "code",
   "execution_count": 14,
   "metadata": {},
   "outputs": [
    {
     "data": {
      "text/plain": [
       "615"
      ]
     },
     "execution_count": 14,
     "metadata": {},
     "output_type": "execute_result"
    }
   ],
   "source": [
    "# Number of distinct codes\n",
    "len(set(df_codes_d_train_abs[\"code\"]))"
   ]
  },
  {
   "cell_type": "markdown",
   "metadata": {},
   "source": [
    "We select the documents contained both in the pre-processed all-abstracts text dataset and the train-abstracts codes dataframe:"
   ]
  },
  {
   "cell_type": "code",
   "execution_count": 15,
   "metadata": {},
   "outputs": [],
   "source": [
    "train_abs_v2_30_docs = set(df_text_all_abs[\"doc_id\"]) & set(df_codes_d_train_abs[\"doc_id\"])"
   ]
  },
  {
   "cell_type": "code",
   "execution_count": 16,
   "metadata": {},
   "outputs": [
    {
     "data": {
      "text/plain": [
       "93828"
      ]
     },
     "execution_count": 16,
     "metadata": {},
     "output_type": "execute_result"
    }
   ],
   "source": [
    "len(train_abs_v2_30_docs)"
   ]
  },
  {
   "cell_type": "code",
   "execution_count": 17,
   "metadata": {},
   "outputs": [],
   "source": [
    "df_text_train_abs_v2_30 = df_text_all_abs[df_text_all_abs[\"doc_id\"].isin(train_abs_v2_30_docs)]"
   ]
  },
  {
   "cell_type": "code",
   "execution_count": 18,
   "metadata": {},
   "outputs": [
    {
     "data": {
      "text/plain": [
       "(93828, 3)"
      ]
     },
     "execution_count": 18,
     "metadata": {},
     "output_type": "execute_result"
    }
   ],
   "source": [
    "df_text_train_abs_v2_30.shape"
   ]
  },
  {
   "cell_type": "code",
   "execution_count": 19,
   "metadata": {},
   "outputs": [
    {
     "data": {
      "text/html": [
       "<div>\n",
       "<style scoped>\n",
       "    .dataframe tbody tr th:only-of-type {\n",
       "        vertical-align: middle;\n",
       "    }\n",
       "\n",
       "    .dataframe tbody tr th {\n",
       "        vertical-align: top;\n",
       "    }\n",
       "\n",
       "    .dataframe thead th {\n",
       "        text-align: right;\n",
       "    }\n",
       "</style>\n",
       "<table border=\"1\" class=\"dataframe\">\n",
       "  <thead>\n",
       "    <tr style=\"text-align: right;\">\n",
       "      <th></th>\n",
       "      <th>doc_id</th>\n",
       "      <th>raw_text</th>\n",
       "      <th>sw_text</th>\n",
       "    </tr>\n",
       "  </thead>\n",
       "  <tbody>\n",
       "    <tr>\n",
       "      <th>0</th>\n",
       "      <td>biblio-1000005</td>\n",
       "      <td>Introducción: A pesar del difícil acceso anató...</td>\n",
       "      <td>Introducción : pesar difícil acceso anatómico ...</td>\n",
       "    </tr>\n",
       "    <tr>\n",
       "      <th>1</th>\n",
       "      <td>biblio-1000026</td>\n",
       "      <td>Introducción: La enterocolitis neutropénica se...</td>\n",
       "      <td>Introducción : enterocolitis neutropénica defi...</td>\n",
       "    </tr>\n",
       "    <tr>\n",
       "      <th>2</th>\n",
       "      <td>biblio-1000027</td>\n",
       "      <td>Introducción: La presencia de anticuerpos anti...</td>\n",
       "      <td>Introducción : presencia anticuerpos anti erit...</td>\n",
       "    </tr>\n",
       "    <tr>\n",
       "      <th>3</th>\n",
       "      <td>biblio-1000028</td>\n",
       "      <td>Introducción: El Carcinoma de lengua móvil es ...</td>\n",
       "      <td>Introducción : Carcinoma lengua móvil tumores ...</td>\n",
       "    </tr>\n",
       "    <tr>\n",
       "      <th>4</th>\n",
       "      <td>biblio-1000029</td>\n",
       "      <td>Introducción: El cáncer de ovario epitelial au...</td>\n",
       "      <td>Introducción : cáncer ovario epitelial aunque ...</td>\n",
       "    </tr>\n",
       "  </tbody>\n",
       "</table>\n",
       "</div>"
      ],
      "text/plain": [
       "           doc_id                                           raw_text  \\\n",
       "0  biblio-1000005  Introducción: A pesar del difícil acceso anató...   \n",
       "1  biblio-1000026  Introducción: La enterocolitis neutropénica se...   \n",
       "2  biblio-1000027  Introducción: La presencia de anticuerpos anti...   \n",
       "3  biblio-1000028  Introducción: El Carcinoma de lengua móvil es ...   \n",
       "4  biblio-1000029  Introducción: El cáncer de ovario epitelial au...   \n",
       "\n",
       "                                             sw_text  \n",
       "0  Introducción : pesar difícil acceso anatómico ...  \n",
       "1  Introducción : enterocolitis neutropénica defi...  \n",
       "2  Introducción : presencia anticuerpos anti erit...  \n",
       "3  Introducción : Carcinoma lengua móvil tumores ...  \n",
       "4  Introducción : cáncer ovario epitelial aunque ...  "
      ]
     },
     "execution_count": 19,
     "metadata": {},
     "output_type": "execute_result"
    }
   ],
   "source": [
    "df_text_train_abs_v2_30.head()"
   ]
  },
  {
   "cell_type": "code",
   "execution_count": 21,
   "metadata": {},
   "outputs": [
    {
     "name": "stdout",
     "output_type": "stream",
     "text": [
      "CPU times: user 2.6 s, sys: 160 ms, total: 2.76 s\n",
      "Wall time: 3.49 s\n"
     ]
    }
   ],
   "source": [
    "%%time\n",
    "df_text_train_abs_v2_30.to_csv(path_or_buf=corpus_path + \"train_abstracts_valid_codes_D_text_raw_sw_v2_30.tsv\", \n",
    "                               sep=\"\\t\", header=True, index=False)"
   ]
  },
  {
   "cell_type": "code",
   "execution_count": 21,
   "metadata": {},
   "outputs": [],
   "source": [
    "df_codes_d_train_abs_v2_30 = df_codes_d_train_abs[df_codes_d_train_abs[\"doc_id\"].isin(train_abs_v2_30_docs)]"
   ]
  },
  {
   "cell_type": "code",
   "execution_count": 22,
   "metadata": {},
   "outputs": [
    {
     "data": {
      "text/plain": [
       "(127531, 2)"
      ]
     },
     "execution_count": 22,
     "metadata": {},
     "output_type": "execute_result"
    }
   ],
   "source": [
    "df_codes_d_train_abs_v2_30.shape"
   ]
  },
  {
   "cell_type": "code",
   "execution_count": 23,
   "metadata": {},
   "outputs": [
    {
     "data": {
      "text/html": [
       "<div>\n",
       "<style scoped>\n",
       "    .dataframe tbody tr th:only-of-type {\n",
       "        vertical-align: middle;\n",
       "    }\n",
       "\n",
       "    .dataframe tbody tr th {\n",
       "        vertical-align: top;\n",
       "    }\n",
       "\n",
       "    .dataframe thead th {\n",
       "        text-align: right;\n",
       "    }\n",
       "</style>\n",
       "<table border=\"1\" class=\"dataframe\">\n",
       "  <thead>\n",
       "    <tr style=\"text-align: right;\">\n",
       "      <th></th>\n",
       "      <th>doc_id</th>\n",
       "      <th>code</th>\n",
       "    </tr>\n",
       "  </thead>\n",
       "  <tbody>\n",
       "    <tr>\n",
       "      <th>0</th>\n",
       "      <td>biblio-1008268</td>\n",
       "      <td>f99</td>\n",
       "    </tr>\n",
       "    <tr>\n",
       "      <th>1</th>\n",
       "      <td>biblio-1008288</td>\n",
       "      <td>r09.02</td>\n",
       "    </tr>\n",
       "    <tr>\n",
       "      <th>2</th>\n",
       "      <td>biblio-1008344</td>\n",
       "      <td>a90</td>\n",
       "    </tr>\n",
       "    <tr>\n",
       "      <th>3</th>\n",
       "      <td>biblio-1008711</td>\n",
       "      <td>i49.9</td>\n",
       "    </tr>\n",
       "    <tr>\n",
       "      <th>4</th>\n",
       "      <td>biblio-1008711</td>\n",
       "      <td>i48.0</td>\n",
       "    </tr>\n",
       "  </tbody>\n",
       "</table>\n",
       "</div>"
      ],
      "text/plain": [
       "           doc_id    code\n",
       "0  biblio-1008268     f99\n",
       "1  biblio-1008288  r09.02\n",
       "2  biblio-1008344     a90\n",
       "3  biblio-1008711   i49.9\n",
       "4  biblio-1008711   i48.0"
      ]
     },
     "execution_count": 23,
     "metadata": {},
     "output_type": "execute_result"
    }
   ],
   "source": [
    "df_codes_d_train_abs_v2_30.head()"
   ]
  },
  {
   "cell_type": "code",
   "execution_count": 24,
   "metadata": {},
   "outputs": [
    {
     "name": "stdout",
     "output_type": "stream",
     "text": [
      "CPU times: user 112 ms, sys: 0 ns, total: 112 ms\n",
      "Wall time: 111 ms\n"
     ]
    }
   ],
   "source": [
    "%%time\n",
    "df_codes_d_train_abs_v2_30.to_csv(path_or_buf=corpus_path + \"train_abstracts_table_valid_codes_D_v2_30.tsv\", \n",
    "                                                   sep=\"\\t\", header=False, index=False)"
   ]
  },
  {
   "cell_type": "markdown",
   "metadata": {},
   "source": [
    "As a sanity check, we analyze the BETO sub-token length frequency of train-abstracts texts:"
   ]
  },
  {
   "cell_type": "code",
   "execution_count": 25,
   "metadata": {},
   "outputs": [],
   "source": [
    "from nltk.corpus import stopwords\n",
    "\n",
    "spanish_sw = stopwords.words('spanish')"
   ]
  },
  {
   "cell_type": "code",
   "execution_count": 26,
   "metadata": {},
   "outputs": [
    {
     "data": {
      "text/plain": [
       "True"
      ]
     },
     "execution_count": 26,
     "metadata": {},
     "output_type": "execute_result"
    }
   ],
   "source": [
    "# All Spanish stop words are lowercase\n",
    "all([w.islower() for w in spanish_sw])"
   ]
  },
  {
   "cell_type": "code",
   "execution_count": 27,
   "metadata": {},
   "outputs": [],
   "source": [
    "from functools import partial"
   ]
  },
  {
   "cell_type": "code",
   "execution_count": 28,
   "metadata": {},
   "outputs": [
    {
     "name": "stderr",
     "output_type": "stream",
     "text": [
      "Using TensorFlow backend.\n"
     ]
    }
   ],
   "source": [
    "from keras_bert import load_vocabulary, Tokenizer"
   ]
  },
  {
   "cell_type": "code",
   "execution_count": 29,
   "metadata": {},
   "outputs": [],
   "source": [
    "base_path = \"../bert_models/\"\n",
    "vocab_file = \"vocab.txt\""
   ]
  },
  {
   "cell_type": "code",
   "execution_count": 30,
   "metadata": {},
   "outputs": [],
   "source": [
    "beto_path = \"BETO_cased/\""
   ]
  },
  {
   "cell_type": "code",
   "execution_count": 31,
   "metadata": {},
   "outputs": [],
   "source": [
    "beto_token_dict = load_vocabulary(base_path + beto_path + vocab_file)"
   ]
  },
  {
   "cell_type": "code",
   "execution_count": 32,
   "metadata": {},
   "outputs": [
    {
     "data": {
      "text/plain": [
       "31002"
      ]
     },
     "execution_count": 32,
     "metadata": {},
     "output_type": "execute_result"
    }
   ],
   "source": [
    "# 31002 expected\n",
    "len(beto_token_dict)"
   ]
  },
  {
   "cell_type": "code",
   "execution_count": 33,
   "metadata": {},
   "outputs": [],
   "source": [
    "beto_tokenizer = Tokenizer(token_dict=beto_token_dict, pad_index=1, cased=True)"
   ]
  },
  {
   "cell_type": "code",
   "execution_count": 34,
   "metadata": {},
   "outputs": [
    {
     "name": "stderr",
     "output_type": "stream",
     "text": [
      "/home_ext/guillermo/miniconda3/envs/nlp_keras/lib/python3.6/site-packages/ipykernel_launcher.py:1: SettingWithCopyWarning: \n",
      "A value is trying to be set on a copy of a slice from a DataFrame.\n",
      "Try using .loc[row_indexer,col_indexer] = value instead\n",
      "\n",
      "See the caveats in the documentation: https://pandas.pydata.org/pandas-docs/stable/user_guide/indexing.html#returning-a-view-versus-a-copy\n",
      "  \"\"\"Entry point for launching an IPython kernel.\n"
     ]
    },
    {
     "name": "stdout",
     "output_type": "stream",
     "text": [
      "CPU times: user 4min 5s, sys: 56.9 ms, total: 4min 5s\n",
      "Wall time: 4min 5s\n"
     ]
    },
    {
     "name": "stderr",
     "output_type": "stream",
     "text": [
      "/home_ext/guillermo/miniconda3/envs/nlp_keras/lib/python3.6/site-packages/ipykernel_launcher.py:2: SettingWithCopyWarning: \n",
      "A value is trying to be set on a copy of a slice from a DataFrame.\n",
      "Try using .loc[row_indexer,col_indexer] = value instead\n",
      "\n",
      "See the caveats in the documentation: https://pandas.pydata.org/pandas-docs/stable/user_guide/indexing.html#returning-a-view-versus-a-copy\n",
      "  \n"
     ]
    }
   ],
   "source": [
    "%%time\n",
    "df_text_train_abs_v2_30[\"raw_BETO\"] = [len(beto_tokenizer.tokenize(text)) for text in df_text_train_abs_v2_30.raw_text]\n",
    "df_text_train_abs_v2_30[\"sw_BETO\"] = [len(beto_tokenizer.tokenize(text)) for text in df_text_train_abs_v2_30.sw_text]"
   ]
  },
  {
   "cell_type": "code",
   "execution_count": 35,
   "metadata": {},
   "outputs": [
    {
     "data": {
      "text/html": [
       "<div>\n",
       "<style scoped>\n",
       "    .dataframe tbody tr th:only-of-type {\n",
       "        vertical-align: middle;\n",
       "    }\n",
       "\n",
       "    .dataframe tbody tr th {\n",
       "        vertical-align: top;\n",
       "    }\n",
       "\n",
       "    .dataframe thead th {\n",
       "        text-align: right;\n",
       "    }\n",
       "</style>\n",
       "<table border=\"1\" class=\"dataframe\">\n",
       "  <thead>\n",
       "    <tr style=\"text-align: right;\">\n",
       "      <th></th>\n",
       "      <th>doc_id</th>\n",
       "      <th>raw_text</th>\n",
       "      <th>sw_text</th>\n",
       "      <th>raw_BETO</th>\n",
       "      <th>sw_BETO</th>\n",
       "    </tr>\n",
       "  </thead>\n",
       "  <tbody>\n",
       "    <tr>\n",
       "      <th>0</th>\n",
       "      <td>biblio-1000005</td>\n",
       "      <td>Introducción: A pesar del difícil acceso anató...</td>\n",
       "      <td>Introducción : pesar difícil acceso anatómico ...</td>\n",
       "      <td>444</td>\n",
       "      <td>330</td>\n",
       "    </tr>\n",
       "    <tr>\n",
       "      <th>1</th>\n",
       "      <td>biblio-1000026</td>\n",
       "      <td>Introducción: La enterocolitis neutropénica se...</td>\n",
       "      <td>Introducción : enterocolitis neutropénica defi...</td>\n",
       "      <td>393</td>\n",
       "      <td>293</td>\n",
       "    </tr>\n",
       "    <tr>\n",
       "      <th>2</th>\n",
       "      <td>biblio-1000027</td>\n",
       "      <td>Introducción: La presencia de anticuerpos anti...</td>\n",
       "      <td>Introducción : presencia anticuerpos anti erit...</td>\n",
       "      <td>487</td>\n",
       "      <td>349</td>\n",
       "    </tr>\n",
       "    <tr>\n",
       "      <th>3</th>\n",
       "      <td>biblio-1000028</td>\n",
       "      <td>Introducción: El Carcinoma de lengua móvil es ...</td>\n",
       "      <td>Introducción : Carcinoma lengua móvil tumores ...</td>\n",
       "      <td>391</td>\n",
       "      <td>264</td>\n",
       "    </tr>\n",
       "    <tr>\n",
       "      <th>4</th>\n",
       "      <td>biblio-1000029</td>\n",
       "      <td>Introducción: El cáncer de ovario epitelial au...</td>\n",
       "      <td>Introducción : cáncer ovario epitelial aunque ...</td>\n",
       "      <td>405</td>\n",
       "      <td>315</td>\n",
       "    </tr>\n",
       "  </tbody>\n",
       "</table>\n",
       "</div>"
      ],
      "text/plain": [
       "           doc_id                                           raw_text  \\\n",
       "0  biblio-1000005  Introducción: A pesar del difícil acceso anató...   \n",
       "1  biblio-1000026  Introducción: La enterocolitis neutropénica se...   \n",
       "2  biblio-1000027  Introducción: La presencia de anticuerpos anti...   \n",
       "3  biblio-1000028  Introducción: El Carcinoma de lengua móvil es ...   \n",
       "4  biblio-1000029  Introducción: El cáncer de ovario epitelial au...   \n",
       "\n",
       "                                             sw_text  raw_BETO  sw_BETO  \n",
       "0  Introducción : pesar difícil acceso anatómico ...       444      330  \n",
       "1  Introducción : enterocolitis neutropénica defi...       393      293  \n",
       "2  Introducción : presencia anticuerpos anti erit...       487      349  \n",
       "3  Introducción : Carcinoma lengua móvil tumores ...       391      264  \n",
       "4  Introducción : cáncer ovario epitelial aunque ...       405      315  "
      ]
     },
     "execution_count": 35,
     "metadata": {},
     "output_type": "execute_result"
    }
   ],
   "source": [
    "df_text_train_abs_v2_30.head()"
   ]
  },
  {
   "cell_type": "code",
   "execution_count": 36,
   "metadata": {},
   "outputs": [],
   "source": [
    "col_names = [\"Raw\", \"SW\"]"
   ]
  },
  {
   "cell_type": "code",
   "execution_count": 38,
   "metadata": {},
   "outputs": [
    {
     "data": {
      "text/html": [
       "<div>\n",
       "<style scoped>\n",
       "    .dataframe tbody tr th:only-of-type {\n",
       "        vertical-align: middle;\n",
       "    }\n",
       "\n",
       "    .dataframe tbody tr th {\n",
       "        vertical-align: top;\n",
       "    }\n",
       "\n",
       "    .dataframe thead th {\n",
       "        text-align: right;\n",
       "    }\n",
       "</style>\n",
       "<table border=\"1\" class=\"dataframe\">\n",
       "  <thead>\n",
       "    <tr style=\"text-align: right;\">\n",
       "      <th></th>\n",
       "      <th>Raw</th>\n",
       "      <th>SW</th>\n",
       "    </tr>\n",
       "  </thead>\n",
       "  <tbody>\n",
       "    <tr>\n",
       "      <th>count</th>\n",
       "      <td>93828.000000</td>\n",
       "      <td>93828.000000</td>\n",
       "    </tr>\n",
       "    <tr>\n",
       "      <th>mean</th>\n",
       "      <td>260.758665</td>\n",
       "      <td>185.687641</td>\n",
       "    </tr>\n",
       "    <tr>\n",
       "      <th>std</th>\n",
       "      <td>128.579126</td>\n",
       "      <td>99.097819</td>\n",
       "    </tr>\n",
       "    <tr>\n",
       "      <th>min</th>\n",
       "      <td>30.000000</td>\n",
       "      <td>15.000000</td>\n",
       "    </tr>\n",
       "    <tr>\n",
       "      <th>25%</th>\n",
       "      <td>162.000000</td>\n",
       "      <td>111.000000</td>\n",
       "    </tr>\n",
       "    <tr>\n",
       "      <th>50%</th>\n",
       "      <td>242.000000</td>\n",
       "      <td>169.000000</td>\n",
       "    </tr>\n",
       "    <tr>\n",
       "      <th>75%</th>\n",
       "      <td>349.000000</td>\n",
       "      <td>248.000000</td>\n",
       "    </tr>\n",
       "    <tr>\n",
       "      <th>max</th>\n",
       "      <td>1504.000000</td>\n",
       "      <td>1162.000000</td>\n",
       "    </tr>\n",
       "  </tbody>\n",
       "</table>\n",
       "</div>"
      ],
      "text/plain": [
       "                Raw            SW\n",
       "count  93828.000000  93828.000000\n",
       "mean     260.758665    185.687641\n",
       "std      128.579126     99.097819\n",
       "min       30.000000     15.000000\n",
       "25%      162.000000    111.000000\n",
       "50%      242.000000    169.000000\n",
       "75%      349.000000    248.000000\n",
       "max     1504.000000   1162.000000"
      ]
     },
     "execution_count": 38,
     "metadata": {},
     "output_type": "execute_result"
    }
   ],
   "source": [
    "pd.DataFrame({col_names[0]: df_text_train_abs_v2_30[\"raw_BETO\"].describe(), \n",
    "              col_names[1]: df_text_train_abs_v2_30[\"sw_BETO\"].describe()})"
   ]
  },
  {
   "cell_type": "markdown",
   "metadata": {},
   "source": [
    "As expected, the minimum length is 30 for raw text column."
   ]
  }
 ],
 "metadata": {
  "kernelspec": {
   "display_name": "Python 3",
   "language": "python",
   "name": "python3"
  },
  "language_info": {
   "codemirror_mode": {
    "name": "ipython",
    "version": 3
   },
   "file_extension": ".py",
   "mimetype": "text/x-python",
   "name": "python",
   "nbconvert_exporter": "python",
   "pygments_lexer": "ipython3",
   "version": "3.6.5"
  }
 },
 "nbformat": 4,
 "nbformat_minor": 2
}
