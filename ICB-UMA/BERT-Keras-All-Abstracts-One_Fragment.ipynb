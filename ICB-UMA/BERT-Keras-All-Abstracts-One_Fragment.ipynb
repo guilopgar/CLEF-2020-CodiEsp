{
 "cells": [
  {
   "cell_type": "markdown",
   "metadata": {},
   "source": [
    "# Abstracts BERT One-fragment\n",
    "\n",
    "In this notebook, firstly, we analyze the tokenization performed by different BERT Tokenizers when applied to additional abstracts with CIE-D codes corpus. Then, we select and save the identifiers of the texts with only one fragment considering different tokenizers maximum lengths."
   ]
  },
  {
   "cell_type": "code",
   "execution_count": 1,
   "metadata": {},
   "outputs": [
    {
     "name": "stderr",
     "output_type": "stream",
     "text": [
      "Using TensorFlow backend.\n"
     ]
    }
   ],
   "source": [
    "import pandas as pd\n",
    "import numpy as np\n",
    "\n",
    "# Auxiliary components\n",
    "from nlp_utils import *"
   ]
  },
  {
   "cell_type": "code",
   "execution_count": 2,
   "metadata": {},
   "outputs": [],
   "source": [
    "corpus_path = \"../datasets/abstractsWithCIE10_v2/\""
   ]
  },
  {
   "cell_type": "markdown",
   "metadata": {},
   "source": [
    "## Load text\n",
    "\n",
    "Firstly, all text from all additional abstracts with CIE-D codes associated are loaded (see `BERT-Keras-All-Abstracts` notebook). Apart from the raw text, we also save a pre-processed version of the text where the punctuation is substituted for spaces."
   ]
  },
  {
   "cell_type": "code",
   "execution_count": 3,
   "metadata": {},
   "outputs": [
    {
     "name": "stdout",
     "output_type": "stream",
     "text": [
      "CPU times: user 1.97 s, sys: 152 ms, total: 2.12 s\n",
      "Wall time: 2.12 s\n"
     ]
    }
   ],
   "source": [
    "%%time\n",
    "# Pre-processed version (BETO len >= 30) used\n",
    "df_text_all_abs = pd.read_table(corpus_path + \"all_abstracts_valid_codes_D_text_raw_sw_v2_30.tsv\", sep='\\t')"
   ]
  },
  {
   "cell_type": "code",
   "execution_count": 4,
   "metadata": {},
   "outputs": [
    {
     "data": {
      "text/plain": [
       "(149424, 3)"
      ]
     },
     "execution_count": 4,
     "metadata": {},
     "output_type": "execute_result"
    }
   ],
   "source": [
    "df_text_all_abs.shape"
   ]
  },
  {
   "cell_type": "code",
   "execution_count": 5,
   "metadata": {},
   "outputs": [],
   "source": [
    "import string"
   ]
  },
  {
   "cell_type": "code",
   "execution_count": 6,
   "metadata": {},
   "outputs": [
    {
     "name": "stdout",
     "output_type": "stream",
     "text": [
      "CPU times: user 8.66 s, sys: 35.2 ms, total: 8.7 s\n",
      "Wall time: 8.7 s\n"
     ]
    }
   ],
   "source": [
    "%%time\n",
    "df_text_all_abs[\"punc_text\"] = df_text_all_abs[\"raw_text\"].apply(lambda x: x.translate(str.maketrans(string.punctuation, \n",
    "                                                                                                 ' '*len(string.punctuation)))) "
   ]
  },
  {
   "cell_type": "code",
   "execution_count": 7,
   "metadata": {},
   "outputs": [
    {
     "data": {
      "text/plain": [
       "(149424, 4)"
      ]
     },
     "execution_count": 7,
     "metadata": {},
     "output_type": "execute_result"
    }
   ],
   "source": [
    "df_text_all_abs.shape"
   ]
  },
  {
   "cell_type": "code",
   "execution_count": 8,
   "metadata": {},
   "outputs": [
    {
     "data": {
      "text/html": [
       "<div>\n",
       "<style scoped>\n",
       "    .dataframe tbody tr th:only-of-type {\n",
       "        vertical-align: middle;\n",
       "    }\n",
       "\n",
       "    .dataframe tbody tr th {\n",
       "        vertical-align: top;\n",
       "    }\n",
       "\n",
       "    .dataframe thead th {\n",
       "        text-align: right;\n",
       "    }\n",
       "</style>\n",
       "<table border=\"1\" class=\"dataframe\">\n",
       "  <thead>\n",
       "    <tr style=\"text-align: right;\">\n",
       "      <th></th>\n",
       "      <th>doc_id</th>\n",
       "      <th>raw_text</th>\n",
       "      <th>sw_text</th>\n",
       "      <th>punc_text</th>\n",
       "    </tr>\n",
       "  </thead>\n",
       "  <tbody>\n",
       "    <tr>\n",
       "      <th>0</th>\n",
       "      <td>biblio-1000005</td>\n",
       "      <td>Introducción: A pesar del difícil acceso anató...</td>\n",
       "      <td>Introducción : pesar difícil acceso anatómico ...</td>\n",
       "      <td>Introducción  A pesar del difícil acceso anató...</td>\n",
       "    </tr>\n",
       "    <tr>\n",
       "      <th>1</th>\n",
       "      <td>biblio-1000026</td>\n",
       "      <td>Introducción: La enterocolitis neutropénica se...</td>\n",
       "      <td>Introducción : enterocolitis neutropénica defi...</td>\n",
       "      <td>Introducción  La enterocolitis neutropénica se...</td>\n",
       "    </tr>\n",
       "    <tr>\n",
       "      <th>2</th>\n",
       "      <td>biblio-1000027</td>\n",
       "      <td>Introducción: La presencia de anticuerpos anti...</td>\n",
       "      <td>Introducción : presencia anticuerpos anti erit...</td>\n",
       "      <td>Introducción  La presencia de anticuerpos anti...</td>\n",
       "    </tr>\n",
       "    <tr>\n",
       "      <th>3</th>\n",
       "      <td>biblio-1000028</td>\n",
       "      <td>Introducción: El Carcinoma de lengua móvil es ...</td>\n",
       "      <td>Introducción : Carcinoma lengua móvil tumores ...</td>\n",
       "      <td>Introducción  El Carcinoma de lengua móvil es ...</td>\n",
       "    </tr>\n",
       "    <tr>\n",
       "      <th>4</th>\n",
       "      <td>biblio-1000029</td>\n",
       "      <td>Introducción: El cáncer de ovario epitelial au...</td>\n",
       "      <td>Introducción : cáncer ovario epitelial aunque ...</td>\n",
       "      <td>Introducción  El cáncer de ovario epitelial au...</td>\n",
       "    </tr>\n",
       "  </tbody>\n",
       "</table>\n",
       "</div>"
      ],
      "text/plain": [
       "           doc_id                                           raw_text  \\\n",
       "0  biblio-1000005  Introducción: A pesar del difícil acceso anató...   \n",
       "1  biblio-1000026  Introducción: La enterocolitis neutropénica se...   \n",
       "2  biblio-1000027  Introducción: La presencia de anticuerpos anti...   \n",
       "3  biblio-1000028  Introducción: El Carcinoma de lengua móvil es ...   \n",
       "4  biblio-1000029  Introducción: El cáncer de ovario epitelial au...   \n",
       "\n",
       "                                             sw_text  \\\n",
       "0  Introducción : pesar difícil acceso anatómico ...   \n",
       "1  Introducción : enterocolitis neutropénica defi...   \n",
       "2  Introducción : presencia anticuerpos anti erit...   \n",
       "3  Introducción : Carcinoma lengua móvil tumores ...   \n",
       "4  Introducción : cáncer ovario epitelial aunque ...   \n",
       "\n",
       "                                           punc_text  \n",
       "0  Introducción  A pesar del difícil acceso anató...  \n",
       "1  Introducción  La enterocolitis neutropénica se...  \n",
       "2  Introducción  La presencia de anticuerpos anti...  \n",
       "3  Introducción  El Carcinoma de lengua móvil es ...  \n",
       "4  Introducción  El cáncer de ovario epitelial au...  "
      ]
     },
     "execution_count": 8,
     "metadata": {},
     "output_type": "execute_result"
    }
   ],
   "source": [
    "df_text_all_abs.head()"
   ]
  },
  {
   "cell_type": "code",
   "execution_count": 9,
   "metadata": {},
   "outputs": [
    {
     "data": {
      "text/plain": [
       "'Introducción: A pesar del difícil acceso anatómico para los tumores de mediastino, la resección quirúrgica sigue siendo el mejor enfoque diagnóstico y terapéutico. El objetivo de la presente serie de casos presentamos la experiencia de un centro oncológico en el abordaje de tumores del mediastino y sus resultados.  Métodos: En el departamento de Jefatura de Cirugía Oncológica del Instituto Oncológico nacional de Solca-Guayaquil, durante los meses de Enero del 2013 a Enero 2017 se realizó un estudio descriptivo, retrospectivo. Se analizaron todos los casos de pacientes derivados del área de pre admisión con diagnóstico inicial de tumor de mediastino, a los cuales previo a realizarles marcadores tumorales, Tomografía de Tórax, y a quienes se les realizó como método diagnóstico y en algunos casos terapéutico con abordaje quirúrgico. Se excluyeron pacientes con neoplasias de origen secundario, con historias clínicas incompletas que imposibilitaron el análisis. Se estudiaron las variables sexo, edad, Tipo de Técnica quirúrgica, localización del tumor, diagnostico histopatológico y mortalidad perioperatoria. El análisis estadístico realizado fue descriptivo.  Resultados: Se evaluaron 22 pacientes con diagnóstico tumor de mediastino, con una edad media de 60 años. Fueron 13 hombres (59 %). Catorce pacientes con lesión maligna, 8 fueron operados con resección tumoral y 6 se sometieron a biopsia. Se reportaron fallecimientos post-operatorios hasta los 30 días postquirúrgicos en 5 casos (22.7%). Las intervenciones quirúrgicas realizadas con más frecuencia fueron toracotomías derechas con toma de biopsia o resección tumoral 7 casos (31.8 %). En relación al resultado anatomopatológico de los tumores de mediastino reportados más de la mitad constituyeron Adenocarcinomas 14 casos (63.6 %).  Conclusión: Los pacientes portadores de neoplasia benigna en esta serie tuvieron una evolución posquirúrgica satisfactoria. El adenocarcinoma fue el tumor maligno más frecuente en esta serie.'"
      ]
     },
     "execution_count": 9,
     "metadata": {},
     "output_type": "execute_result"
    }
   ],
   "source": [
    "df_text_all_abs.raw_text[0]"
   ]
  },
  {
   "cell_type": "code",
   "execution_count": 10,
   "metadata": {},
   "outputs": [
    {
     "data": {
      "text/plain": [
       "'Introducción  A pesar del difícil acceso anatómico para los tumores de mediastino  la resección quirúrgica sigue siendo el mejor enfoque diagnóstico y terapéutico  El objetivo de la presente serie de casos presentamos la experiencia de un centro oncológico en el abordaje de tumores del mediastino y sus resultados   Métodos  En el departamento de Jefatura de Cirugía Oncológica del Instituto Oncológico nacional de Solca Guayaquil  durante los meses de Enero del 2013 a Enero 2017 se realizó un estudio descriptivo  retrospectivo  Se analizaron todos los casos de pacientes derivados del área de pre admisión con diagnóstico inicial de tumor de mediastino  a los cuales previo a realizarles marcadores tumorales  Tomografía de Tórax  y a quienes se les realizó como método diagnóstico y en algunos casos terapéutico con abordaje quirúrgico  Se excluyeron pacientes con neoplasias de origen secundario  con historias clínicas incompletas que imposibilitaron el análisis  Se estudiaron las variables sexo  edad  Tipo de Técnica quirúrgica  localización del tumor  diagnostico histopatológico y mortalidad perioperatoria  El análisis estadístico realizado fue descriptivo   Resultados  Se evaluaron 22 pacientes con diagnóstico tumor de mediastino  con una edad media de 60 años  Fueron 13 hombres  59     Catorce pacientes con lesión maligna  8 fueron operados con resección tumoral y 6 se sometieron a biopsia  Se reportaron fallecimientos post operatorios hasta los 30 días postquirúrgicos en 5 casos  22 7    Las intervenciones quirúrgicas realizadas con más frecuencia fueron toracotomías derechas con toma de biopsia o resección tumoral 7 casos  31 8     En relación al resultado anatomopatológico de los tumores de mediastino reportados más de la mitad constituyeron Adenocarcinomas 14 casos  63 6      Conclusión  Los pacientes portadores de neoplasia benigna en esta serie tuvieron una evolución posquirúrgica satisfactoria  El adenocarcinoma fue el tumor maligno más frecuente en esta serie '"
      ]
     },
     "execution_count": 10,
     "metadata": {},
     "output_type": "execute_result"
    }
   ],
   "source": [
    "df_text_all_abs.punc_text[0]"
   ]
  },
  {
   "cell_type": "markdown",
   "metadata": {},
   "source": [
    "## BERT Tokenizers\n",
    "\n",
    "Inspecting the [Keras BERT Tokenizer source code](https://github.com/CyberZHG/keras-bert/blob/26bdfe3c36e77fa0524902f31263a920ccd62efb/keras_bert/tokenizer.py#L101), we can see that spaces (' ', '\\n', '\\t', etc.) are only used to split tokens from the text and they are not considered when performing sub-word (WordPiece) tokenization, while punctuations ('.', ',', ':', etc.) are kept as separated tokens, as they are part of different vocabularies."
   ]
  },
  {
   "cell_type": "code",
   "execution_count": 11,
   "metadata": {},
   "outputs": [],
   "source": [
    "from keras_bert import load_vocabulary, Tokenizer"
   ]
  },
  {
   "cell_type": "code",
   "execution_count": 12,
   "metadata": {},
   "outputs": [],
   "source": [
    "base_path = \"../bert_models/\"\n",
    "vocab_file = \"vocab.txt\""
   ]
  },
  {
   "cell_type": "markdown",
   "metadata": {},
   "source": [
    "### Multilingual\n",
    "\n",
    "This Tokenizer uses a multilingual-cased vocabulary containing tokens from 104 different languages (see [BERT multilingual](https://github.com/google-research/bert/blob/master/multilingual.md) for more details)."
   ]
  },
  {
   "cell_type": "code",
   "execution_count": 14,
   "metadata": {},
   "outputs": [],
   "source": [
    "multi_path = \"multi_cased_L-12_H-768_A-12/\""
   ]
  },
  {
   "cell_type": "code",
   "execution_count": 15,
   "metadata": {},
   "outputs": [],
   "source": [
    "multi_token_dict = load_vocabulary(base_path + multi_path + vocab_file)"
   ]
  },
  {
   "cell_type": "code",
   "execution_count": 16,
   "metadata": {},
   "outputs": [
    {
     "data": {
      "text/plain": [
       "119547"
      ]
     },
     "execution_count": 16,
     "metadata": {},
     "output_type": "execute_result"
    }
   ],
   "source": [
    "# 119547 expected\n",
    "len(multi_token_dict)"
   ]
  },
  {
   "cell_type": "code",
   "execution_count": 17,
   "metadata": {},
   "outputs": [],
   "source": [
    "bert_tokenizer = Tokenizer(token_dict=multi_token_dict, cased=True)"
   ]
  },
  {
   "cell_type": "code",
   "execution_count": 18,
   "metadata": {},
   "outputs": [],
   "source": [
    "tokenizer_name = \"Multi\""
   ]
  },
  {
   "cell_type": "code",
   "execution_count": 19,
   "metadata": {},
   "outputs": [],
   "source": [
    "unk_token_id = multi_token_dict[\"[UNK]\"]"
   ]
  },
  {
   "cell_type": "code",
   "execution_count": 20,
   "metadata": {},
   "outputs": [
    {
     "name": "stdout",
     "output_type": "stream",
     "text": [
      "CPU times: user 6min 52s, sys: 1.45 s, total: 6min 54s\n",
      "Wall time: 6min 55s\n"
     ]
    }
   ],
   "source": [
    "%%time\n",
    "text_token_raw = [bert_tokenizer.tokenize(text) for text in df_text_all_abs.raw_text]\n",
    "text_token_punc = [bert_tokenizer.tokenize(text) for text in df_text_all_abs.punc_text]\n",
    "\n",
    "df_text_all_abs[\"raw_\" + tokenizer_name] = [len(token_list) for token_list in text_token_raw]\n",
    "df_text_all_abs[\"punc_\" + tokenizer_name] = [len(token_list) for token_list in text_token_punc]"
   ]
  },
  {
   "cell_type": "code",
   "execution_count": 21,
   "metadata": {},
   "outputs": [
    {
     "name": "stdout",
     "output_type": "stream",
     "text": [
      "CPU times: user 6min 58s, sys: 11.8 ms, total: 6min 58s\n",
      "Wall time: 6min 58s\n"
     ]
    }
   ],
   "source": [
    "%%time\n",
    "df_text_all_abs[\"raw_\" + tokenizer_name + \"_UNK\"] = [bert_tokenizer.encode(text)[0].count(unk_token_id) \n",
    "                                                   for text in df_text_all_abs.raw_text]\n",
    "df_text_all_abs[\"punc_\" + tokenizer_name + \"_UNK\"] = [bert_tokenizer.encode(text)[0].count(unk_token_id) \n",
    "                                                   for text in df_text_all_abs.punc_text]"
   ]
  },
  {
   "cell_type": "markdown",
   "metadata": {},
   "source": [
    "### BETO\n",
    "\n",
    "This Tokenizer uses a Spanish-cased vocabulary."
   ]
  },
  {
   "cell_type": "code",
   "execution_count": 22,
   "metadata": {},
   "outputs": [],
   "source": [
    "beto_path = \"BETO_cased/\""
   ]
  },
  {
   "cell_type": "code",
   "execution_count": 23,
   "metadata": {},
   "outputs": [],
   "source": [
    "beto_token_dict = load_vocabulary(base_path + beto_path + vocab_file)"
   ]
  },
  {
   "cell_type": "code",
   "execution_count": 24,
   "metadata": {},
   "outputs": [
    {
     "data": {
      "text/plain": [
       "31002"
      ]
     },
     "execution_count": 24,
     "metadata": {},
     "output_type": "execute_result"
    }
   ],
   "source": [
    "# 31002 expected\n",
    "len(beto_token_dict)"
   ]
  },
  {
   "cell_type": "code",
   "execution_count": 25,
   "metadata": {},
   "outputs": [],
   "source": [
    "bert_tokenizer = Tokenizer(token_dict=beto_token_dict, pad_index=1, cased=True)"
   ]
  },
  {
   "cell_type": "code",
   "execution_count": 26,
   "metadata": {},
   "outputs": [],
   "source": [
    "tokenizer_name = \"BETO\""
   ]
  },
  {
   "cell_type": "code",
   "execution_count": 27,
   "metadata": {},
   "outputs": [],
   "source": [
    "unk_token_id = beto_token_dict[\"[UNK]\"]"
   ]
  },
  {
   "cell_type": "code",
   "execution_count": 28,
   "metadata": {},
   "outputs": [
    {
     "name": "stdout",
     "output_type": "stream",
     "text": [
      "CPU times: user 6min 38s, sys: 1.13 s, total: 6min 39s\n",
      "Wall time: 6min 39s\n"
     ]
    }
   ],
   "source": [
    "%%time\n",
    "text_token_raw = [bert_tokenizer.tokenize(text) for text in df_text_all_abs.raw_text]\n",
    "text_token_punc = [bert_tokenizer.tokenize(text) for text in df_text_all_abs.punc_text]\n",
    "\n",
    "df_text_all_abs[\"raw_\" + tokenizer_name] = [len(token_list) for token_list in text_token_raw]\n",
    "df_text_all_abs[\"punc_\" + tokenizer_name] = [len(token_list) for token_list in text_token_punc]"
   ]
  },
  {
   "cell_type": "code",
   "execution_count": 29,
   "metadata": {},
   "outputs": [
    {
     "name": "stdout",
     "output_type": "stream",
     "text": [
      "CPU times: user 6min 42s, sys: 0 ns, total: 6min 42s\n",
      "Wall time: 6min 42s\n"
     ]
    }
   ],
   "source": [
    "%%time\n",
    "df_text_all_abs[\"raw_\" + tokenizer_name + \"_UNK\"] = [bert_tokenizer.encode(text)[0].count(unk_token_id) \n",
    "                                                   for text in df_text_all_abs.raw_text]\n",
    "df_text_all_abs[\"punc_\" + tokenizer_name + \"_UNK\"] = [bert_tokenizer.encode(text)[0].count(unk_token_id) \n",
    "                                                   for text in df_text_all_abs.punc_text]"
   ]
  },
  {
   "cell_type": "markdown",
   "metadata": {},
   "source": [
    "### BERT-Scielo\n",
    "\n",
    "This Tokenizer uses a Spanish-cased custom clinical vocabulary. Obtained from this [\"Under review\" article](https://www.researchsquare.com/article/rs-13271/v1)."
   ]
  },
  {
   "cell_type": "code",
   "execution_count": 30,
   "metadata": {},
   "outputs": [],
   "source": [
    "sci_path = \"BERT_Scielo_cased/\""
   ]
  },
  {
   "cell_type": "code",
   "execution_count": 31,
   "metadata": {},
   "outputs": [],
   "source": [
    "sci_token_dict = load_vocabulary(base_path + sci_path + vocab_file)"
   ]
  },
  {
   "cell_type": "code",
   "execution_count": 32,
   "metadata": {},
   "outputs": [
    {
     "data": {
      "text/plain": [
       "128000"
      ]
     },
     "execution_count": 32,
     "metadata": {},
     "output_type": "execute_result"
    }
   ],
   "source": [
    "# 128000 expected\n",
    "len(sci_token_dict)"
   ]
  },
  {
   "cell_type": "code",
   "execution_count": 33,
   "metadata": {},
   "outputs": [],
   "source": [
    "bert_tokenizer = Tokenizer(token_dict=sci_token_dict, pad_index=0, cased=True)"
   ]
  },
  {
   "cell_type": "code",
   "execution_count": 34,
   "metadata": {},
   "outputs": [],
   "source": [
    "tokenizer_name = \"Scielo\""
   ]
  },
  {
   "cell_type": "code",
   "execution_count": 35,
   "metadata": {},
   "outputs": [],
   "source": [
    "unk_token_id = sci_token_dict[\"[UNK]\"]"
   ]
  },
  {
   "cell_type": "code",
   "execution_count": 36,
   "metadata": {},
   "outputs": [
    {
     "name": "stdout",
     "output_type": "stream",
     "text": [
      "CPU times: user 6min 19s, sys: 1 s, total: 6min 20s\n",
      "Wall time: 6min 20s\n"
     ]
    }
   ],
   "source": [
    "%%time\n",
    "text_token_raw = [bert_tokenizer.tokenize(text) for text in df_text_all_abs.raw_text]\n",
    "text_token_punc = [bert_tokenizer.tokenize(text) for text in df_text_all_abs.punc_text]\n",
    "\n",
    "df_text_all_abs[\"raw_\" + tokenizer_name] = [len(token_list) for token_list in text_token_raw]\n",
    "df_text_all_abs[\"punc_\" + tokenizer_name] = [len(token_list) for token_list in text_token_punc]"
   ]
  },
  {
   "cell_type": "code",
   "execution_count": 37,
   "metadata": {},
   "outputs": [
    {
     "name": "stdout",
     "output_type": "stream",
     "text": [
      "CPU times: user 6min 27s, sys: 3.97 ms, total: 6min 27s\n",
      "Wall time: 6min 27s\n"
     ]
    }
   ],
   "source": [
    "%%time\n",
    "df_text_all_abs[\"raw_\" + tokenizer_name + \"_UNK\"] = [bert_tokenizer.encode(text)[0].count(unk_token_id) \n",
    "                                                   for text in df_text_all_abs.raw_text]\n",
    "df_text_all_abs[\"punc_\" + tokenizer_name + \"_UNK\"] = [bert_tokenizer.encode(text)[0].count(unk_token_id) \n",
    "                                                   for text in df_text_all_abs.punc_text]"
   ]
  },
  {
   "cell_type": "code",
   "execution_count": 38,
   "metadata": {},
   "outputs": [
    {
     "data": {
      "text/html": [
       "<div>\n",
       "<style scoped>\n",
       "    .dataframe tbody tr th:only-of-type {\n",
       "        vertical-align: middle;\n",
       "    }\n",
       "\n",
       "    .dataframe tbody tr th {\n",
       "        vertical-align: top;\n",
       "    }\n",
       "\n",
       "    .dataframe thead th {\n",
       "        text-align: right;\n",
       "    }\n",
       "</style>\n",
       "<table border=\"1\" class=\"dataframe\">\n",
       "  <thead>\n",
       "    <tr style=\"text-align: right;\">\n",
       "      <th></th>\n",
       "      <th>doc_id</th>\n",
       "      <th>raw_text</th>\n",
       "      <th>sw_text</th>\n",
       "      <th>punc_text</th>\n",
       "      <th>raw_Multi</th>\n",
       "      <th>punc_Multi</th>\n",
       "      <th>raw_Multi_UNK</th>\n",
       "      <th>punc_Multi_UNK</th>\n",
       "      <th>raw_BETO</th>\n",
       "      <th>punc_BETO</th>\n",
       "      <th>raw_BETO_UNK</th>\n",
       "      <th>punc_BETO_UNK</th>\n",
       "      <th>raw_Scielo</th>\n",
       "      <th>punc_Scielo</th>\n",
       "      <th>raw_Scielo_UNK</th>\n",
       "      <th>punc_Scielo_UNK</th>\n",
       "    </tr>\n",
       "  </thead>\n",
       "  <tbody>\n",
       "    <tr>\n",
       "      <th>0</th>\n",
       "      <td>biblio-1000005</td>\n",
       "      <td>Introducción: A pesar del difícil acceso anató...</td>\n",
       "      <td>Introducción : pesar difícil acceso anatómico ...</td>\n",
       "      <td>Introducción  A pesar del difícil acceso anató...</td>\n",
       "      <td>491</td>\n",
       "      <td>442</td>\n",
       "      <td>0</td>\n",
       "      <td>0</td>\n",
       "      <td>444</td>\n",
       "      <td>395</td>\n",
       "      <td>8</td>\n",
       "      <td>4</td>\n",
       "      <td>348</td>\n",
       "      <td>299</td>\n",
       "      <td>49</td>\n",
       "      <td>0</td>\n",
       "    </tr>\n",
       "    <tr>\n",
       "      <th>1</th>\n",
       "      <td>biblio-1000026</td>\n",
       "      <td>Introducción: La enterocolitis neutropénica se...</td>\n",
       "      <td>Introducción : enterocolitis neutropénica defi...</td>\n",
       "      <td>Introducción  La enterocolitis neutropénica se...</td>\n",
       "      <td>461</td>\n",
       "      <td>425</td>\n",
       "      <td>0</td>\n",
       "      <td>0</td>\n",
       "      <td>393</td>\n",
       "      <td>357</td>\n",
       "      <td>4</td>\n",
       "      <td>3</td>\n",
       "      <td>318</td>\n",
       "      <td>282</td>\n",
       "      <td>36</td>\n",
       "      <td>0</td>\n",
       "    </tr>\n",
       "    <tr>\n",
       "      <th>2</th>\n",
       "      <td>biblio-1000027</td>\n",
       "      <td>Introducción: La presencia de anticuerpos anti...</td>\n",
       "      <td>Introducción : presencia anticuerpos anti erit...</td>\n",
       "      <td>Introducción  La presencia de anticuerpos anti...</td>\n",
       "      <td>551</td>\n",
       "      <td>503</td>\n",
       "      <td>0</td>\n",
       "      <td>0</td>\n",
       "      <td>487</td>\n",
       "      <td>439</td>\n",
       "      <td>13</td>\n",
       "      <td>4</td>\n",
       "      <td>406</td>\n",
       "      <td>358</td>\n",
       "      <td>48</td>\n",
       "      <td>0</td>\n",
       "    </tr>\n",
       "    <tr>\n",
       "      <th>3</th>\n",
       "      <td>biblio-1000028</td>\n",
       "      <td>Introducción: El Carcinoma de lengua móvil es ...</td>\n",
       "      <td>Introducción : Carcinoma lengua móvil tumores ...</td>\n",
       "      <td>Introducción  El Carcinoma de lengua móvil es ...</td>\n",
       "      <td>444</td>\n",
       "      <td>389</td>\n",
       "      <td>0</td>\n",
       "      <td>0</td>\n",
       "      <td>391</td>\n",
       "      <td>336</td>\n",
       "      <td>10</td>\n",
       "      <td>3</td>\n",
       "      <td>344</td>\n",
       "      <td>289</td>\n",
       "      <td>55</td>\n",
       "      <td>0</td>\n",
       "    </tr>\n",
       "    <tr>\n",
       "      <th>4</th>\n",
       "      <td>biblio-1000029</td>\n",
       "      <td>Introducción: El cáncer de ovario epitelial au...</td>\n",
       "      <td>Introducción : cáncer ovario epitelial aunque ...</td>\n",
       "      <td>Introducción  El cáncer de ovario epitelial au...</td>\n",
       "      <td>457</td>\n",
       "      <td>399</td>\n",
       "      <td>0</td>\n",
       "      <td>0</td>\n",
       "      <td>405</td>\n",
       "      <td>347</td>\n",
       "      <td>17</td>\n",
       "      <td>6</td>\n",
       "      <td>323</td>\n",
       "      <td>265</td>\n",
       "      <td>58</td>\n",
       "      <td>0</td>\n",
       "    </tr>\n",
       "  </tbody>\n",
       "</table>\n",
       "</div>"
      ],
      "text/plain": [
       "           doc_id                                           raw_text  \\\n",
       "0  biblio-1000005  Introducción: A pesar del difícil acceso anató...   \n",
       "1  biblio-1000026  Introducción: La enterocolitis neutropénica se...   \n",
       "2  biblio-1000027  Introducción: La presencia de anticuerpos anti...   \n",
       "3  biblio-1000028  Introducción: El Carcinoma de lengua móvil es ...   \n",
       "4  biblio-1000029  Introducción: El cáncer de ovario epitelial au...   \n",
       "\n",
       "                                             sw_text  \\\n",
       "0  Introducción : pesar difícil acceso anatómico ...   \n",
       "1  Introducción : enterocolitis neutropénica defi...   \n",
       "2  Introducción : presencia anticuerpos anti erit...   \n",
       "3  Introducción : Carcinoma lengua móvil tumores ...   \n",
       "4  Introducción : cáncer ovario epitelial aunque ...   \n",
       "\n",
       "                                           punc_text  raw_Multi  punc_Multi  \\\n",
       "0  Introducción  A pesar del difícil acceso anató...        491         442   \n",
       "1  Introducción  La enterocolitis neutropénica se...        461         425   \n",
       "2  Introducción  La presencia de anticuerpos anti...        551         503   \n",
       "3  Introducción  El Carcinoma de lengua móvil es ...        444         389   \n",
       "4  Introducción  El cáncer de ovario epitelial au...        457         399   \n",
       "\n",
       "   raw_Multi_UNK  punc_Multi_UNK  raw_BETO  punc_BETO  raw_BETO_UNK  \\\n",
       "0              0               0       444        395             8   \n",
       "1              0               0       393        357             4   \n",
       "2              0               0       487        439            13   \n",
       "3              0               0       391        336            10   \n",
       "4              0               0       405        347            17   \n",
       "\n",
       "   punc_BETO_UNK  raw_Scielo  punc_Scielo  raw_Scielo_UNK  punc_Scielo_UNK  \n",
       "0              4         348          299              49                0  \n",
       "1              3         318          282              36                0  \n",
       "2              4         406          358              48                0  \n",
       "3              3         344          289              55                0  \n",
       "4              6         323          265              58                0  "
      ]
     },
     "execution_count": 38,
     "metadata": {},
     "output_type": "execute_result"
    }
   ],
   "source": [
    "df_text_all_abs.head()"
   ]
  },
  {
   "cell_type": "markdown",
   "metadata": {},
   "source": [
    "### Token sequence analysis\n",
    "\n",
    "To compare the distribution of the number of extracted tokens from the texts for each BERT Tokenizer, we generate the next tables:"
   ]
  },
  {
   "cell_type": "code",
   "execution_count": 41,
   "metadata": {},
   "outputs": [],
   "source": [
    "col_names = [\"Multilingual\", \"BETO\", \"Scielo\"]"
   ]
  },
  {
   "cell_type": "code",
   "execution_count": 42,
   "metadata": {},
   "outputs": [],
   "source": [
    "df_res = df_text_all_abs\n",
    "raw_all_abs_res = pd.DataFrame({col_names[0]: df_res[\"raw_Multi\"].describe(), \n",
    "              col_names[1]: df_res[\"raw_BETO\"].describe(), \n",
    "              col_names[2]: df_res[\"raw_Scielo\"].describe()})"
   ]
  },
  {
   "cell_type": "code",
   "execution_count": 43,
   "metadata": {},
   "outputs": [],
   "source": [
    "punc_all_abs_res = pd.DataFrame({col_names[0]: df_res[\"punc_Multi\"].describe(), \n",
    "              col_names[1]: df_res[\"punc_BETO\"].describe(), \n",
    "              col_names[2]: df_res[\"punc_Scielo\"].describe()})"
   ]
  },
  {
   "cell_type": "code",
   "execution_count": 44,
   "metadata": {},
   "outputs": [
    {
     "data": {
      "text/html": [
       "<div>\n",
       "<style scoped>\n",
       "    .dataframe tbody tr th:only-of-type {\n",
       "        vertical-align: middle;\n",
       "    }\n",
       "\n",
       "    .dataframe tbody tr th {\n",
       "        vertical-align: top;\n",
       "    }\n",
       "\n",
       "    .dataframe thead th {\n",
       "        text-align: right;\n",
       "    }\n",
       "</style>\n",
       "<table border=\"1\" class=\"dataframe\">\n",
       "  <thead>\n",
       "    <tr style=\"text-align: right;\">\n",
       "      <th></th>\n",
       "      <th>Multilingual</th>\n",
       "      <th>BETO</th>\n",
       "      <th>Scielo</th>\n",
       "    </tr>\n",
       "  </thead>\n",
       "  <tbody>\n",
       "    <tr>\n",
       "      <th>count</th>\n",
       "      <td>149424.000000</td>\n",
       "      <td>149424.000000</td>\n",
       "      <td>149424.000000</td>\n",
       "    </tr>\n",
       "    <tr>\n",
       "      <th>mean</th>\n",
       "      <td>290.583942</td>\n",
       "      <td>257.412069</td>\n",
       "      <td>216.811576</td>\n",
       "    </tr>\n",
       "    <tr>\n",
       "      <th>std</th>\n",
       "      <td>141.119278</td>\n",
       "      <td>127.634050</td>\n",
       "      <td>108.508242</td>\n",
       "    </tr>\n",
       "    <tr>\n",
       "      <th>min</th>\n",
       "      <td>23.000000</td>\n",
       "      <td>30.000000</td>\n",
       "      <td>15.000000</td>\n",
       "    </tr>\n",
       "    <tr>\n",
       "      <th>25%</th>\n",
       "      <td>182.000000</td>\n",
       "      <td>160.000000</td>\n",
       "      <td>133.000000</td>\n",
       "    </tr>\n",
       "    <tr>\n",
       "      <th>50%</th>\n",
       "      <td>272.000000</td>\n",
       "      <td>239.000000</td>\n",
       "      <td>202.000000</td>\n",
       "    </tr>\n",
       "    <tr>\n",
       "      <th>75%</th>\n",
       "      <td>391.000000</td>\n",
       "      <td>344.000000</td>\n",
       "      <td>292.000000</td>\n",
       "    </tr>\n",
       "    <tr>\n",
       "      <th>max</th>\n",
       "      <td>2096.000000</td>\n",
       "      <td>1863.000000</td>\n",
       "      <td>1660.000000</td>\n",
       "    </tr>\n",
       "  </tbody>\n",
       "</table>\n",
       "</div>"
      ],
      "text/plain": [
       "        Multilingual           BETO         Scielo\n",
       "count  149424.000000  149424.000000  149424.000000\n",
       "mean      290.583942     257.412069     216.811576\n",
       "std       141.119278     127.634050     108.508242\n",
       "min        23.000000      30.000000      15.000000\n",
       "25%       182.000000     160.000000     133.000000\n",
       "50%       272.000000     239.000000     202.000000\n",
       "75%       391.000000     344.000000     292.000000\n",
       "max      2096.000000    1863.000000    1660.000000"
      ]
     },
     "execution_count": 44,
     "metadata": {},
     "output_type": "execute_result"
    }
   ],
   "source": [
    "raw_all_abs_res"
   ]
  },
  {
   "cell_type": "code",
   "execution_count": 45,
   "metadata": {},
   "outputs": [
    {
     "data": {
      "text/html": [
       "<div>\n",
       "<style scoped>\n",
       "    .dataframe tbody tr th:only-of-type {\n",
       "        vertical-align: middle;\n",
       "    }\n",
       "\n",
       "    .dataframe tbody tr th {\n",
       "        vertical-align: top;\n",
       "    }\n",
       "\n",
       "    .dataframe thead th {\n",
       "        text-align: right;\n",
       "    }\n",
       "</style>\n",
       "<table border=\"1\" class=\"dataframe\">\n",
       "  <thead>\n",
       "    <tr style=\"text-align: right;\">\n",
       "      <th></th>\n",
       "      <th>Multilingual</th>\n",
       "      <th>BETO</th>\n",
       "      <th>Scielo</th>\n",
       "    </tr>\n",
       "  </thead>\n",
       "  <tbody>\n",
       "    <tr>\n",
       "      <th>count</th>\n",
       "      <td>149424.000000</td>\n",
       "      <td>149424.000000</td>\n",
       "      <td>149424.000000</td>\n",
       "    </tr>\n",
       "    <tr>\n",
       "      <th>mean</th>\n",
       "      <td>262.490925</td>\n",
       "      <td>229.319052</td>\n",
       "      <td>188.718559</td>\n",
       "    </tr>\n",
       "    <tr>\n",
       "      <th>std</th>\n",
       "      <td>122.123818</td>\n",
       "      <td>108.237142</td>\n",
       "      <td>88.981236</td>\n",
       "    </tr>\n",
       "    <tr>\n",
       "      <th>min</th>\n",
       "      <td>21.000000</td>\n",
       "      <td>21.000000</td>\n",
       "      <td>13.000000</td>\n",
       "    </tr>\n",
       "    <tr>\n",
       "      <th>25%</th>\n",
       "      <td>169.000000</td>\n",
       "      <td>147.000000</td>\n",
       "      <td>120.000000</td>\n",
       "    </tr>\n",
       "    <tr>\n",
       "      <th>50%</th>\n",
       "      <td>249.000000</td>\n",
       "      <td>217.000000</td>\n",
       "      <td>178.000000</td>\n",
       "    </tr>\n",
       "    <tr>\n",
       "      <th>75%</th>\n",
       "      <td>352.000000</td>\n",
       "      <td>306.000000</td>\n",
       "      <td>254.000000</td>\n",
       "    </tr>\n",
       "    <tr>\n",
       "      <th>max</th>\n",
       "      <td>1957.000000</td>\n",
       "      <td>1724.000000</td>\n",
       "      <td>1521.000000</td>\n",
       "    </tr>\n",
       "  </tbody>\n",
       "</table>\n",
       "</div>"
      ],
      "text/plain": [
       "        Multilingual           BETO         Scielo\n",
       "count  149424.000000  149424.000000  149424.000000\n",
       "mean      262.490925     229.319052     188.718559\n",
       "std       122.123818     108.237142      88.981236\n",
       "min        21.000000      21.000000      13.000000\n",
       "25%       169.000000     147.000000     120.000000\n",
       "50%       249.000000     217.000000     178.000000\n",
       "75%       352.000000     306.000000     254.000000\n",
       "max      1957.000000    1724.000000    1521.000000"
      ]
     },
     "execution_count": 45,
     "metadata": {},
     "output_type": "execute_result"
    }
   ],
   "source": [
    "punc_all_abs_res"
   ]
  },
  {
   "cell_type": "markdown",
   "metadata": {},
   "source": [
    "We also analyze the proportion of unknown tokens produced by each tokenizer:"
   ]
  },
  {
   "cell_type": "code",
   "execution_count": 46,
   "metadata": {},
   "outputs": [],
   "source": [
    "raw_all_abs_res = pd.DataFrame({col_names[0]: df_res[\"raw_Multi_UNK\"].describe(), \n",
    "              col_names[1]: df_res[\"raw_BETO_UNK\"].describe(), \n",
    "              col_names[2]: df_res[\"raw_Scielo_UNK\"].describe()})"
   ]
  },
  {
   "cell_type": "code",
   "execution_count": 47,
   "metadata": {},
   "outputs": [],
   "source": [
    "punc_all_abs_res = pd.DataFrame({col_names[0]: df_res[\"punc_Multi_UNK\"].describe(), \n",
    "              col_names[1]: df_res[\"punc_BETO_UNK\"].describe(), \n",
    "              col_names[2]: df_res[\"punc_Scielo_UNK\"].describe()})"
   ]
  },
  {
   "cell_type": "code",
   "execution_count": 48,
   "metadata": {},
   "outputs": [
    {
     "data": {
      "text/html": [
       "<div>\n",
       "<style scoped>\n",
       "    .dataframe tbody tr th:only-of-type {\n",
       "        vertical-align: middle;\n",
       "    }\n",
       "\n",
       "    .dataframe tbody tr th {\n",
       "        vertical-align: top;\n",
       "    }\n",
       "\n",
       "    .dataframe thead th {\n",
       "        text-align: right;\n",
       "    }\n",
       "</style>\n",
       "<table border=\"1\" class=\"dataframe\">\n",
       "  <thead>\n",
       "    <tr style=\"text-align: right;\">\n",
       "      <th></th>\n",
       "      <th>Multilingual</th>\n",
       "      <th>BETO</th>\n",
       "      <th>Scielo</th>\n",
       "    </tr>\n",
       "  </thead>\n",
       "  <tbody>\n",
       "    <tr>\n",
       "      <th>count</th>\n",
       "      <td>149424.000000</td>\n",
       "      <td>149424.000000</td>\n",
       "      <td>149424.000000</td>\n",
       "    </tr>\n",
       "    <tr>\n",
       "      <th>mean</th>\n",
       "      <td>0.004531</td>\n",
       "      <td>5.025096</td>\n",
       "      <td>28.618435</td>\n",
       "    </tr>\n",
       "    <tr>\n",
       "      <th>std</th>\n",
       "      <td>0.135611</td>\n",
       "      <td>8.105564</td>\n",
       "      <td>24.155509</td>\n",
       "    </tr>\n",
       "    <tr>\n",
       "      <th>min</th>\n",
       "      <td>0.000000</td>\n",
       "      <td>0.000000</td>\n",
       "      <td>0.000000</td>\n",
       "    </tr>\n",
       "    <tr>\n",
       "      <th>25%</th>\n",
       "      <td>0.000000</td>\n",
       "      <td>0.000000</td>\n",
       "      <td>12.000000</td>\n",
       "    </tr>\n",
       "    <tr>\n",
       "      <th>50%</th>\n",
       "      <td>0.000000</td>\n",
       "      <td>2.000000</td>\n",
       "      <td>21.000000</td>\n",
       "    </tr>\n",
       "    <tr>\n",
       "      <th>75%</th>\n",
       "      <td>0.000000</td>\n",
       "      <td>6.000000</td>\n",
       "      <td>38.000000</td>\n",
       "    </tr>\n",
       "    <tr>\n",
       "      <th>max</th>\n",
       "      <td>25.000000</td>\n",
       "      <td>187.000000</td>\n",
       "      <td>322.000000</td>\n",
       "    </tr>\n",
       "  </tbody>\n",
       "</table>\n",
       "</div>"
      ],
      "text/plain": [
       "        Multilingual           BETO         Scielo\n",
       "count  149424.000000  149424.000000  149424.000000\n",
       "mean        0.004531       5.025096      28.618435\n",
       "std         0.135611       8.105564      24.155509\n",
       "min         0.000000       0.000000       0.000000\n",
       "25%         0.000000       0.000000      12.000000\n",
       "50%         0.000000       2.000000      21.000000\n",
       "75%         0.000000       6.000000      38.000000\n",
       "max        25.000000     187.000000     322.000000"
      ]
     },
     "execution_count": 48,
     "metadata": {},
     "output_type": "execute_result"
    }
   ],
   "source": [
    "raw_all_abs_res"
   ]
  },
  {
   "cell_type": "code",
   "execution_count": 49,
   "metadata": {},
   "outputs": [
    {
     "data": {
      "text/html": [
       "<div>\n",
       "<style scoped>\n",
       "    .dataframe tbody tr th:only-of-type {\n",
       "        vertical-align: middle;\n",
       "    }\n",
       "\n",
       "    .dataframe tbody tr th {\n",
       "        vertical-align: top;\n",
       "    }\n",
       "\n",
       "    .dataframe thead th {\n",
       "        text-align: right;\n",
       "    }\n",
       "</style>\n",
       "<table border=\"1\" class=\"dataframe\">\n",
       "  <thead>\n",
       "    <tr style=\"text-align: right;\">\n",
       "      <th></th>\n",
       "      <th>Multilingual</th>\n",
       "      <th>BETO</th>\n",
       "      <th>Scielo</th>\n",
       "    </tr>\n",
       "  </thead>\n",
       "  <tbody>\n",
       "    <tr>\n",
       "      <th>count</th>\n",
       "      <td>149424.000000</td>\n",
       "      <td>149424.000000</td>\n",
       "      <td>149424.000000</td>\n",
       "    </tr>\n",
       "    <tr>\n",
       "      <th>mean</th>\n",
       "      <td>0.003453</td>\n",
       "      <td>2.053111</td>\n",
       "      <td>0.526903</td>\n",
       "    </tr>\n",
       "    <tr>\n",
       "      <th>std</th>\n",
       "      <td>0.125467</td>\n",
       "      <td>3.505599</td>\n",
       "      <td>2.101695</td>\n",
       "    </tr>\n",
       "    <tr>\n",
       "      <th>min</th>\n",
       "      <td>0.000000</td>\n",
       "      <td>0.000000</td>\n",
       "      <td>0.000000</td>\n",
       "    </tr>\n",
       "    <tr>\n",
       "      <th>25%</th>\n",
       "      <td>0.000000</td>\n",
       "      <td>0.000000</td>\n",
       "      <td>0.000000</td>\n",
       "    </tr>\n",
       "    <tr>\n",
       "      <th>50%</th>\n",
       "      <td>0.000000</td>\n",
       "      <td>1.000000</td>\n",
       "      <td>0.000000</td>\n",
       "    </tr>\n",
       "    <tr>\n",
       "      <th>75%</th>\n",
       "      <td>0.000000</td>\n",
       "      <td>3.000000</td>\n",
       "      <td>0.000000</td>\n",
       "    </tr>\n",
       "    <tr>\n",
       "      <th>max</th>\n",
       "      <td>25.000000</td>\n",
       "      <td>110.000000</td>\n",
       "      <td>114.000000</td>\n",
       "    </tr>\n",
       "  </tbody>\n",
       "</table>\n",
       "</div>"
      ],
      "text/plain": [
       "        Multilingual           BETO         Scielo\n",
       "count  149424.000000  149424.000000  149424.000000\n",
       "mean        0.003453       2.053111       0.526903\n",
       "std         0.125467       3.505599       2.101695\n",
       "min         0.000000       0.000000       0.000000\n",
       "25%         0.000000       0.000000       0.000000\n",
       "50%         0.000000       1.000000       0.000000\n",
       "75%         0.000000       3.000000       0.000000\n",
       "max        25.000000     110.000000     114.000000"
      ]
     },
     "execution_count": 49,
     "metadata": {},
     "output_type": "execute_result"
    }
   ],
   "source": [
    "punc_all_abs_res"
   ]
  },
  {
   "cell_type": "markdown",
   "metadata": {},
   "source": [
    "### Select one-fragment texts\n",
    "\n",
    "Finally, we select and save the identifiers of the texts with only one fragment considering different tokenizers maximum lengths:"
   ]
  },
  {
   "cell_type": "markdown",
   "metadata": {},
   "source": [
    "##### BERT-Scielo"
   ]
  },
  {
   "cell_type": "code",
   "execution_count": 16,
   "metadata": {},
   "outputs": [],
   "source": [
    "SEQ_LEN = 230-2"
   ]
  },
  {
   "cell_type": "markdown",
   "metadata": {},
   "source": [
    "###### Space-Punctuation\n",
    "\n",
    "Punctuation is substituted by spaces:"
   ]
  },
  {
   "cell_type": "code",
   "execution_count": 20,
   "metadata": {},
   "outputs": [],
   "source": [
    "df_text_all_abs_frag = df_text_all_abs[df_text_all_abs.punc_Scielo <= SEQ_LEN]"
   ]
  },
  {
   "cell_type": "code",
   "execution_count": 36,
   "metadata": {},
   "outputs": [
    {
     "data": {
      "text/plain": [
       "(100240, 8)"
      ]
     },
     "execution_count": 36,
     "metadata": {},
     "output_type": "execute_result"
    }
   ],
   "source": [
    "df_text_all_abs_frag.shape"
   ]
  },
  {
   "cell_type": "code",
   "execution_count": 37,
   "metadata": {},
   "outputs": [
    {
     "data": {
      "text/html": [
       "<div>\n",
       "<style scoped>\n",
       "    .dataframe tbody tr th:only-of-type {\n",
       "        vertical-align: middle;\n",
       "    }\n",
       "\n",
       "    .dataframe tbody tr th {\n",
       "        vertical-align: top;\n",
       "    }\n",
       "\n",
       "    .dataframe thead th {\n",
       "        text-align: right;\n",
       "    }\n",
       "</style>\n",
       "<table border=\"1\" class=\"dataframe\">\n",
       "  <thead>\n",
       "    <tr style=\"text-align: right;\">\n",
       "      <th></th>\n",
       "      <th>doc_id</th>\n",
       "    </tr>\n",
       "  </thead>\n",
       "  <tbody>\n",
       "    <tr>\n",
       "      <th>6</th>\n",
       "      <td>biblio-1000049</td>\n",
       "    </tr>\n",
       "    <tr>\n",
       "      <th>8</th>\n",
       "      <td>biblio-1000083</td>\n",
       "    </tr>\n",
       "    <tr>\n",
       "      <th>9</th>\n",
       "      <td>biblio-1000087</td>\n",
       "    </tr>\n",
       "    <tr>\n",
       "      <th>18</th>\n",
       "      <td>biblio-1000153</td>\n",
       "    </tr>\n",
       "    <tr>\n",
       "      <th>21</th>\n",
       "      <td>biblio-1000221</td>\n",
       "    </tr>\n",
       "  </tbody>\n",
       "</table>\n",
       "</div>"
      ],
      "text/plain": [
       "            doc_id\n",
       "6   biblio-1000049\n",
       "8   biblio-1000083\n",
       "9   biblio-1000087\n",
       "18  biblio-1000153\n",
       "21  biblio-1000221"
      ]
     },
     "execution_count": 37,
     "metadata": {},
     "output_type": "execute_result"
    }
   ],
   "source": [
    "df_text_all_abs_frag[[\"doc_id\"]].head()"
   ]
  },
  {
   "cell_type": "code",
   "execution_count": 38,
   "metadata": {},
   "outputs": [],
   "source": [
    "df_text_all_abs_frag[[\"doc_id\"]].to_csv(path_or_buf=corpus_path + \"all_abs_doc_one_frag_space_punc_Scielo_\" + str(SEQ_LEN+2) + \".tsv\", \n",
    "                                                   sep=\"\\t\", header=False, index=False)"
   ]
  },
  {
   "cell_type": "markdown",
   "metadata": {},
   "source": [
    "##### BETO"
   ]
  },
  {
   "cell_type": "code",
   "execution_count": 50,
   "metadata": {},
   "outputs": [],
   "source": [
    "SEQ_LEN = 275-2"
   ]
  },
  {
   "cell_type": "markdown",
   "metadata": {},
   "source": [
    "###### Raw text"
   ]
  },
  {
   "cell_type": "code",
   "execution_count": 19,
   "metadata": {},
   "outputs": [],
   "source": [
    "df_text_all_abs_frag = df_text_all_abs[df_text_all_abs.raw_BETO <= SEQ_LEN]"
   ]
  },
  {
   "cell_type": "code",
   "execution_count": 20,
   "metadata": {},
   "outputs": [
    {
     "data": {
      "text/plain": [
       "(87871, 16)"
      ]
     },
     "execution_count": 20,
     "metadata": {},
     "output_type": "execute_result"
    }
   ],
   "source": [
    "df_text_all_abs_frag.shape"
   ]
  },
  {
   "cell_type": "code",
   "execution_count": 21,
   "metadata": {},
   "outputs": [
    {
     "data": {
      "text/html": [
       "<div>\n",
       "<style scoped>\n",
       "    .dataframe tbody tr th:only-of-type {\n",
       "        vertical-align: middle;\n",
       "    }\n",
       "\n",
       "    .dataframe tbody tr th {\n",
       "        vertical-align: top;\n",
       "    }\n",
       "\n",
       "    .dataframe thead th {\n",
       "        text-align: right;\n",
       "    }\n",
       "</style>\n",
       "<table border=\"1\" class=\"dataframe\">\n",
       "  <thead>\n",
       "    <tr style=\"text-align: right;\">\n",
       "      <th></th>\n",
       "      <th>doc_id</th>\n",
       "    </tr>\n",
       "  </thead>\n",
       "  <tbody>\n",
       "    <tr>\n",
       "      <th>8</th>\n",
       "      <td>biblio-1000083</td>\n",
       "    </tr>\n",
       "    <tr>\n",
       "      <th>9</th>\n",
       "      <td>biblio-1000087</td>\n",
       "    </tr>\n",
       "    <tr>\n",
       "      <th>18</th>\n",
       "      <td>biblio-1000153</td>\n",
       "    </tr>\n",
       "    <tr>\n",
       "      <th>21</th>\n",
       "      <td>biblio-1000221</td>\n",
       "    </tr>\n",
       "    <tr>\n",
       "      <th>22</th>\n",
       "      <td>biblio-1000235</td>\n",
       "    </tr>\n",
       "  </tbody>\n",
       "</table>\n",
       "</div>"
      ],
      "text/plain": [
       "            doc_id\n",
       "8   biblio-1000083\n",
       "9   biblio-1000087\n",
       "18  biblio-1000153\n",
       "21  biblio-1000221\n",
       "22  biblio-1000235"
      ]
     },
     "execution_count": 21,
     "metadata": {},
     "output_type": "execute_result"
    }
   ],
   "source": [
    "df_text_all_abs_frag[[\"doc_id\"]].head()"
   ]
  },
  {
   "cell_type": "code",
   "execution_count": 22,
   "metadata": {},
   "outputs": [],
   "source": [
    "df_text_all_abs_frag[[\"doc_id\"]].to_csv(path_or_buf=corpus_path + \"all_abs_doc_one_frag_BETO_\" + str(SEQ_LEN+2) + \".tsv\", \n",
    "                                                   sep=\"\\t\", header=False, index=False)"
   ]
  },
  {
   "cell_type": "markdown",
   "metadata": {},
   "source": [
    "###### Space-Punctuation"
   ]
  },
  {
   "cell_type": "code",
   "execution_count": 51,
   "metadata": {},
   "outputs": [],
   "source": [
    "df_text_all_abs_frag = df_text_all_abs[df_text_all_abs.punc_BETO <= SEQ_LEN]"
   ]
  },
  {
   "cell_type": "code",
   "execution_count": 52,
   "metadata": {},
   "outputs": [
    {
     "data": {
      "text/plain": [
       "(98997, 16)"
      ]
     },
     "execution_count": 52,
     "metadata": {},
     "output_type": "execute_result"
    }
   ],
   "source": [
    "df_text_all_abs_frag.shape"
   ]
  },
  {
   "cell_type": "code",
   "execution_count": 53,
   "metadata": {},
   "outputs": [
    {
     "data": {
      "text/html": [
       "<div>\n",
       "<style scoped>\n",
       "    .dataframe tbody tr th:only-of-type {\n",
       "        vertical-align: middle;\n",
       "    }\n",
       "\n",
       "    .dataframe tbody tr th {\n",
       "        vertical-align: top;\n",
       "    }\n",
       "\n",
       "    .dataframe thead th {\n",
       "        text-align: right;\n",
       "    }\n",
       "</style>\n",
       "<table border=\"1\" class=\"dataframe\">\n",
       "  <thead>\n",
       "    <tr style=\"text-align: right;\">\n",
       "      <th></th>\n",
       "      <th>doc_id</th>\n",
       "    </tr>\n",
       "  </thead>\n",
       "  <tbody>\n",
       "    <tr>\n",
       "      <th>6</th>\n",
       "      <td>biblio-1000049</td>\n",
       "    </tr>\n",
       "    <tr>\n",
       "      <th>8</th>\n",
       "      <td>biblio-1000083</td>\n",
       "    </tr>\n",
       "    <tr>\n",
       "      <th>9</th>\n",
       "      <td>biblio-1000087</td>\n",
       "    </tr>\n",
       "    <tr>\n",
       "      <th>18</th>\n",
       "      <td>biblio-1000153</td>\n",
       "    </tr>\n",
       "    <tr>\n",
       "      <th>21</th>\n",
       "      <td>biblio-1000221</td>\n",
       "    </tr>\n",
       "  </tbody>\n",
       "</table>\n",
       "</div>"
      ],
      "text/plain": [
       "            doc_id\n",
       "6   biblio-1000049\n",
       "8   biblio-1000083\n",
       "9   biblio-1000087\n",
       "18  biblio-1000153\n",
       "21  biblio-1000221"
      ]
     },
     "execution_count": 53,
     "metadata": {},
     "output_type": "execute_result"
    }
   ],
   "source": [
    "df_text_all_abs_frag[[\"doc_id\"]].head()"
   ]
  },
  {
   "cell_type": "code",
   "execution_count": 54,
   "metadata": {},
   "outputs": [],
   "source": [
    "df_text_all_abs_frag[[\"doc_id\"]].to_csv(path_or_buf=corpus_path + \"all_abs_doc_one_frag_space_punc_BETO_\" + str(SEQ_LEN+2) + \".tsv\", \n",
    "                                                   sep=\"\\t\", header=False, index=False)"
   ]
  }
 ],
 "metadata": {
  "kernelspec": {
   "display_name": "Python 3",
   "language": "python",
   "name": "python3"
  },
  "language_info": {
   "codemirror_mode": {
    "name": "ipython",
    "version": 3
   },
   "file_extension": ".py",
   "mimetype": "text/x-python",
   "name": "python",
   "nbconvert_exporter": "python",
   "pygments_lexer": "ipython3",
   "version": "3.6.5"
  }
 },
 "nbformat": 4,
 "nbformat_minor": 2
}
