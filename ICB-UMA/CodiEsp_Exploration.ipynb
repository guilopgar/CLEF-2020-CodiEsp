{
 "cells": [
  {
   "cell_type": "markdown",
   "metadata": {},
   "source": [
    "# CodiEsp corpus: CIE codes\n",
    "\n",
    "This notebook contains a statistical description of the CodiEsp corpus, with the aim of tackling the text classification subtasks (1 and 2) of the shared task described [here](https://temu.bsc.es/codiesp/). The first subtask aims at performing CIE-Diagnóstico automatic coding, while the goal of the second subtask is to perform CIE-Procedimiento automatic coding. Sections [Copus summary](#Corpus-summary) and [Expanded corpus summary](#Expanded-corpus-summary) describe the most important information extracted throughout the notebook."
   ]
  },
  {
   "cell_type": "code",
   "execution_count": 1,
   "metadata": {},
   "outputs": [],
   "source": [
    "import pandas as pd\n",
    "import numpy as np"
   ]
  },
  {
   "cell_type": "markdown",
   "metadata": {},
   "source": [
    "## Train, dev, test\n",
    "\n",
    "Firstly, we perform an exploratory analysis of the CIE-10 codes present in the train, development and test corpora."
   ]
  },
  {
   "cell_type": "markdown",
   "metadata": {},
   "source": [
    "### CodiEsp Diagnosis Coding"
   ]
  },
  {
   "cell_type": "code",
   "execution_count": 2,
   "metadata": {},
   "outputs": [
    {
     "name": "stdout",
     "output_type": "stream",
     "text": [
      "CPU times: user 3.68 ms, sys: 2.16 ms, total: 5.84 ms\n",
      "Wall time: 5.15 ms\n"
     ]
    }
   ],
   "source": [
    "%%time\n",
    "\n",
    "codiesp_d_train = pd.read_table(\"../datasets/final_dataset_v3_to_publish/train/trainD.tsv\", sep='\\t', header=None)"
   ]
  },
  {
   "cell_type": "code",
   "execution_count": 3,
   "metadata": {},
   "outputs": [],
   "source": [
    "codiesp_d_train.columns = [\"document\", \"code\"]"
   ]
  },
  {
   "cell_type": "code",
   "execution_count": 4,
   "metadata": {},
   "outputs": [
    {
     "data": {
      "text/html": [
       "<div>\n",
       "<style scoped>\n",
       "    .dataframe tbody tr th:only-of-type {\n",
       "        vertical-align: middle;\n",
       "    }\n",
       "\n",
       "    .dataframe tbody tr th {\n",
       "        vertical-align: top;\n",
       "    }\n",
       "\n",
       "    .dataframe thead th {\n",
       "        text-align: right;\n",
       "    }\n",
       "</style>\n",
       "<table border=\"1\" class=\"dataframe\">\n",
       "  <thead>\n",
       "    <tr style=\"text-align: right;\">\n",
       "      <th></th>\n",
       "      <th>document</th>\n",
       "      <th>code</th>\n",
       "    </tr>\n",
       "  </thead>\n",
       "  <tbody>\n",
       "    <tr>\n",
       "      <th>5634</th>\n",
       "      <td>S2340-98942015000100005-1</td>\n",
       "      <td>r69</td>\n",
       "    </tr>\n",
       "    <tr>\n",
       "      <th>5635</th>\n",
       "      <td>S2340-98942015000100005-1</td>\n",
       "      <td>r06.00</td>\n",
       "    </tr>\n",
       "    <tr>\n",
       "      <th>5636</th>\n",
       "      <td>S2340-98942015000100005-1</td>\n",
       "      <td>c56.2</td>\n",
       "    </tr>\n",
       "    <tr>\n",
       "      <th>5637</th>\n",
       "      <td>S2340-98942015000100005-1</td>\n",
       "      <td>r97.1</td>\n",
       "    </tr>\n",
       "    <tr>\n",
       "      <th>5638</th>\n",
       "      <td>S2340-98942015000100005-1</td>\n",
       "      <td>r55</td>\n",
       "    </tr>\n",
       "  </tbody>\n",
       "</table>\n",
       "</div>"
      ],
      "text/plain": [
       "                       document    code\n",
       "5634  S2340-98942015000100005-1     r69\n",
       "5635  S2340-98942015000100005-1  r06.00\n",
       "5636  S2340-98942015000100005-1   c56.2\n",
       "5637  S2340-98942015000100005-1   r97.1\n",
       "5638  S2340-98942015000100005-1     r55"
      ]
     },
     "execution_count": 4,
     "metadata": {},
     "output_type": "execute_result"
    }
   ],
   "source": [
    "codiesp_d_train.tail()"
   ]
  },
  {
   "cell_type": "code",
   "execution_count": 5,
   "metadata": {},
   "outputs": [
    {
     "data": {
      "text/plain": [
       "(5639, 2)"
      ]
     },
     "execution_count": 5,
     "metadata": {},
     "output_type": "execute_result"
    }
   ],
   "source": [
    "codiesp_d_train.shape"
   ]
  },
  {
   "cell_type": "markdown",
   "metadata": {},
   "source": [
    "We check if there are duplicated document-code associations:"
   ]
  },
  {
   "cell_type": "code",
   "execution_count": 6,
   "metadata": {},
   "outputs": [
    {
     "data": {
      "text/plain": [
       "False"
      ]
     },
     "execution_count": 6,
     "metadata": {},
     "output_type": "execute_result"
    }
   ],
   "source": [
    "codiesp_d_train.duplicated().any()"
   ]
  },
  {
   "cell_type": "markdown",
   "metadata": {},
   "source": [
    "We check the number of distinct CIE10-Diagnóstico training codes:"
   ]
  },
  {
   "cell_type": "code",
   "execution_count": 7,
   "metadata": {},
   "outputs": [],
   "source": [
    "train_d_codes = set(codiesp_d_train[\"code\"])"
   ]
  },
  {
   "cell_type": "code",
   "execution_count": 8,
   "metadata": {},
   "outputs": [
    {
     "data": {
      "text/plain": [
       "1767"
      ]
     },
     "execution_count": 8,
     "metadata": {},
     "output_type": "execute_result"
    }
   ],
   "source": [
    "len(train_d_codes)"
   ]
  },
  {
   "cell_type": "markdown",
   "metadata": {},
   "source": [
    "Now, development set:"
   ]
  },
  {
   "cell_type": "code",
   "execution_count": 9,
   "metadata": {},
   "outputs": [
    {
     "name": "stdout",
     "output_type": "stream",
     "text": [
      "CPU times: user 111 µs, sys: 3.45 ms, total: 3.56 ms\n",
      "Wall time: 2.87 ms\n"
     ]
    }
   ],
   "source": [
    "%%time\n",
    "\n",
    "codiesp_d_dev = pd.read_table(\"../datasets/final_dataset_v3_to_publish/dev/devD.tsv\", sep='\\t', header=None)"
   ]
  },
  {
   "cell_type": "code",
   "execution_count": 10,
   "metadata": {},
   "outputs": [],
   "source": [
    "codiesp_d_dev.columns = [\"document\", \"code\"]"
   ]
  },
  {
   "cell_type": "code",
   "execution_count": 11,
   "metadata": {},
   "outputs": [
    {
     "data": {
      "text/html": [
       "<div>\n",
       "<style scoped>\n",
       "    .dataframe tbody tr th:only-of-type {\n",
       "        vertical-align: middle;\n",
       "    }\n",
       "\n",
       "    .dataframe tbody tr th {\n",
       "        vertical-align: top;\n",
       "    }\n",
       "\n",
       "    .dataframe thead th {\n",
       "        text-align: right;\n",
       "    }\n",
       "</style>\n",
       "<table border=\"1\" class=\"dataframe\">\n",
       "  <thead>\n",
       "    <tr style=\"text-align: right;\">\n",
       "      <th></th>\n",
       "      <th>document</th>\n",
       "      <th>code</th>\n",
       "    </tr>\n",
       "  </thead>\n",
       "  <tbody>\n",
       "    <tr>\n",
       "      <th>2672</th>\n",
       "      <td>S2254-28842013000300009-1</td>\n",
       "      <td>i11.9</td>\n",
       "    </tr>\n",
       "    <tr>\n",
       "      <th>2673</th>\n",
       "      <td>S2254-28842013000300009-1</td>\n",
       "      <td>e78.00</td>\n",
       "    </tr>\n",
       "    <tr>\n",
       "      <th>2674</th>\n",
       "      <td>S2254-28842013000300009-1</td>\n",
       "      <td>e11.9</td>\n",
       "    </tr>\n",
       "    <tr>\n",
       "      <th>2675</th>\n",
       "      <td>S2254-28842013000300009-1</td>\n",
       "      <td>i51.9</td>\n",
       "    </tr>\n",
       "    <tr>\n",
       "      <th>2676</th>\n",
       "      <td>S2254-28842013000300009-1</td>\n",
       "      <td>k65.9</td>\n",
       "    </tr>\n",
       "  </tbody>\n",
       "</table>\n",
       "</div>"
      ],
      "text/plain": [
       "                       document    code\n",
       "2672  S2254-28842013000300009-1   i11.9\n",
       "2673  S2254-28842013000300009-1  e78.00\n",
       "2674  S2254-28842013000300009-1   e11.9\n",
       "2675  S2254-28842013000300009-1   i51.9\n",
       "2676  S2254-28842013000300009-1   k65.9"
      ]
     },
     "execution_count": 11,
     "metadata": {},
     "output_type": "execute_result"
    }
   ],
   "source": [
    "codiesp_d_dev.tail()"
   ]
  },
  {
   "cell_type": "code",
   "execution_count": 12,
   "metadata": {},
   "outputs": [
    {
     "data": {
      "text/plain": [
       "(2677, 2)"
      ]
     },
     "execution_count": 12,
     "metadata": {},
     "output_type": "execute_result"
    }
   ],
   "source": [
    "codiesp_d_dev.shape"
   ]
  },
  {
   "cell_type": "markdown",
   "metadata": {},
   "source": [
    "We check if there are duplicated document-code associations:"
   ]
  },
  {
   "cell_type": "code",
   "execution_count": 13,
   "metadata": {},
   "outputs": [
    {
     "data": {
      "text/plain": [
       "False"
      ]
     },
     "execution_count": 13,
     "metadata": {},
     "output_type": "execute_result"
    }
   ],
   "source": [
    "codiesp_d_dev.duplicated().any()"
   ]
  },
  {
   "cell_type": "markdown",
   "metadata": {},
   "source": [
    "We check the number of distinct CIE10-Diagnóstico development codes:"
   ]
  },
  {
   "cell_type": "code",
   "execution_count": 14,
   "metadata": {},
   "outputs": [],
   "source": [
    "dev_d_codes = set(codiesp_d_dev[\"code\"])"
   ]
  },
  {
   "cell_type": "code",
   "execution_count": 15,
   "metadata": {},
   "outputs": [
    {
     "data": {
      "text/plain": [
       "1158"
      ]
     },
     "execution_count": 15,
     "metadata": {},
     "output_type": "execute_result"
    }
   ],
   "source": [
    "len(dev_d_codes)"
   ]
  },
  {
   "cell_type": "markdown",
   "metadata": {},
   "source": [
    "Check if all dev codes are present in train subset:"
   ]
  },
  {
   "cell_type": "code",
   "execution_count": 16,
   "metadata": {},
   "outputs": [],
   "source": [
    "not_common_codes = dev_d_codes - train_d_codes"
   ]
  },
  {
   "cell_type": "code",
   "execution_count": 17,
   "metadata": {},
   "outputs": [
    {
     "name": "stdout",
     "output_type": "stream",
     "text": [
      "427\n",
      "0.3687392055267703\n"
     ]
    }
   ],
   "source": [
    "print(len(not_common_codes))\n",
    "print(len(not_common_codes)/len(dev_d_codes))"
   ]
  },
  {
   "cell_type": "markdown",
   "metadata": {},
   "source": [
    "~37% of the codes contained in the development set are NOT contained in the train set."
   ]
  },
  {
   "cell_type": "markdown",
   "metadata": {},
   "source": [
    "The number of total distinct codes present in train and dev subsets is:"
   ]
  },
  {
   "cell_type": "code",
   "execution_count": 18,
   "metadata": {},
   "outputs": [],
   "source": [
    "d_codes = dev_d_codes.union(train_d_codes)"
   ]
  },
  {
   "cell_type": "code",
   "execution_count": 19,
   "metadata": {},
   "outputs": [
    {
     "data": {
      "text/plain": [
       "2194"
      ]
     },
     "execution_count": 19,
     "metadata": {},
     "output_type": "execute_result"
    }
   ],
   "source": [
    "len(d_codes)"
   ]
  },
  {
   "cell_type": "markdown",
   "metadata": {},
   "source": [
    "### CodiEsp Procedure Coding"
   ]
  },
  {
   "cell_type": "code",
   "execution_count": 20,
   "metadata": {},
   "outputs": [
    {
     "name": "stdout",
     "output_type": "stream",
     "text": [
      "CPU times: user 2.79 ms, sys: 375 µs, total: 3.17 ms\n",
      "Wall time: 19.4 ms\n"
     ]
    }
   ],
   "source": [
    "%%time\n",
    "\n",
    "codiesp_p_train = pd.read_table(\"../datasets/final_dataset_v3_to_publish/train/trainP.tsv\", sep='\\t', header=None)"
   ]
  },
  {
   "cell_type": "code",
   "execution_count": 21,
   "metadata": {},
   "outputs": [],
   "source": [
    "codiesp_p_train.columns = [\"document\", \"code\"]"
   ]
  },
  {
   "cell_type": "code",
   "execution_count": 22,
   "metadata": {},
   "outputs": [
    {
     "data": {
      "text/html": [
       "<div>\n",
       "<style scoped>\n",
       "    .dataframe tbody tr th:only-of-type {\n",
       "        vertical-align: middle;\n",
       "    }\n",
       "\n",
       "    .dataframe tbody tr th {\n",
       "        vertical-align: top;\n",
       "    }\n",
       "\n",
       "    .dataframe thead th {\n",
       "        text-align: right;\n",
       "    }\n",
       "</style>\n",
       "<table border=\"1\" class=\"dataframe\">\n",
       "  <thead>\n",
       "    <tr style=\"text-align: right;\">\n",
       "      <th></th>\n",
       "      <th>document</th>\n",
       "      <th>code</th>\n",
       "    </tr>\n",
       "  </thead>\n",
       "  <tbody>\n",
       "    <tr>\n",
       "      <th>1545</th>\n",
       "      <td>S2254-28842014000200009-1</td>\n",
       "      <td>5a1d</td>\n",
       "    </tr>\n",
       "    <tr>\n",
       "      <th>1546</th>\n",
       "      <td>S2254-28842014000200009-1</td>\n",
       "      <td>06hn</td>\n",
       "    </tr>\n",
       "    <tr>\n",
       "      <th>1547</th>\n",
       "      <td>S2254-28842014000200009-1</td>\n",
       "      <td>3e1m39z</td>\n",
       "    </tr>\n",
       "    <tr>\n",
       "      <th>1548</th>\n",
       "      <td>S2340-98942015000100005-1</td>\n",
       "      <td>0dtp</td>\n",
       "    </tr>\n",
       "    <tr>\n",
       "      <th>1549</th>\n",
       "      <td>S2340-98942015000100005-1</td>\n",
       "      <td>0fb0</td>\n",
       "    </tr>\n",
       "  </tbody>\n",
       "</table>\n",
       "</div>"
      ],
      "text/plain": [
       "                       document     code\n",
       "1545  S2254-28842014000200009-1     5a1d\n",
       "1546  S2254-28842014000200009-1     06hn\n",
       "1547  S2254-28842014000200009-1  3e1m39z\n",
       "1548  S2340-98942015000100005-1     0dtp\n",
       "1549  S2340-98942015000100005-1     0fb0"
      ]
     },
     "execution_count": 22,
     "metadata": {},
     "output_type": "execute_result"
    }
   ],
   "source": [
    "codiesp_p_train.tail()"
   ]
  },
  {
   "cell_type": "code",
   "execution_count": 23,
   "metadata": {},
   "outputs": [
    {
     "data": {
      "text/plain": [
       "(1550, 2)"
      ]
     },
     "execution_count": 23,
     "metadata": {},
     "output_type": "execute_result"
    }
   ],
   "source": [
    "codiesp_p_train.shape"
   ]
  },
  {
   "cell_type": "markdown",
   "metadata": {},
   "source": [
    "We check if there are duplicated document-code associations:"
   ]
  },
  {
   "cell_type": "code",
   "execution_count": 24,
   "metadata": {},
   "outputs": [
    {
     "data": {
      "text/plain": [
       "False"
      ]
     },
     "execution_count": 24,
     "metadata": {},
     "output_type": "execute_result"
    }
   ],
   "source": [
    "codiesp_p_train.duplicated().any()"
   ]
  },
  {
   "cell_type": "markdown",
   "metadata": {},
   "source": [
    "We check the number of distinct CIE-10-Procedimiento training codes:"
   ]
  },
  {
   "cell_type": "code",
   "execution_count": 25,
   "metadata": {},
   "outputs": [],
   "source": [
    "train_p_codes = set(codiesp_p_train[\"code\"])"
   ]
  },
  {
   "cell_type": "code",
   "execution_count": 26,
   "metadata": {},
   "outputs": [
    {
     "data": {
      "text/plain": [
       "563"
      ]
     },
     "execution_count": 26,
     "metadata": {},
     "output_type": "execute_result"
    }
   ],
   "source": [
    "len(train_p_codes)"
   ]
  },
  {
   "cell_type": "markdown",
   "metadata": {},
   "source": [
    "Now, development set:"
   ]
  },
  {
   "cell_type": "code",
   "execution_count": 28,
   "metadata": {},
   "outputs": [
    {
     "name": "stdout",
     "output_type": "stream",
     "text": [
      "CPU times: user 4.66 ms, sys: 86 µs, total: 4.75 ms\n",
      "Wall time: 15.1 ms\n"
     ]
    }
   ],
   "source": [
    "%%time\n",
    "\n",
    "codiesp_p_dev = pd.read_table(\"../datasets/final_dataset_v3_to_publish/dev/devP.tsv\", sep='\\t', header=None)"
   ]
  },
  {
   "cell_type": "code",
   "execution_count": 29,
   "metadata": {},
   "outputs": [],
   "source": [
    "codiesp_p_dev.columns = [\"document\", \"code\"]"
   ]
  },
  {
   "cell_type": "code",
   "execution_count": 30,
   "metadata": {},
   "outputs": [
    {
     "data": {
      "text/html": [
       "<div>\n",
       "<style scoped>\n",
       "    .dataframe tbody tr th:only-of-type {\n",
       "        vertical-align: middle;\n",
       "    }\n",
       "\n",
       "    .dataframe tbody tr th {\n",
       "        vertical-align: top;\n",
       "    }\n",
       "\n",
       "    .dataframe thead th {\n",
       "        text-align: right;\n",
       "    }\n",
       "</style>\n",
       "<table border=\"1\" class=\"dataframe\">\n",
       "  <thead>\n",
       "    <tr style=\"text-align: right;\">\n",
       "      <th></th>\n",
       "      <th>document</th>\n",
       "      <th>code</th>\n",
       "    </tr>\n",
       "  </thead>\n",
       "  <tbody>\n",
       "    <tr>\n",
       "      <th>812</th>\n",
       "      <td>S2254-28842013000300009-1</td>\n",
       "      <td>5a1d</td>\n",
       "    </tr>\n",
       "    <tr>\n",
       "      <th>813</th>\n",
       "      <td>S2254-28842013000300009-1</td>\n",
       "      <td>3e1m39z</td>\n",
       "    </tr>\n",
       "    <tr>\n",
       "      <th>814</th>\n",
       "      <td>S2254-28842013000300009-1</td>\n",
       "      <td>bw03zzz</td>\n",
       "    </tr>\n",
       "    <tr>\n",
       "      <th>815</th>\n",
       "      <td>S2254-28842013000300009-1</td>\n",
       "      <td>bw00zzz</td>\n",
       "    </tr>\n",
       "    <tr>\n",
       "      <th>816</th>\n",
       "      <td>S2254-28842013000300009-1</td>\n",
       "      <td>bw20</td>\n",
       "    </tr>\n",
       "  </tbody>\n",
       "</table>\n",
       "</div>"
      ],
      "text/plain": [
       "                      document     code\n",
       "812  S2254-28842013000300009-1     5a1d\n",
       "813  S2254-28842013000300009-1  3e1m39z\n",
       "814  S2254-28842013000300009-1  bw03zzz\n",
       "815  S2254-28842013000300009-1  bw00zzz\n",
       "816  S2254-28842013000300009-1     bw20"
      ]
     },
     "execution_count": 30,
     "metadata": {},
     "output_type": "execute_result"
    }
   ],
   "source": [
    "codiesp_p_dev.tail()"
   ]
  },
  {
   "cell_type": "code",
   "execution_count": 31,
   "metadata": {},
   "outputs": [
    {
     "data": {
      "text/plain": [
       "(817, 2)"
      ]
     },
     "execution_count": 31,
     "metadata": {},
     "output_type": "execute_result"
    }
   ],
   "source": [
    "codiesp_p_dev.shape"
   ]
  },
  {
   "cell_type": "markdown",
   "metadata": {},
   "source": [
    "We check if there are duplicated document-code associations:"
   ]
  },
  {
   "cell_type": "code",
   "execution_count": 32,
   "metadata": {},
   "outputs": [
    {
     "data": {
      "text/plain": [
       "False"
      ]
     },
     "execution_count": 32,
     "metadata": {},
     "output_type": "execute_result"
    }
   ],
   "source": [
    "codiesp_p_dev.duplicated().any()"
   ]
  },
  {
   "cell_type": "markdown",
   "metadata": {},
   "source": [
    "We check the number of distinct CIE10-Procedimiento development codes:"
   ]
  },
  {
   "cell_type": "code",
   "execution_count": 33,
   "metadata": {},
   "outputs": [],
   "source": [
    "dev_p_codes = set(codiesp_p_dev[\"code\"])"
   ]
  },
  {
   "cell_type": "code",
   "execution_count": 34,
   "metadata": {},
   "outputs": [
    {
     "data": {
      "text/plain": [
       "375"
      ]
     },
     "execution_count": 34,
     "metadata": {},
     "output_type": "execute_result"
    }
   ],
   "source": [
    "len(dev_p_codes)"
   ]
  },
  {
   "cell_type": "markdown",
   "metadata": {},
   "source": [
    "Check if all dev codes are present in train subset:"
   ]
  },
  {
   "cell_type": "code",
   "execution_count": 35,
   "metadata": {},
   "outputs": [],
   "source": [
    "not_common_codes = dev_p_codes - train_p_codes"
   ]
  },
  {
   "cell_type": "code",
   "execution_count": 36,
   "metadata": {},
   "outputs": [
    {
     "name": "stdout",
     "output_type": "stream",
     "text": [
      "164\n",
      "0.43733333333333335\n"
     ]
    }
   ],
   "source": [
    "print(len(not_common_codes))\n",
    "print(len(not_common_codes)/len(dev_p_codes))"
   ]
  },
  {
   "cell_type": "markdown",
   "metadata": {},
   "source": [
    "~44% of the codes contained in the development set are NOT contained in the train set."
   ]
  },
  {
   "cell_type": "markdown",
   "metadata": {},
   "source": [
    "The number of total distinct codes present in train and dev subsets is:"
   ]
  },
  {
   "cell_type": "code",
   "execution_count": 37,
   "metadata": {},
   "outputs": [],
   "source": [
    "p_codes = dev_p_codes.union(train_p_codes)"
   ]
  },
  {
   "cell_type": "code",
   "execution_count": 38,
   "metadata": {},
   "outputs": [
    {
     "data": {
      "text/plain": [
       "727"
      ]
     },
     "execution_count": 38,
     "metadata": {},
     "output_type": "execute_result"
    }
   ],
   "source": [
    "len(p_codes)"
   ]
  },
  {
   "cell_type": "markdown",
   "metadata": {},
   "source": [
    "Total number of distinct CIE10-Diagnóstico and CIE10-Procedimiento codes contained in train and dev subsets:"
   ]
  },
  {
   "cell_type": "code",
   "execution_count": 39,
   "metadata": {},
   "outputs": [
    {
     "data": {
      "text/plain": [
       "2921"
      ]
     },
     "execution_count": 39,
     "metadata": {},
     "output_type": "execute_result"
    }
   ],
   "source": [
    "len(d_codes) + len(p_codes)"
   ]
  },
  {
   "cell_type": "code",
   "execution_count": 40,
   "metadata": {},
   "outputs": [
    {
     "data": {
      "text/plain": [
       "set()"
      ]
     },
     "execution_count": 40,
     "metadata": {},
     "output_type": "execute_result"
    }
   ],
   "source": [
    "# Empty set expected\n",
    "d_codes & p_codes"
   ]
  },
  {
   "cell_type": "markdown",
   "metadata": {},
   "source": [
    "To sum up, we generate the following tables, using the same format as the one used to describe the corpora generated for the previous [CLEF shared tasks](https://pdfs.semanticscholar.org/7726/a6eff024adee59c1bf21d88f5a0f75239f29.pdf):"
   ]
  },
  {
   "cell_type": "code",
   "execution_count": 41,
   "metadata": {},
   "outputs": [],
   "source": [
    "# Information extracted from: https://temu.bsc.es/codiesp/index.php/category/data/\n",
    "total_uniq_codes = 3427"
   ]
  },
  {
   "cell_type": "markdown",
   "metadata": {},
   "source": [
    "All codes table:"
   ]
  },
  {
   "cell_type": "code",
   "execution_count": 42,
   "metadata": {},
   "outputs": [
    {
     "data": {
      "text/html": [
       "<div>\n",
       "<style scoped>\n",
       "    .dataframe tbody tr th:only-of-type {\n",
       "        vertical-align: middle;\n",
       "    }\n",
       "\n",
       "    .dataframe tbody tr th {\n",
       "        vertical-align: top;\n",
       "    }\n",
       "\n",
       "    .dataframe thead th {\n",
       "        text-align: right;\n",
       "    }\n",
       "</style>\n",
       "<table border=\"1\" class=\"dataframe\">\n",
       "  <thead>\n",
       "    <tr style=\"text-align: right;\">\n",
       "      <th></th>\n",
       "      <th>Training</th>\n",
       "      <th>Development</th>\n",
       "      <th>Test</th>\n",
       "    </tr>\n",
       "  </thead>\n",
       "  <tbody>\n",
       "    <tr>\n",
       "      <th>Documents</th>\n",
       "      <td>500</td>\n",
       "      <td>250.000000</td>\n",
       "      <td>250.0</td>\n",
       "    </tr>\n",
       "    <tr>\n",
       "      <th>Total CIE codes</th>\n",
       "      <td>7189</td>\n",
       "      <td>3494.000000</td>\n",
       "      <td>NaN</td>\n",
       "    </tr>\n",
       "    <tr>\n",
       "      <th>Avg CIE codes per doc.</th>\n",
       "      <td>14.378</td>\n",
       "      <td>13.976000</td>\n",
       "      <td>NaN</td>\n",
       "    </tr>\n",
       "    <tr>\n",
       "      <th>Unique CIE codes</th>\n",
       "      <td>2330</td>\n",
       "      <td>1533.000000</td>\n",
       "      <td>NaN</td>\n",
       "    </tr>\n",
       "    <tr>\n",
       "      <th>Avg samples (docs) per CIE code</th>\n",
       "      <td>3.08541</td>\n",
       "      <td>2.279191</td>\n",
       "      <td>NaN</td>\n",
       "    </tr>\n",
       "    <tr>\n",
       "      <th>Unique unseen CIE codes</th>\n",
       "      <td>-</td>\n",
       "      <td>591.000000</td>\n",
       "      <td>506.0</td>\n",
       "    </tr>\n",
       "  </tbody>\n",
       "</table>\n",
       "</div>"
      ],
      "text/plain": [
       "                                Training  Development   Test\n",
       "Documents                            500   250.000000  250.0\n",
       "Total CIE codes                     7189  3494.000000    NaN\n",
       "Avg CIE codes per doc.            14.378    13.976000    NaN\n",
       "Unique CIE codes                    2330  1533.000000    NaN\n",
       "Avg samples (docs) per CIE code  3.08541     2.279191    NaN\n",
       "Unique unseen CIE codes                -   591.000000  506.0"
      ]
     },
     "execution_count": 42,
     "metadata": {},
     "output_type": "execute_result"
    }
   ],
   "source": [
    "# CodiEsp corpus table\n",
    "col_names = ['Training', 'Development', 'Test']\n",
    "row_names = ['Documents', 'Total CIE codes', 'Avg CIE codes per doc.', 'Unique CIE codes', 'Avg samples (docs) per CIE code', \n",
    "             'Unique unseen CIE codes']\n",
    "all_tab = pd.DataFrame({col_names[0]: [len(set(codiesp_d_train.document).union(set(codiesp_p_train.document))), \n",
    "                                       codiesp_d_train.shape[0] + codiesp_p_train.shape[0], \n",
    "                                       (codiesp_d_train.shape[0] + codiesp_p_train.shape[0])/len(set(codiesp_d_train.document).union(set(codiesp_p_train.document))), \n",
    "                                       len(train_d_codes) + len(train_p_codes), \n",
    "                                       (codiesp_d_train.shape[0] + codiesp_p_train.shape[0])/(len(train_d_codes) + len(train_p_codes)), \n",
    "                                       \"-\"], \n",
    "              col_names[1]: [len(set(codiesp_d_dev.document).union(set(codiesp_p_dev.document))), \n",
    "                             codiesp_d_dev.shape[0] + codiesp_p_dev.shape[0], \n",
    "                             (codiesp_d_dev.shape[0] + codiesp_p_dev.shape[0])/len(set(codiesp_d_dev.document).union(set(codiesp_p_dev.document))), \n",
    "                             len(dev_d_codes) + len(dev_p_codes), \n",
    "                             (codiesp_d_dev.shape[0] + codiesp_p_dev.shape[0])/(len(dev_d_codes) + len(dev_p_codes)), \n",
    "                             len(dev_d_codes - train_d_codes) + len(dev_p_codes - train_p_codes)],\n",
    "              col_names[2]: [250, None, None, None, None, total_uniq_codes - len(d_codes) - len(p_codes)]}, \n",
    "                       index=row_names)\n",
    "all_tab = all_tab.reindex(columns=col_names)\n",
    "all_tab"
   ]
  },
  {
   "cell_type": "markdown",
   "metadata": {},
   "source": [
    "CIE-Diagnóstico codes table:"
   ]
  },
  {
   "cell_type": "code",
   "execution_count": 43,
   "metadata": {},
   "outputs": [
    {
     "data": {
      "text/plain": [
       "0.784392822367506"
      ]
     },
     "execution_count": 43,
     "metadata": {},
     "output_type": "execute_result"
    }
   ],
   "source": [
    "# CIE-Diagnóstico codes fraction in Train\n",
    "codiesp_d_train.shape[0]/(codiesp_d_train.shape[0] + codiesp_p_train.shape[0])"
   ]
  },
  {
   "cell_type": "code",
   "execution_count": 44,
   "metadata": {},
   "outputs": [
    {
     "data": {
      "text/plain": [
       "0.766170578133944"
      ]
     },
     "execution_count": 44,
     "metadata": {},
     "output_type": "execute_result"
    }
   ],
   "source": [
    "# CIE-Diagnóstico codes fraction in Dev\n",
    "codiesp_d_dev.shape[0]/(codiesp_d_dev.shape[0] + codiesp_p_dev.shape[0])"
   ]
  },
  {
   "cell_type": "code",
   "execution_count": 45,
   "metadata": {},
   "outputs": [
    {
     "data": {
      "text/plain": [
       "0.7583690987124464"
      ]
     },
     "execution_count": 45,
     "metadata": {},
     "output_type": "execute_result"
    }
   ],
   "source": [
    "# Unique CIE-Diagnóstico codes fraction in Train\n",
    "len(train_d_codes)/(len(train_d_codes) + len(train_p_codes))"
   ]
  },
  {
   "cell_type": "code",
   "execution_count": 46,
   "metadata": {},
   "outputs": [
    {
     "data": {
      "text/plain": [
       "0.7553816046966731"
      ]
     },
     "execution_count": 46,
     "metadata": {},
     "output_type": "execute_result"
    }
   ],
   "source": [
    "# Unique CIE-Diagnóstico codes fraction in Dev\n",
    "len(dev_d_codes)/(len(dev_d_codes) + len(dev_p_codes))"
   ]
  },
  {
   "cell_type": "code",
   "execution_count": 47,
   "metadata": {},
   "outputs": [
    {
     "data": {
      "text/plain": [
       "0.7511126326600479"
      ]
     },
     "execution_count": 47,
     "metadata": {},
     "output_type": "execute_result"
    }
   ],
   "source": [
    "# Unique CIE-Diagnóstico codes fraction in Train+Dev\n",
    "len(d_codes)/(len(d_codes) + len(p_codes))"
   ]
  },
  {
   "cell_type": "code",
   "execution_count": 48,
   "metadata": {},
   "outputs": [
    {
     "data": {
      "text/plain": [
       "0.7225042301184433"
      ]
     },
     "execution_count": 48,
     "metadata": {},
     "output_type": "execute_result"
    }
   ],
   "source": [
    "# Unique unseen CIE-Diagnóstico codes fraction in Dev\n",
    "len(dev_d_codes - train_d_codes)/(len(dev_d_codes - train_d_codes) + len(dev_p_codes - train_p_codes))"
   ]
  },
  {
   "cell_type": "code",
   "execution_count": 50,
   "metadata": {},
   "outputs": [],
   "source": [
    "# Approximate Unique unseen CIE-Diagnóstico codes fraction in Test\n",
    "d_approx = 0.75"
   ]
  },
  {
   "cell_type": "code",
   "execution_count": 51,
   "metadata": {},
   "outputs": [
    {
     "data": {
      "text/html": [
       "<div>\n",
       "<style scoped>\n",
       "    .dataframe tbody tr th:only-of-type {\n",
       "        vertical-align: middle;\n",
       "    }\n",
       "\n",
       "    .dataframe tbody tr th {\n",
       "        vertical-align: top;\n",
       "    }\n",
       "\n",
       "    .dataframe thead th {\n",
       "        text-align: right;\n",
       "    }\n",
       "</style>\n",
       "<table border=\"1\" class=\"dataframe\">\n",
       "  <thead>\n",
       "    <tr style=\"text-align: right;\">\n",
       "      <th></th>\n",
       "      <th>Training</th>\n",
       "      <th>Development</th>\n",
       "      <th>Test</th>\n",
       "    </tr>\n",
       "  </thead>\n",
       "  <tbody>\n",
       "    <tr>\n",
       "      <th>Documents</th>\n",
       "      <td>500</td>\n",
       "      <td>250.000000</td>\n",
       "      <td>~250</td>\n",
       "    </tr>\n",
       "    <tr>\n",
       "      <th>Total CIE codes</th>\n",
       "      <td>5639</td>\n",
       "      <td>2677.000000</td>\n",
       "      <td>None</td>\n",
       "    </tr>\n",
       "    <tr>\n",
       "      <th>Avg CIE codes per doc.</th>\n",
       "      <td>11.278</td>\n",
       "      <td>10.708000</td>\n",
       "      <td>None</td>\n",
       "    </tr>\n",
       "    <tr>\n",
       "      <th>Unique CIE codes</th>\n",
       "      <td>1767</td>\n",
       "      <td>1158.000000</td>\n",
       "      <td>None</td>\n",
       "    </tr>\n",
       "    <tr>\n",
       "      <th>Avg samples (docs) per CIE code</th>\n",
       "      <td>3.19128</td>\n",
       "      <td>2.311744</td>\n",
       "      <td>None</td>\n",
       "    </tr>\n",
       "    <tr>\n",
       "      <th>Unique unseen CIE codes</th>\n",
       "      <td>-</td>\n",
       "      <td>427.000000</td>\n",
       "      <td>~379.5</td>\n",
       "    </tr>\n",
       "  </tbody>\n",
       "</table>\n",
       "</div>"
      ],
      "text/plain": [
       "                                Training  Development    Test\n",
       "Documents                            500   250.000000    ~250\n",
       "Total CIE codes                     5639  2677.000000    None\n",
       "Avg CIE codes per doc.            11.278    10.708000    None\n",
       "Unique CIE codes                    1767  1158.000000    None\n",
       "Avg samples (docs) per CIE code  3.19128     2.311744    None\n",
       "Unique unseen CIE codes                -   427.000000  ~379.5"
      ]
     },
     "execution_count": 51,
     "metadata": {},
     "output_type": "execute_result"
    }
   ],
   "source": [
    "# CodiEsp-Diagnóstico codes table\n",
    "d_tab = pd.DataFrame({col_names[0]: [len(set(codiesp_d_train.document)), \n",
    "                                       codiesp_d_train.shape[0], \n",
    "                                       codiesp_d_train.shape[0]/len(set(codiesp_d_train.document)), \n",
    "                                       len(train_d_codes), \n",
    "                                     codiesp_d_train.shape[0]/len(train_d_codes), \n",
    "                                       \"-\"], \n",
    "              col_names[1]: [len(set(codiesp_d_dev.document)), \n",
    "                             codiesp_d_dev.shape[0], \n",
    "                             codiesp_d_dev.shape[0]/len(set(codiesp_d_dev.document)), \n",
    "                             len(dev_d_codes), \n",
    "                             codiesp_d_dev.shape[0]/len(dev_d_codes), \n",
    "                             len(dev_d_codes - train_d_codes)],\n",
    "              col_names[2]: [\"~250\", None, None, None, None, \"~\" + str((total_uniq_codes - len(d_codes) - len(p_codes))*d_approx)]}, \n",
    "                       index=row_names)\n",
    "d_tab = d_tab.reindex(columns=col_names)\n",
    "d_tab"
   ]
  },
  {
   "cell_type": "code",
   "execution_count": 52,
   "metadata": {},
   "outputs": [
    {
     "data": {
      "text/plain": [
       "0.87"
      ]
     },
     "execution_count": 52,
     "metadata": {},
     "output_type": "execute_result"
    }
   ],
   "source": [
    "# CIE-Procedimiento documents fraction in Train\n",
    "len(set(codiesp_p_train.document))/len(set(codiesp_d_train.document).union(set(codiesp_p_train.document)))"
   ]
  },
  {
   "cell_type": "code",
   "execution_count": 53,
   "metadata": {},
   "outputs": [
    {
     "data": {
      "text/plain": [
       "0.888"
      ]
     },
     "execution_count": 53,
     "metadata": {},
     "output_type": "execute_result"
    }
   ],
   "source": [
    "# CIE-Procedimiento documents fraction in Dev\n",
    "len(set(codiesp_p_dev.document))/len(set(codiesp_d_dev.document).union(set(codiesp_p_dev.document)))"
   ]
  },
  {
   "cell_type": "code",
   "execution_count": 54,
   "metadata": {},
   "outputs": [],
   "source": [
    "# Approximate CIE-Procedimiento documents fraction in Test\n",
    "c_approx = 0.88"
   ]
  },
  {
   "cell_type": "code",
   "execution_count": 55,
   "metadata": {},
   "outputs": [
    {
     "data": {
      "text/html": [
       "<div>\n",
       "<style scoped>\n",
       "    .dataframe tbody tr th:only-of-type {\n",
       "        vertical-align: middle;\n",
       "    }\n",
       "\n",
       "    .dataframe tbody tr th {\n",
       "        vertical-align: top;\n",
       "    }\n",
       "\n",
       "    .dataframe thead th {\n",
       "        text-align: right;\n",
       "    }\n",
       "</style>\n",
       "<table border=\"1\" class=\"dataframe\">\n",
       "  <thead>\n",
       "    <tr style=\"text-align: right;\">\n",
       "      <th></th>\n",
       "      <th>Training</th>\n",
       "      <th>Development</th>\n",
       "      <th>Test</th>\n",
       "    </tr>\n",
       "  </thead>\n",
       "  <tbody>\n",
       "    <tr>\n",
       "      <th>Documents</th>\n",
       "      <td>435</td>\n",
       "      <td>222.000000</td>\n",
       "      <td>~220.0</td>\n",
       "    </tr>\n",
       "    <tr>\n",
       "      <th>Total CIE codes</th>\n",
       "      <td>1550</td>\n",
       "      <td>817.000000</td>\n",
       "      <td>None</td>\n",
       "    </tr>\n",
       "    <tr>\n",
       "      <th>Avg CIE codes per doc.</th>\n",
       "      <td>3.56322</td>\n",
       "      <td>3.680180</td>\n",
       "      <td>None</td>\n",
       "    </tr>\n",
       "    <tr>\n",
       "      <th>Unique CIE codes</th>\n",
       "      <td>563</td>\n",
       "      <td>375.000000</td>\n",
       "      <td>None</td>\n",
       "    </tr>\n",
       "    <tr>\n",
       "      <th>Avg samples (docs) per CIE code</th>\n",
       "      <td>2.75311</td>\n",
       "      <td>2.178667</td>\n",
       "      <td>None</td>\n",
       "    </tr>\n",
       "    <tr>\n",
       "      <th>Unique unseen CIE codes</th>\n",
       "      <td>-</td>\n",
       "      <td>164.000000</td>\n",
       "      <td>~126.5</td>\n",
       "    </tr>\n",
       "  </tbody>\n",
       "</table>\n",
       "</div>"
      ],
      "text/plain": [
       "                                Training  Development    Test\n",
       "Documents                            435   222.000000  ~220.0\n",
       "Total CIE codes                     1550   817.000000    None\n",
       "Avg CIE codes per doc.           3.56322     3.680180    None\n",
       "Unique CIE codes                     563   375.000000    None\n",
       "Avg samples (docs) per CIE code  2.75311     2.178667    None\n",
       "Unique unseen CIE codes                -   164.000000  ~126.5"
      ]
     },
     "execution_count": 55,
     "metadata": {},
     "output_type": "execute_result"
    }
   ],
   "source": [
    "# CodiEsp-Procedimiento codes table\n",
    "p_tab = pd.DataFrame({col_names[0]: [len(set(codiesp_p_train.document)), \n",
    "                                       codiesp_p_train.shape[0], \n",
    "                                       codiesp_p_train.shape[0]/len(set(codiesp_p_train.document)), \n",
    "                                       len(train_p_codes), \n",
    "                                     codiesp_p_train.shape[0]/len(train_p_codes),\n",
    "                                       \"-\"], \n",
    "              col_names[1]: [len(set(codiesp_p_dev.document)), \n",
    "                             codiesp_p_dev.shape[0], \n",
    "                             codiesp_p_dev.shape[0]/len(set(codiesp_p_dev.document)), \n",
    "                             len(dev_p_codes), \n",
    "                             codiesp_p_dev.shape[0]/len(dev_p_codes),\n",
    "                             len(dev_p_codes - train_p_codes)],\n",
    "              col_names[2]: [\"~\" + str(c_approx*250), None, None, None, None,\n",
    "                             \"~\" + str((total_uniq_codes - len(d_codes) - len(p_codes))*(1-d_approx))]},\n",
    "                       index=row_names)\n",
    "p_tab = p_tab.reindex(columns=col_names)\n",
    "p_tab"
   ]
  },
  {
   "cell_type": "markdown",
   "metadata": {},
   "source": [
    "As it can be observed from the last table, there are documents without any CIE-Procedimiento codes associated to them."
   ]
  },
  {
   "cell_type": "markdown",
   "metadata": {},
   "source": [
    "### Corpus summary\n",
    "\n",
    "Description of CodiEsp (train, development and test) corpus:"
   ]
  },
  {
   "cell_type": "code",
   "execution_count": 56,
   "metadata": {},
   "outputs": [
    {
     "data": {
      "text/html": [
       "<div>\n",
       "<style scoped>\n",
       "    .dataframe tbody tr th:only-of-type {\n",
       "        vertical-align: middle;\n",
       "    }\n",
       "\n",
       "    .dataframe tbody tr th {\n",
       "        vertical-align: top;\n",
       "    }\n",
       "\n",
       "    .dataframe thead th {\n",
       "        text-align: right;\n",
       "    }\n",
       "</style>\n",
       "<table border=\"1\" class=\"dataframe\">\n",
       "  <thead>\n",
       "    <tr style=\"text-align: right;\">\n",
       "      <th></th>\n",
       "      <th>Training</th>\n",
       "      <th>Development</th>\n",
       "      <th>Test</th>\n",
       "    </tr>\n",
       "  </thead>\n",
       "  <tbody>\n",
       "    <tr>\n",
       "      <th>Documents</th>\n",
       "      <td>500</td>\n",
       "      <td>250.000000</td>\n",
       "      <td>250.0</td>\n",
       "    </tr>\n",
       "    <tr>\n",
       "      <th>Total CIE codes</th>\n",
       "      <td>7189</td>\n",
       "      <td>3494.000000</td>\n",
       "      <td>NaN</td>\n",
       "    </tr>\n",
       "    <tr>\n",
       "      <th>Avg CIE codes per doc.</th>\n",
       "      <td>14.378</td>\n",
       "      <td>13.976000</td>\n",
       "      <td>NaN</td>\n",
       "    </tr>\n",
       "    <tr>\n",
       "      <th>Unique CIE codes</th>\n",
       "      <td>2330</td>\n",
       "      <td>1533.000000</td>\n",
       "      <td>NaN</td>\n",
       "    </tr>\n",
       "    <tr>\n",
       "      <th>Avg samples (docs) per CIE code</th>\n",
       "      <td>3.08541</td>\n",
       "      <td>2.279191</td>\n",
       "      <td>NaN</td>\n",
       "    </tr>\n",
       "    <tr>\n",
       "      <th>Unique unseen CIE codes</th>\n",
       "      <td>-</td>\n",
       "      <td>591.000000</td>\n",
       "      <td>506.0</td>\n",
       "    </tr>\n",
       "  </tbody>\n",
       "</table>\n",
       "</div>"
      ],
      "text/plain": [
       "                                Training  Development   Test\n",
       "Documents                            500   250.000000  250.0\n",
       "Total CIE codes                     7189  3494.000000    NaN\n",
       "Avg CIE codes per doc.            14.378    13.976000    NaN\n",
       "Unique CIE codes                    2330  1533.000000    NaN\n",
       "Avg samples (docs) per CIE code  3.08541     2.279191    NaN\n",
       "Unique unseen CIE codes                -   591.000000  506.0"
      ]
     },
     "execution_count": 56,
     "metadata": {},
     "output_type": "execute_result"
    }
   ],
   "source": [
    "# Diagnóstico+Procedimiento\n",
    "all_tab"
   ]
  },
  {
   "cell_type": "code",
   "execution_count": 57,
   "metadata": {},
   "outputs": [
    {
     "data": {
      "text/html": [
       "<div>\n",
       "<style scoped>\n",
       "    .dataframe tbody tr th:only-of-type {\n",
       "        vertical-align: middle;\n",
       "    }\n",
       "\n",
       "    .dataframe tbody tr th {\n",
       "        vertical-align: top;\n",
       "    }\n",
       "\n",
       "    .dataframe thead th {\n",
       "        text-align: right;\n",
       "    }\n",
       "</style>\n",
       "<table border=\"1\" class=\"dataframe\">\n",
       "  <thead>\n",
       "    <tr style=\"text-align: right;\">\n",
       "      <th></th>\n",
       "      <th>Training</th>\n",
       "      <th>Development</th>\n",
       "      <th>Test</th>\n",
       "    </tr>\n",
       "  </thead>\n",
       "  <tbody>\n",
       "    <tr>\n",
       "      <th>Documents</th>\n",
       "      <td>500</td>\n",
       "      <td>250.000000</td>\n",
       "      <td>~250</td>\n",
       "    </tr>\n",
       "    <tr>\n",
       "      <th>Total CIE codes</th>\n",
       "      <td>5639</td>\n",
       "      <td>2677.000000</td>\n",
       "      <td>None</td>\n",
       "    </tr>\n",
       "    <tr>\n",
       "      <th>Avg CIE codes per doc.</th>\n",
       "      <td>11.278</td>\n",
       "      <td>10.708000</td>\n",
       "      <td>None</td>\n",
       "    </tr>\n",
       "    <tr>\n",
       "      <th>Unique CIE codes</th>\n",
       "      <td>1767</td>\n",
       "      <td>1158.000000</td>\n",
       "      <td>None</td>\n",
       "    </tr>\n",
       "    <tr>\n",
       "      <th>Avg samples (docs) per CIE code</th>\n",
       "      <td>3.19128</td>\n",
       "      <td>2.311744</td>\n",
       "      <td>None</td>\n",
       "    </tr>\n",
       "    <tr>\n",
       "      <th>Unique unseen CIE codes</th>\n",
       "      <td>-</td>\n",
       "      <td>427.000000</td>\n",
       "      <td>~379.5</td>\n",
       "    </tr>\n",
       "  </tbody>\n",
       "</table>\n",
       "</div>"
      ],
      "text/plain": [
       "                                Training  Development    Test\n",
       "Documents                            500   250.000000    ~250\n",
       "Total CIE codes                     5639  2677.000000    None\n",
       "Avg CIE codes per doc.            11.278    10.708000    None\n",
       "Unique CIE codes                    1767  1158.000000    None\n",
       "Avg samples (docs) per CIE code  3.19128     2.311744    None\n",
       "Unique unseen CIE codes                -   427.000000  ~379.5"
      ]
     },
     "execution_count": 57,
     "metadata": {},
     "output_type": "execute_result"
    }
   ],
   "source": [
    "# Diagnóstico\n",
    "d_tab"
   ]
  },
  {
   "cell_type": "code",
   "execution_count": 58,
   "metadata": {},
   "outputs": [
    {
     "data": {
      "text/html": [
       "<div>\n",
       "<style scoped>\n",
       "    .dataframe tbody tr th:only-of-type {\n",
       "        vertical-align: middle;\n",
       "    }\n",
       "\n",
       "    .dataframe tbody tr th {\n",
       "        vertical-align: top;\n",
       "    }\n",
       "\n",
       "    .dataframe thead th {\n",
       "        text-align: right;\n",
       "    }\n",
       "</style>\n",
       "<table border=\"1\" class=\"dataframe\">\n",
       "  <thead>\n",
       "    <tr style=\"text-align: right;\">\n",
       "      <th></th>\n",
       "      <th>Train</th>\n",
       "      <th>Dev</th>\n",
       "      <th>Train+Dev</th>\n",
       "    </tr>\n",
       "  </thead>\n",
       "  <tbody>\n",
       "    <tr>\n",
       "      <th>count</th>\n",
       "      <td>1767.000000</td>\n",
       "      <td>1158.000000</td>\n",
       "      <td>2194.000000</td>\n",
       "    </tr>\n",
       "    <tr>\n",
       "      <th>mean</th>\n",
       "      <td>3.191285</td>\n",
       "      <td>2.311744</td>\n",
       "      <td>3.790337</td>\n",
       "    </tr>\n",
       "    <tr>\n",
       "      <th>std</th>\n",
       "      <td>6.921389</td>\n",
       "      <td>3.770245</td>\n",
       "      <td>9.123652</td>\n",
       "    </tr>\n",
       "    <tr>\n",
       "      <th>min</th>\n",
       "      <td>1.000000</td>\n",
       "      <td>1.000000</td>\n",
       "      <td>1.000000</td>\n",
       "    </tr>\n",
       "    <tr>\n",
       "      <th>25%</th>\n",
       "      <td>1.000000</td>\n",
       "      <td>1.000000</td>\n",
       "      <td>1.000000</td>\n",
       "    </tr>\n",
       "    <tr>\n",
       "      <th>50%</th>\n",
       "      <td>1.000000</td>\n",
       "      <td>1.000000</td>\n",
       "      <td>1.000000</td>\n",
       "    </tr>\n",
       "    <tr>\n",
       "      <th>75%</th>\n",
       "      <td>3.000000</td>\n",
       "      <td>2.000000</td>\n",
       "      <td>3.000000</td>\n",
       "    </tr>\n",
       "    <tr>\n",
       "      <th>max</th>\n",
       "      <td>112.000000</td>\n",
       "      <td>51.000000</td>\n",
       "      <td>163.000000</td>\n",
       "    </tr>\n",
       "  </tbody>\n",
       "</table>\n",
       "</div>"
      ],
      "text/plain": [
       "             Train          Dev    Train+Dev\n",
       "count  1767.000000  1158.000000  2194.000000\n",
       "mean      3.191285     2.311744     3.790337\n",
       "std       6.921389     3.770245     9.123652\n",
       "min       1.000000     1.000000     1.000000\n",
       "25%       1.000000     1.000000     1.000000\n",
       "50%       1.000000     1.000000     1.000000\n",
       "75%       3.000000     2.000000     3.000000\n",
       "max     112.000000    51.000000   163.000000"
      ]
     },
     "execution_count": 58,
     "metadata": {},
     "output_type": "execute_result"
    }
   ],
   "source": [
    "# Samples per CIE-Diagnóstico code distribution\n",
    "col_names_sample = [\"Train\", \"Dev\", \"Train+Dev\"]\n",
    "d_sample_code = pd.DataFrame({col_names_sample[0]: codiesp_d_train[\"code\"].value_counts().describe(),\n",
    "                              col_names_sample[1]: codiesp_d_dev[\"code\"].value_counts().describe(),\n",
    "                              col_names_sample[2]: codiesp_d_train[\"code\"].append(codiesp_d_dev[\"code\"]).value_counts().describe()})\n",
    "d_sample_code = d_sample_code.reindex(columns=col_names_sample)\n",
    "d_sample_code"
   ]
  },
  {
   "cell_type": "code",
   "execution_count": 59,
   "metadata": {},
   "outputs": [
    {
     "data": {
      "text/html": [
       "<div>\n",
       "<style scoped>\n",
       "    .dataframe tbody tr th:only-of-type {\n",
       "        vertical-align: middle;\n",
       "    }\n",
       "\n",
       "    .dataframe tbody tr th {\n",
       "        vertical-align: top;\n",
       "    }\n",
       "\n",
       "    .dataframe thead th {\n",
       "        text-align: right;\n",
       "    }\n",
       "</style>\n",
       "<table border=\"1\" class=\"dataframe\">\n",
       "  <thead>\n",
       "    <tr style=\"text-align: right;\">\n",
       "      <th></th>\n",
       "      <th>Training</th>\n",
       "      <th>Development</th>\n",
       "      <th>Test</th>\n",
       "    </tr>\n",
       "  </thead>\n",
       "  <tbody>\n",
       "    <tr>\n",
       "      <th>Documents</th>\n",
       "      <td>435</td>\n",
       "      <td>222.000000</td>\n",
       "      <td>~220.0</td>\n",
       "    </tr>\n",
       "    <tr>\n",
       "      <th>Total CIE codes</th>\n",
       "      <td>1550</td>\n",
       "      <td>817.000000</td>\n",
       "      <td>None</td>\n",
       "    </tr>\n",
       "    <tr>\n",
       "      <th>Avg CIE codes per doc.</th>\n",
       "      <td>3.56322</td>\n",
       "      <td>3.680180</td>\n",
       "      <td>None</td>\n",
       "    </tr>\n",
       "    <tr>\n",
       "      <th>Unique CIE codes</th>\n",
       "      <td>563</td>\n",
       "      <td>375.000000</td>\n",
       "      <td>None</td>\n",
       "    </tr>\n",
       "    <tr>\n",
       "      <th>Avg samples (docs) per CIE code</th>\n",
       "      <td>2.75311</td>\n",
       "      <td>2.178667</td>\n",
       "      <td>None</td>\n",
       "    </tr>\n",
       "    <tr>\n",
       "      <th>Unique unseen CIE codes</th>\n",
       "      <td>-</td>\n",
       "      <td>164.000000</td>\n",
       "      <td>~126.5</td>\n",
       "    </tr>\n",
       "  </tbody>\n",
       "</table>\n",
       "</div>"
      ],
      "text/plain": [
       "                                Training  Development    Test\n",
       "Documents                            435   222.000000  ~220.0\n",
       "Total CIE codes                     1550   817.000000    None\n",
       "Avg CIE codes per doc.           3.56322     3.680180    None\n",
       "Unique CIE codes                     563   375.000000    None\n",
       "Avg samples (docs) per CIE code  2.75311     2.178667    None\n",
       "Unique unseen CIE codes                -   164.000000  ~126.5"
      ]
     },
     "execution_count": 59,
     "metadata": {},
     "output_type": "execute_result"
    }
   ],
   "source": [
    "# Procedimiento\n",
    "p_tab"
   ]
  },
  {
   "cell_type": "code",
   "execution_count": 60,
   "metadata": {},
   "outputs": [
    {
     "data": {
      "text/html": [
       "<div>\n",
       "<style scoped>\n",
       "    .dataframe tbody tr th:only-of-type {\n",
       "        vertical-align: middle;\n",
       "    }\n",
       "\n",
       "    .dataframe tbody tr th {\n",
       "        vertical-align: top;\n",
       "    }\n",
       "\n",
       "    .dataframe thead th {\n",
       "        text-align: right;\n",
       "    }\n",
       "</style>\n",
       "<table border=\"1\" class=\"dataframe\">\n",
       "  <thead>\n",
       "    <tr style=\"text-align: right;\">\n",
       "      <th></th>\n",
       "      <th>Train</th>\n",
       "      <th>Dev</th>\n",
       "      <th>Train+Dev</th>\n",
       "    </tr>\n",
       "  </thead>\n",
       "  <tbody>\n",
       "    <tr>\n",
       "      <th>count</th>\n",
       "      <td>563.000000</td>\n",
       "      <td>375.000000</td>\n",
       "      <td>727.000000</td>\n",
       "    </tr>\n",
       "    <tr>\n",
       "      <th>mean</th>\n",
       "      <td>2.753108</td>\n",
       "      <td>2.178667</td>\n",
       "      <td>3.255846</td>\n",
       "    </tr>\n",
       "    <tr>\n",
       "      <th>std</th>\n",
       "      <td>5.603234</td>\n",
       "      <td>3.415531</td>\n",
       "      <td>7.580642</td>\n",
       "    </tr>\n",
       "    <tr>\n",
       "      <th>min</th>\n",
       "      <td>1.000000</td>\n",
       "      <td>1.000000</td>\n",
       "      <td>1.000000</td>\n",
       "    </tr>\n",
       "    <tr>\n",
       "      <th>25%</th>\n",
       "      <td>1.000000</td>\n",
       "      <td>1.000000</td>\n",
       "      <td>1.000000</td>\n",
       "    </tr>\n",
       "    <tr>\n",
       "      <th>50%</th>\n",
       "      <td>1.000000</td>\n",
       "      <td>1.000000</td>\n",
       "      <td>1.000000</td>\n",
       "    </tr>\n",
       "    <tr>\n",
       "      <th>75%</th>\n",
       "      <td>2.000000</td>\n",
       "      <td>2.000000</td>\n",
       "      <td>2.000000</td>\n",
       "    </tr>\n",
       "    <tr>\n",
       "      <th>max</th>\n",
       "      <td>67.000000</td>\n",
       "      <td>40.000000</td>\n",
       "      <td>107.000000</td>\n",
       "    </tr>\n",
       "  </tbody>\n",
       "</table>\n",
       "</div>"
      ],
      "text/plain": [
       "            Train         Dev   Train+Dev\n",
       "count  563.000000  375.000000  727.000000\n",
       "mean     2.753108    2.178667    3.255846\n",
       "std      5.603234    3.415531    7.580642\n",
       "min      1.000000    1.000000    1.000000\n",
       "25%      1.000000    1.000000    1.000000\n",
       "50%      1.000000    1.000000    1.000000\n",
       "75%      2.000000    2.000000    2.000000\n",
       "max     67.000000   40.000000  107.000000"
      ]
     },
     "execution_count": 60,
     "metadata": {},
     "output_type": "execute_result"
    }
   ],
   "source": [
    "# Samples per CIE-Procedimiento code distribution\n",
    "p_sample_code = pd.DataFrame({col_names_sample[0]: codiesp_p_train[\"code\"].value_counts().describe(),\n",
    "                              col_names_sample[1]: codiesp_p_dev[\"code\"].value_counts().describe(),\n",
    "                              col_names_sample[2]: codiesp_p_train[\"code\"].append(codiesp_p_dev[\"code\"]).value_counts().describe()})\n",
    "p_sample_code = p_sample_code.reindex(columns=col_names_sample)\n",
    "p_sample_code"
   ]
  },
  {
   "cell_type": "markdown",
   "metadata": {},
   "source": [
    "## CIE tree-shape structure\n",
    "\n",
    "As described in the [official documentation](https://eciemaps.mscbs.gob.es/ecieMaps/documentation/documentation.html#), the tree-shape structure of CIE-10 Diagnóstico codes corresponds to:\n",
    "\n",
    "* Capítulo (first char)\n",
    "    * Categoría (3-char)\n",
    "        * Sub-categoría (4-char)\n",
    "            * Sub-clasificación (5-7 -char)\n",
    "\n",
    "Also, to refer to a group of related catagories, more generic codes using '-' character to link different categories can be employed, such as 'O03-O06'.\n",
    "\n",
    "In the case of CIE-10 Procedimiento codes, all codes have a 7-character length (see [official documentation](https://www.mscbs.gob.es/estadEstudios/estadisticas/normalizacion/CIE10/M_Ref_USA_2016.pdf)), having no hierarchical structure.\n",
    "\n",
    "We explore the hierarchical levels of the CIE-10 codes annotated in CodiEsp corpus."
   ]
  },
  {
   "cell_type": "markdown",
   "metadata": {},
   "source": [
    "### CIE10-Diagnóstico\n",
    "\n",
    "In the [Additional Guidelines](https://temu.bsc.es/codiesp/index.php/2019/09/19/annotation-guidelines/), CIE10-Diagnóstico annotated codes are reported to be minimum 3-character long."
   ]
  },
  {
   "cell_type": "code",
   "execution_count": 61,
   "metadata": {},
   "outputs": [
    {
     "data": {
      "text/html": [
       "<div>\n",
       "<style scoped>\n",
       "    .dataframe tbody tr th:only-of-type {\n",
       "        vertical-align: middle;\n",
       "    }\n",
       "\n",
       "    .dataframe tbody tr th {\n",
       "        vertical-align: top;\n",
       "    }\n",
       "\n",
       "    .dataframe thead th {\n",
       "        text-align: right;\n",
       "    }\n",
       "</style>\n",
       "<table border=\"1\" class=\"dataframe\">\n",
       "  <thead>\n",
       "    <tr style=\"text-align: right;\">\n",
       "      <th></th>\n",
       "      <th>document</th>\n",
       "      <th>code</th>\n",
       "    </tr>\n",
       "  </thead>\n",
       "  <tbody>\n",
       "    <tr>\n",
       "      <th>0</th>\n",
       "      <td>S0004-06142005000700014-1</td>\n",
       "      <td>n44.8</td>\n",
       "    </tr>\n",
       "    <tr>\n",
       "      <th>1</th>\n",
       "      <td>S0004-06142005000700014-1</td>\n",
       "      <td>z20.818</td>\n",
       "    </tr>\n",
       "    <tr>\n",
       "      <th>2</th>\n",
       "      <td>S0004-06142005000700014-1</td>\n",
       "      <td>r60.9</td>\n",
       "    </tr>\n",
       "    <tr>\n",
       "      <th>3</th>\n",
       "      <td>S0004-06142005000700014-1</td>\n",
       "      <td>r52</td>\n",
       "    </tr>\n",
       "    <tr>\n",
       "      <th>4</th>\n",
       "      <td>S0004-06142005000700014-1</td>\n",
       "      <td>a23.9</td>\n",
       "    </tr>\n",
       "  </tbody>\n",
       "</table>\n",
       "</div>"
      ],
      "text/plain": [
       "                    document     code\n",
       "0  S0004-06142005000700014-1    n44.8\n",
       "1  S0004-06142005000700014-1  z20.818\n",
       "2  S0004-06142005000700014-1    r60.9\n",
       "3  S0004-06142005000700014-1      r52\n",
       "4  S0004-06142005000700014-1    a23.9"
      ]
     },
     "execution_count": 61,
     "metadata": {},
     "output_type": "execute_result"
    }
   ],
   "source": [
    "codiesp_d_train.head()"
   ]
  },
  {
   "cell_type": "code",
   "execution_count": 62,
   "metadata": {},
   "outputs": [],
   "source": [
    "codiesp_d_train_codes = pd.DataFrame({'code': codiesp_d_train[\"code\"].drop_duplicates()})"
   ]
  },
  {
   "cell_type": "code",
   "execution_count": 63,
   "metadata": {
    "scrolled": true
   },
   "outputs": [
    {
     "data": {
      "text/plain": [
       "(1767, 1)"
      ]
     },
     "execution_count": 63,
     "metadata": {},
     "output_type": "execute_result"
    }
   ],
   "source": [
    "codiesp_d_train_codes.shape"
   ]
  },
  {
   "cell_type": "code",
   "execution_count": 64,
   "metadata": {},
   "outputs": [],
   "source": [
    "codiesp_d_dev_codes = pd.DataFrame({'code': codiesp_d_dev[\"code\"].drop_duplicates()})"
   ]
  },
  {
   "cell_type": "code",
   "execution_count": 65,
   "metadata": {
    "scrolled": true
   },
   "outputs": [
    {
     "data": {
      "text/plain": [
       "(1158, 1)"
      ]
     },
     "execution_count": 65,
     "metadata": {},
     "output_type": "execute_result"
    }
   ],
   "source": [
    "codiesp_d_dev_codes.shape"
   ]
  },
  {
   "cell_type": "code",
   "execution_count": 66,
   "metadata": {},
   "outputs": [],
   "source": [
    "codiesp_d_train_codes[\"n_char\"] = codiesp_d_train_codes[\"code\"].apply(lambda x: len(x))"
   ]
  },
  {
   "cell_type": "code",
   "execution_count": 67,
   "metadata": {},
   "outputs": [
    {
     "data": {
      "text/html": [
       "<div>\n",
       "<style scoped>\n",
       "    .dataframe tbody tr th:only-of-type {\n",
       "        vertical-align: middle;\n",
       "    }\n",
       "\n",
       "    .dataframe tbody tr th {\n",
       "        vertical-align: top;\n",
       "    }\n",
       "\n",
       "    .dataframe thead th {\n",
       "        text-align: right;\n",
       "    }\n",
       "</style>\n",
       "<table border=\"1\" class=\"dataframe\">\n",
       "  <thead>\n",
       "    <tr style=\"text-align: right;\">\n",
       "      <th></th>\n",
       "      <th>code</th>\n",
       "      <th>n_char</th>\n",
       "    </tr>\n",
       "  </thead>\n",
       "  <tbody>\n",
       "    <tr>\n",
       "      <th>0</th>\n",
       "      <td>n44.8</td>\n",
       "      <td>5</td>\n",
       "    </tr>\n",
       "    <tr>\n",
       "      <th>1</th>\n",
       "      <td>z20.818</td>\n",
       "      <td>7</td>\n",
       "    </tr>\n",
       "    <tr>\n",
       "      <th>2</th>\n",
       "      <td>r60.9</td>\n",
       "      <td>5</td>\n",
       "    </tr>\n",
       "    <tr>\n",
       "      <th>3</th>\n",
       "      <td>r52</td>\n",
       "      <td>3</td>\n",
       "    </tr>\n",
       "    <tr>\n",
       "      <th>4</th>\n",
       "      <td>a23.9</td>\n",
       "      <td>5</td>\n",
       "    </tr>\n",
       "  </tbody>\n",
       "</table>\n",
       "</div>"
      ],
      "text/plain": [
       "      code  n_char\n",
       "0    n44.8       5\n",
       "1  z20.818       7\n",
       "2    r60.9       5\n",
       "3      r52       3\n",
       "4    a23.9       5"
      ]
     },
     "execution_count": 67,
     "metadata": {},
     "output_type": "execute_result"
    }
   ],
   "source": [
    "codiesp_d_train_codes.head()"
   ]
  },
  {
   "cell_type": "code",
   "execution_count": 68,
   "metadata": {},
   "outputs": [],
   "source": [
    "codiesp_d_dev_codes[\"n_char\"] = codiesp_d_dev_codes[\"code\"].apply(lambda x: len(x))"
   ]
  },
  {
   "cell_type": "code",
   "execution_count": 69,
   "metadata": {},
   "outputs": [
    {
     "data": {
      "text/plain": [
       "5    890\n",
       "6    520\n",
       "7    272\n",
       "3     79\n",
       "8      6\n",
       "Name: n_char, dtype: int64"
      ]
     },
     "execution_count": 69,
     "metadata": {},
     "output_type": "execute_result"
    }
   ],
   "source": [
    "codiesp_d_train_codes[\"n_char\"].value_counts(normalize=False)"
   ]
  },
  {
   "cell_type": "code",
   "execution_count": 70,
   "metadata": {},
   "outputs": [
    {
     "data": {
      "text/plain": [
       "5    0.503679\n",
       "6    0.294284\n",
       "7    0.153933\n",
       "3    0.044709\n",
       "8    0.003396\n",
       "Name: n_char, dtype: float64"
      ]
     },
     "execution_count": 70,
     "metadata": {},
     "output_type": "execute_result"
    }
   ],
   "source": [
    "codiesp_d_train_codes[\"n_char\"].value_counts(normalize=True)"
   ]
  },
  {
   "cell_type": "code",
   "execution_count": 71,
   "metadata": {},
   "outputs": [
    {
     "data": {
      "text/plain": [
       "5    623\n",
       "6    323\n",
       "7    160\n",
       "3     48\n",
       "8      4\n",
       "Name: n_char, dtype: int64"
      ]
     },
     "execution_count": 71,
     "metadata": {},
     "output_type": "execute_result"
    }
   ],
   "source": [
    "codiesp_d_dev_codes[\"n_char\"].value_counts(normalize=False)"
   ]
  },
  {
   "cell_type": "code",
   "execution_count": 72,
   "metadata": {},
   "outputs": [
    {
     "data": {
      "text/plain": [
       "5    0.537997\n",
       "6    0.278929\n",
       "7    0.138169\n",
       "3    0.041451\n",
       "8    0.003454\n",
       "Name: n_char, dtype: float64"
      ]
     },
     "execution_count": 72,
     "metadata": {},
     "output_type": "execute_result"
    }
   ],
   "source": [
    "codiesp_d_dev_codes[\"n_char\"].value_counts(normalize=True)"
   ]
  },
  {
   "cell_type": "code",
   "execution_count": 73,
   "metadata": {},
   "outputs": [
    {
     "data": {
      "text/plain": [
       "0"
      ]
     },
     "execution_count": 73,
     "metadata": {},
     "output_type": "execute_result"
    }
   ],
   "source": [
    "# Train: Number of generic codes\n",
    "sum(codiesp_d_train_codes[\"code\"].apply(lambda x: '-' in x))"
   ]
  },
  {
   "cell_type": "code",
   "execution_count": 74,
   "metadata": {},
   "outputs": [
    {
     "data": {
      "text/plain": [
       "0"
      ]
     },
     "execution_count": 74,
     "metadata": {},
     "output_type": "execute_result"
    }
   ],
   "source": [
    "# Dev: Number of generic codes\n",
    "sum(codiesp_d_dev_codes[\"code\"].apply(lambda x: '-' in x))"
   ]
  },
  {
   "cell_type": "code",
   "execution_count": 75,
   "metadata": {},
   "outputs": [
    {
     "data": {
      "text/html": [
       "<div>\n",
       "<style scoped>\n",
       "    .dataframe tbody tr th:only-of-type {\n",
       "        vertical-align: middle;\n",
       "    }\n",
       "\n",
       "    .dataframe tbody tr th {\n",
       "        vertical-align: top;\n",
       "    }\n",
       "\n",
       "    .dataframe thead th {\n",
       "        text-align: right;\n",
       "    }\n",
       "</style>\n",
       "<table border=\"1\" class=\"dataframe\">\n",
       "  <thead>\n",
       "    <tr style=\"text-align: right;\">\n",
       "      <th></th>\n",
       "      <th>code</th>\n",
       "      <th>n_char</th>\n",
       "    </tr>\n",
       "  </thead>\n",
       "  <tbody>\n",
       "    <tr>\n",
       "      <th>1084</th>\n",
       "      <td>r40.2421</td>\n",
       "      <td>8</td>\n",
       "    </tr>\n",
       "    <tr>\n",
       "      <th>4461</th>\n",
       "      <td>r40.2410</td>\n",
       "      <td>8</td>\n",
       "    </tr>\n",
       "    <tr>\n",
       "      <th>4513</th>\n",
       "      <td>r40.2430</td>\n",
       "      <td>8</td>\n",
       "    </tr>\n",
       "    <tr>\n",
       "      <th>4588</th>\n",
       "      <td>o41.1290</td>\n",
       "      <td>8</td>\n",
       "    </tr>\n",
       "    <tr>\n",
       "      <th>5112</th>\n",
       "      <td>r40.2420</td>\n",
       "      <td>8</td>\n",
       "    </tr>\n",
       "    <tr>\n",
       "      <th>5153</th>\n",
       "      <td>o40.9xx0</td>\n",
       "      <td>8</td>\n",
       "    </tr>\n",
       "  </tbody>\n",
       "</table>\n",
       "</div>"
      ],
      "text/plain": [
       "          code  n_char\n",
       "1084  r40.2421       8\n",
       "4461  r40.2410       8\n",
       "4513  r40.2430       8\n",
       "4588  o41.1290       8\n",
       "5112  r40.2420       8\n",
       "5153  o40.9xx0       8"
      ]
     },
     "execution_count": 75,
     "metadata": {},
     "output_type": "execute_result"
    }
   ],
   "source": [
    "# Train: Codes 8-char long\n",
    "codiesp_d_train_codes[codiesp_d_train_codes[\"n_char\"] == 8]"
   ]
  },
  {
   "cell_type": "code",
   "execution_count": 76,
   "metadata": {},
   "outputs": [
    {
     "data": {
      "text/html": [
       "<div>\n",
       "<style scoped>\n",
       "    .dataframe tbody tr th:only-of-type {\n",
       "        vertical-align: middle;\n",
       "    }\n",
       "\n",
       "    .dataframe tbody tr th {\n",
       "        vertical-align: top;\n",
       "    }\n",
       "\n",
       "    .dataframe thead th {\n",
       "        text-align: right;\n",
       "    }\n",
       "</style>\n",
       "<table border=\"1\" class=\"dataframe\">\n",
       "  <thead>\n",
       "    <tr style=\"text-align: right;\">\n",
       "      <th></th>\n",
       "      <th>code</th>\n",
       "      <th>n_char</th>\n",
       "    </tr>\n",
       "  </thead>\n",
       "  <tbody>\n",
       "    <tr>\n",
       "      <th>83</th>\n",
       "      <td>s39.94xa</td>\n",
       "      <td>8</td>\n",
       "    </tr>\n",
       "    <tr>\n",
       "      <th>624</th>\n",
       "      <td>r40.2412</td>\n",
       "      <td>8</td>\n",
       "    </tr>\n",
       "    <tr>\n",
       "      <th>1437</th>\n",
       "      <td>s42.322b</td>\n",
       "      <td>8</td>\n",
       "    </tr>\n",
       "    <tr>\n",
       "      <th>2203</th>\n",
       "      <td>r40.2430</td>\n",
       "      <td>8</td>\n",
       "    </tr>\n",
       "  </tbody>\n",
       "</table>\n",
       "</div>"
      ],
      "text/plain": [
       "          code  n_char\n",
       "83    s39.94xa       8\n",
       "624   r40.2412       8\n",
       "1437  s42.322b       8\n",
       "2203  r40.2430       8"
      ]
     },
     "execution_count": 76,
     "metadata": {},
     "output_type": "execute_result"
    }
   ],
   "source": [
    "# Dev: Codes 8-char long\n",
    "codiesp_d_dev_codes[codiesp_d_dev_codes[\"n_char\"] == 8]"
   ]
  },
  {
   "cell_type": "code",
   "execution_count": 77,
   "metadata": {},
   "outputs": [
    {
     "data": {
      "text/plain": [
       "3    79\n",
       "Name: n_char, dtype: int64"
      ]
     },
     "execution_count": 77,
     "metadata": {},
     "output_type": "execute_result"
    }
   ],
   "source": [
    "# Train: Only 3-long codes do not contain '.' character\n",
    "codiesp_d_train_codes[codiesp_d_train_codes[\"code\"].apply(lambda x: '.' not in x)][\"n_char\"].value_counts()"
   ]
  },
  {
   "cell_type": "code",
   "execution_count": 78,
   "metadata": {},
   "outputs": [
    {
     "data": {
      "text/plain": [
       "3    48\n",
       "Name: n_char, dtype: int64"
      ]
     },
     "execution_count": 78,
     "metadata": {},
     "output_type": "execute_result"
    }
   ],
   "source": [
    "# Dev: Only 3-long codes do not contain '.' character\n",
    "codiesp_d_dev_codes[codiesp_d_dev_codes[\"code\"].apply(lambda x: '.' not in x)][\"n_char\"].value_counts()"
   ]
  },
  {
   "cell_type": "markdown",
   "metadata": {},
   "source": [
    "To sum up, we can say that, both in Train and Dev subsets, CIE-Diagnóstico codes char-length vary from 3 to 8. Actually, the distribution of the codes char-length is nearly the same in both Train and Dev subsets."
   ]
  },
  {
   "cell_type": "markdown",
   "metadata": {},
   "source": [
    "### CIE10-Procedimiento\n",
    "\n",
    "In the [Additional Guidelines](https://temu.bsc.es/codiesp/index.php/2019/09/19/annotation-guidelines/), CIE10-Procedimiento annotated codes are reported to be either 4 or 7-character long."
   ]
  },
  {
   "cell_type": "code",
   "execution_count": 79,
   "metadata": {},
   "outputs": [
    {
     "data": {
      "text/html": [
       "<div>\n",
       "<style scoped>\n",
       "    .dataframe tbody tr th:only-of-type {\n",
       "        vertical-align: middle;\n",
       "    }\n",
       "\n",
       "    .dataframe tbody tr th {\n",
       "        vertical-align: top;\n",
       "    }\n",
       "\n",
       "    .dataframe thead th {\n",
       "        text-align: right;\n",
       "    }\n",
       "</style>\n",
       "<table border=\"1\" class=\"dataframe\">\n",
       "  <thead>\n",
       "    <tr style=\"text-align: right;\">\n",
       "      <th></th>\n",
       "      <th>document</th>\n",
       "      <th>code</th>\n",
       "    </tr>\n",
       "  </thead>\n",
       "  <tbody>\n",
       "    <tr>\n",
       "      <th>0</th>\n",
       "      <td>S0004-06142005000700014-1</td>\n",
       "      <td>bw03zzz</td>\n",
       "    </tr>\n",
       "    <tr>\n",
       "      <th>1</th>\n",
       "      <td>S0004-06142005000700014-1</td>\n",
       "      <td>3e02329</td>\n",
       "    </tr>\n",
       "    <tr>\n",
       "      <th>2</th>\n",
       "      <td>S0004-06142005000700014-1</td>\n",
       "      <td>bw40zzz</td>\n",
       "    </tr>\n",
       "    <tr>\n",
       "      <th>3</th>\n",
       "      <td>S0004-06142005000700014-1</td>\n",
       "      <td>bv44zzz</td>\n",
       "    </tr>\n",
       "    <tr>\n",
       "      <th>4</th>\n",
       "      <td>S0004-06142005000700014-1</td>\n",
       "      <td>bn20</td>\n",
       "    </tr>\n",
       "  </tbody>\n",
       "</table>\n",
       "</div>"
      ],
      "text/plain": [
       "                    document     code\n",
       "0  S0004-06142005000700014-1  bw03zzz\n",
       "1  S0004-06142005000700014-1  3e02329\n",
       "2  S0004-06142005000700014-1  bw40zzz\n",
       "3  S0004-06142005000700014-1  bv44zzz\n",
       "4  S0004-06142005000700014-1     bn20"
      ]
     },
     "execution_count": 79,
     "metadata": {},
     "output_type": "execute_result"
    }
   ],
   "source": [
    "codiesp_p_train.head()"
   ]
  },
  {
   "cell_type": "code",
   "execution_count": 80,
   "metadata": {},
   "outputs": [],
   "source": [
    "codiesp_p_train_codes = pd.DataFrame({'code': codiesp_p_train[\"code\"].drop_duplicates()})"
   ]
  },
  {
   "cell_type": "code",
   "execution_count": 81,
   "metadata": {
    "scrolled": true
   },
   "outputs": [
    {
     "data": {
      "text/plain": [
       "(563, 1)"
      ]
     },
     "execution_count": 81,
     "metadata": {},
     "output_type": "execute_result"
    }
   ],
   "source": [
    "codiesp_p_train_codes.shape"
   ]
  },
  {
   "cell_type": "code",
   "execution_count": 82,
   "metadata": {},
   "outputs": [],
   "source": [
    "codiesp_p_dev_codes = pd.DataFrame({'code': codiesp_p_dev[\"code\"].drop_duplicates()})"
   ]
  },
  {
   "cell_type": "code",
   "execution_count": 83,
   "metadata": {
    "scrolled": true
   },
   "outputs": [
    {
     "data": {
      "text/plain": [
       "(375, 1)"
      ]
     },
     "execution_count": 83,
     "metadata": {},
     "output_type": "execute_result"
    }
   ],
   "source": [
    "codiesp_p_dev_codes.shape"
   ]
  },
  {
   "cell_type": "code",
   "execution_count": 84,
   "metadata": {},
   "outputs": [],
   "source": [
    "codiesp_p_train_codes[\"n_char\"] = codiesp_p_train_codes[\"code\"].apply(lambda x: len(x))"
   ]
  },
  {
   "cell_type": "code",
   "execution_count": 85,
   "metadata": {},
   "outputs": [
    {
     "data": {
      "text/html": [
       "<div>\n",
       "<style scoped>\n",
       "    .dataframe tbody tr th:only-of-type {\n",
       "        vertical-align: middle;\n",
       "    }\n",
       "\n",
       "    .dataframe tbody tr th {\n",
       "        vertical-align: top;\n",
       "    }\n",
       "\n",
       "    .dataframe thead th {\n",
       "        text-align: right;\n",
       "    }\n",
       "</style>\n",
       "<table border=\"1\" class=\"dataframe\">\n",
       "  <thead>\n",
       "    <tr style=\"text-align: right;\">\n",
       "      <th></th>\n",
       "      <th>code</th>\n",
       "      <th>n_char</th>\n",
       "    </tr>\n",
       "  </thead>\n",
       "  <tbody>\n",
       "    <tr>\n",
       "      <th>0</th>\n",
       "      <td>bw03zzz</td>\n",
       "      <td>7</td>\n",
       "    </tr>\n",
       "    <tr>\n",
       "      <th>1</th>\n",
       "      <td>3e02329</td>\n",
       "      <td>7</td>\n",
       "    </tr>\n",
       "    <tr>\n",
       "      <th>2</th>\n",
       "      <td>bw40zzz</td>\n",
       "      <td>7</td>\n",
       "    </tr>\n",
       "    <tr>\n",
       "      <th>3</th>\n",
       "      <td>bv44zzz</td>\n",
       "      <td>7</td>\n",
       "    </tr>\n",
       "    <tr>\n",
       "      <th>4</th>\n",
       "      <td>bn20</td>\n",
       "      <td>4</td>\n",
       "    </tr>\n",
       "  </tbody>\n",
       "</table>\n",
       "</div>"
      ],
      "text/plain": [
       "      code  n_char\n",
       "0  bw03zzz       7\n",
       "1  3e02329       7\n",
       "2  bw40zzz       7\n",
       "3  bv44zzz       7\n",
       "4     bn20       4"
      ]
     },
     "execution_count": 85,
     "metadata": {},
     "output_type": "execute_result"
    }
   ],
   "source": [
    "codiesp_p_train_codes.head()"
   ]
  },
  {
   "cell_type": "code",
   "execution_count": 86,
   "metadata": {},
   "outputs": [],
   "source": [
    "codiesp_p_dev_codes[\"n_char\"] = codiesp_p_dev_codes[\"code\"].apply(lambda x: len(x))"
   ]
  },
  {
   "cell_type": "code",
   "execution_count": 87,
   "metadata": {},
   "outputs": [
    {
     "data": {
      "text/plain": [
       "4    338\n",
       "7    225\n",
       "Name: n_char, dtype: int64"
      ]
     },
     "execution_count": 87,
     "metadata": {},
     "output_type": "execute_result"
    }
   ],
   "source": [
    "codiesp_p_train_codes[\"n_char\"].value_counts(normalize=False)"
   ]
  },
  {
   "cell_type": "code",
   "execution_count": 88,
   "metadata": {},
   "outputs": [
    {
     "data": {
      "text/plain": [
       "4    0.600355\n",
       "7    0.399645\n",
       "Name: n_char, dtype: float64"
      ]
     },
     "execution_count": 88,
     "metadata": {},
     "output_type": "execute_result"
    }
   ],
   "source": [
    "codiesp_p_train_codes[\"n_char\"].value_counts(normalize=True)"
   ]
  },
  {
   "cell_type": "code",
   "execution_count": 89,
   "metadata": {},
   "outputs": [
    {
     "data": {
      "text/plain": [
       "4    228\n",
       "7    147\n",
       "Name: n_char, dtype: int64"
      ]
     },
     "execution_count": 89,
     "metadata": {},
     "output_type": "execute_result"
    }
   ],
   "source": [
    "codiesp_p_dev_codes[\"n_char\"].value_counts(normalize=False)"
   ]
  },
  {
   "cell_type": "code",
   "execution_count": 90,
   "metadata": {},
   "outputs": [
    {
     "data": {
      "text/plain": [
       "4    0.608\n",
       "7    0.392\n",
       "Name: n_char, dtype: float64"
      ]
     },
     "execution_count": 90,
     "metadata": {},
     "output_type": "execute_result"
    }
   ],
   "source": [
    "codiesp_p_dev_codes[\"n_char\"].value_counts(normalize=True)"
   ]
  },
  {
   "cell_type": "markdown",
   "metadata": {},
   "source": [
    "To sum up, we can say that, both in Train and Dev subsets, CIE-Procedimiento codes char-length is either 4 or 7. Indeed, the distribution of the codes char-length is nearly the same in both Train and Dev subsets."
   ]
  },
  {
   "cell_type": "markdown",
   "metadata": {},
   "source": [
    "## Valid codes\n",
    "\n",
    "Organizers also provide a [set of valid CIE-10 codes for the task](https://zenodo.org/record/3706838#.XnIi45-YU8o). As expected, all CIE-10 codes contained in CodiEsp (train and dev) corpus are valid codes."
   ]
  },
  {
   "cell_type": "markdown",
   "metadata": {},
   "source": [
    "### CIE10-Diagnóstico"
   ]
  },
  {
   "cell_type": "code",
   "execution_count": 91,
   "metadata": {},
   "outputs": [
    {
     "name": "stdout",
     "output_type": "stream",
     "text": [
      "CPU times: user 147 ms, sys: 8.14 ms, total: 155 ms\n",
      "Wall time: 155 ms\n"
     ]
    }
   ],
   "source": [
    "%%time\n",
    "\n",
    "codiesp_d_valid = pd.read_table(\"../resources/CodiEsp-Evaluation-Script/codiesp_codes/codiesp-D_codes.tsv\", sep='\\t', \n",
    "                                header=None)"
   ]
  },
  {
   "cell_type": "code",
   "execution_count": 92,
   "metadata": {},
   "outputs": [],
   "source": [
    "codiesp_d_valid.columns = [\"code\", \"es-desc\", \"en-desc\"]"
   ]
  },
  {
   "cell_type": "code",
   "execution_count": 93,
   "metadata": {},
   "outputs": [
    {
     "data": {
      "text/html": [
       "<div>\n",
       "<style scoped>\n",
       "    .dataframe tbody tr th:only-of-type {\n",
       "        vertical-align: middle;\n",
       "    }\n",
       "\n",
       "    .dataframe tbody tr th {\n",
       "        vertical-align: top;\n",
       "    }\n",
       "\n",
       "    .dataframe thead th {\n",
       "        text-align: right;\n",
       "    }\n",
       "</style>\n",
       "<table border=\"1\" class=\"dataframe\">\n",
       "  <thead>\n",
       "    <tr style=\"text-align: right;\">\n",
       "      <th></th>\n",
       "      <th>code</th>\n",
       "      <th>es-desc</th>\n",
       "      <th>en-desc</th>\n",
       "    </tr>\n",
       "  </thead>\n",
       "  <tbody>\n",
       "    <tr>\n",
       "      <th>0</th>\n",
       "      <td>A00.0</td>\n",
       "      <td>Cólera debido a Vibrio cholerae 01, biotipo ch...</td>\n",
       "      <td>Cholera due to Vibrio cholerae 01, biovar chol...</td>\n",
       "    </tr>\n",
       "    <tr>\n",
       "      <th>1</th>\n",
       "      <td>A00.1</td>\n",
       "      <td>Cólera debido a Vibrio cholerae 01, biotipo El...</td>\n",
       "      <td>Cholera due to Vibrio cholerae 01, biovar eltor</td>\n",
       "    </tr>\n",
       "    <tr>\n",
       "      <th>2</th>\n",
       "      <td>A00.9</td>\n",
       "      <td>Cólera, no especificado</td>\n",
       "      <td>Cholera, unspecified</td>\n",
       "    </tr>\n",
       "    <tr>\n",
       "      <th>3</th>\n",
       "      <td>A01</td>\n",
       "      <td>Fiebres tifoidea y paratifoidea</td>\n",
       "      <td>NaN</td>\n",
       "    </tr>\n",
       "    <tr>\n",
       "      <th>4</th>\n",
       "      <td>A01.0</td>\n",
       "      <td>Fiebre tifoidea</td>\n",
       "      <td>NaN</td>\n",
       "    </tr>\n",
       "  </tbody>\n",
       "</table>\n",
       "</div>"
      ],
      "text/plain": [
       "    code                                            es-desc  \\\n",
       "0  A00.0  Cólera debido a Vibrio cholerae 01, biotipo ch...   \n",
       "1  A00.1  Cólera debido a Vibrio cholerae 01, biotipo El...   \n",
       "2  A00.9                            Cólera, no especificado   \n",
       "3    A01                    Fiebres tifoidea y paratifoidea   \n",
       "4  A01.0                                    Fiebre tifoidea   \n",
       "\n",
       "                                             en-desc  \n",
       "0  Cholera due to Vibrio cholerae 01, biovar chol...  \n",
       "1    Cholera due to Vibrio cholerae 01, biovar eltor  \n",
       "2                               Cholera, unspecified  \n",
       "3                                                NaN  \n",
       "4                                                NaN  "
      ]
     },
     "execution_count": 93,
     "metadata": {},
     "output_type": "execute_result"
    }
   ],
   "source": [
    "codiesp_d_valid.head()"
   ]
  },
  {
   "cell_type": "code",
   "execution_count": 94,
   "metadata": {},
   "outputs": [
    {
     "data": {
      "text/plain": [
       "(98288, 3)"
      ]
     },
     "execution_count": 94,
     "metadata": {},
     "output_type": "execute_result"
    }
   ],
   "source": [
    "codiesp_d_valid.shape"
   ]
  },
  {
   "cell_type": "markdown",
   "metadata": {},
   "source": [
    "As stated in [the web](https://zenodo.org/record/3632523#.XmQOh5-YU8p), a limited number of codes do not have an English description:"
   ]
  },
  {
   "cell_type": "code",
   "execution_count": 95,
   "metadata": {},
   "outputs": [
    {
     "data": {
      "text/plain": [
       "26944"
      ]
     },
     "execution_count": 95,
     "metadata": {},
     "output_type": "execute_result"
    }
   ],
   "source": [
    "codiesp_d_valid.isnull().values.sum()"
   ]
  },
  {
   "cell_type": "code",
   "execution_count": 96,
   "metadata": {},
   "outputs": [
    {
     "data": {
      "text/plain": [
       "26944"
      ]
     },
     "execution_count": 96,
     "metadata": {},
     "output_type": "execute_result"
    }
   ],
   "source": [
    "codiesp_d_valid[\"en-desc\"].isnull().sum()"
   ]
  },
  {
   "cell_type": "code",
   "execution_count": 97,
   "metadata": {},
   "outputs": [
    {
     "data": {
      "text/plain": [
       "0"
      ]
     },
     "execution_count": 97,
     "metadata": {},
     "output_type": "execute_result"
    }
   ],
   "source": [
    "codiesp_d_valid[\"es-desc\"].isnull().sum()"
   ]
  },
  {
   "cell_type": "code",
   "execution_count": 98,
   "metadata": {},
   "outputs": [
    {
     "data": {
      "text/plain": [
       "0"
      ]
     },
     "execution_count": 98,
     "metadata": {},
     "output_type": "execute_result"
    }
   ],
   "source": [
    "codiesp_d_valid[\"code\"].isnull().sum()"
   ]
  },
  {
   "cell_type": "markdown",
   "metadata": {},
   "source": [
    "Total number of valid codes:"
   ]
  },
  {
   "cell_type": "code",
   "execution_count": 99,
   "metadata": {},
   "outputs": [],
   "source": [
    "valid_d_codes = set(codiesp_d_valid[\"code\"])"
   ]
  },
  {
   "cell_type": "code",
   "execution_count": 100,
   "metadata": {},
   "outputs": [
    {
     "data": {
      "text/plain": [
       "98288"
      ]
     },
     "execution_count": 100,
     "metadata": {},
     "output_type": "execute_result"
    }
   ],
   "source": [
    "len(valid_d_codes)"
   ]
  },
  {
   "cell_type": "markdown",
   "metadata": {},
   "source": [
    "ALL codes contained in train and dev sets are present in the valid set:"
   ]
  },
  {
   "cell_type": "code",
   "execution_count": 101,
   "metadata": {},
   "outputs": [],
   "source": [
    "lower_valid_d_codes = {s.lower() for s in valid_d_codes}"
   ]
  },
  {
   "cell_type": "code",
   "execution_count": 102,
   "metadata": {},
   "outputs": [
    {
     "data": {
      "text/plain": [
       "0"
      ]
     },
     "execution_count": 102,
     "metadata": {},
     "output_type": "execute_result"
    }
   ],
   "source": [
    "len(d_codes - lower_valid_d_codes)"
   ]
  },
  {
   "cell_type": "markdown",
   "metadata": {},
   "source": [
    "We also explore the character-length distribution of the valid codes:"
   ]
  },
  {
   "cell_type": "code",
   "execution_count": 103,
   "metadata": {},
   "outputs": [],
   "source": [
    "df_lower_valid_d_codes = pd.DataFrame({'code': list(lower_valid_d_codes)})"
   ]
  },
  {
   "cell_type": "code",
   "execution_count": 104,
   "metadata": {},
   "outputs": [],
   "source": [
    "df_lower_valid_d_codes[\"n_char\"] = df_lower_valid_d_codes[\"code\"].apply(lambda x: len(x))"
   ]
  },
  {
   "cell_type": "code",
   "execution_count": 105,
   "metadata": {},
   "outputs": [
    {
     "data": {
      "text/plain": [
       "(98288, 2)"
      ]
     },
     "execution_count": 105,
     "metadata": {},
     "output_type": "execute_result"
    }
   ],
   "source": [
    "df_lower_valid_d_codes.shape"
   ]
  },
  {
   "cell_type": "code",
   "execution_count": 106,
   "metadata": {},
   "outputs": [
    {
     "data": {
      "text/html": [
       "<div>\n",
       "<style scoped>\n",
       "    .dataframe tbody tr th:only-of-type {\n",
       "        vertical-align: middle;\n",
       "    }\n",
       "\n",
       "    .dataframe tbody tr th {\n",
       "        vertical-align: top;\n",
       "    }\n",
       "\n",
       "    .dataframe thead th {\n",
       "        text-align: right;\n",
       "    }\n",
       "</style>\n",
       "<table border=\"1\" class=\"dataframe\">\n",
       "  <thead>\n",
       "    <tr style=\"text-align: right;\">\n",
       "      <th></th>\n",
       "      <th>code</th>\n",
       "      <th>n_char</th>\n",
       "    </tr>\n",
       "  </thead>\n",
       "  <tbody>\n",
       "    <tr>\n",
       "      <th>0</th>\n",
       "      <td>m12.0</td>\n",
       "      <td>5</td>\n",
       "    </tr>\n",
       "    <tr>\n",
       "      <th>1</th>\n",
       "      <td>t21.49</td>\n",
       "      <td>6</td>\n",
       "    </tr>\n",
       "    <tr>\n",
       "      <th>2</th>\n",
       "      <td>z04.4</td>\n",
       "      <td>5</td>\n",
       "    </tr>\n",
       "    <tr>\n",
       "      <th>3</th>\n",
       "      <td>s04.40xs</td>\n",
       "      <td>8</td>\n",
       "    </tr>\n",
       "    <tr>\n",
       "      <th>4</th>\n",
       "      <td>s46.329s</td>\n",
       "      <td>8</td>\n",
       "    </tr>\n",
       "  </tbody>\n",
       "</table>\n",
       "</div>"
      ],
      "text/plain": [
       "       code  n_char\n",
       "0     m12.0       5\n",
       "1    t21.49       6\n",
       "2     z04.4       5\n",
       "3  s04.40xs       8\n",
       "4  s46.329s       8"
      ]
     },
     "execution_count": 106,
     "metadata": {},
     "output_type": "execute_result"
    }
   ],
   "source": [
    "df_lower_valid_d_codes.head()"
   ]
  },
  {
   "cell_type": "code",
   "execution_count": 107,
   "metadata": {},
   "outputs": [
    {
     "data": {
      "text/plain": [
       "8    49920\n",
       "7    22003\n",
       "6    14474\n",
       "5     9982\n",
       "3     1909\n",
       "Name: n_char, dtype: int64"
      ]
     },
     "execution_count": 107,
     "metadata": {},
     "output_type": "execute_result"
    }
   ],
   "source": [
    "df_lower_valid_d_codes[\"n_char\"].value_counts(normalize=False)"
   ]
  },
  {
   "cell_type": "code",
   "execution_count": 108,
   "metadata": {},
   "outputs": [
    {
     "data": {
      "text/plain": [
       "8    0.507895\n",
       "7    0.223863\n",
       "6    0.147261\n",
       "5    0.101559\n",
       "3    0.019423\n",
       "Name: n_char, dtype: float64"
      ]
     },
     "execution_count": 108,
     "metadata": {},
     "output_type": "execute_result"
    }
   ],
   "source": [
    "df_lower_valid_d_codes[\"n_char\"].value_counts(normalize=True)"
   ]
  },
  {
   "cell_type": "code",
   "execution_count": 109,
   "metadata": {},
   "outputs": [
    {
     "data": {
      "text/plain": [
       "0"
      ]
     },
     "execution_count": 109,
     "metadata": {},
     "output_type": "execute_result"
    }
   ],
   "source": [
    "# Number of generic codes\n",
    "sum(df_lower_valid_d_codes[\"code\"].apply(lambda x: '-' in x))"
   ]
  },
  {
   "cell_type": "code",
   "execution_count": 110,
   "metadata": {},
   "outputs": [
    {
     "data": {
      "text/plain": [
       "3    1909\n",
       "Name: n_char, dtype: int64"
      ]
     },
     "execution_count": 110,
     "metadata": {},
     "output_type": "execute_result"
    }
   ],
   "source": [
    "# Only 3-long codes do not contain '.' character\n",
    "df_lower_valid_d_codes[df_lower_valid_d_codes[\"code\"].apply(lambda x: '.' not in x)][\"n_char\"].value_counts()"
   ]
  },
  {
   "cell_type": "markdown",
   "metadata": {},
   "source": [
    "As previously reported for the codes in CodiEsp, CIE-Diagnóstico valid codes char-length vary from 3 to 8."
   ]
  },
  {
   "cell_type": "markdown",
   "metadata": {},
   "source": [
    "### CIE10-Procedimiento"
   ]
  },
  {
   "cell_type": "code",
   "execution_count": 112,
   "metadata": {},
   "outputs": [
    {
     "name": "stdout",
     "output_type": "stream",
     "text": [
      "CPU times: user 130 ms, sys: 10.5 ms, total: 141 ms\n",
      "Wall time: 140 ms\n"
     ]
    }
   ],
   "source": [
    "%%time\n",
    "\n",
    "codiesp_p_valid = pd.read_table(\"../resources/CodiEsp-Evaluation-Script/codiesp_codes/codiesp-P_codes.tsv\", sep='\\t', header=None)"
   ]
  },
  {
   "cell_type": "code",
   "execution_count": 113,
   "metadata": {},
   "outputs": [],
   "source": [
    "codiesp_p_valid.columns = [\"code\", \"es-desc\", \"en-desc\"]"
   ]
  },
  {
   "cell_type": "code",
   "execution_count": 114,
   "metadata": {},
   "outputs": [
    {
     "data": {
      "text/html": [
       "<div>\n",
       "<style scoped>\n",
       "    .dataframe tbody tr th:only-of-type {\n",
       "        vertical-align: middle;\n",
       "    }\n",
       "\n",
       "    .dataframe tbody tr th {\n",
       "        vertical-align: top;\n",
       "    }\n",
       "\n",
       "    .dataframe thead th {\n",
       "        text-align: right;\n",
       "    }\n",
       "</style>\n",
       "<table border=\"1\" class=\"dataframe\">\n",
       "  <thead>\n",
       "    <tr style=\"text-align: right;\">\n",
       "      <th></th>\n",
       "      <th>code</th>\n",
       "      <th>es-desc</th>\n",
       "      <th>en-desc</th>\n",
       "    </tr>\n",
       "  </thead>\n",
       "  <tbody>\n",
       "    <tr>\n",
       "      <th>0</th>\n",
       "      <td>0016070</td>\n",
       "      <td>Derivación de ventrículo cerebral a nasofaring...</td>\n",
       "      <td>Bypass Cerebral Ventricle to Nasopharynx with ...</td>\n",
       "    </tr>\n",
       "    <tr>\n",
       "      <th>1</th>\n",
       "      <td>0016071</td>\n",
       "      <td>Derivación de ventrículo cerebral a seno masto...</td>\n",
       "      <td>Bypass Cerebral Ventricle to Mastoid Sinus wit...</td>\n",
       "    </tr>\n",
       "    <tr>\n",
       "      <th>2</th>\n",
       "      <td>0016072</td>\n",
       "      <td>Derivación de ventrículo cerebral a aurícula, ...</td>\n",
       "      <td>Bypass Cerebral Ventricle to Atrium with Autol...</td>\n",
       "    </tr>\n",
       "    <tr>\n",
       "      <th>3</th>\n",
       "      <td>0016073</td>\n",
       "      <td>Derivación de ventrículo cerebral a vaso sangu...</td>\n",
       "      <td>Bypass Cerebral Ventricle to Blood Vessel with...</td>\n",
       "    </tr>\n",
       "    <tr>\n",
       "      <th>4</th>\n",
       "      <td>0016074</td>\n",
       "      <td>Derivación de ventrículo cerebral a cavidad pl...</td>\n",
       "      <td>Bypass Cerebral Ventricle to Pleural Cavity wi...</td>\n",
       "    </tr>\n",
       "  </tbody>\n",
       "</table>\n",
       "</div>"
      ],
      "text/plain": [
       "      code                                            es-desc  \\\n",
       "0  0016070  Derivación de ventrículo cerebral a nasofaring...   \n",
       "1  0016071  Derivación de ventrículo cerebral a seno masto...   \n",
       "2  0016072  Derivación de ventrículo cerebral a aurícula, ...   \n",
       "3  0016073  Derivación de ventrículo cerebral a vaso sangu...   \n",
       "4  0016074  Derivación de ventrículo cerebral a cavidad pl...   \n",
       "\n",
       "                                             en-desc  \n",
       "0  Bypass Cerebral Ventricle to Nasopharynx with ...  \n",
       "1  Bypass Cerebral Ventricle to Mastoid Sinus wit...  \n",
       "2  Bypass Cerebral Ventricle to Atrium with Autol...  \n",
       "3  Bypass Cerebral Ventricle to Blood Vessel with...  \n",
       "4  Bypass Cerebral Ventricle to Pleural Cavity wi...  "
      ]
     },
     "execution_count": 114,
     "metadata": {},
     "output_type": "execute_result"
    }
   ],
   "source": [
    "codiesp_p_valid.head()"
   ]
  },
  {
   "cell_type": "code",
   "execution_count": 115,
   "metadata": {},
   "outputs": [
    {
     "data": {
      "text/plain": [
       "(87170, 3)"
      ]
     },
     "execution_count": 115,
     "metadata": {},
     "output_type": "execute_result"
    }
   ],
   "source": [
    "codiesp_p_valid.shape"
   ]
  },
  {
   "cell_type": "markdown",
   "metadata": {},
   "source": [
    "As stated in [the web](https://zenodo.org/record/3632523#.XmQOh5-YU8p), a limited number of codes do not have neither English nor Spanish description, and others do not have English description:"
   ]
  },
  {
   "cell_type": "code",
   "execution_count": 116,
   "metadata": {},
   "outputs": [
    {
     "data": {
      "text/plain": [
       "23408"
      ]
     },
     "execution_count": 116,
     "metadata": {},
     "output_type": "execute_result"
    }
   ],
   "source": [
    "codiesp_p_valid.isnull().values.sum()"
   ]
  },
  {
   "cell_type": "code",
   "execution_count": 117,
   "metadata": {},
   "outputs": [
    {
     "data": {
      "text/plain": [
       "12027"
      ]
     },
     "execution_count": 117,
     "metadata": {},
     "output_type": "execute_result"
    }
   ],
   "source": [
    "codiesp_p_valid[\"en-desc\"].isnull().sum()"
   ]
  },
  {
   "cell_type": "code",
   "execution_count": 118,
   "metadata": {},
   "outputs": [
    {
     "data": {
      "text/plain": [
       "11381"
      ]
     },
     "execution_count": 118,
     "metadata": {},
     "output_type": "execute_result"
    }
   ],
   "source": [
    "codiesp_p_valid[\"es-desc\"].isnull().sum()"
   ]
  },
  {
   "cell_type": "code",
   "execution_count": 119,
   "metadata": {},
   "outputs": [
    {
     "data": {
      "text/plain": [
       "11381"
      ]
     },
     "execution_count": 119,
     "metadata": {},
     "output_type": "execute_result"
    }
   ],
   "source": [
    "# Codes not having neither English not Spanish desc\n",
    "sum(codiesp_p_valid[\"es-desc\"].isnull() & codiesp_p_valid[\"en-desc\"].isnull())"
   ]
  },
  {
   "cell_type": "code",
   "execution_count": 120,
   "metadata": {},
   "outputs": [
    {
     "data": {
      "text/plain": [
       "646"
      ]
     },
     "execution_count": 120,
     "metadata": {},
     "output_type": "execute_result"
    }
   ],
   "source": [
    "# Codes not having only English desc\n",
    "codiesp_p_valid[\"en-desc\"].isnull().sum() - sum(codiesp_p_valid[\"es-desc\"].isnull() & codiesp_p_valid[\"en-desc\"].isnull())"
   ]
  },
  {
   "cell_type": "code",
   "execution_count": 121,
   "metadata": {},
   "outputs": [
    {
     "data": {
      "text/plain": [
       "0"
      ]
     },
     "execution_count": 121,
     "metadata": {},
     "output_type": "execute_result"
    }
   ],
   "source": [
    "codiesp_p_valid[\"code\"].isnull().sum()"
   ]
  },
  {
   "cell_type": "markdown",
   "metadata": {},
   "source": [
    "Total number of valid codes:"
   ]
  },
  {
   "cell_type": "code",
   "execution_count": 122,
   "metadata": {},
   "outputs": [],
   "source": [
    "valid_p_codes = set(codiesp_p_valid[\"code\"])"
   ]
  },
  {
   "cell_type": "code",
   "execution_count": 120,
   "metadata": {},
   "outputs": [
    {
     "data": {
      "text/plain": [
       "87170"
      ]
     },
     "execution_count": 120,
     "metadata": {},
     "output_type": "execute_result"
    }
   ],
   "source": [
    "len(valid_p_codes)"
   ]
  },
  {
   "cell_type": "markdown",
   "metadata": {},
   "source": [
    "ALL codes contained in train and dev sets are present in the valid set:"
   ]
  },
  {
   "cell_type": "code",
   "execution_count": 123,
   "metadata": {},
   "outputs": [],
   "source": [
    "lower_valid_p_codes = {s.lower() for s in valid_p_codes}"
   ]
  },
  {
   "cell_type": "code",
   "execution_count": 124,
   "metadata": {},
   "outputs": [
    {
     "data": {
      "text/plain": [
       "0"
      ]
     },
     "execution_count": 124,
     "metadata": {},
     "output_type": "execute_result"
    }
   ],
   "source": [
    "len(p_codes - lower_valid_p_codes)"
   ]
  },
  {
   "cell_type": "markdown",
   "metadata": {},
   "source": [
    "We also explore the character-length distribution of the valid codes:"
   ]
  },
  {
   "cell_type": "code",
   "execution_count": 125,
   "metadata": {},
   "outputs": [],
   "source": [
    "df_lower_valid_p_codes = pd.DataFrame({'code': list(lower_valid_p_codes)})"
   ]
  },
  {
   "cell_type": "code",
   "execution_count": 126,
   "metadata": {},
   "outputs": [],
   "source": [
    "df_lower_valid_p_codes[\"n_char\"] = df_lower_valid_p_codes[\"code\"].apply(lambda x: len(x))"
   ]
  },
  {
   "cell_type": "code",
   "execution_count": 127,
   "metadata": {},
   "outputs": [
    {
     "data": {
      "text/plain": [
       "(87170, 2)"
      ]
     },
     "execution_count": 127,
     "metadata": {},
     "output_type": "execute_result"
    }
   ],
   "source": [
    "df_lower_valid_p_codes.shape"
   ]
  },
  {
   "cell_type": "code",
   "execution_count": 128,
   "metadata": {},
   "outputs": [
    {
     "data": {
      "text/html": [
       "<div>\n",
       "<style scoped>\n",
       "    .dataframe tbody tr th:only-of-type {\n",
       "        vertical-align: middle;\n",
       "    }\n",
       "\n",
       "    .dataframe tbody tr th {\n",
       "        vertical-align: top;\n",
       "    }\n",
       "\n",
       "    .dataframe thead th {\n",
       "        text-align: right;\n",
       "    }\n",
       "</style>\n",
       "<table border=\"1\" class=\"dataframe\">\n",
       "  <thead>\n",
       "    <tr style=\"text-align: right;\">\n",
       "      <th></th>\n",
       "      <th>code</th>\n",
       "      <th>n_char</th>\n",
       "    </tr>\n",
       "  </thead>\n",
       "  <tbody>\n",
       "    <tr>\n",
       "      <th>0</th>\n",
       "      <td>3e09729</td>\n",
       "      <td>7</td>\n",
       "    </tr>\n",
       "    <tr>\n",
       "      <th>1</th>\n",
       "      <td>f07d1yz</td>\n",
       "      <td>7</td>\n",
       "    </tr>\n",
       "    <tr>\n",
       "      <th>2</th>\n",
       "      <td>dhy6fzz</td>\n",
       "      <td>7</td>\n",
       "    </tr>\n",
       "    <tr>\n",
       "      <th>3</th>\n",
       "      <td>0dpw47z</td>\n",
       "      <td>7</td>\n",
       "    </tr>\n",
       "    <tr>\n",
       "      <th>4</th>\n",
       "      <td>bp2a1zz</td>\n",
       "      <td>7</td>\n",
       "    </tr>\n",
       "  </tbody>\n",
       "</table>\n",
       "</div>"
      ],
      "text/plain": [
       "      code  n_char\n",
       "0  3e09729       7\n",
       "1  f07d1yz       7\n",
       "2  dhy6fzz       7\n",
       "3  0dpw47z       7\n",
       "4  bp2a1zz       7"
      ]
     },
     "execution_count": 128,
     "metadata": {},
     "output_type": "execute_result"
    }
   ],
   "source": [
    "df_lower_valid_p_codes.head()"
   ]
  },
  {
   "cell_type": "code",
   "execution_count": 129,
   "metadata": {},
   "outputs": [
    {
     "data": {
      "text/plain": [
       "7    75789\n",
       "4    11381\n",
       "Name: n_char, dtype: int64"
      ]
     },
     "execution_count": 129,
     "metadata": {},
     "output_type": "execute_result"
    }
   ],
   "source": [
    "df_lower_valid_p_codes[\"n_char\"].value_counts(normalize=False)"
   ]
  },
  {
   "cell_type": "code",
   "execution_count": 130,
   "metadata": {},
   "outputs": [
    {
     "data": {
      "text/plain": [
       "7    0.869439\n",
       "4    0.130561\n",
       "Name: n_char, dtype: float64"
      ]
     },
     "execution_count": 130,
     "metadata": {},
     "output_type": "execute_result"
    }
   ],
   "source": [
    "df_lower_valid_p_codes[\"n_char\"].value_counts(normalize=True)"
   ]
  },
  {
   "cell_type": "markdown",
   "metadata": {},
   "source": [
    "As previously reported for the codes in CodiEsp, CIE-Procedimiento valid codes char-length is either 4 or 7."
   ]
  },
  {
   "cell_type": "markdown",
   "metadata": {},
   "source": [
    "## Abstracts with CIE codes\n",
    "\n",
    "Now, we perform an exploratory analysis of an additional dataset [available from CodiEsp](https://temu.bsc.es/codiesp/index.php/category/data/): a set of abstracts labeled with CIE-10 Diagnóstico and Procedimiento codes. Our main goal is to expand the CodiEsp train and development corpora using this additional corpus."
   ]
  },
  {
   "cell_type": "code",
   "execution_count": 132,
   "metadata": {},
   "outputs": [
    {
     "name": "stdout",
     "output_type": "stream",
     "text": [
      "CPU times: user 226 ms, sys: 24.2 ms, total: 251 ms\n",
      "Wall time: 250 ms\n"
     ]
    }
   ],
   "source": [
    "%%time\n",
    "\n",
    "additional_ank = pd.read_table(\"../datasets/abstractsWithCIE10_v2/table_codes_ankushset_v2.tsv\", sep='\\t', header=None)"
   ]
  },
  {
   "cell_type": "code",
   "execution_count": 133,
   "metadata": {},
   "outputs": [],
   "source": [
    "additional_ank.columns = [\"doc\", \"type\", \"code\", \"word\"]"
   ]
  },
  {
   "cell_type": "code",
   "execution_count": 134,
   "metadata": {},
   "outputs": [
    {
     "data": {
      "text/html": [
       "<div>\n",
       "<style scoped>\n",
       "    .dataframe tbody tr th:only-of-type {\n",
       "        vertical-align: middle;\n",
       "    }\n",
       "\n",
       "    .dataframe tbody tr th {\n",
       "        vertical-align: top;\n",
       "    }\n",
       "\n",
       "    .dataframe thead th {\n",
       "        text-align: right;\n",
       "    }\n",
       "</style>\n",
       "<table border=\"1\" class=\"dataframe\">\n",
       "  <thead>\n",
       "    <tr style=\"text-align: right;\">\n",
       "      <th></th>\n",
       "      <th>doc</th>\n",
       "      <th>type</th>\n",
       "      <th>code</th>\n",
       "      <th>word</th>\n",
       "    </tr>\n",
       "  </thead>\n",
       "  <tbody>\n",
       "    <tr>\n",
       "      <th>0</th>\n",
       "      <td>biblio-994981</td>\n",
       "      <td>DIAGNOSTICO</td>\n",
       "      <td>r68.82</td>\n",
       "      <td>Libido</td>\n",
       "    </tr>\n",
       "    <tr>\n",
       "      <th>1</th>\n",
       "      <td>biblio-994981</td>\n",
       "      <td>PROCEDIMIENTO</td>\n",
       "      <td>gzfzzzz</td>\n",
       "      <td>Hipnosis</td>\n",
       "    </tr>\n",
       "    <tr>\n",
       "      <th>2</th>\n",
       "      <td>biblio-1008268</td>\n",
       "      <td>DIAGNOSTICO</td>\n",
       "      <td>f91.9</td>\n",
       "      <td>Trastornos Mentales</td>\n",
       "    </tr>\n",
       "    <tr>\n",
       "      <th>3</th>\n",
       "      <td>biblio-1008268</td>\n",
       "      <td>DIAGNOSTICO</td>\n",
       "      <td>f99</td>\n",
       "      <td>Trastornos Mentales</td>\n",
       "    </tr>\n",
       "    <tr>\n",
       "      <th>4</th>\n",
       "      <td>biblio-1008268</td>\n",
       "      <td>DIAGNOSTICO</td>\n",
       "      <td>f99-f99</td>\n",
       "      <td>Trastornos Mentales</td>\n",
       "    </tr>\n",
       "  </tbody>\n",
       "</table>\n",
       "</div>"
      ],
      "text/plain": [
       "              doc           type     code                 word\n",
       "0   biblio-994981    DIAGNOSTICO   r68.82               Libido\n",
       "1   biblio-994981  PROCEDIMIENTO  gzfzzzz             Hipnosis\n",
       "2  biblio-1008268    DIAGNOSTICO    f91.9  Trastornos Mentales\n",
       "3  biblio-1008268    DIAGNOSTICO      f99  Trastornos Mentales\n",
       "4  biblio-1008268    DIAGNOSTICO  f99-f99  Trastornos Mentales"
      ]
     },
     "execution_count": 134,
     "metadata": {},
     "output_type": "execute_result"
    }
   ],
   "source": [
    "additional_ank.head()"
   ]
  },
  {
   "cell_type": "code",
   "execution_count": 135,
   "metadata": {},
   "outputs": [
    {
     "data": {
      "text/plain": [
       "(442419, 4)"
      ]
     },
     "execution_count": 135,
     "metadata": {},
     "output_type": "execute_result"
    }
   ],
   "source": [
    "additional_ank.shape"
   ]
  },
  {
   "cell_type": "code",
   "execution_count": 136,
   "metadata": {},
   "outputs": [
    {
     "data": {
      "text/plain": [
       "DIAGNOSTICO      440068\n",
       "PROCEDIMIENTO      2351\n",
       "Name: type, dtype: int64"
      ]
     },
     "execution_count": 136,
     "metadata": {},
     "output_type": "execute_result"
    }
   ],
   "source": [
    "# Samples type distribution\n",
    "additional_ank[\"type\"].value_counts()"
   ]
  },
  {
   "cell_type": "code",
   "execution_count": 137,
   "metadata": {},
   "outputs": [
    {
     "data": {
      "text/plain": [
       "DIAGNOSTICO      0.994686\n",
       "PROCEDIMIENTO    0.005314\n",
       "Name: type, dtype: float64"
      ]
     },
     "execution_count": 137,
     "metadata": {},
     "output_type": "execute_result"
    }
   ],
   "source": [
    "additional_ank[\"type\"].value_counts(normalize=True)"
   ]
  },
  {
   "cell_type": "markdown",
   "metadata": {},
   "source": [
    "### CIE-10 Diagnóstico\n",
    "\n",
    "We select the abstracts annotated with CIE-Diagnóstico codes:"
   ]
  },
  {
   "cell_type": "code",
   "execution_count": 138,
   "metadata": {},
   "outputs": [],
   "source": [
    "additional_ank_d = additional_ank[additional_ank[\"type\"]==\"DIAGNOSTICO\"]"
   ]
  },
  {
   "cell_type": "code",
   "execution_count": 139,
   "metadata": {},
   "outputs": [
    {
     "data": {
      "text/plain": [
       "(440068, 4)"
      ]
     },
     "execution_count": 139,
     "metadata": {},
     "output_type": "execute_result"
    }
   ],
   "source": [
    "additional_ank_d.shape"
   ]
  },
  {
   "cell_type": "markdown",
   "metadata": {},
   "source": [
    "As previously performed for the CodiEsp corpus, we start by analyzing the char-length of the CIE codes contained in the additional abstracts:"
   ]
  },
  {
   "cell_type": "code",
   "execution_count": 140,
   "metadata": {},
   "outputs": [],
   "source": [
    "additional_ank_d_codes = pd.DataFrame({'code': list(set(additional_ank_d[\"code\"]))})"
   ]
  },
  {
   "cell_type": "code",
   "execution_count": 141,
   "metadata": {
    "scrolled": true
   },
   "outputs": [
    {
     "data": {
      "text/plain": [
       "(3093, 1)"
      ]
     },
     "execution_count": 141,
     "metadata": {},
     "output_type": "execute_result"
    }
   ],
   "source": [
    "additional_ank_d_codes.shape"
   ]
  },
  {
   "cell_type": "code",
   "execution_count": 142,
   "metadata": {},
   "outputs": [],
   "source": [
    "additional_ank_d_codes[\"n_char\"] = additional_ank_d_codes[\"code\"].apply(lambda x: len(x))"
   ]
  },
  {
   "cell_type": "code",
   "execution_count": 143,
   "metadata": {},
   "outputs": [
    {
     "data": {
      "text/html": [
       "<div>\n",
       "<style scoped>\n",
       "    .dataframe tbody tr th:only-of-type {\n",
       "        vertical-align: middle;\n",
       "    }\n",
       "\n",
       "    .dataframe tbody tr th {\n",
       "        vertical-align: top;\n",
       "    }\n",
       "\n",
       "    .dataframe thead th {\n",
       "        text-align: right;\n",
       "    }\n",
       "</style>\n",
       "<table border=\"1\" class=\"dataframe\">\n",
       "  <thead>\n",
       "    <tr style=\"text-align: right;\">\n",
       "      <th></th>\n",
       "      <th>code</th>\n",
       "      <th>n_char</th>\n",
       "    </tr>\n",
       "  </thead>\n",
       "  <tbody>\n",
       "    <tr>\n",
       "      <th>0</th>\n",
       "      <td>k00.5</td>\n",
       "      <td>5</td>\n",
       "    </tr>\n",
       "    <tr>\n",
       "      <th>1</th>\n",
       "      <td>q92.6</td>\n",
       "      <td>5</td>\n",
       "    </tr>\n",
       "    <tr>\n",
       "      <th>2</th>\n",
       "      <td>f68.a</td>\n",
       "      <td>5</td>\n",
       "    </tr>\n",
       "    <tr>\n",
       "      <th>3</th>\n",
       "      <td>n17.0</td>\n",
       "      <td>5</td>\n",
       "    </tr>\n",
       "    <tr>\n",
       "      <th>4</th>\n",
       "      <td>m89.30</td>\n",
       "      <td>6</td>\n",
       "    </tr>\n",
       "  </tbody>\n",
       "</table>\n",
       "</div>"
      ],
      "text/plain": [
       "     code  n_char\n",
       "0   k00.5       5\n",
       "1   q92.6       5\n",
       "2   f68.a       5\n",
       "3   n17.0       5\n",
       "4  m89.30       6"
      ]
     },
     "execution_count": 143,
     "metadata": {},
     "output_type": "execute_result"
    }
   ],
   "source": [
    "additional_ank_d_codes.head()"
   ]
  },
  {
   "cell_type": "code",
   "execution_count": 144,
   "metadata": {},
   "outputs": [
    {
     "data": {
      "text/plain": [
       "5    1819\n",
       "6     668\n",
       "3     437\n",
       "7     144\n",
       "1      24\n",
       "8       1\n",
       "Name: n_char, dtype: int64"
      ]
     },
     "execution_count": 144,
     "metadata": {},
     "output_type": "execute_result"
    }
   ],
   "source": [
    "additional_ank_d_codes[\"n_char\"].value_counts(normalize=False)"
   ]
  },
  {
   "cell_type": "code",
   "execution_count": 145,
   "metadata": {},
   "outputs": [
    {
     "data": {
      "text/plain": [
       "50"
      ]
     },
     "execution_count": 145,
     "metadata": {},
     "output_type": "execute_result"
    }
   ],
   "source": [
    "# Number of generic codes\n",
    "sum(additional_ank_d_codes[\"code\"].apply(lambda x: '-' in x))"
   ]
  },
  {
   "cell_type": "code",
   "execution_count": 146,
   "metadata": {},
   "outputs": [
    {
     "data": {
      "text/plain": [
       "True"
      ]
     },
     "execution_count": 146,
     "metadata": {},
     "output_type": "execute_result"
    }
   ],
   "source": [
    "# Only 7-long codes are generic codes\n",
    "all(additional_ank_d_codes[additional_ank_d_codes[\"code\"].apply(lambda x: '-' in x)][\"n_char\"] == 7)"
   ]
  },
  {
   "cell_type": "code",
   "execution_count": 147,
   "metadata": {},
   "outputs": [
    {
     "data": {
      "text/html": [
       "<div>\n",
       "<style scoped>\n",
       "    .dataframe tbody tr th:only-of-type {\n",
       "        vertical-align: middle;\n",
       "    }\n",
       "\n",
       "    .dataframe tbody tr th {\n",
       "        vertical-align: top;\n",
       "    }\n",
       "\n",
       "    .dataframe thead th {\n",
       "        text-align: right;\n",
       "    }\n",
       "</style>\n",
       "<table border=\"1\" class=\"dataframe\">\n",
       "  <thead>\n",
       "    <tr style=\"text-align: right;\">\n",
       "      <th></th>\n",
       "      <th>code</th>\n",
       "      <th>n_char</th>\n",
       "    </tr>\n",
       "  </thead>\n",
       "  <tbody>\n",
       "    <tr>\n",
       "      <th>382</th>\n",
       "      <td>b35-b49</td>\n",
       "      <td>7</td>\n",
       "    </tr>\n",
       "    <tr>\n",
       "      <th>432</th>\n",
       "      <td>f30-f39</td>\n",
       "      <td>7</td>\n",
       "    </tr>\n",
       "    <tr>\n",
       "      <th>569</th>\n",
       "      <td>g00-g99</td>\n",
       "      <td>7</td>\n",
       "    </tr>\n",
       "    <tr>\n",
       "      <th>587</th>\n",
       "      <td>q65-q79</td>\n",
       "      <td>7</td>\n",
       "    </tr>\n",
       "    <tr>\n",
       "      <th>596</th>\n",
       "      <td>j00-j99</td>\n",
       "      <td>7</td>\n",
       "    </tr>\n",
       "    <tr>\n",
       "      <th>608</th>\n",
       "      <td>n70-n77</td>\n",
       "      <td>7</td>\n",
       "    </tr>\n",
       "    <tr>\n",
       "      <th>620</th>\n",
       "      <td>s00-s09</td>\n",
       "      <td>7</td>\n",
       "    </tr>\n",
       "    <tr>\n",
       "      <th>630</th>\n",
       "      <td>b65-b83</td>\n",
       "      <td>7</td>\n",
       "    </tr>\n",
       "    <tr>\n",
       "      <th>632</th>\n",
       "      <td>x71-x83</td>\n",
       "      <td>7</td>\n",
       "    </tr>\n",
       "    <tr>\n",
       "      <th>656</th>\n",
       "      <td>e08-e13</td>\n",
       "      <td>7</td>\n",
       "    </tr>\n",
       "    <tr>\n",
       "      <th>696</th>\n",
       "      <td>n20-n23</td>\n",
       "      <td>7</td>\n",
       "    </tr>\n",
       "    <tr>\n",
       "      <th>706</th>\n",
       "      <td>d00-d09</td>\n",
       "      <td>7</td>\n",
       "    </tr>\n",
       "    <tr>\n",
       "      <th>800</th>\n",
       "      <td>m45-m49</td>\n",
       "      <td>7</td>\n",
       "    </tr>\n",
       "    <tr>\n",
       "      <th>807</th>\n",
       "      <td>e00-e07</td>\n",
       "      <td>7</td>\n",
       "    </tr>\n",
       "    <tr>\n",
       "      <th>882</th>\n",
       "      <td>b20-b20</td>\n",
       "      <td>7</td>\n",
       "    </tr>\n",
       "    <tr>\n",
       "      <th>916</th>\n",
       "      <td>m30-m36</td>\n",
       "      <td>7</td>\n",
       "    </tr>\n",
       "    <tr>\n",
       "      <th>926</th>\n",
       "      <td>d55-d59</td>\n",
       "      <td>7</td>\n",
       "    </tr>\n",
       "    <tr>\n",
       "      <th>996</th>\n",
       "      <td>b50-b64</td>\n",
       "      <td>7</td>\n",
       "    </tr>\n",
       "    <tr>\n",
       "      <th>1213</th>\n",
       "      <td>h25-h28</td>\n",
       "      <td>7</td>\n",
       "    </tr>\n",
       "    <tr>\n",
       "      <th>1325</th>\n",
       "      <td>q00-q07</td>\n",
       "      <td>7</td>\n",
       "    </tr>\n",
       "    <tr>\n",
       "      <th>1384</th>\n",
       "      <td>f99-f99</td>\n",
       "      <td>7</td>\n",
       "    </tr>\n",
       "    <tr>\n",
       "      <th>1423</th>\n",
       "      <td>m15-m19</td>\n",
       "      <td>7</td>\n",
       "    </tr>\n",
       "    <tr>\n",
       "      <th>1490</th>\n",
       "      <td>k70-k77</td>\n",
       "      <td>7</td>\n",
       "    </tr>\n",
       "    <tr>\n",
       "      <th>1500</th>\n",
       "      <td>a75-a79</td>\n",
       "      <td>7</td>\n",
       "    </tr>\n",
       "    <tr>\n",
       "      <th>1533</th>\n",
       "      <td>l00-l99</td>\n",
       "      <td>7</td>\n",
       "    </tr>\n",
       "    <tr>\n",
       "      <th>1595</th>\n",
       "      <td>p10-p15</td>\n",
       "      <td>7</td>\n",
       "    </tr>\n",
       "    <tr>\n",
       "      <th>1643</th>\n",
       "      <td>n60-n65</td>\n",
       "      <td>7</td>\n",
       "    </tr>\n",
       "    <tr>\n",
       "      <th>1649</th>\n",
       "      <td>m05-m14</td>\n",
       "      <td>7</td>\n",
       "    </tr>\n",
       "    <tr>\n",
       "      <th>1663</th>\n",
       "      <td>e40-e46</td>\n",
       "      <td>7</td>\n",
       "    </tr>\n",
       "    <tr>\n",
       "      <th>1685</th>\n",
       "      <td>n10-n16</td>\n",
       "      <td>7</td>\n",
       "    </tr>\n",
       "    <tr>\n",
       "      <th>1750</th>\n",
       "      <td>k40-k46</td>\n",
       "      <td>7</td>\n",
       "    </tr>\n",
       "    <tr>\n",
       "      <th>1756</th>\n",
       "      <td>c64-c68</td>\n",
       "      <td>7</td>\n",
       "    </tr>\n",
       "    <tr>\n",
       "      <th>1763</th>\n",
       "      <td>c50-c50</td>\n",
       "      <td>7</td>\n",
       "    </tr>\n",
       "    <tr>\n",
       "      <th>1784</th>\n",
       "      <td>a50-a64</td>\n",
       "      <td>7</td>\n",
       "    </tr>\n",
       "    <tr>\n",
       "      <th>1824</th>\n",
       "      <td>a15-a19</td>\n",
       "      <td>7</td>\n",
       "    </tr>\n",
       "    <tr>\n",
       "      <th>1959</th>\n",
       "      <td>m60-m63</td>\n",
       "      <td>7</td>\n",
       "    </tr>\n",
       "    <tr>\n",
       "      <th>2081</th>\n",
       "      <td>i60-i69</td>\n",
       "      <td>7</td>\n",
       "    </tr>\n",
       "    <tr>\n",
       "      <th>2231</th>\n",
       "      <td>i00-i02</td>\n",
       "      <td>7</td>\n",
       "    </tr>\n",
       "    <tr>\n",
       "      <th>2306</th>\n",
       "      <td>l10-l14</td>\n",
       "      <td>7</td>\n",
       "    </tr>\n",
       "    <tr>\n",
       "      <th>2447</th>\n",
       "      <td>i20-i25</td>\n",
       "      <td>7</td>\n",
       "    </tr>\n",
       "    <tr>\n",
       "      <th>2496</th>\n",
       "      <td>d80-d89</td>\n",
       "      <td>7</td>\n",
       "    </tr>\n",
       "    <tr>\n",
       "      <th>2513</th>\n",
       "      <td>s10-s19</td>\n",
       "      <td>7</td>\n",
       "    </tr>\n",
       "    <tr>\n",
       "      <th>2675</th>\n",
       "      <td>s20-s29</td>\n",
       "      <td>7</td>\n",
       "    </tr>\n",
       "    <tr>\n",
       "      <th>2794</th>\n",
       "      <td>q30-q34</td>\n",
       "      <td>7</td>\n",
       "    </tr>\n",
       "    <tr>\n",
       "      <th>2860</th>\n",
       "      <td>h10-h11</td>\n",
       "      <td>7</td>\n",
       "    </tr>\n",
       "    <tr>\n",
       "      <th>2877</th>\n",
       "      <td>l00-l08</td>\n",
       "      <td>7</td>\n",
       "    </tr>\n",
       "    <tr>\n",
       "      <th>2973</th>\n",
       "      <td>t33-t34</td>\n",
       "      <td>7</td>\n",
       "    </tr>\n",
       "    <tr>\n",
       "      <th>3003</th>\n",
       "      <td>l40-l45</td>\n",
       "      <td>7</td>\n",
       "    </tr>\n",
       "    <tr>\n",
       "      <th>3051</th>\n",
       "      <td>h40-h42</td>\n",
       "      <td>7</td>\n",
       "    </tr>\n",
       "    <tr>\n",
       "      <th>3084</th>\n",
       "      <td>m91-m94</td>\n",
       "      <td>7</td>\n",
       "    </tr>\n",
       "  </tbody>\n",
       "</table>\n",
       "</div>"
      ],
      "text/plain": [
       "         code  n_char\n",
       "382   b35-b49       7\n",
       "432   f30-f39       7\n",
       "569   g00-g99       7\n",
       "587   q65-q79       7\n",
       "596   j00-j99       7\n",
       "608   n70-n77       7\n",
       "620   s00-s09       7\n",
       "630   b65-b83       7\n",
       "632   x71-x83       7\n",
       "656   e08-e13       7\n",
       "696   n20-n23       7\n",
       "706   d00-d09       7\n",
       "800   m45-m49       7\n",
       "807   e00-e07       7\n",
       "882   b20-b20       7\n",
       "916   m30-m36       7\n",
       "926   d55-d59       7\n",
       "996   b50-b64       7\n",
       "1213  h25-h28       7\n",
       "1325  q00-q07       7\n",
       "1384  f99-f99       7\n",
       "1423  m15-m19       7\n",
       "1490  k70-k77       7\n",
       "1500  a75-a79       7\n",
       "1533  l00-l99       7\n",
       "1595  p10-p15       7\n",
       "1643  n60-n65       7\n",
       "1649  m05-m14       7\n",
       "1663  e40-e46       7\n",
       "1685  n10-n16       7\n",
       "1750  k40-k46       7\n",
       "1756  c64-c68       7\n",
       "1763  c50-c50       7\n",
       "1784  a50-a64       7\n",
       "1824  a15-a19       7\n",
       "1959  m60-m63       7\n",
       "2081  i60-i69       7\n",
       "2231  i00-i02       7\n",
       "2306  l10-l14       7\n",
       "2447  i20-i25       7\n",
       "2496  d80-d89       7\n",
       "2513  s10-s19       7\n",
       "2675  s20-s29       7\n",
       "2794  q30-q34       7\n",
       "2860  h10-h11       7\n",
       "2877  l00-l08       7\n",
       "2973  t33-t34       7\n",
       "3003  l40-l45       7\n",
       "3051  h40-h42       7\n",
       "3084  m91-m94       7"
      ]
     },
     "execution_count": 147,
     "metadata": {},
     "output_type": "execute_result"
    }
   ],
   "source": [
    "# Generic codes\n",
    "additional_ank_d_codes[additional_ank_d_codes[\"code\"].apply(lambda x: '-' in x)]"
   ]
  },
  {
   "cell_type": "code",
   "execution_count": 148,
   "metadata": {},
   "outputs": [
    {
     "data": {
      "text/html": [
       "<div>\n",
       "<style scoped>\n",
       "    .dataframe tbody tr th:only-of-type {\n",
       "        vertical-align: middle;\n",
       "    }\n",
       "\n",
       "    .dataframe tbody tr th {\n",
       "        vertical-align: top;\n",
       "    }\n",
       "\n",
       "    .dataframe thead th {\n",
       "        text-align: right;\n",
       "    }\n",
       "</style>\n",
       "<table border=\"1\" class=\"dataframe\">\n",
       "  <thead>\n",
       "    <tr style=\"text-align: right;\">\n",
       "      <th></th>\n",
       "      <th>code</th>\n",
       "      <th>n_char</th>\n",
       "    </tr>\n",
       "  </thead>\n",
       "  <tbody>\n",
       "    <tr>\n",
       "      <th>1350</th>\n",
       "      <td>o41.1290</td>\n",
       "      <td>8</td>\n",
       "    </tr>\n",
       "  </tbody>\n",
       "</table>\n",
       "</div>"
      ],
      "text/plain": [
       "          code  n_char\n",
       "1350  o41.1290       8"
      ]
     },
     "execution_count": 148,
     "metadata": {},
     "output_type": "execute_result"
    }
   ],
   "source": [
    "# Codes 8-char long\n",
    "additional_ank_d_codes[additional_ank_d_codes[\"n_char\"] == 8]"
   ]
  },
  {
   "cell_type": "code",
   "execution_count": 149,
   "metadata": {},
   "outputs": [
    {
     "data": {
      "text/html": [
       "<div>\n",
       "<style scoped>\n",
       "    .dataframe tbody tr th:only-of-type {\n",
       "        vertical-align: middle;\n",
       "    }\n",
       "\n",
       "    .dataframe tbody tr th {\n",
       "        vertical-align: top;\n",
       "    }\n",
       "\n",
       "    .dataframe thead th {\n",
       "        text-align: right;\n",
       "    }\n",
       "</style>\n",
       "<table border=\"1\" class=\"dataframe\">\n",
       "  <thead>\n",
       "    <tr style=\"text-align: right;\">\n",
       "      <th></th>\n",
       "      <th>code</th>\n",
       "      <th>n_char</th>\n",
       "    </tr>\n",
       "  </thead>\n",
       "  <tbody>\n",
       "    <tr>\n",
       "      <th>60</th>\n",
       "      <td>1</td>\n",
       "      <td>1</td>\n",
       "    </tr>\n",
       "    <tr>\n",
       "      <th>202</th>\n",
       "      <td>2</td>\n",
       "      <td>1</td>\n",
       "    </tr>\n",
       "    <tr>\n",
       "      <th>313</th>\n",
       "      <td>e</td>\n",
       "      <td>1</td>\n",
       "    </tr>\n",
       "    <tr>\n",
       "      <th>412</th>\n",
       "      <td>g</td>\n",
       "      <td>1</td>\n",
       "    </tr>\n",
       "    <tr>\n",
       "      <th>513</th>\n",
       "      <td>5</td>\n",
       "      <td>1</td>\n",
       "    </tr>\n",
       "    <tr>\n",
       "      <th>675</th>\n",
       "      <td>.</td>\n",
       "      <td>1</td>\n",
       "    </tr>\n",
       "    <tr>\n",
       "      <th>770</th>\n",
       "      <td>9</td>\n",
       "      <td>1</td>\n",
       "    </tr>\n",
       "    <tr>\n",
       "      <th>929</th>\n",
       "      <td>a</td>\n",
       "      <td>1</td>\n",
       "    </tr>\n",
       "    <tr>\n",
       "      <th>944</th>\n",
       "      <td>f</td>\n",
       "      <td>1</td>\n",
       "    </tr>\n",
       "    <tr>\n",
       "      <th>1008</th>\n",
       "      <td>p</td>\n",
       "      <td>1</td>\n",
       "    </tr>\n",
       "    <tr>\n",
       "      <th>1051</th>\n",
       "      <td>3</td>\n",
       "      <td>1</td>\n",
       "    </tr>\n",
       "    <tr>\n",
       "      <th>1073</th>\n",
       "      <td>7</td>\n",
       "      <td>1</td>\n",
       "    </tr>\n",
       "    <tr>\n",
       "      <th>1271</th>\n",
       "      <td>0</td>\n",
       "      <td>1</td>\n",
       "    </tr>\n",
       "    <tr>\n",
       "      <th>1397</th>\n",
       "      <td>k</td>\n",
       "      <td>1</td>\n",
       "    </tr>\n",
       "    <tr>\n",
       "      <th>1744</th>\n",
       "      <td>d</td>\n",
       "      <td>1</td>\n",
       "    </tr>\n",
       "    <tr>\n",
       "      <th>1794</th>\n",
       "      <td>o</td>\n",
       "      <td>1</td>\n",
       "    </tr>\n",
       "    <tr>\n",
       "      <th>1861</th>\n",
       "      <td>l</td>\n",
       "      <td>1</td>\n",
       "    </tr>\n",
       "    <tr>\n",
       "      <th>2185</th>\n",
       "      <td>i</td>\n",
       "      <td>1</td>\n",
       "    </tr>\n",
       "    <tr>\n",
       "      <th>2201</th>\n",
       "      <td>r</td>\n",
       "      <td>1</td>\n",
       "    </tr>\n",
       "    <tr>\n",
       "      <th>2570</th>\n",
       "      <td>j</td>\n",
       "      <td>1</td>\n",
       "    </tr>\n",
       "    <tr>\n",
       "      <th>2612</th>\n",
       "      <td>6</td>\n",
       "      <td>1</td>\n",
       "    </tr>\n",
       "    <tr>\n",
       "      <th>2709</th>\n",
       "      <td>8</td>\n",
       "      <td>1</td>\n",
       "    </tr>\n",
       "    <tr>\n",
       "      <th>2749</th>\n",
       "      <td>4</td>\n",
       "      <td>1</td>\n",
       "    </tr>\n",
       "    <tr>\n",
       "      <th>2765</th>\n",
       "      <td>b</td>\n",
       "      <td>1</td>\n",
       "    </tr>\n",
       "  </tbody>\n",
       "</table>\n",
       "</div>"
      ],
      "text/plain": [
       "     code  n_char\n",
       "60      1       1\n",
       "202     2       1\n",
       "313     e       1\n",
       "412     g       1\n",
       "513     5       1\n",
       "675     .       1\n",
       "770     9       1\n",
       "929     a       1\n",
       "944     f       1\n",
       "1008    p       1\n",
       "1051    3       1\n",
       "1073    7       1\n",
       "1271    0       1\n",
       "1397    k       1\n",
       "1744    d       1\n",
       "1794    o       1\n",
       "1861    l       1\n",
       "2185    i       1\n",
       "2201    r       1\n",
       "2570    j       1\n",
       "2612    6       1\n",
       "2709    8       1\n",
       "2749    4       1\n",
       "2765    b       1"
      ]
     },
     "execution_count": 149,
     "metadata": {},
     "output_type": "execute_result"
    }
   ],
   "source": [
    "# Codes 1-char long\n",
    "additional_ank_d_codes[additional_ank_d_codes[\"n_char\"] == 1]"
   ]
  },
  {
   "cell_type": "code",
   "execution_count": 150,
   "metadata": {},
   "outputs": [
    {
     "data": {
      "text/plain": [
       "3    437\n",
       "7     50\n",
       "1     23\n",
       "Name: n_char, dtype: int64"
      ]
     },
     "execution_count": 150,
     "metadata": {},
     "output_type": "execute_result"
    }
   ],
   "source": [
    "# Only 3/1-long and generic codes do not contain the '.' character\n",
    "additional_ank_d_codes[additional_ank_d_codes[\"code\"].apply(lambda x: '.' not in x)][\"n_char\"].value_counts()"
   ]
  },
  {
   "cell_type": "code",
   "execution_count": 151,
   "metadata": {},
   "outputs": [
    {
     "data": {
      "text/plain": [
       "7    50\n",
       "Name: n_char, dtype: int64"
      ]
     },
     "execution_count": 151,
     "metadata": {},
     "output_type": "execute_result"
    }
   ],
   "source": [
    "additional_ank_d_codes[additional_ank_d_codes[\"code\"].apply(lambda x: '.' not in x) & \n",
    "    additional_ank_d_codes[\"code\"].apply(lambda x: '-' in x)][\"n_char\"].value_counts()"
   ]
  },
  {
   "cell_type": "markdown",
   "metadata": {},
   "source": [
    "To make the additional abstracts corpus compatible with CodiEsp-Diagnóstico corpus, samples with invalid codes should be removed from the dataset."
   ]
  },
  {
   "cell_type": "code",
   "execution_count": 156,
   "metadata": {},
   "outputs": [],
   "source": [
    "valid_filter = additional_ank_d[\"code\"].isin(set(additional_ank_d_codes[\"code\"]) & lower_valid_d_codes)"
   ]
  },
  {
   "cell_type": "code",
   "execution_count": 157,
   "metadata": {},
   "outputs": [
    {
     "data": {
      "text/plain": [
       "36212"
      ]
     },
     "execution_count": 157,
     "metadata": {},
     "output_type": "execute_result"
    }
   ],
   "source": [
    "# Number of samples with invalid codes\n",
    "additional_ank_d.shape[0] - sum(valid_filter)"
   ]
  },
  {
   "cell_type": "code",
   "execution_count": 165,
   "metadata": {},
   "outputs": [],
   "source": [
    "comp_additional_ank_d = additional_ank_d[valid_filter][[\"doc\", \"code\", \"word\"]] "
   ]
  },
  {
   "cell_type": "code",
   "execution_count": 166,
   "metadata": {},
   "outputs": [
    {
     "data": {
      "text/plain": [
       "(403856, 3)"
      ]
     },
     "execution_count": 166,
     "metadata": {},
     "output_type": "execute_result"
    }
   ],
   "source": [
    "comp_additional_ank_d.shape"
   ]
  },
  {
   "cell_type": "code",
   "execution_count": 167,
   "metadata": {},
   "outputs": [
    {
     "data": {
      "text/plain": [
       "0"
      ]
     },
     "execution_count": 167,
     "metadata": {},
     "output_type": "execute_result"
    }
   ],
   "source": [
    "# No code is expected to be associated with the same document multiple times\n",
    "sum(comp_additional_ank_d[[\"doc\", \"code\"]].duplicated())"
   ]
  },
  {
   "cell_type": "markdown",
   "metadata": {},
   "source": [
    "#### Expand CodiEsp with additional abstracts\n",
    "\n",
    "We propose three main ways of expanding the CodiEsp train and development corpora using this additional corpus. The first one consists in adding all additional abstracts to the train corpus. In the second, the abstracts labeled with CIE codes present in CodiEsp train or development corpus are added. Finally, in the last manner, only the additional abstracts labeled with CIE codes present in CodiEsp train corpus are added. Each of these alternatives is analyzed in the next subsections."
   ]
  },
  {
   "cell_type": "code",
   "execution_count": 168,
   "metadata": {},
   "outputs": [
    {
     "data": {
      "text/plain": [
       "Index(['doc', 'code', 'word'], dtype='object')"
      ]
     },
     "execution_count": 168,
     "metadata": {},
     "output_type": "execute_result"
    }
   ],
   "source": [
    "comp_additional_ank_d.columns"
   ]
  },
  {
   "cell_type": "code",
   "execution_count": 169,
   "metadata": {},
   "outputs": [],
   "source": [
    "comp_additional_ank_d.columns=[\"document\", \"code\", \"word\"]"
   ]
  },
  {
   "cell_type": "code",
   "execution_count": 170,
   "metadata": {},
   "outputs": [
    {
     "data": {
      "text/plain": [
       "2984"
      ]
     },
     "execution_count": 170,
     "metadata": {},
     "output_type": "execute_result"
    }
   ],
   "source": [
    "# Unique CIE-Diagnóstico codes in Additional abstracts\n",
    "comp_additional_ank_d_codes = set(comp_additional_ank_d[\"code\"])\n",
    "len(comp_additional_ank_d_codes)"
   ]
  },
  {
   "cell_type": "code",
   "execution_count": 171,
   "metadata": {},
   "outputs": [
    {
     "data": {
      "text/plain": [
       "615"
      ]
     },
     "execution_count": 171,
     "metadata": {},
     "output_type": "execute_result"
    }
   ],
   "source": [
    "# Number of unique CIE-Diagnóstico codes in train corpus that are also contained in additional abstracts\n",
    "len(train_d_codes & comp_additional_ank_d_codes)"
   ]
  },
  {
   "cell_type": "code",
   "execution_count": 172,
   "metadata": {},
   "outputs": [
    {
     "data": {
      "text/plain": [
       "118"
      ]
     },
     "execution_count": 172,
     "metadata": {},
     "output_type": "execute_result"
    }
   ],
   "source": [
    "# Number of unique unseen CIE-Diagnóstico codes in dev set that are also contained in additional abstracts\n",
    "len(set(dev_d_codes - train_d_codes) & comp_additional_ank_d_codes)"
   ]
  },
  {
   "cell_type": "code",
   "execution_count": 173,
   "metadata": {},
   "outputs": [
    {
     "data": {
      "text/plain": [
       "0.24564343163538874"
      ]
     },
     "execution_count": 173,
     "metadata": {},
     "output_type": "execute_result"
    }
   ],
   "source": [
    "# Fraction of unique CIE-Diagnóstico codes in additional abstracts that correspond to CodiEsp (train and dev) codes\n",
    "len(d_codes & comp_additional_ank_d_codes)/len(comp_additional_ank_d_codes)"
   ]
  },
  {
   "cell_type": "code",
   "execution_count": 174,
   "metadata": {},
   "outputs": [
    {
     "data": {
      "text/plain": [
       "0.39779525375381325"
      ]
     },
     "execution_count": 174,
     "metadata": {},
     "output_type": "execute_result"
    }
   ],
   "source": [
    "# Fraction of CIE-Diagnóstico codes samples in additional abstracts that correspond to CodiEsp (train and dev) codes\n",
    "sum(comp_additional_ank_d[\"code\"].isin(d_codes & comp_additional_ank_d_codes))/comp_additional_ank_d.shape[0]"
   ]
  },
  {
   "cell_type": "markdown",
   "metadata": {},
   "source": [
    "##### All abstracts\n",
    "\n",
    "All additional abstracts are added to the CodiEsp train corpus."
   ]
  },
  {
   "cell_type": "markdown",
   "metadata": {},
   "source": [
    "We firstly save all additional abstracts table for further usage:"
   ]
  },
  {
   "cell_type": "code",
   "execution_count": 175,
   "metadata": {},
   "outputs": [
    {
     "data": {
      "text/plain": [
       "(403856, 3)"
      ]
     },
     "execution_count": 175,
     "metadata": {},
     "output_type": "execute_result"
    }
   ],
   "source": [
    "comp_additional_ank_d.shape"
   ]
  },
  {
   "cell_type": "code",
   "execution_count": 176,
   "metadata": {},
   "outputs": [
    {
     "data": {
      "text/html": [
       "<div>\n",
       "<style scoped>\n",
       "    .dataframe tbody tr th:only-of-type {\n",
       "        vertical-align: middle;\n",
       "    }\n",
       "\n",
       "    .dataframe tbody tr th {\n",
       "        vertical-align: top;\n",
       "    }\n",
       "\n",
       "    .dataframe thead th {\n",
       "        text-align: right;\n",
       "    }\n",
       "</style>\n",
       "<table border=\"1\" class=\"dataframe\">\n",
       "  <thead>\n",
       "    <tr style=\"text-align: right;\">\n",
       "      <th></th>\n",
       "      <th>document</th>\n",
       "      <th>code</th>\n",
       "      <th>word</th>\n",
       "    </tr>\n",
       "  </thead>\n",
       "  <tbody>\n",
       "    <tr>\n",
       "      <th>0</th>\n",
       "      <td>biblio-994981</td>\n",
       "      <td>r68.82</td>\n",
       "      <td>Libido</td>\n",
       "    </tr>\n",
       "    <tr>\n",
       "      <th>2</th>\n",
       "      <td>biblio-1008268</td>\n",
       "      <td>f91.9</td>\n",
       "      <td>Trastornos Mentales</td>\n",
       "    </tr>\n",
       "    <tr>\n",
       "      <th>3</th>\n",
       "      <td>biblio-1008268</td>\n",
       "      <td>f99</td>\n",
       "      <td>Trastornos Mentales</td>\n",
       "    </tr>\n",
       "    <tr>\n",
       "      <th>5</th>\n",
       "      <td>biblio-1008288</td>\n",
       "      <td>r09.02</td>\n",
       "      <td>Hipoxia</td>\n",
       "    </tr>\n",
       "    <tr>\n",
       "      <th>6</th>\n",
       "      <td>biblio-1010254</td>\n",
       "      <td>h91.9</td>\n",
       "      <td>Sordera</td>\n",
       "    </tr>\n",
       "  </tbody>\n",
       "</table>\n",
       "</div>"
      ],
      "text/plain": [
       "         document    code                 word\n",
       "0   biblio-994981  r68.82               Libido\n",
       "2  biblio-1008268   f91.9  Trastornos Mentales\n",
       "3  biblio-1008268     f99  Trastornos Mentales\n",
       "5  biblio-1008288  r09.02              Hipoxia\n",
       "6  biblio-1010254   h91.9              Sordera"
      ]
     },
     "execution_count": 176,
     "metadata": {},
     "output_type": "execute_result"
    }
   ],
   "source": [
    "comp_additional_ank_d.head()"
   ]
  },
  {
   "cell_type": "code",
   "execution_count": 177,
   "metadata": {},
   "outputs": [
    {
     "data": {
      "text/plain": [
       "False"
      ]
     },
     "execution_count": 177,
     "metadata": {},
     "output_type": "execute_result"
    }
   ],
   "source": [
    "comp_additional_ank_d[[\"document\", \"code\"]].isnull().values.any()"
   ]
  },
  {
   "cell_type": "code",
   "execution_count": 187,
   "metadata": {},
   "outputs": [],
   "source": [
    "comp_additional_ank_d[[\"document\", \"code\"]].to_csv(path_or_buf=\"../datasets/abstractsWithCIE10_v2/all_abstracts_table_valid_codes_D.tsv\", \n",
    "                                                   sep=\"\\t\", header=False, index=False)"
   ]
  },
  {
   "cell_type": "code",
   "execution_count": 178,
   "metadata": {},
   "outputs": [],
   "source": [
    "codiesp_d_train_all_add = pd.concat([codiesp_d_train, comp_additional_ank_d[[\"document\", \"code\"]]])"
   ]
  },
  {
   "cell_type": "code",
   "execution_count": 179,
   "metadata": {},
   "outputs": [
    {
     "data": {
      "text/html": [
       "<div>\n",
       "<style scoped>\n",
       "    .dataframe tbody tr th:only-of-type {\n",
       "        vertical-align: middle;\n",
       "    }\n",
       "\n",
       "    .dataframe tbody tr th {\n",
       "        vertical-align: top;\n",
       "    }\n",
       "\n",
       "    .dataframe thead th {\n",
       "        text-align: right;\n",
       "    }\n",
       "</style>\n",
       "<table border=\"1\" class=\"dataframe\">\n",
       "  <thead>\n",
       "    <tr style=\"text-align: right;\">\n",
       "      <th></th>\n",
       "      <th>document</th>\n",
       "      <th>code</th>\n",
       "    </tr>\n",
       "  </thead>\n",
       "  <tbody>\n",
       "    <tr>\n",
       "      <th>0</th>\n",
       "      <td>S0004-06142005000700014-1</td>\n",
       "      <td>n44.8</td>\n",
       "    </tr>\n",
       "    <tr>\n",
       "      <th>1</th>\n",
       "      <td>S0004-06142005000700014-1</td>\n",
       "      <td>z20.818</td>\n",
       "    </tr>\n",
       "    <tr>\n",
       "      <th>2</th>\n",
       "      <td>S0004-06142005000700014-1</td>\n",
       "      <td>r60.9</td>\n",
       "    </tr>\n",
       "    <tr>\n",
       "      <th>3</th>\n",
       "      <td>S0004-06142005000700014-1</td>\n",
       "      <td>r52</td>\n",
       "    </tr>\n",
       "    <tr>\n",
       "      <th>4</th>\n",
       "      <td>S0004-06142005000700014-1</td>\n",
       "      <td>a23.9</td>\n",
       "    </tr>\n",
       "  </tbody>\n",
       "</table>\n",
       "</div>"
      ],
      "text/plain": [
       "                    document     code\n",
       "0  S0004-06142005000700014-1    n44.8\n",
       "1  S0004-06142005000700014-1  z20.818\n",
       "2  S0004-06142005000700014-1    r60.9\n",
       "3  S0004-06142005000700014-1      r52\n",
       "4  S0004-06142005000700014-1    a23.9"
      ]
     },
     "execution_count": 179,
     "metadata": {},
     "output_type": "execute_result"
    }
   ],
   "source": [
    "codiesp_d_train_all_add.head()"
   ]
  },
  {
   "cell_type": "code",
   "execution_count": 180,
   "metadata": {},
   "outputs": [
    {
     "data": {
      "text/html": [
       "<div>\n",
       "<style scoped>\n",
       "    .dataframe tbody tr th:only-of-type {\n",
       "        vertical-align: middle;\n",
       "    }\n",
       "\n",
       "    .dataframe tbody tr th {\n",
       "        vertical-align: top;\n",
       "    }\n",
       "\n",
       "    .dataframe thead th {\n",
       "        text-align: right;\n",
       "    }\n",
       "</style>\n",
       "<table border=\"1\" class=\"dataframe\">\n",
       "  <thead>\n",
       "    <tr style=\"text-align: right;\">\n",
       "      <th></th>\n",
       "      <th>document</th>\n",
       "      <th>code</th>\n",
       "    </tr>\n",
       "  </thead>\n",
       "  <tbody>\n",
       "    <tr>\n",
       "      <th>442414</th>\n",
       "      <td>biblio-1012794</td>\n",
       "      <td>c80</td>\n",
       "    </tr>\n",
       "    <tr>\n",
       "      <th>442415</th>\n",
       "      <td>biblio-1012794</td>\n",
       "      <td>c80.1</td>\n",
       "    </tr>\n",
       "    <tr>\n",
       "      <th>442416</th>\n",
       "      <td>biblio-1012794</td>\n",
       "      <td>d36.9</td>\n",
       "    </tr>\n",
       "    <tr>\n",
       "      <th>442417</th>\n",
       "      <td>biblio-1012794</td>\n",
       "      <td>d49</td>\n",
       "    </tr>\n",
       "    <tr>\n",
       "      <th>442418</th>\n",
       "      <td>biblio-977844</td>\n",
       "      <td>r09.02</td>\n",
       "    </tr>\n",
       "  </tbody>\n",
       "</table>\n",
       "</div>"
      ],
      "text/plain": [
       "              document    code\n",
       "442414  biblio-1012794     c80\n",
       "442415  biblio-1012794   c80.1\n",
       "442416  biblio-1012794   d36.9\n",
       "442417  biblio-1012794     d49\n",
       "442418   biblio-977844  r09.02"
      ]
     },
     "execution_count": 180,
     "metadata": {},
     "output_type": "execute_result"
    }
   ],
   "source": [
    "codiesp_d_train_all_add.tail()"
   ]
  },
  {
   "cell_type": "code",
   "execution_count": 181,
   "metadata": {},
   "outputs": [
    {
     "data": {
      "text/plain": [
       "(409495, 2)"
      ]
     },
     "execution_count": 181,
     "metadata": {},
     "output_type": "execute_result"
    }
   ],
   "source": [
    "codiesp_d_train_all_add.shape"
   ]
  },
  {
   "cell_type": "code",
   "execution_count": 182,
   "metadata": {},
   "outputs": [],
   "source": [
    "all_add_train_d_codes = set(codiesp_d_train_all_add[\"code\"])"
   ]
  },
  {
   "cell_type": "markdown",
   "metadata": {},
   "source": [
    "We examine the next tables in order to analyze the features of the new resulting CodiEsp corpus:"
   ]
  },
  {
   "cell_type": "code",
   "execution_count": 183,
   "metadata": {},
   "outputs": [
    {
     "data": {
      "text/plain": [
       "0.7236533957845434"
      ]
     },
     "execution_count": 183,
     "metadata": {},
     "output_type": "execute_result"
    }
   ],
   "source": [
    "# Ratio between new (after additional abstracts inclusion) and original unseen unique CIE-Diagnóstico codes in Dev\n",
    "len(dev_d_codes - all_add_train_d_codes)/len(dev_d_codes - train_d_codes)"
   ]
  },
  {
   "cell_type": "code",
   "execution_count": 184,
   "metadata": {},
   "outputs": [],
   "source": [
    "# Approximate new ratio of unseen unique CIE-Diagnóstico codes in Test\n",
    "new_unseen_ratio = 0.72"
   ]
  },
  {
   "cell_type": "code",
   "execution_count": 185,
   "metadata": {},
   "outputs": [
    {
     "data": {
      "text/html": [
       "<div>\n",
       "<style scoped>\n",
       "    .dataframe tbody tr th:only-of-type {\n",
       "        vertical-align: middle;\n",
       "    }\n",
       "\n",
       "    .dataframe tbody tr th {\n",
       "        vertical-align: top;\n",
       "    }\n",
       "\n",
       "    .dataframe thead th {\n",
       "        text-align: right;\n",
       "    }\n",
       "</style>\n",
       "<table border=\"1\" class=\"dataframe\">\n",
       "  <thead>\n",
       "    <tr style=\"text-align: right;\">\n",
       "      <th></th>\n",
       "      <th>Training</th>\n",
       "      <th>Development</th>\n",
       "      <th>Test</th>\n",
       "    </tr>\n",
       "  </thead>\n",
       "  <tbody>\n",
       "    <tr>\n",
       "      <th>Documents</th>\n",
       "      <td>170620</td>\n",
       "      <td>250.000000</td>\n",
       "      <td>~250</td>\n",
       "    </tr>\n",
       "    <tr>\n",
       "      <th>Total CIE codes</th>\n",
       "      <td>409495</td>\n",
       "      <td>2677.000000</td>\n",
       "      <td>None</td>\n",
       "    </tr>\n",
       "    <tr>\n",
       "      <th>Avg CIE codes per doc.</th>\n",
       "      <td>2.40004</td>\n",
       "      <td>10.708000</td>\n",
       "      <td>None</td>\n",
       "    </tr>\n",
       "    <tr>\n",
       "      <th>Unique CIE codes</th>\n",
       "      <td>4136</td>\n",
       "      <td>1158.000000</td>\n",
       "      <td>None</td>\n",
       "    </tr>\n",
       "    <tr>\n",
       "      <th>Avg samples (docs) per CIE code</th>\n",
       "      <td>99.0075</td>\n",
       "      <td>2.311744</td>\n",
       "      <td>None</td>\n",
       "    </tr>\n",
       "    <tr>\n",
       "      <th>Unique unseen CIE codes</th>\n",
       "      <td>-</td>\n",
       "      <td>309.000000</td>\n",
       "      <td>~273.24</td>\n",
       "    </tr>\n",
       "  </tbody>\n",
       "</table>\n",
       "</div>"
      ],
      "text/plain": [
       "                                Training  Development     Test\n",
       "Documents                         170620   250.000000     ~250\n",
       "Total CIE codes                   409495  2677.000000     None\n",
       "Avg CIE codes per doc.           2.40004    10.708000     None\n",
       "Unique CIE codes                    4136  1158.000000     None\n",
       "Avg samples (docs) per CIE code  99.0075     2.311744     None\n",
       "Unique unseen CIE codes                -   309.000000  ~273.24"
      ]
     },
     "execution_count": 185,
     "metadata": {},
     "output_type": "execute_result"
    }
   ],
   "source": [
    "# Abstracts-CodiEsp-Diagnóstico codes table\n",
    "all_d_tab = pd.DataFrame({col_names[0]: [len(set(codiesp_d_train_all_add.document)), \n",
    "                                       codiesp_d_train_all_add.shape[0], \n",
    "                                       codiesp_d_train_all_add.shape[0]/len(set(codiesp_d_train_all_add.document)), \n",
    "                                       len(all_add_train_d_codes), \n",
    "                                     codiesp_d_train_all_add.shape[0]/len(all_add_train_d_codes), \n",
    "                                       \"-\"], \n",
    "              col_names[1]: [len(set(codiesp_d_dev.document)), \n",
    "                             codiesp_d_dev.shape[0], \n",
    "                             codiesp_d_dev.shape[0]/len(set(codiesp_d_dev.document)), \n",
    "                             len(dev_d_codes), \n",
    "                             codiesp_d_dev.shape[0]/len(dev_d_codes), \n",
    "                             len(dev_d_codes - all_add_train_d_codes)],\n",
    "              col_names[2]: [\"~250\", None, None, None, None, \n",
    "                             \"~\" + str((total_uniq_codes - len(d_codes) - len(p_codes))*d_approx*new_unseen_ratio)]}, \n",
    "                       index=row_names)\n",
    "all_d_tab = all_d_tab.reindex(columns=col_names)\n",
    "all_d_tab"
   ]
  },
  {
   "cell_type": "code",
   "execution_count": 186,
   "metadata": {},
   "outputs": [
    {
     "data": {
      "text/html": [
       "<div>\n",
       "<style scoped>\n",
       "    .dataframe tbody tr th:only-of-type {\n",
       "        vertical-align: middle;\n",
       "    }\n",
       "\n",
       "    .dataframe tbody tr th {\n",
       "        vertical-align: top;\n",
       "    }\n",
       "\n",
       "    .dataframe thead th {\n",
       "        text-align: right;\n",
       "    }\n",
       "</style>\n",
       "<table border=\"1\" class=\"dataframe\">\n",
       "  <thead>\n",
       "    <tr style=\"text-align: right;\">\n",
       "      <th></th>\n",
       "      <th>Training</th>\n",
       "      <th>Development</th>\n",
       "      <th>Test</th>\n",
       "    </tr>\n",
       "  </thead>\n",
       "  <tbody>\n",
       "    <tr>\n",
       "      <th>Documents</th>\n",
       "      <td>500</td>\n",
       "      <td>250.000000</td>\n",
       "      <td>~250</td>\n",
       "    </tr>\n",
       "    <tr>\n",
       "      <th>Total CIE codes</th>\n",
       "      <td>5639</td>\n",
       "      <td>2677.000000</td>\n",
       "      <td>None</td>\n",
       "    </tr>\n",
       "    <tr>\n",
       "      <th>Avg CIE codes per doc.</th>\n",
       "      <td>11.278</td>\n",
       "      <td>10.708000</td>\n",
       "      <td>None</td>\n",
       "    </tr>\n",
       "    <tr>\n",
       "      <th>Unique CIE codes</th>\n",
       "      <td>1767</td>\n",
       "      <td>1158.000000</td>\n",
       "      <td>None</td>\n",
       "    </tr>\n",
       "    <tr>\n",
       "      <th>Avg samples (docs) per CIE code</th>\n",
       "      <td>3.19128</td>\n",
       "      <td>2.311744</td>\n",
       "      <td>None</td>\n",
       "    </tr>\n",
       "    <tr>\n",
       "      <th>Unique unseen CIE codes</th>\n",
       "      <td>-</td>\n",
       "      <td>427.000000</td>\n",
       "      <td>~379.5</td>\n",
       "    </tr>\n",
       "  </tbody>\n",
       "</table>\n",
       "</div>"
      ],
      "text/plain": [
       "                                Training  Development    Test\n",
       "Documents                            500   250.000000    ~250\n",
       "Total CIE codes                     5639  2677.000000    None\n",
       "Avg CIE codes per doc.            11.278    10.708000    None\n",
       "Unique CIE codes                    1767  1158.000000    None\n",
       "Avg samples (docs) per CIE code  3.19128     2.311744    None\n",
       "Unique unseen CIE codes                -   427.000000  ~379.5"
      ]
     },
     "execution_count": 186,
     "metadata": {},
     "output_type": "execute_result"
    }
   ],
   "source": [
    "# Original table, when no abstract is added to the train corpus\n",
    "d_tab"
   ]
  },
  {
   "cell_type": "code",
   "execution_count": 187,
   "metadata": {},
   "outputs": [
    {
     "data": {
      "text/html": [
       "<div>\n",
       "<style scoped>\n",
       "    .dataframe tbody tr th:only-of-type {\n",
       "        vertical-align: middle;\n",
       "    }\n",
       "\n",
       "    .dataframe tbody tr th {\n",
       "        vertical-align: top;\n",
       "    }\n",
       "\n",
       "    .dataframe thead th {\n",
       "        text-align: right;\n",
       "    }\n",
       "</style>\n",
       "<table border=\"1\" class=\"dataframe\">\n",
       "  <thead>\n",
       "    <tr style=\"text-align: right;\">\n",
       "      <th></th>\n",
       "      <th>Train</th>\n",
       "      <th>Dev</th>\n",
       "      <th>Train+Dev</th>\n",
       "    </tr>\n",
       "  </thead>\n",
       "  <tbody>\n",
       "    <tr>\n",
       "      <th>count</th>\n",
       "      <td>4136.000000</td>\n",
       "      <td>1158.000000</td>\n",
       "      <td>4445.000000</td>\n",
       "    </tr>\n",
       "    <tr>\n",
       "      <th>mean</th>\n",
       "      <td>99.007495</td>\n",
       "      <td>2.311744</td>\n",
       "      <td>92.727109</td>\n",
       "    </tr>\n",
       "    <tr>\n",
       "      <th>std</th>\n",
       "      <td>259.122685</td>\n",
       "      <td>3.770245</td>\n",
       "      <td>251.729374</td>\n",
       "    </tr>\n",
       "    <tr>\n",
       "      <th>min</th>\n",
       "      <td>1.000000</td>\n",
       "      <td>1.000000</td>\n",
       "      <td>1.000000</td>\n",
       "    </tr>\n",
       "    <tr>\n",
       "      <th>25%</th>\n",
       "      <td>3.000000</td>\n",
       "      <td>1.000000</td>\n",
       "      <td>2.000000</td>\n",
       "    </tr>\n",
       "    <tr>\n",
       "      <th>50%</th>\n",
       "      <td>22.000000</td>\n",
       "      <td>1.000000</td>\n",
       "      <td>18.000000</td>\n",
       "    </tr>\n",
       "    <tr>\n",
       "      <th>75%</th>\n",
       "      <td>86.000000</td>\n",
       "      <td>2.000000</td>\n",
       "      <td>79.000000</td>\n",
       "    </tr>\n",
       "    <tr>\n",
       "      <th>max</th>\n",
       "      <td>4768.000000</td>\n",
       "      <td>51.000000</td>\n",
       "      <td>4807.000000</td>\n",
       "    </tr>\n",
       "  </tbody>\n",
       "</table>\n",
       "</div>"
      ],
      "text/plain": [
       "             Train          Dev    Train+Dev\n",
       "count  4136.000000  1158.000000  4445.000000\n",
       "mean     99.007495     2.311744    92.727109\n",
       "std     259.122685     3.770245   251.729374\n",
       "min       1.000000     1.000000     1.000000\n",
       "25%       3.000000     1.000000     2.000000\n",
       "50%      22.000000     1.000000    18.000000\n",
       "75%      86.000000     2.000000    79.000000\n",
       "max    4768.000000    51.000000  4807.000000"
      ]
     },
     "execution_count": 187,
     "metadata": {},
     "output_type": "execute_result"
    }
   ],
   "source": [
    "# Samples per CIE-Diagnóstico code distribution\n",
    "all_d_sample_code = pd.DataFrame({col_names_sample[0]: codiesp_d_train_all_add[\"code\"].value_counts().describe(),\n",
    "                              col_names_sample[1]: codiesp_d_dev[\"code\"].value_counts().describe(),\n",
    "                              col_names_sample[2]: codiesp_d_train_all_add[\"code\"].append(codiesp_d_dev[\"code\"]).value_counts().describe()})\n",
    "all_d_sample_code = all_d_sample_code.reindex(columns=col_names_sample)\n",
    "all_d_sample_code"
   ]
  },
  {
   "cell_type": "code",
   "execution_count": 188,
   "metadata": {},
   "outputs": [
    {
     "data": {
      "text/html": [
       "<div>\n",
       "<style scoped>\n",
       "    .dataframe tbody tr th:only-of-type {\n",
       "        vertical-align: middle;\n",
       "    }\n",
       "\n",
       "    .dataframe tbody tr th {\n",
       "        vertical-align: top;\n",
       "    }\n",
       "\n",
       "    .dataframe thead th {\n",
       "        text-align: right;\n",
       "    }\n",
       "</style>\n",
       "<table border=\"1\" class=\"dataframe\">\n",
       "  <thead>\n",
       "    <tr style=\"text-align: right;\">\n",
       "      <th></th>\n",
       "      <th>Train</th>\n",
       "      <th>Dev</th>\n",
       "      <th>Train+Dev</th>\n",
       "    </tr>\n",
       "  </thead>\n",
       "  <tbody>\n",
       "    <tr>\n",
       "      <th>count</th>\n",
       "      <td>1767.000000</td>\n",
       "      <td>1158.000000</td>\n",
       "      <td>2194.000000</td>\n",
       "    </tr>\n",
       "    <tr>\n",
       "      <th>mean</th>\n",
       "      <td>3.191285</td>\n",
       "      <td>2.311744</td>\n",
       "      <td>3.790337</td>\n",
       "    </tr>\n",
       "    <tr>\n",
       "      <th>std</th>\n",
       "      <td>6.921389</td>\n",
       "      <td>3.770245</td>\n",
       "      <td>9.123652</td>\n",
       "    </tr>\n",
       "    <tr>\n",
       "      <th>min</th>\n",
       "      <td>1.000000</td>\n",
       "      <td>1.000000</td>\n",
       "      <td>1.000000</td>\n",
       "    </tr>\n",
       "    <tr>\n",
       "      <th>25%</th>\n",
       "      <td>1.000000</td>\n",
       "      <td>1.000000</td>\n",
       "      <td>1.000000</td>\n",
       "    </tr>\n",
       "    <tr>\n",
       "      <th>50%</th>\n",
       "      <td>1.000000</td>\n",
       "      <td>1.000000</td>\n",
       "      <td>1.000000</td>\n",
       "    </tr>\n",
       "    <tr>\n",
       "      <th>75%</th>\n",
       "      <td>3.000000</td>\n",
       "      <td>2.000000</td>\n",
       "      <td>3.000000</td>\n",
       "    </tr>\n",
       "    <tr>\n",
       "      <th>max</th>\n",
       "      <td>112.000000</td>\n",
       "      <td>51.000000</td>\n",
       "      <td>163.000000</td>\n",
       "    </tr>\n",
       "  </tbody>\n",
       "</table>\n",
       "</div>"
      ],
      "text/plain": [
       "             Train          Dev    Train+Dev\n",
       "count  1767.000000  1158.000000  2194.000000\n",
       "mean      3.191285     2.311744     3.790337\n",
       "std       6.921389     3.770245     9.123652\n",
       "min       1.000000     1.000000     1.000000\n",
       "25%       1.000000     1.000000     1.000000\n",
       "50%       1.000000     1.000000     1.000000\n",
       "75%       3.000000     2.000000     3.000000\n",
       "max     112.000000    51.000000   163.000000"
      ]
     },
     "execution_count": 188,
     "metadata": {},
     "output_type": "execute_result"
    }
   ],
   "source": [
    "# Original samples per CIE-Diagnóstico code distribution\n",
    "d_sample_code"
   ]
  },
  {
   "cell_type": "markdown",
   "metadata": {},
   "source": [
    "##### Abstracts with CodiEsp train or dev codes\n",
    "\n",
    "Only the additional abstracts labeled with CIE codes present in CodiEsp train or development corpus are added."
   ]
  },
  {
   "cell_type": "markdown",
   "metadata": {},
   "source": [
    "We firstly save additional abstracts with CodiEsp-training codes table for further usage:"
   ]
  },
  {
   "cell_type": "code",
   "execution_count": 200,
   "metadata": {},
   "outputs": [],
   "source": [
    "comp_additional_ank_d_train_dev = comp_additional_ank_d[comp_additional_ank_d[\"code\"].isin(d_codes)][[\"document\", \"code\"]]"
   ]
  },
  {
   "cell_type": "code",
   "execution_count": 201,
   "metadata": {},
   "outputs": [
    {
     "data": {
      "text/plain": [
       "(160652, 2)"
      ]
     },
     "execution_count": 201,
     "metadata": {},
     "output_type": "execute_result"
    }
   ],
   "source": [
    "comp_additional_ank_d_train_dev.shape"
   ]
  },
  {
   "cell_type": "code",
   "execution_count": 202,
   "metadata": {},
   "outputs": [
    {
     "data": {
      "text/html": [
       "<div>\n",
       "<style scoped>\n",
       "    .dataframe tbody tr th:only-of-type {\n",
       "        vertical-align: middle;\n",
       "    }\n",
       "\n",
       "    .dataframe tbody tr th {\n",
       "        vertical-align: top;\n",
       "    }\n",
       "\n",
       "    .dataframe thead th {\n",
       "        text-align: right;\n",
       "    }\n",
       "</style>\n",
       "<table border=\"1\" class=\"dataframe\">\n",
       "  <thead>\n",
       "    <tr style=\"text-align: right;\">\n",
       "      <th></th>\n",
       "      <th>document</th>\n",
       "      <th>code</th>\n",
       "    </tr>\n",
       "  </thead>\n",
       "  <tbody>\n",
       "    <tr>\n",
       "      <th>3</th>\n",
       "      <td>biblio-1008268</td>\n",
       "      <td>f99</td>\n",
       "    </tr>\n",
       "    <tr>\n",
       "      <th>5</th>\n",
       "      <td>biblio-1008288</td>\n",
       "      <td>r09.02</td>\n",
       "    </tr>\n",
       "    <tr>\n",
       "      <th>8</th>\n",
       "      <td>biblio-1008344</td>\n",
       "      <td>a90</td>\n",
       "    </tr>\n",
       "    <tr>\n",
       "      <th>10</th>\n",
       "      <td>biblio-1008411</td>\n",
       "      <td>e55.9</td>\n",
       "    </tr>\n",
       "    <tr>\n",
       "      <th>12</th>\n",
       "      <td>biblio-1008711</td>\n",
       "      <td>i49.9</td>\n",
       "    </tr>\n",
       "  </tbody>\n",
       "</table>\n",
       "</div>"
      ],
      "text/plain": [
       "          document    code\n",
       "3   biblio-1008268     f99\n",
       "5   biblio-1008288  r09.02\n",
       "8   biblio-1008344     a90\n",
       "10  biblio-1008411   e55.9\n",
       "12  biblio-1008711   i49.9"
      ]
     },
     "execution_count": 202,
     "metadata": {},
     "output_type": "execute_result"
    }
   ],
   "source": [
    "comp_additional_ank_d_train_dev.head()"
   ]
  },
  {
   "cell_type": "code",
   "execution_count": 203,
   "metadata": {},
   "outputs": [
    {
     "data": {
      "text/plain": [
       "False"
      ]
     },
     "execution_count": 203,
     "metadata": {},
     "output_type": "execute_result"
    }
   ],
   "source": [
    "comp_additional_ank_d_train_dev.isnull().values.any()"
   ]
  },
  {
   "cell_type": "code",
   "execution_count": 204,
   "metadata": {},
   "outputs": [],
   "source": [
    "comp_additional_ank_d_train_dev.to_csv(path_or_buf=\"../datasets/abstractsWithCIE10_v2/train_dev_abstracts_table_valid_codes_D.tsv\", \n",
    "                                                   sep=\"\\t\", header=False, index=False)"
   ]
  },
  {
   "cell_type": "code",
   "execution_count": 205,
   "metadata": {},
   "outputs": [],
   "source": [
    "codiesp_d_train_add_train_dev = pd.concat([codiesp_d_train, \n",
    "    comp_additional_ank_d[comp_additional_ank_d[\"code\"].isin(d_codes & comp_additional_ank_d_codes)][[\"document\", \"code\"]]]) "
   ]
  },
  {
   "cell_type": "code",
   "execution_count": 206,
   "metadata": {},
   "outputs": [
    {
     "data": {
      "text/html": [
       "<div>\n",
       "<style scoped>\n",
       "    .dataframe tbody tr th:only-of-type {\n",
       "        vertical-align: middle;\n",
       "    }\n",
       "\n",
       "    .dataframe tbody tr th {\n",
       "        vertical-align: top;\n",
       "    }\n",
       "\n",
       "    .dataframe thead th {\n",
       "        text-align: right;\n",
       "    }\n",
       "</style>\n",
       "<table border=\"1\" class=\"dataframe\">\n",
       "  <thead>\n",
       "    <tr style=\"text-align: right;\">\n",
       "      <th></th>\n",
       "      <th>document</th>\n",
       "      <th>code</th>\n",
       "    </tr>\n",
       "  </thead>\n",
       "  <tbody>\n",
       "    <tr>\n",
       "      <th>0</th>\n",
       "      <td>S0004-06142005000700014-1</td>\n",
       "      <td>n44.8</td>\n",
       "    </tr>\n",
       "    <tr>\n",
       "      <th>1</th>\n",
       "      <td>S0004-06142005000700014-1</td>\n",
       "      <td>z20.818</td>\n",
       "    </tr>\n",
       "    <tr>\n",
       "      <th>2</th>\n",
       "      <td>S0004-06142005000700014-1</td>\n",
       "      <td>r60.9</td>\n",
       "    </tr>\n",
       "    <tr>\n",
       "      <th>3</th>\n",
       "      <td>S0004-06142005000700014-1</td>\n",
       "      <td>r52</td>\n",
       "    </tr>\n",
       "    <tr>\n",
       "      <th>4</th>\n",
       "      <td>S0004-06142005000700014-1</td>\n",
       "      <td>a23.9</td>\n",
       "    </tr>\n",
       "  </tbody>\n",
       "</table>\n",
       "</div>"
      ],
      "text/plain": [
       "                    document     code\n",
       "0  S0004-06142005000700014-1    n44.8\n",
       "1  S0004-06142005000700014-1  z20.818\n",
       "2  S0004-06142005000700014-1    r60.9\n",
       "3  S0004-06142005000700014-1      r52\n",
       "4  S0004-06142005000700014-1    a23.9"
      ]
     },
     "execution_count": 206,
     "metadata": {},
     "output_type": "execute_result"
    }
   ],
   "source": [
    "codiesp_d_train_add_train_dev.head()"
   ]
  },
  {
   "cell_type": "code",
   "execution_count": 207,
   "metadata": {},
   "outputs": [
    {
     "data": {
      "text/html": [
       "<div>\n",
       "<style scoped>\n",
       "    .dataframe tbody tr th:only-of-type {\n",
       "        vertical-align: middle;\n",
       "    }\n",
       "\n",
       "    .dataframe tbody tr th {\n",
       "        vertical-align: top;\n",
       "    }\n",
       "\n",
       "    .dataframe thead th {\n",
       "        text-align: right;\n",
       "    }\n",
       "</style>\n",
       "<table border=\"1\" class=\"dataframe\">\n",
       "  <thead>\n",
       "    <tr style=\"text-align: right;\">\n",
       "      <th></th>\n",
       "      <th>document</th>\n",
       "      <th>code</th>\n",
       "    </tr>\n",
       "  </thead>\n",
       "  <tbody>\n",
       "    <tr>\n",
       "      <th>442403</th>\n",
       "      <td>biblio-1015950</td>\n",
       "      <td>r13.10</td>\n",
       "    </tr>\n",
       "    <tr>\n",
       "      <th>442409</th>\n",
       "      <td>biblio-1015955</td>\n",
       "      <td>g54.6</td>\n",
       "    </tr>\n",
       "    <tr>\n",
       "      <th>442412</th>\n",
       "      <td>biblio-1012795</td>\n",
       "      <td>q90.9</td>\n",
       "    </tr>\n",
       "    <tr>\n",
       "      <th>442415</th>\n",
       "      <td>biblio-1012794</td>\n",
       "      <td>c80.1</td>\n",
       "    </tr>\n",
       "    <tr>\n",
       "      <th>442418</th>\n",
       "      <td>biblio-977844</td>\n",
       "      <td>r09.02</td>\n",
       "    </tr>\n",
       "  </tbody>\n",
       "</table>\n",
       "</div>"
      ],
      "text/plain": [
       "              document    code\n",
       "442403  biblio-1015950  r13.10\n",
       "442409  biblio-1015955   g54.6\n",
       "442412  biblio-1012795   q90.9\n",
       "442415  biblio-1012794   c80.1\n",
       "442418   biblio-977844  r09.02"
      ]
     },
     "execution_count": 207,
     "metadata": {},
     "output_type": "execute_result"
    }
   ],
   "source": [
    "codiesp_d_train_add_train_dev.tail()"
   ]
  },
  {
   "cell_type": "code",
   "execution_count": 208,
   "metadata": {},
   "outputs": [
    {
     "data": {
      "text/plain": [
       "(166291, 2)"
      ]
     },
     "execution_count": 208,
     "metadata": {},
     "output_type": "execute_result"
    }
   ],
   "source": [
    "codiesp_d_train_add_train_dev.shape"
   ]
  },
  {
   "cell_type": "markdown",
   "metadata": {},
   "source": [
    "We examine the next tables in order to analyze the features of the new resulting CodiEsp corpus:"
   ]
  },
  {
   "cell_type": "code",
   "execution_count": 209,
   "metadata": {},
   "outputs": [],
   "source": [
    "train_dev_add_train_d_codes = set(codiesp_d_train_add_train_dev[\"code\"])"
   ]
  },
  {
   "cell_type": "code",
   "execution_count": 210,
   "metadata": {},
   "outputs": [
    {
     "data": {
      "text/html": [
       "<div>\n",
       "<style scoped>\n",
       "    .dataframe tbody tr th:only-of-type {\n",
       "        vertical-align: middle;\n",
       "    }\n",
       "\n",
       "    .dataframe tbody tr th {\n",
       "        vertical-align: top;\n",
       "    }\n",
       "\n",
       "    .dataframe thead th {\n",
       "        text-align: right;\n",
       "    }\n",
       "</style>\n",
       "<table border=\"1\" class=\"dataframe\">\n",
       "  <thead>\n",
       "    <tr style=\"text-align: right;\">\n",
       "      <th></th>\n",
       "      <th>Training</th>\n",
       "      <th>Development</th>\n",
       "      <th>Test</th>\n",
       "    </tr>\n",
       "  </thead>\n",
       "  <tbody>\n",
       "    <tr>\n",
       "      <th>Documents</th>\n",
       "      <td>115957</td>\n",
       "      <td>250.000000</td>\n",
       "      <td>~250</td>\n",
       "    </tr>\n",
       "    <tr>\n",
       "      <th>Total CIE codes</th>\n",
       "      <td>166291</td>\n",
       "      <td>2677.000000</td>\n",
       "      <td>None</td>\n",
       "    </tr>\n",
       "    <tr>\n",
       "      <th>Avg CIE codes per doc.</th>\n",
       "      <td>1.43407</td>\n",
       "      <td>10.708000</td>\n",
       "      <td>None</td>\n",
       "    </tr>\n",
       "    <tr>\n",
       "      <th>Unique CIE codes</th>\n",
       "      <td>1885</td>\n",
       "      <td>1158.000000</td>\n",
       "      <td>None</td>\n",
       "    </tr>\n",
       "    <tr>\n",
       "      <th>Avg samples (docs) per CIE code</th>\n",
       "      <td>88.218</td>\n",
       "      <td>2.311744</td>\n",
       "      <td>None</td>\n",
       "    </tr>\n",
       "    <tr>\n",
       "      <th>Unique unseen CIE codes</th>\n",
       "      <td>-</td>\n",
       "      <td>309.000000</td>\n",
       "      <td>~379.5</td>\n",
       "    </tr>\n",
       "  </tbody>\n",
       "</table>\n",
       "</div>"
      ],
      "text/plain": [
       "                                Training  Development    Test\n",
       "Documents                         115957   250.000000    ~250\n",
       "Total CIE codes                   166291  2677.000000    None\n",
       "Avg CIE codes per doc.           1.43407    10.708000    None\n",
       "Unique CIE codes                    1885  1158.000000    None\n",
       "Avg samples (docs) per CIE code   88.218     2.311744    None\n",
       "Unique unseen CIE codes                -   309.000000  ~379.5"
      ]
     },
     "execution_count": 210,
     "metadata": {},
     "output_type": "execute_result"
    }
   ],
   "source": [
    "# Abstracts-CodiEsp-Diagnóstico codes table\n",
    "train_dev_add_d_tab = pd.DataFrame({col_names[0]: [len(set(codiesp_d_train_add_train_dev.document)), \n",
    "                                       codiesp_d_train_add_train_dev.shape[0], \n",
    "                                       codiesp_d_train_add_train_dev.shape[0]/len(set(codiesp_d_train_add_train_dev.document)), \n",
    "                                       len(train_dev_add_train_d_codes), \n",
    "                                     codiesp_d_train_add_train_dev.shape[0]/len(train_dev_add_train_d_codes), \n",
    "                                       \"-\"], \n",
    "              col_names[1]: [len(set(codiesp_d_dev.document)), \n",
    "                             codiesp_d_dev.shape[0], \n",
    "                             codiesp_d_dev.shape[0]/len(set(codiesp_d_dev.document)), \n",
    "                             len(dev_d_codes), \n",
    "                             codiesp_d_dev.shape[0]/len(dev_d_codes), \n",
    "                             len(dev_d_codes - train_dev_add_train_d_codes)],\n",
    "              col_names[2]: [\"~250\", None, None, None, None, \n",
    "                             \"~\" + str((total_uniq_codes - len(d_codes) - len(p_codes))*d_approx)]}, \n",
    "                       index=row_names)\n",
    "train_dev_add_d_tab = train_dev_add_d_tab.reindex(columns=col_names)\n",
    "train_dev_add_d_tab"
   ]
  },
  {
   "cell_type": "code",
   "execution_count": 211,
   "metadata": {},
   "outputs": [
    {
     "data": {
      "text/html": [
       "<div>\n",
       "<style scoped>\n",
       "    .dataframe tbody tr th:only-of-type {\n",
       "        vertical-align: middle;\n",
       "    }\n",
       "\n",
       "    .dataframe tbody tr th {\n",
       "        vertical-align: top;\n",
       "    }\n",
       "\n",
       "    .dataframe thead th {\n",
       "        text-align: right;\n",
       "    }\n",
       "</style>\n",
       "<table border=\"1\" class=\"dataframe\">\n",
       "  <thead>\n",
       "    <tr style=\"text-align: right;\">\n",
       "      <th></th>\n",
       "      <th>Training</th>\n",
       "      <th>Development</th>\n",
       "      <th>Test</th>\n",
       "    </tr>\n",
       "  </thead>\n",
       "  <tbody>\n",
       "    <tr>\n",
       "      <th>Documents</th>\n",
       "      <td>500</td>\n",
       "      <td>250.000000</td>\n",
       "      <td>~250</td>\n",
       "    </tr>\n",
       "    <tr>\n",
       "      <th>Total CIE codes</th>\n",
       "      <td>5639</td>\n",
       "      <td>2677.000000</td>\n",
       "      <td>None</td>\n",
       "    </tr>\n",
       "    <tr>\n",
       "      <th>Avg CIE codes per doc.</th>\n",
       "      <td>11.278</td>\n",
       "      <td>10.708000</td>\n",
       "      <td>None</td>\n",
       "    </tr>\n",
       "    <tr>\n",
       "      <th>Unique CIE codes</th>\n",
       "      <td>1767</td>\n",
       "      <td>1158.000000</td>\n",
       "      <td>None</td>\n",
       "    </tr>\n",
       "    <tr>\n",
       "      <th>Avg samples (docs) per CIE code</th>\n",
       "      <td>3.19128</td>\n",
       "      <td>2.311744</td>\n",
       "      <td>None</td>\n",
       "    </tr>\n",
       "    <tr>\n",
       "      <th>Unique unseen CIE codes</th>\n",
       "      <td>-</td>\n",
       "      <td>427.000000</td>\n",
       "      <td>~379.5</td>\n",
       "    </tr>\n",
       "  </tbody>\n",
       "</table>\n",
       "</div>"
      ],
      "text/plain": [
       "                                Training  Development    Test\n",
       "Documents                            500   250.000000    ~250\n",
       "Total CIE codes                     5639  2677.000000    None\n",
       "Avg CIE codes per doc.            11.278    10.708000    None\n",
       "Unique CIE codes                    1767  1158.000000    None\n",
       "Avg samples (docs) per CIE code  3.19128     2.311744    None\n",
       "Unique unseen CIE codes                -   427.000000  ~379.5"
      ]
     },
     "execution_count": 211,
     "metadata": {},
     "output_type": "execute_result"
    }
   ],
   "source": [
    "# Original table, when no abstract is added to the train corpus\n",
    "d_tab"
   ]
  },
  {
   "cell_type": "code",
   "execution_count": 212,
   "metadata": {},
   "outputs": [
    {
     "data": {
      "text/html": [
       "<div>\n",
       "<style scoped>\n",
       "    .dataframe tbody tr th:only-of-type {\n",
       "        vertical-align: middle;\n",
       "    }\n",
       "\n",
       "    .dataframe tbody tr th {\n",
       "        vertical-align: top;\n",
       "    }\n",
       "\n",
       "    .dataframe thead th {\n",
       "        text-align: right;\n",
       "    }\n",
       "</style>\n",
       "<table border=\"1\" class=\"dataframe\">\n",
       "  <thead>\n",
       "    <tr style=\"text-align: right;\">\n",
       "      <th></th>\n",
       "      <th>Train</th>\n",
       "      <th>Dev</th>\n",
       "      <th>Train+Dev</th>\n",
       "    </tr>\n",
       "  </thead>\n",
       "  <tbody>\n",
       "    <tr>\n",
       "      <th>count</th>\n",
       "      <td>1885.000000</td>\n",
       "      <td>1158.000000</td>\n",
       "      <td>2194.000000</td>\n",
       "    </tr>\n",
       "    <tr>\n",
       "      <th>mean</th>\n",
       "      <td>88.218037</td>\n",
       "      <td>2.311744</td>\n",
       "      <td>77.013674</td>\n",
       "    </tr>\n",
       "    <tr>\n",
       "      <th>std</th>\n",
       "      <td>272.060588</td>\n",
       "      <td>3.770245</td>\n",
       "      <td>255.129413</td>\n",
       "    </tr>\n",
       "    <tr>\n",
       "      <th>min</th>\n",
       "      <td>1.000000</td>\n",
       "      <td>1.000000</td>\n",
       "      <td>1.000000</td>\n",
       "    </tr>\n",
       "    <tr>\n",
       "      <th>25%</th>\n",
       "      <td>1.000000</td>\n",
       "      <td>1.000000</td>\n",
       "      <td>1.000000</td>\n",
       "    </tr>\n",
       "    <tr>\n",
       "      <th>50%</th>\n",
       "      <td>3.000000</td>\n",
       "      <td>1.000000</td>\n",
       "      <td>2.000000</td>\n",
       "    </tr>\n",
       "    <tr>\n",
       "      <th>75%</th>\n",
       "      <td>64.000000</td>\n",
       "      <td>2.000000</td>\n",
       "      <td>44.000000</td>\n",
       "    </tr>\n",
       "    <tr>\n",
       "      <th>max</th>\n",
       "      <td>4768.000000</td>\n",
       "      <td>51.000000</td>\n",
       "      <td>4807.000000</td>\n",
       "    </tr>\n",
       "  </tbody>\n",
       "</table>\n",
       "</div>"
      ],
      "text/plain": [
       "             Train          Dev    Train+Dev\n",
       "count  1885.000000  1158.000000  2194.000000\n",
       "mean     88.218037     2.311744    77.013674\n",
       "std     272.060588     3.770245   255.129413\n",
       "min       1.000000     1.000000     1.000000\n",
       "25%       1.000000     1.000000     1.000000\n",
       "50%       3.000000     1.000000     2.000000\n",
       "75%      64.000000     2.000000    44.000000\n",
       "max    4768.000000    51.000000  4807.000000"
      ]
     },
     "execution_count": 212,
     "metadata": {},
     "output_type": "execute_result"
    }
   ],
   "source": [
    "# Samples per CIE-Diagnóstico code distribution\n",
    "train_dev_add_d_sample_code = pd.DataFrame({col_names_sample[0]: codiesp_d_train_add_train_dev[\"code\"].value_counts().describe(),\n",
    "                              col_names_sample[1]: codiesp_d_dev[\"code\"].value_counts().describe(),\n",
    "                              col_names_sample[2]: codiesp_d_train_add_train_dev[\"code\"].append(codiesp_d_dev[\"code\"]).value_counts().describe()})\n",
    "train_dev_add_d_sample_code = train_dev_add_d_sample_code.reindex(columns=col_names_sample)\n",
    "train_dev_add_d_sample_code"
   ]
  },
  {
   "cell_type": "code",
   "execution_count": 213,
   "metadata": {},
   "outputs": [
    {
     "data": {
      "text/html": [
       "<div>\n",
       "<style scoped>\n",
       "    .dataframe tbody tr th:only-of-type {\n",
       "        vertical-align: middle;\n",
       "    }\n",
       "\n",
       "    .dataframe tbody tr th {\n",
       "        vertical-align: top;\n",
       "    }\n",
       "\n",
       "    .dataframe thead th {\n",
       "        text-align: right;\n",
       "    }\n",
       "</style>\n",
       "<table border=\"1\" class=\"dataframe\">\n",
       "  <thead>\n",
       "    <tr style=\"text-align: right;\">\n",
       "      <th></th>\n",
       "      <th>Train</th>\n",
       "      <th>Dev</th>\n",
       "      <th>Train+Dev</th>\n",
       "    </tr>\n",
       "  </thead>\n",
       "  <tbody>\n",
       "    <tr>\n",
       "      <th>count</th>\n",
       "      <td>1767.000000</td>\n",
       "      <td>1158.000000</td>\n",
       "      <td>2194.000000</td>\n",
       "    </tr>\n",
       "    <tr>\n",
       "      <th>mean</th>\n",
       "      <td>3.191285</td>\n",
       "      <td>2.311744</td>\n",
       "      <td>3.790337</td>\n",
       "    </tr>\n",
       "    <tr>\n",
       "      <th>std</th>\n",
       "      <td>6.921389</td>\n",
       "      <td>3.770245</td>\n",
       "      <td>9.123652</td>\n",
       "    </tr>\n",
       "    <tr>\n",
       "      <th>min</th>\n",
       "      <td>1.000000</td>\n",
       "      <td>1.000000</td>\n",
       "      <td>1.000000</td>\n",
       "    </tr>\n",
       "    <tr>\n",
       "      <th>25%</th>\n",
       "      <td>1.000000</td>\n",
       "      <td>1.000000</td>\n",
       "      <td>1.000000</td>\n",
       "    </tr>\n",
       "    <tr>\n",
       "      <th>50%</th>\n",
       "      <td>1.000000</td>\n",
       "      <td>1.000000</td>\n",
       "      <td>1.000000</td>\n",
       "    </tr>\n",
       "    <tr>\n",
       "      <th>75%</th>\n",
       "      <td>3.000000</td>\n",
       "      <td>2.000000</td>\n",
       "      <td>3.000000</td>\n",
       "    </tr>\n",
       "    <tr>\n",
       "      <th>max</th>\n",
       "      <td>112.000000</td>\n",
       "      <td>51.000000</td>\n",
       "      <td>163.000000</td>\n",
       "    </tr>\n",
       "  </tbody>\n",
       "</table>\n",
       "</div>"
      ],
      "text/plain": [
       "             Train          Dev    Train+Dev\n",
       "count  1767.000000  1158.000000  2194.000000\n",
       "mean      3.191285     2.311744     3.790337\n",
       "std       6.921389     3.770245     9.123652\n",
       "min       1.000000     1.000000     1.000000\n",
       "25%       1.000000     1.000000     1.000000\n",
       "50%       1.000000     1.000000     1.000000\n",
       "75%       3.000000     2.000000     3.000000\n",
       "max     112.000000    51.000000   163.000000"
      ]
     },
     "execution_count": 213,
     "metadata": {},
     "output_type": "execute_result"
    }
   ],
   "source": [
    "# Original samples per CIE-Diagnóstico code distribution\n",
    "d_sample_code"
   ]
  },
  {
   "cell_type": "markdown",
   "metadata": {},
   "source": [
    "##### Abstracts with CodiEsp train codes\n",
    "\n",
    "Only the additional abstracts labeled with CIE codes present in CodiEsp train corpus are added. This option is only meaningful during the model development phase, when the CodiEsp devel corpus is employed to evaluate the model, as in the final evaluation phase train+dev corpora will be used to train the final model."
   ]
  },
  {
   "cell_type": "markdown",
   "metadata": {},
   "source": [
    "We firstly save additional abstracts with CodiEsp-training codes table for further usage:"
   ]
  },
  {
   "cell_type": "code",
   "execution_count": 214,
   "metadata": {},
   "outputs": [],
   "source": [
    "comp_additional_ank_d_train = comp_additional_ank_d[comp_additional_ank_d[\"code\"].isin(train_d_codes)][[\"document\", \"code\"]]"
   ]
  },
  {
   "cell_type": "code",
   "execution_count": 215,
   "metadata": {},
   "outputs": [
    {
     "data": {
      "text/plain": [
       "(148197, 2)"
      ]
     },
     "execution_count": 215,
     "metadata": {},
     "output_type": "execute_result"
    }
   ],
   "source": [
    "comp_additional_ank_d_train.shape"
   ]
  },
  {
   "cell_type": "code",
   "execution_count": 216,
   "metadata": {},
   "outputs": [
    {
     "data": {
      "text/html": [
       "<div>\n",
       "<style scoped>\n",
       "    .dataframe tbody tr th:only-of-type {\n",
       "        vertical-align: middle;\n",
       "    }\n",
       "\n",
       "    .dataframe tbody tr th {\n",
       "        vertical-align: top;\n",
       "    }\n",
       "\n",
       "    .dataframe thead th {\n",
       "        text-align: right;\n",
       "    }\n",
       "</style>\n",
       "<table border=\"1\" class=\"dataframe\">\n",
       "  <thead>\n",
       "    <tr style=\"text-align: right;\">\n",
       "      <th></th>\n",
       "      <th>document</th>\n",
       "      <th>code</th>\n",
       "    </tr>\n",
       "  </thead>\n",
       "  <tbody>\n",
       "    <tr>\n",
       "      <th>3</th>\n",
       "      <td>biblio-1008268</td>\n",
       "      <td>f99</td>\n",
       "    </tr>\n",
       "    <tr>\n",
       "      <th>5</th>\n",
       "      <td>biblio-1008288</td>\n",
       "      <td>r09.02</td>\n",
       "    </tr>\n",
       "    <tr>\n",
       "      <th>8</th>\n",
       "      <td>biblio-1008344</td>\n",
       "      <td>a90</td>\n",
       "    </tr>\n",
       "    <tr>\n",
       "      <th>12</th>\n",
       "      <td>biblio-1008711</td>\n",
       "      <td>i49.9</td>\n",
       "    </tr>\n",
       "    <tr>\n",
       "      <th>13</th>\n",
       "      <td>biblio-1008711</td>\n",
       "      <td>i48.0</td>\n",
       "    </tr>\n",
       "  </tbody>\n",
       "</table>\n",
       "</div>"
      ],
      "text/plain": [
       "          document    code\n",
       "3   biblio-1008268     f99\n",
       "5   biblio-1008288  r09.02\n",
       "8   biblio-1008344     a90\n",
       "12  biblio-1008711   i49.9\n",
       "13  biblio-1008711   i48.0"
      ]
     },
     "execution_count": 216,
     "metadata": {},
     "output_type": "execute_result"
    }
   ],
   "source": [
    "comp_additional_ank_d_train.head()"
   ]
  },
  {
   "cell_type": "code",
   "execution_count": 217,
   "metadata": {},
   "outputs": [
    {
     "data": {
      "text/plain": [
       "False"
      ]
     },
     "execution_count": 217,
     "metadata": {},
     "output_type": "execute_result"
    }
   ],
   "source": [
    "comp_additional_ank_d_train.isnull().values.any()"
   ]
  },
  {
   "cell_type": "code",
   "execution_count": 219,
   "metadata": {},
   "outputs": [],
   "source": [
    "comp_additional_ank_d_train.to_csv(path_or_buf=\"../datasets/abstractsWithCIE10_v2/train_abstracts_table_valid_codes_D.tsv\", \n",
    "                                                   sep=\"\\t\", header=False, index=False)"
   ]
  },
  {
   "cell_type": "code",
   "execution_count": 220,
   "metadata": {},
   "outputs": [],
   "source": [
    "codiesp_d_train_add_train = pd.concat([codiesp_d_train, \n",
    "    comp_additional_ank_d[comp_additional_ank_d[\"code\"].isin(train_d_codes & comp_additional_ank_d_codes)][[\"document\", \"code\"]]]) "
   ]
  },
  {
   "cell_type": "code",
   "execution_count": 221,
   "metadata": {},
   "outputs": [
    {
     "data": {
      "text/html": [
       "<div>\n",
       "<style scoped>\n",
       "    .dataframe tbody tr th:only-of-type {\n",
       "        vertical-align: middle;\n",
       "    }\n",
       "\n",
       "    .dataframe tbody tr th {\n",
       "        vertical-align: top;\n",
       "    }\n",
       "\n",
       "    .dataframe thead th {\n",
       "        text-align: right;\n",
       "    }\n",
       "</style>\n",
       "<table border=\"1\" class=\"dataframe\">\n",
       "  <thead>\n",
       "    <tr style=\"text-align: right;\">\n",
       "      <th></th>\n",
       "      <th>document</th>\n",
       "      <th>code</th>\n",
       "    </tr>\n",
       "  </thead>\n",
       "  <tbody>\n",
       "    <tr>\n",
       "      <th>0</th>\n",
       "      <td>S0004-06142005000700014-1</td>\n",
       "      <td>n44.8</td>\n",
       "    </tr>\n",
       "    <tr>\n",
       "      <th>1</th>\n",
       "      <td>S0004-06142005000700014-1</td>\n",
       "      <td>z20.818</td>\n",
       "    </tr>\n",
       "    <tr>\n",
       "      <th>2</th>\n",
       "      <td>S0004-06142005000700014-1</td>\n",
       "      <td>r60.9</td>\n",
       "    </tr>\n",
       "    <tr>\n",
       "      <th>3</th>\n",
       "      <td>S0004-06142005000700014-1</td>\n",
       "      <td>r52</td>\n",
       "    </tr>\n",
       "    <tr>\n",
       "      <th>4</th>\n",
       "      <td>S0004-06142005000700014-1</td>\n",
       "      <td>a23.9</td>\n",
       "    </tr>\n",
       "  </tbody>\n",
       "</table>\n",
       "</div>"
      ],
      "text/plain": [
       "                    document     code\n",
       "0  S0004-06142005000700014-1    n44.8\n",
       "1  S0004-06142005000700014-1  z20.818\n",
       "2  S0004-06142005000700014-1    r60.9\n",
       "3  S0004-06142005000700014-1      r52\n",
       "4  S0004-06142005000700014-1    a23.9"
      ]
     },
     "execution_count": 221,
     "metadata": {},
     "output_type": "execute_result"
    }
   ],
   "source": [
    "codiesp_d_train_add_train.head()"
   ]
  },
  {
   "cell_type": "code",
   "execution_count": 222,
   "metadata": {},
   "outputs": [
    {
     "data": {
      "text/html": [
       "<div>\n",
       "<style scoped>\n",
       "    .dataframe tbody tr th:only-of-type {\n",
       "        vertical-align: middle;\n",
       "    }\n",
       "\n",
       "    .dataframe tbody tr th {\n",
       "        vertical-align: top;\n",
       "    }\n",
       "\n",
       "    .dataframe thead th {\n",
       "        text-align: right;\n",
       "    }\n",
       "</style>\n",
       "<table border=\"1\" class=\"dataframe\">\n",
       "  <thead>\n",
       "    <tr style=\"text-align: right;\">\n",
       "      <th></th>\n",
       "      <th>document</th>\n",
       "      <th>code</th>\n",
       "    </tr>\n",
       "  </thead>\n",
       "  <tbody>\n",
       "    <tr>\n",
       "      <th>442390</th>\n",
       "      <td>biblio-975189</td>\n",
       "      <td>a90</td>\n",
       "    </tr>\n",
       "    <tr>\n",
       "      <th>442403</th>\n",
       "      <td>biblio-1015950</td>\n",
       "      <td>r13.10</td>\n",
       "    </tr>\n",
       "    <tr>\n",
       "      <th>442409</th>\n",
       "      <td>biblio-1015955</td>\n",
       "      <td>g54.6</td>\n",
       "    </tr>\n",
       "    <tr>\n",
       "      <th>442415</th>\n",
       "      <td>biblio-1012794</td>\n",
       "      <td>c80.1</td>\n",
       "    </tr>\n",
       "    <tr>\n",
       "      <th>442418</th>\n",
       "      <td>biblio-977844</td>\n",
       "      <td>r09.02</td>\n",
       "    </tr>\n",
       "  </tbody>\n",
       "</table>\n",
       "</div>"
      ],
      "text/plain": [
       "              document    code\n",
       "442390   biblio-975189     a90\n",
       "442403  biblio-1015950  r13.10\n",
       "442409  biblio-1015955   g54.6\n",
       "442415  biblio-1012794   c80.1\n",
       "442418   biblio-977844  r09.02"
      ]
     },
     "execution_count": 222,
     "metadata": {},
     "output_type": "execute_result"
    }
   ],
   "source": [
    "codiesp_d_train_add_train.tail()"
   ]
  },
  {
   "cell_type": "code",
   "execution_count": 223,
   "metadata": {},
   "outputs": [
    {
     "data": {
      "text/plain": [
       "(153836, 2)"
      ]
     },
     "execution_count": 223,
     "metadata": {},
     "output_type": "execute_result"
    }
   ],
   "source": [
    "codiesp_d_train_add_train.shape"
   ]
  },
  {
   "cell_type": "markdown",
   "metadata": {},
   "source": [
    "We examine the next tables in order to analyze the features of the new resulting CodiEsp corpus:"
   ]
  },
  {
   "cell_type": "code",
   "execution_count": 224,
   "metadata": {},
   "outputs": [
    {
     "data": {
      "text/plain": [
       "True"
      ]
     },
     "execution_count": 224,
     "metadata": {},
     "output_type": "execute_result"
    }
   ],
   "source": [
    "# Sanity check, True expected\n",
    "set(codiesp_d_train_add_train[\"code\"]) == train_d_codes"
   ]
  },
  {
   "cell_type": "code",
   "execution_count": 225,
   "metadata": {},
   "outputs": [
    {
     "data": {
      "text/html": [
       "<div>\n",
       "<style scoped>\n",
       "    .dataframe tbody tr th:only-of-type {\n",
       "        vertical-align: middle;\n",
       "    }\n",
       "\n",
       "    .dataframe tbody tr th {\n",
       "        vertical-align: top;\n",
       "    }\n",
       "\n",
       "    .dataframe thead th {\n",
       "        text-align: right;\n",
       "    }\n",
       "</style>\n",
       "<table border=\"1\" class=\"dataframe\">\n",
       "  <thead>\n",
       "    <tr style=\"text-align: right;\">\n",
       "      <th></th>\n",
       "      <th>Training</th>\n",
       "      <th>Development</th>\n",
       "      <th>Test</th>\n",
       "    </tr>\n",
       "  </thead>\n",
       "  <tbody>\n",
       "    <tr>\n",
       "      <th>Documents</th>\n",
       "      <td>108529</td>\n",
       "      <td>250.000000</td>\n",
       "      <td>~250</td>\n",
       "    </tr>\n",
       "    <tr>\n",
       "      <th>Total CIE codes</th>\n",
       "      <td>153836</td>\n",
       "      <td>2677.000000</td>\n",
       "      <td>None</td>\n",
       "    </tr>\n",
       "    <tr>\n",
       "      <th>Avg CIE codes per doc.</th>\n",
       "      <td>1.41746</td>\n",
       "      <td>10.708000</td>\n",
       "      <td>None</td>\n",
       "    </tr>\n",
       "    <tr>\n",
       "      <th>Unique CIE codes</th>\n",
       "      <td>1767</td>\n",
       "      <td>1158.000000</td>\n",
       "      <td>None</td>\n",
       "    </tr>\n",
       "    <tr>\n",
       "      <th>Avg samples (docs) per CIE code</th>\n",
       "      <td>87.0606</td>\n",
       "      <td>2.311744</td>\n",
       "      <td>None</td>\n",
       "    </tr>\n",
       "    <tr>\n",
       "      <th>Unique unseen CIE codes</th>\n",
       "      <td>-</td>\n",
       "      <td>427.000000</td>\n",
       "      <td>~379.5</td>\n",
       "    </tr>\n",
       "  </tbody>\n",
       "</table>\n",
       "</div>"
      ],
      "text/plain": [
       "                                Training  Development    Test\n",
       "Documents                         108529   250.000000    ~250\n",
       "Total CIE codes                   153836  2677.000000    None\n",
       "Avg CIE codes per doc.           1.41746    10.708000    None\n",
       "Unique CIE codes                    1767  1158.000000    None\n",
       "Avg samples (docs) per CIE code  87.0606     2.311744    None\n",
       "Unique unseen CIE codes                -   427.000000  ~379.5"
      ]
     },
     "execution_count": 225,
     "metadata": {},
     "output_type": "execute_result"
    }
   ],
   "source": [
    "# Abstracts-CodiEsp-Diagnóstico codes table\n",
    "train_add_d_tab = pd.DataFrame({col_names[0]: [len(set(codiesp_d_train_add_train.document)), \n",
    "                                       codiesp_d_train_add_train.shape[0], \n",
    "                                       codiesp_d_train_add_train.shape[0]/len(set(codiesp_d_train_add_train.document)), \n",
    "                                       len(train_d_codes), \n",
    "                                     codiesp_d_train_add_train.shape[0]/len(train_d_codes), \n",
    "                                       \"-\"], \n",
    "              col_names[1]: [len(set(codiesp_d_dev.document)), \n",
    "                             codiesp_d_dev.shape[0], \n",
    "                             codiesp_d_dev.shape[0]/len(set(codiesp_d_dev.document)), \n",
    "                             len(dev_d_codes), \n",
    "                             codiesp_d_dev.shape[0]/len(dev_d_codes), \n",
    "                             len(dev_d_codes - train_d_codes)],\n",
    "              col_names[2]: [\"~250\", None, None, None, None, \n",
    "                             \"~\" + str((total_uniq_codes - len(d_codes) - len(p_codes))*d_approx)]}, \n",
    "                       index=row_names)\n",
    "train_add_d_tab = train_add_d_tab.reindex(columns=col_names)\n",
    "train_add_d_tab"
   ]
  },
  {
   "cell_type": "code",
   "execution_count": 226,
   "metadata": {},
   "outputs": [
    {
     "data": {
      "text/html": [
       "<div>\n",
       "<style scoped>\n",
       "    .dataframe tbody tr th:only-of-type {\n",
       "        vertical-align: middle;\n",
       "    }\n",
       "\n",
       "    .dataframe tbody tr th {\n",
       "        vertical-align: top;\n",
       "    }\n",
       "\n",
       "    .dataframe thead th {\n",
       "        text-align: right;\n",
       "    }\n",
       "</style>\n",
       "<table border=\"1\" class=\"dataframe\">\n",
       "  <thead>\n",
       "    <tr style=\"text-align: right;\">\n",
       "      <th></th>\n",
       "      <th>Training</th>\n",
       "      <th>Development</th>\n",
       "      <th>Test</th>\n",
       "    </tr>\n",
       "  </thead>\n",
       "  <tbody>\n",
       "    <tr>\n",
       "      <th>Documents</th>\n",
       "      <td>500</td>\n",
       "      <td>250.000000</td>\n",
       "      <td>~250</td>\n",
       "    </tr>\n",
       "    <tr>\n",
       "      <th>Total CIE codes</th>\n",
       "      <td>5639</td>\n",
       "      <td>2677.000000</td>\n",
       "      <td>None</td>\n",
       "    </tr>\n",
       "    <tr>\n",
       "      <th>Avg CIE codes per doc.</th>\n",
       "      <td>11.278</td>\n",
       "      <td>10.708000</td>\n",
       "      <td>None</td>\n",
       "    </tr>\n",
       "    <tr>\n",
       "      <th>Unique CIE codes</th>\n",
       "      <td>1767</td>\n",
       "      <td>1158.000000</td>\n",
       "      <td>None</td>\n",
       "    </tr>\n",
       "    <tr>\n",
       "      <th>Avg samples (docs) per CIE code</th>\n",
       "      <td>3.19128</td>\n",
       "      <td>2.311744</td>\n",
       "      <td>None</td>\n",
       "    </tr>\n",
       "    <tr>\n",
       "      <th>Unique unseen CIE codes</th>\n",
       "      <td>-</td>\n",
       "      <td>427.000000</td>\n",
       "      <td>~379.5</td>\n",
       "    </tr>\n",
       "  </tbody>\n",
       "</table>\n",
       "</div>"
      ],
      "text/plain": [
       "                                Training  Development    Test\n",
       "Documents                            500   250.000000    ~250\n",
       "Total CIE codes                     5639  2677.000000    None\n",
       "Avg CIE codes per doc.            11.278    10.708000    None\n",
       "Unique CIE codes                    1767  1158.000000    None\n",
       "Avg samples (docs) per CIE code  3.19128     2.311744    None\n",
       "Unique unseen CIE codes                -   427.000000  ~379.5"
      ]
     },
     "execution_count": 226,
     "metadata": {},
     "output_type": "execute_result"
    }
   ],
   "source": [
    "# Original table, when no abstract is added to the train corpus\n",
    "d_tab"
   ]
  },
  {
   "cell_type": "code",
   "execution_count": 227,
   "metadata": {},
   "outputs": [
    {
     "data": {
      "text/html": [
       "<div>\n",
       "<style scoped>\n",
       "    .dataframe tbody tr th:only-of-type {\n",
       "        vertical-align: middle;\n",
       "    }\n",
       "\n",
       "    .dataframe tbody tr th {\n",
       "        vertical-align: top;\n",
       "    }\n",
       "\n",
       "    .dataframe thead th {\n",
       "        text-align: right;\n",
       "    }\n",
       "</style>\n",
       "<table border=\"1\" class=\"dataframe\">\n",
       "  <thead>\n",
       "    <tr style=\"text-align: right;\">\n",
       "      <th></th>\n",
       "      <th>Train</th>\n",
       "      <th>Dev</th>\n",
       "      <th>Train+Dev</th>\n",
       "    </tr>\n",
       "  </thead>\n",
       "  <tbody>\n",
       "    <tr>\n",
       "      <th>count</th>\n",
       "      <td>1767.000000</td>\n",
       "      <td>1158.000000</td>\n",
       "      <td>2194.000000</td>\n",
       "    </tr>\n",
       "    <tr>\n",
       "      <th>mean</th>\n",
       "      <td>87.060555</td>\n",
       "      <td>2.311744</td>\n",
       "      <td>71.336828</td>\n",
       "    </tr>\n",
       "    <tr>\n",
       "      <th>std</th>\n",
       "      <td>278.515095</td>\n",
       "      <td>3.770245</td>\n",
       "      <td>253.410353</td>\n",
       "    </tr>\n",
       "    <tr>\n",
       "      <th>min</th>\n",
       "      <td>1.000000</td>\n",
       "      <td>1.000000</td>\n",
       "      <td>1.000000</td>\n",
       "    </tr>\n",
       "    <tr>\n",
       "      <th>25%</th>\n",
       "      <td>1.000000</td>\n",
       "      <td>1.000000</td>\n",
       "      <td>1.000000</td>\n",
       "    </tr>\n",
       "    <tr>\n",
       "      <th>50%</th>\n",
       "      <td>2.000000</td>\n",
       "      <td>1.000000</td>\n",
       "      <td>2.000000</td>\n",
       "    </tr>\n",
       "    <tr>\n",
       "      <th>75%</th>\n",
       "      <td>53.500000</td>\n",
       "      <td>2.000000</td>\n",
       "      <td>24.000000</td>\n",
       "    </tr>\n",
       "    <tr>\n",
       "      <th>max</th>\n",
       "      <td>4768.000000</td>\n",
       "      <td>51.000000</td>\n",
       "      <td>4807.000000</td>\n",
       "    </tr>\n",
       "  </tbody>\n",
       "</table>\n",
       "</div>"
      ],
      "text/plain": [
       "             Train          Dev    Train+Dev\n",
       "count  1767.000000  1158.000000  2194.000000\n",
       "mean     87.060555     2.311744    71.336828\n",
       "std     278.515095     3.770245   253.410353\n",
       "min       1.000000     1.000000     1.000000\n",
       "25%       1.000000     1.000000     1.000000\n",
       "50%       2.000000     1.000000     2.000000\n",
       "75%      53.500000     2.000000    24.000000\n",
       "max    4768.000000    51.000000  4807.000000"
      ]
     },
     "execution_count": 227,
     "metadata": {},
     "output_type": "execute_result"
    }
   ],
   "source": [
    "# Samples per CIE-Diagnóstico code distribution\n",
    "train_add_d_sample_code = pd.DataFrame({col_names_sample[0]: codiesp_d_train_add_train[\"code\"].value_counts().describe(),\n",
    "                              col_names_sample[1]: codiesp_d_dev[\"code\"].value_counts().describe(),\n",
    "                              col_names_sample[2]: codiesp_d_train_add_train[\"code\"].append(codiesp_d_dev[\"code\"]).value_counts().describe()})\n",
    "train_add_d_sample_code = train_add_d_sample_code.reindex(columns=col_names_sample)\n",
    "train_add_d_sample_code"
   ]
  },
  {
   "cell_type": "code",
   "execution_count": 228,
   "metadata": {},
   "outputs": [
    {
     "data": {
      "text/html": [
       "<div>\n",
       "<style scoped>\n",
       "    .dataframe tbody tr th:only-of-type {\n",
       "        vertical-align: middle;\n",
       "    }\n",
       "\n",
       "    .dataframe tbody tr th {\n",
       "        vertical-align: top;\n",
       "    }\n",
       "\n",
       "    .dataframe thead th {\n",
       "        text-align: right;\n",
       "    }\n",
       "</style>\n",
       "<table border=\"1\" class=\"dataframe\">\n",
       "  <thead>\n",
       "    <tr style=\"text-align: right;\">\n",
       "      <th></th>\n",
       "      <th>Train</th>\n",
       "      <th>Dev</th>\n",
       "      <th>Train+Dev</th>\n",
       "    </tr>\n",
       "  </thead>\n",
       "  <tbody>\n",
       "    <tr>\n",
       "      <th>count</th>\n",
       "      <td>1767.000000</td>\n",
       "      <td>1158.000000</td>\n",
       "      <td>2194.000000</td>\n",
       "    </tr>\n",
       "    <tr>\n",
       "      <th>mean</th>\n",
       "      <td>3.191285</td>\n",
       "      <td>2.311744</td>\n",
       "      <td>3.790337</td>\n",
       "    </tr>\n",
       "    <tr>\n",
       "      <th>std</th>\n",
       "      <td>6.921389</td>\n",
       "      <td>3.770245</td>\n",
       "      <td>9.123652</td>\n",
       "    </tr>\n",
       "    <tr>\n",
       "      <th>min</th>\n",
       "      <td>1.000000</td>\n",
       "      <td>1.000000</td>\n",
       "      <td>1.000000</td>\n",
       "    </tr>\n",
       "    <tr>\n",
       "      <th>25%</th>\n",
       "      <td>1.000000</td>\n",
       "      <td>1.000000</td>\n",
       "      <td>1.000000</td>\n",
       "    </tr>\n",
       "    <tr>\n",
       "      <th>50%</th>\n",
       "      <td>1.000000</td>\n",
       "      <td>1.000000</td>\n",
       "      <td>1.000000</td>\n",
       "    </tr>\n",
       "    <tr>\n",
       "      <th>75%</th>\n",
       "      <td>3.000000</td>\n",
       "      <td>2.000000</td>\n",
       "      <td>3.000000</td>\n",
       "    </tr>\n",
       "    <tr>\n",
       "      <th>max</th>\n",
       "      <td>112.000000</td>\n",
       "      <td>51.000000</td>\n",
       "      <td>163.000000</td>\n",
       "    </tr>\n",
       "  </tbody>\n",
       "</table>\n",
       "</div>"
      ],
      "text/plain": [
       "             Train          Dev    Train+Dev\n",
       "count  1767.000000  1158.000000  2194.000000\n",
       "mean      3.191285     2.311744     3.790337\n",
       "std       6.921389     3.770245     9.123652\n",
       "min       1.000000     1.000000     1.000000\n",
       "25%       1.000000     1.000000     1.000000\n",
       "50%       1.000000     1.000000     1.000000\n",
       "75%       3.000000     2.000000     3.000000\n",
       "max     112.000000    51.000000   163.000000"
      ]
     },
     "execution_count": 228,
     "metadata": {},
     "output_type": "execute_result"
    }
   ],
   "source": [
    "# Original samples per CIE-Diagnóstico code distribution\n",
    "d_sample_code"
   ]
  },
  {
   "cell_type": "markdown",
   "metadata": {},
   "source": [
    "### CIE-10 Procedimiento\n",
    "\n",
    "We select the abstracts annotated with CIE-Procedimiento codes:"
   ]
  },
  {
   "cell_type": "code",
   "execution_count": 229,
   "metadata": {},
   "outputs": [],
   "source": [
    "additional_ank_p = additional_ank[additional_ank[\"type\"]==\"PROCEDIMIENTO\"]"
   ]
  },
  {
   "cell_type": "code",
   "execution_count": 230,
   "metadata": {},
   "outputs": [
    {
     "data": {
      "text/plain": [
       "(2351, 4)"
      ]
     },
     "execution_count": 230,
     "metadata": {},
     "output_type": "execute_result"
    }
   ],
   "source": [
    "additional_ank_p.shape"
   ]
  },
  {
   "cell_type": "markdown",
   "metadata": {},
   "source": [
    "As previously performed for the CodiEsp corpus, we start by analyzing the char-length of the CIE codes contained in the additional abstracts:"
   ]
  },
  {
   "cell_type": "code",
   "execution_count": 231,
   "metadata": {},
   "outputs": [],
   "source": [
    "additional_ank_p_codes = pd.DataFrame({'code': list(set(additional_ank_p[\"code\"]))})"
   ]
  },
  {
   "cell_type": "code",
   "execution_count": 232,
   "metadata": {
    "scrolled": true
   },
   "outputs": [
    {
     "data": {
      "text/plain": [
       "(12, 1)"
      ]
     },
     "execution_count": 232,
     "metadata": {},
     "output_type": "execute_result"
    }
   ],
   "source": [
    "additional_ank_p_codes.shape"
   ]
  },
  {
   "cell_type": "code",
   "execution_count": 233,
   "metadata": {},
   "outputs": [],
   "source": [
    "additional_ank_p_codes[\"n_char\"] = additional_ank_p_codes[\"code\"].apply(lambda x: len(x))"
   ]
  },
  {
   "cell_type": "code",
   "execution_count": 234,
   "metadata": {},
   "outputs": [
    {
     "data": {
      "text/html": [
       "<div>\n",
       "<style scoped>\n",
       "    .dataframe tbody tr th:only-of-type {\n",
       "        vertical-align: middle;\n",
       "    }\n",
       "\n",
       "    .dataframe tbody tr th {\n",
       "        vertical-align: top;\n",
       "    }\n",
       "\n",
       "    .dataframe thead th {\n",
       "        text-align: right;\n",
       "    }\n",
       "</style>\n",
       "<table border=\"1\" class=\"dataframe\">\n",
       "  <thead>\n",
       "    <tr style=\"text-align: right;\">\n",
       "      <th></th>\n",
       "      <th>code</th>\n",
       "      <th>n_char</th>\n",
       "    </tr>\n",
       "  </thead>\n",
       "  <tbody>\n",
       "    <tr>\n",
       "      <th>0</th>\n",
       "      <td>f02zfzz</td>\n",
       "      <td>7</td>\n",
       "    </tr>\n",
       "    <tr>\n",
       "      <th>1</th>\n",
       "      <td>gz2zzzz</td>\n",
       "      <td>7</td>\n",
       "    </tr>\n",
       "    <tr>\n",
       "      <th>2</th>\n",
       "      <td>gz61zzz</td>\n",
       "      <td>7</td>\n",
       "    </tr>\n",
       "    <tr>\n",
       "      <th>3</th>\n",
       "      <td>8e0zxy4</td>\n",
       "      <td>7</td>\n",
       "    </tr>\n",
       "    <tr>\n",
       "      <th>4</th>\n",
       "      <td>gzc9zzz</td>\n",
       "      <td>7</td>\n",
       "    </tr>\n",
       "  </tbody>\n",
       "</table>\n",
       "</div>"
      ],
      "text/plain": [
       "      code  n_char\n",
       "0  f02zfzz       7\n",
       "1  gz2zzzz       7\n",
       "2  gz61zzz       7\n",
       "3  8e0zxy4       7\n",
       "4  gzc9zzz       7"
      ]
     },
     "execution_count": 234,
     "metadata": {},
     "output_type": "execute_result"
    }
   ],
   "source": [
    "additional_ank_p_codes.head()"
   ]
  },
  {
   "cell_type": "code",
   "execution_count": 235,
   "metadata": {},
   "outputs": [
    {
     "data": {
      "text/plain": [
       "7    12\n",
       "Name: n_char, dtype: int64"
      ]
     },
     "execution_count": 235,
     "metadata": {},
     "output_type": "execute_result"
    }
   ],
   "source": [
    "additional_ank_p_codes[\"n_char\"].value_counts(normalize=False)"
   ]
  },
  {
   "cell_type": "markdown",
   "metadata": {},
   "source": [
    "The additional abstracts corpus is already compatible with CodiEsp-Procedimiento corpus. Also, ALL codes contained in the additional abstracts are present in the valid set, so none of them should be removed:"
   ]
  },
  {
   "cell_type": "code",
   "execution_count": 236,
   "metadata": {},
   "outputs": [
    {
     "data": {
      "text/plain": [
       "0"
      ]
     },
     "execution_count": 236,
     "metadata": {},
     "output_type": "execute_result"
    }
   ],
   "source": [
    "len(set(additional_ank_p_codes[\"code\"]) - lower_valid_p_codes)"
   ]
  },
  {
   "cell_type": "code",
   "execution_count": 237,
   "metadata": {},
   "outputs": [],
   "source": [
    "# Remove type column\n",
    "additional_ank_p = additional_ank_p[['doc', 'code', 'word']]"
   ]
  },
  {
   "cell_type": "code",
   "execution_count": 238,
   "metadata": {},
   "outputs": [
    {
     "data": {
      "text/plain": [
       "0"
      ]
     },
     "execution_count": 238,
     "metadata": {},
     "output_type": "execute_result"
    }
   ],
   "source": [
    "# No code is expected to be associated with the same document multiple times\n",
    "sum(additional_ank_p[[\"doc\", \"code\"]].duplicated())"
   ]
  },
  {
   "cell_type": "markdown",
   "metadata": {},
   "source": [
    "#### Expand CodiEsp with additional abstracts\n",
    "\n",
    "We propose three main ways of expanding the CodiEsp train and development corpora using this additional corpus. The first one consists in adding all additional abstracts to the train corpus. In the second, the abstracts labeled with CIE codes present in CodiEsp train or development corpus are added. Finally, in the last manner, only the additional abstracts labeled with CIE codes present in CodiEsp train corpus are added. Each of these alternatives is analyzed in the next subsections."
   ]
  },
  {
   "cell_type": "code",
   "execution_count": 239,
   "metadata": {},
   "outputs": [
    {
     "data": {
      "text/plain": [
       "Index(['doc', 'code', 'word'], dtype='object')"
      ]
     },
     "execution_count": 239,
     "metadata": {},
     "output_type": "execute_result"
    }
   ],
   "source": [
    "additional_ank_p.columns"
   ]
  },
  {
   "cell_type": "code",
   "execution_count": 240,
   "metadata": {},
   "outputs": [],
   "source": [
    "additional_ank_p.columns=[\"document\", \"code\", \"word\"]"
   ]
  },
  {
   "cell_type": "code",
   "execution_count": 241,
   "metadata": {},
   "outputs": [
    {
     "data": {
      "text/plain": [
       "12"
      ]
     },
     "execution_count": 241,
     "metadata": {},
     "output_type": "execute_result"
    }
   ],
   "source": [
    "# Unique CIE-Procedimiento codes in Additional abstracts\n",
    "additional_ank_p_codes = set(additional_ank_p[\"code\"])\n",
    "len(additional_ank_p_codes)"
   ]
  },
  {
   "cell_type": "code",
   "execution_count": 242,
   "metadata": {},
   "outputs": [
    {
     "data": {
      "text/plain": [
       "1"
      ]
     },
     "execution_count": 242,
     "metadata": {},
     "output_type": "execute_result"
    }
   ],
   "source": [
    "# Number of unique CIE-Procedimiento codes in train corpus that are aso contained in additional abstracts\n",
    "len(train_p_codes & additional_ank_p_codes)"
   ]
  },
  {
   "cell_type": "code",
   "execution_count": 243,
   "metadata": {},
   "outputs": [
    {
     "data": {
      "text/plain": [
       "1"
      ]
     },
     "execution_count": 243,
     "metadata": {},
     "output_type": "execute_result"
    }
   ],
   "source": [
    "# Number of unique unseen CIE-Procedimiento codes in dev set that are aso contained in additional abstracts\n",
    "len(set(dev_p_codes - train_p_codes) & additional_ank_p_codes)"
   ]
  },
  {
   "cell_type": "code",
   "execution_count": 244,
   "metadata": {},
   "outputs": [
    {
     "data": {
      "text/plain": [
       "0.16666666666666666"
      ]
     },
     "execution_count": 244,
     "metadata": {},
     "output_type": "execute_result"
    }
   ],
   "source": [
    "# Fraction of unique CIE-Procedimiento codes in additional abstracts that correspond to CodiEsp (train and dev) codes\n",
    "len(p_codes & additional_ank_p_codes)/len(additional_ank_p_codes)"
   ]
  },
  {
   "cell_type": "code",
   "execution_count": 245,
   "metadata": {},
   "outputs": [
    {
     "data": {
      "text/plain": [
       "0.295618885580604"
      ]
     },
     "execution_count": 245,
     "metadata": {},
     "output_type": "execute_result"
    }
   ],
   "source": [
    "# Fraction of CIE-Procedimiento codes samples in additional abstracts that correspond to CodiEsp (train and dev) codes\n",
    "sum(additional_ank_p[\"code\"].isin(p_codes & additional_ank_p_codes))/additional_ank_p.shape[0]"
   ]
  },
  {
   "cell_type": "markdown",
   "metadata": {},
   "source": [
    "##### All abstracts\n",
    "\n",
    "All additional abstracts are added to the CodiEsp train corpus."
   ]
  },
  {
   "cell_type": "code",
   "execution_count": 246,
   "metadata": {},
   "outputs": [],
   "source": [
    "codiesp_p_train_all_add = pd.concat([codiesp_p_train, additional_ank_p[[\"document\", \"code\"]]])"
   ]
  },
  {
   "cell_type": "code",
   "execution_count": 247,
   "metadata": {},
   "outputs": [
    {
     "data": {
      "text/html": [
       "<div>\n",
       "<style scoped>\n",
       "    .dataframe tbody tr th:only-of-type {\n",
       "        vertical-align: middle;\n",
       "    }\n",
       "\n",
       "    .dataframe tbody tr th {\n",
       "        vertical-align: top;\n",
       "    }\n",
       "\n",
       "    .dataframe thead th {\n",
       "        text-align: right;\n",
       "    }\n",
       "</style>\n",
       "<table border=\"1\" class=\"dataframe\">\n",
       "  <thead>\n",
       "    <tr style=\"text-align: right;\">\n",
       "      <th></th>\n",
       "      <th>document</th>\n",
       "      <th>code</th>\n",
       "    </tr>\n",
       "  </thead>\n",
       "  <tbody>\n",
       "    <tr>\n",
       "      <th>0</th>\n",
       "      <td>S0004-06142005000700014-1</td>\n",
       "      <td>bw03zzz</td>\n",
       "    </tr>\n",
       "    <tr>\n",
       "      <th>1</th>\n",
       "      <td>S0004-06142005000700014-1</td>\n",
       "      <td>3e02329</td>\n",
       "    </tr>\n",
       "    <tr>\n",
       "      <th>2</th>\n",
       "      <td>S0004-06142005000700014-1</td>\n",
       "      <td>bw40zzz</td>\n",
       "    </tr>\n",
       "    <tr>\n",
       "      <th>3</th>\n",
       "      <td>S0004-06142005000700014-1</td>\n",
       "      <td>bv44zzz</td>\n",
       "    </tr>\n",
       "    <tr>\n",
       "      <th>4</th>\n",
       "      <td>S0004-06142005000700014-1</td>\n",
       "      <td>bn20</td>\n",
       "    </tr>\n",
       "  </tbody>\n",
       "</table>\n",
       "</div>"
      ],
      "text/plain": [
       "                    document     code\n",
       "0  S0004-06142005000700014-1  bw03zzz\n",
       "1  S0004-06142005000700014-1  3e02329\n",
       "2  S0004-06142005000700014-1  bw40zzz\n",
       "3  S0004-06142005000700014-1  bv44zzz\n",
       "4  S0004-06142005000700014-1     bn20"
      ]
     },
     "execution_count": 247,
     "metadata": {},
     "output_type": "execute_result"
    }
   ],
   "source": [
    "codiesp_p_train_all_add.head()"
   ]
  },
  {
   "cell_type": "code",
   "execution_count": 248,
   "metadata": {},
   "outputs": [
    {
     "data": {
      "text/html": [
       "<div>\n",
       "<style scoped>\n",
       "    .dataframe tbody tr th:only-of-type {\n",
       "        vertical-align: middle;\n",
       "    }\n",
       "\n",
       "    .dataframe tbody tr th {\n",
       "        vertical-align: top;\n",
       "    }\n",
       "\n",
       "    .dataframe thead th {\n",
       "        text-align: right;\n",
       "    }\n",
       "</style>\n",
       "<table border=\"1\" class=\"dataframe\">\n",
       "  <thead>\n",
       "    <tr style=\"text-align: right;\">\n",
       "      <th></th>\n",
       "      <th>document</th>\n",
       "      <th>code</th>\n",
       "    </tr>\n",
       "  </thead>\n",
       "  <tbody>\n",
       "    <tr>\n",
       "      <th>441971</th>\n",
       "      <td>lil-472601</td>\n",
       "      <td>f02zfzz</td>\n",
       "    </tr>\n",
       "    <tr>\n",
       "      <th>442187</th>\n",
       "      <td>lil-499421</td>\n",
       "      <td>gzjzzzz</td>\n",
       "    </tr>\n",
       "    <tr>\n",
       "      <th>442228</th>\n",
       "      <td>lil-492262</td>\n",
       "      <td>gzhzzzz</td>\n",
       "    </tr>\n",
       "    <tr>\n",
       "      <th>442230</th>\n",
       "      <td>lil-492263</td>\n",
       "      <td>gzhzzzz</td>\n",
       "    </tr>\n",
       "    <tr>\n",
       "      <th>442235</th>\n",
       "      <td>lil-492265</td>\n",
       "      <td>gzhzzzz</td>\n",
       "    </tr>\n",
       "  </tbody>\n",
       "</table>\n",
       "</div>"
      ],
      "text/plain": [
       "          document     code\n",
       "441971  lil-472601  f02zfzz\n",
       "442187  lil-499421  gzjzzzz\n",
       "442228  lil-492262  gzhzzzz\n",
       "442230  lil-492263  gzhzzzz\n",
       "442235  lil-492265  gzhzzzz"
      ]
     },
     "execution_count": 248,
     "metadata": {},
     "output_type": "execute_result"
    }
   ],
   "source": [
    "codiesp_p_train_all_add.tail()"
   ]
  },
  {
   "cell_type": "code",
   "execution_count": 249,
   "metadata": {},
   "outputs": [
    {
     "data": {
      "text/plain": [
       "(3901, 2)"
      ]
     },
     "execution_count": 249,
     "metadata": {},
     "output_type": "execute_result"
    }
   ],
   "source": [
    "codiesp_p_train_all_add.shape"
   ]
  },
  {
   "cell_type": "code",
   "execution_count": 250,
   "metadata": {},
   "outputs": [],
   "source": [
    "all_add_train_p_codes = set(codiesp_p_train_all_add[\"code\"])"
   ]
  },
  {
   "cell_type": "markdown",
   "metadata": {},
   "source": [
    "We examine the next tables in order to analyze the features of the new resulting CodiEsp corpus:"
   ]
  },
  {
   "cell_type": "code",
   "execution_count": 251,
   "metadata": {},
   "outputs": [
    {
     "data": {
      "text/plain": [
       "0.9939024390243902"
      ]
     },
     "execution_count": 251,
     "metadata": {},
     "output_type": "execute_result"
    }
   ],
   "source": [
    "# Ratio between new (after additional abstracts inclusion) and original unseen unique CIE-Procedimiento codes in Dev\n",
    "len(dev_p_codes - all_add_train_p_codes)/len(dev_p_codes - train_p_codes)"
   ]
  },
  {
   "cell_type": "code",
   "execution_count": 252,
   "metadata": {},
   "outputs": [],
   "source": [
    "# Approximate new ratio of unseen unique CIE-Procedimiento codes in Test\n",
    "new_unseen_ratio = 0.99"
   ]
  },
  {
   "cell_type": "code",
   "execution_count": 253,
   "metadata": {},
   "outputs": [
    {
     "data": {
      "text/html": [
       "<div>\n",
       "<style scoped>\n",
       "    .dataframe tbody tr th:only-of-type {\n",
       "        vertical-align: middle;\n",
       "    }\n",
       "\n",
       "    .dataframe tbody tr th {\n",
       "        vertical-align: top;\n",
       "    }\n",
       "\n",
       "    .dataframe thead th {\n",
       "        text-align: right;\n",
       "    }\n",
       "</style>\n",
       "<table border=\"1\" class=\"dataframe\">\n",
       "  <thead>\n",
       "    <tr style=\"text-align: right;\">\n",
       "      <th></th>\n",
       "      <th>Training</th>\n",
       "      <th>Development</th>\n",
       "      <th>Test</th>\n",
       "    </tr>\n",
       "  </thead>\n",
       "  <tbody>\n",
       "    <tr>\n",
       "      <th>Documents</th>\n",
       "      <td>2755</td>\n",
       "      <td>222.000000</td>\n",
       "      <td>~220.0</td>\n",
       "    </tr>\n",
       "    <tr>\n",
       "      <th>Total CIE codes</th>\n",
       "      <td>3901</td>\n",
       "      <td>817.000000</td>\n",
       "      <td>None</td>\n",
       "    </tr>\n",
       "    <tr>\n",
       "      <th>Avg CIE codes per doc.</th>\n",
       "      <td>1.41597</td>\n",
       "      <td>3.680180</td>\n",
       "      <td>None</td>\n",
       "    </tr>\n",
       "    <tr>\n",
       "      <th>Unique CIE codes</th>\n",
       "      <td>574</td>\n",
       "      <td>375.000000</td>\n",
       "      <td>None</td>\n",
       "    </tr>\n",
       "    <tr>\n",
       "      <th>Avg samples (docs) per CIE code</th>\n",
       "      <td>6.79617</td>\n",
       "      <td>2.178667</td>\n",
       "      <td>None</td>\n",
       "    </tr>\n",
       "    <tr>\n",
       "      <th>Unique unseen CIE codes</th>\n",
       "      <td>-</td>\n",
       "      <td>163.000000</td>\n",
       "      <td>~125.235</td>\n",
       "    </tr>\n",
       "  </tbody>\n",
       "</table>\n",
       "</div>"
      ],
      "text/plain": [
       "                                Training  Development      Test\n",
       "Documents                           2755   222.000000    ~220.0\n",
       "Total CIE codes                     3901   817.000000      None\n",
       "Avg CIE codes per doc.           1.41597     3.680180      None\n",
       "Unique CIE codes                     574   375.000000      None\n",
       "Avg samples (docs) per CIE code  6.79617     2.178667      None\n",
       "Unique unseen CIE codes                -   163.000000  ~125.235"
      ]
     },
     "execution_count": 253,
     "metadata": {},
     "output_type": "execute_result"
    }
   ],
   "source": [
    "# Abstracts-CodiEsp-Procedimiento codes table\n",
    "all_p_tab = pd.DataFrame({col_names[0]: [len(set(codiesp_p_train_all_add.document)), \n",
    "                                       codiesp_p_train_all_add.shape[0], \n",
    "                                       codiesp_p_train_all_add.shape[0]/len(set(codiesp_p_train_all_add.document)), \n",
    "                                       len(all_add_train_p_codes), \n",
    "                                     codiesp_p_train_all_add.shape[0]/len(all_add_train_p_codes), \n",
    "                                       \"-\"], \n",
    "              col_names[1]: [len(set(codiesp_p_dev.document)), \n",
    "                             codiesp_p_dev.shape[0], \n",
    "                             codiesp_p_dev.shape[0]/len(set(codiesp_p_dev.document)), \n",
    "                             len(dev_p_codes), \n",
    "                             codiesp_p_dev.shape[0]/len(dev_p_codes), \n",
    "                             len(dev_p_codes - all_add_train_p_codes)],\n",
    "              col_names[2]: [\"~\" + str(c_approx*250), None, None, None, None, \n",
    "                             \"~\" + str((total_uniq_codes - len(d_codes) - len(p_codes))*(1-d_approx)*new_unseen_ratio)]}, \n",
    "                       index=row_names)\n",
    "all_p_tab = all_p_tab.reindex(columns=col_names)\n",
    "all_p_tab"
   ]
  },
  {
   "cell_type": "code",
   "execution_count": 254,
   "metadata": {},
   "outputs": [
    {
     "data": {
      "text/html": [
       "<div>\n",
       "<style scoped>\n",
       "    .dataframe tbody tr th:only-of-type {\n",
       "        vertical-align: middle;\n",
       "    }\n",
       "\n",
       "    .dataframe tbody tr th {\n",
       "        vertical-align: top;\n",
       "    }\n",
       "\n",
       "    .dataframe thead th {\n",
       "        text-align: right;\n",
       "    }\n",
       "</style>\n",
       "<table border=\"1\" class=\"dataframe\">\n",
       "  <thead>\n",
       "    <tr style=\"text-align: right;\">\n",
       "      <th></th>\n",
       "      <th>Training</th>\n",
       "      <th>Development</th>\n",
       "      <th>Test</th>\n",
       "    </tr>\n",
       "  </thead>\n",
       "  <tbody>\n",
       "    <tr>\n",
       "      <th>Documents</th>\n",
       "      <td>435</td>\n",
       "      <td>222.000000</td>\n",
       "      <td>~220.0</td>\n",
       "    </tr>\n",
       "    <tr>\n",
       "      <th>Total CIE codes</th>\n",
       "      <td>1550</td>\n",
       "      <td>817.000000</td>\n",
       "      <td>None</td>\n",
       "    </tr>\n",
       "    <tr>\n",
       "      <th>Avg CIE codes per doc.</th>\n",
       "      <td>3.56322</td>\n",
       "      <td>3.680180</td>\n",
       "      <td>None</td>\n",
       "    </tr>\n",
       "    <tr>\n",
       "      <th>Unique CIE codes</th>\n",
       "      <td>563</td>\n",
       "      <td>375.000000</td>\n",
       "      <td>None</td>\n",
       "    </tr>\n",
       "    <tr>\n",
       "      <th>Avg samples (docs) per CIE code</th>\n",
       "      <td>2.75311</td>\n",
       "      <td>2.178667</td>\n",
       "      <td>None</td>\n",
       "    </tr>\n",
       "    <tr>\n",
       "      <th>Unique unseen CIE codes</th>\n",
       "      <td>-</td>\n",
       "      <td>164.000000</td>\n",
       "      <td>~126.5</td>\n",
       "    </tr>\n",
       "  </tbody>\n",
       "</table>\n",
       "</div>"
      ],
      "text/plain": [
       "                                Training  Development    Test\n",
       "Documents                            435   222.000000  ~220.0\n",
       "Total CIE codes                     1550   817.000000    None\n",
       "Avg CIE codes per doc.           3.56322     3.680180    None\n",
       "Unique CIE codes                     563   375.000000    None\n",
       "Avg samples (docs) per CIE code  2.75311     2.178667    None\n",
       "Unique unseen CIE codes                -   164.000000  ~126.5"
      ]
     },
     "execution_count": 254,
     "metadata": {},
     "output_type": "execute_result"
    }
   ],
   "source": [
    "# Original table, when no abstract is added to the train corpus\n",
    "p_tab"
   ]
  },
  {
   "cell_type": "code",
   "execution_count": 255,
   "metadata": {},
   "outputs": [
    {
     "data": {
      "text/html": [
       "<div>\n",
       "<style scoped>\n",
       "    .dataframe tbody tr th:only-of-type {\n",
       "        vertical-align: middle;\n",
       "    }\n",
       "\n",
       "    .dataframe tbody tr th {\n",
       "        vertical-align: top;\n",
       "    }\n",
       "\n",
       "    .dataframe thead th {\n",
       "        text-align: right;\n",
       "    }\n",
       "</style>\n",
       "<table border=\"1\" class=\"dataframe\">\n",
       "  <thead>\n",
       "    <tr style=\"text-align: right;\">\n",
       "      <th></th>\n",
       "      <th>Train</th>\n",
       "      <th>Dev</th>\n",
       "      <th>Train+Dev</th>\n",
       "    </tr>\n",
       "  </thead>\n",
       "  <tbody>\n",
       "    <tr>\n",
       "      <th>count</th>\n",
       "      <td>574.000000</td>\n",
       "      <td>375.000000</td>\n",
       "      <td>737.000000</td>\n",
       "    </tr>\n",
       "    <tr>\n",
       "      <th>mean</th>\n",
       "      <td>6.796167</td>\n",
       "      <td>2.178667</td>\n",
       "      <td>6.401628</td>\n",
       "    </tr>\n",
       "    <tr>\n",
       "      <th>std</th>\n",
       "      <td>36.959984</td>\n",
       "      <td>3.415531</td>\n",
       "      <td>33.116008</td>\n",
       "    </tr>\n",
       "    <tr>\n",
       "      <th>min</th>\n",
       "      <td>1.000000</td>\n",
       "      <td>1.000000</td>\n",
       "      <td>1.000000</td>\n",
       "    </tr>\n",
       "    <tr>\n",
       "      <th>25%</th>\n",
       "      <td>1.000000</td>\n",
       "      <td>1.000000</td>\n",
       "      <td>1.000000</td>\n",
       "    </tr>\n",
       "    <tr>\n",
       "      <th>50%</th>\n",
       "      <td>1.000000</td>\n",
       "      <td>1.000000</td>\n",
       "      <td>1.000000</td>\n",
       "    </tr>\n",
       "    <tr>\n",
       "      <th>75%</th>\n",
       "      <td>2.000000</td>\n",
       "      <td>2.000000</td>\n",
       "      <td>2.000000</td>\n",
       "    </tr>\n",
       "    <tr>\n",
       "      <th>max</th>\n",
       "      <td>596.000000</td>\n",
       "      <td>40.000000</td>\n",
       "      <td>596.000000</td>\n",
       "    </tr>\n",
       "  </tbody>\n",
       "</table>\n",
       "</div>"
      ],
      "text/plain": [
       "            Train         Dev   Train+Dev\n",
       "count  574.000000  375.000000  737.000000\n",
       "mean     6.796167    2.178667    6.401628\n",
       "std     36.959984    3.415531   33.116008\n",
       "min      1.000000    1.000000    1.000000\n",
       "25%      1.000000    1.000000    1.000000\n",
       "50%      1.000000    1.000000    1.000000\n",
       "75%      2.000000    2.000000    2.000000\n",
       "max    596.000000   40.000000  596.000000"
      ]
     },
     "execution_count": 255,
     "metadata": {},
     "output_type": "execute_result"
    }
   ],
   "source": [
    "# Samples per CIE-Procedimiento code distribution\n",
    "all_p_sample_code = pd.DataFrame({col_names_sample[0]: codiesp_p_train_all_add[\"code\"].value_counts().describe(),\n",
    "                              col_names_sample[1]: codiesp_p_dev[\"code\"].value_counts().describe(),\n",
    "                              col_names_sample[2]: codiesp_p_train_all_add[\"code\"].append(codiesp_p_dev[\"code\"]).value_counts().describe()})\n",
    "all_p_sample_code = all_p_sample_code.reindex(columns=col_names_sample)\n",
    "all_p_sample_code"
   ]
  },
  {
   "cell_type": "code",
   "execution_count": 256,
   "metadata": {},
   "outputs": [
    {
     "data": {
      "text/html": [
       "<div>\n",
       "<style scoped>\n",
       "    .dataframe tbody tr th:only-of-type {\n",
       "        vertical-align: middle;\n",
       "    }\n",
       "\n",
       "    .dataframe tbody tr th {\n",
       "        vertical-align: top;\n",
       "    }\n",
       "\n",
       "    .dataframe thead th {\n",
       "        text-align: right;\n",
       "    }\n",
       "</style>\n",
       "<table border=\"1\" class=\"dataframe\">\n",
       "  <thead>\n",
       "    <tr style=\"text-align: right;\">\n",
       "      <th></th>\n",
       "      <th>Train</th>\n",
       "      <th>Dev</th>\n",
       "      <th>Train+Dev</th>\n",
       "    </tr>\n",
       "  </thead>\n",
       "  <tbody>\n",
       "    <tr>\n",
       "      <th>count</th>\n",
       "      <td>563.000000</td>\n",
       "      <td>375.000000</td>\n",
       "      <td>727.000000</td>\n",
       "    </tr>\n",
       "    <tr>\n",
       "      <th>mean</th>\n",
       "      <td>2.753108</td>\n",
       "      <td>2.178667</td>\n",
       "      <td>3.255846</td>\n",
       "    </tr>\n",
       "    <tr>\n",
       "      <th>std</th>\n",
       "      <td>5.603234</td>\n",
       "      <td>3.415531</td>\n",
       "      <td>7.580642</td>\n",
       "    </tr>\n",
       "    <tr>\n",
       "      <th>min</th>\n",
       "      <td>1.000000</td>\n",
       "      <td>1.000000</td>\n",
       "      <td>1.000000</td>\n",
       "    </tr>\n",
       "    <tr>\n",
       "      <th>25%</th>\n",
       "      <td>1.000000</td>\n",
       "      <td>1.000000</td>\n",
       "      <td>1.000000</td>\n",
       "    </tr>\n",
       "    <tr>\n",
       "      <th>50%</th>\n",
       "      <td>1.000000</td>\n",
       "      <td>1.000000</td>\n",
       "      <td>1.000000</td>\n",
       "    </tr>\n",
       "    <tr>\n",
       "      <th>75%</th>\n",
       "      <td>2.000000</td>\n",
       "      <td>2.000000</td>\n",
       "      <td>2.000000</td>\n",
       "    </tr>\n",
       "    <tr>\n",
       "      <th>max</th>\n",
       "      <td>67.000000</td>\n",
       "      <td>40.000000</td>\n",
       "      <td>107.000000</td>\n",
       "    </tr>\n",
       "  </tbody>\n",
       "</table>\n",
       "</div>"
      ],
      "text/plain": [
       "            Train         Dev   Train+Dev\n",
       "count  563.000000  375.000000  727.000000\n",
       "mean     2.753108    2.178667    3.255846\n",
       "std      5.603234    3.415531    7.580642\n",
       "min      1.000000    1.000000    1.000000\n",
       "25%      1.000000    1.000000    1.000000\n",
       "50%      1.000000    1.000000    1.000000\n",
       "75%      2.000000    2.000000    2.000000\n",
       "max     67.000000   40.000000  107.000000"
      ]
     },
     "execution_count": 256,
     "metadata": {},
     "output_type": "execute_result"
    }
   ],
   "source": [
    "# Original samples per CIE-Procedimiento code distribution\n",
    "p_sample_code"
   ]
  },
  {
   "cell_type": "markdown",
   "metadata": {},
   "source": [
    "##### Abstracts with CodiEsp train or dev codes\n",
    "\n",
    "Only the additional abstracts labeled with CIE codes present in CodiEsp train or development corpus are added."
   ]
  },
  {
   "cell_type": "code",
   "execution_count": 257,
   "metadata": {},
   "outputs": [],
   "source": [
    "codiesp_p_train_add_train_dev = pd.concat([codiesp_p_train, \n",
    "    additional_ank_p[additional_ank_p[\"code\"].isin(p_codes & additional_ank_p_codes)][[\"document\", \"code\"]]]) "
   ]
  },
  {
   "cell_type": "code",
   "execution_count": 258,
   "metadata": {},
   "outputs": [
    {
     "data": {
      "text/html": [
       "<div>\n",
       "<style scoped>\n",
       "    .dataframe tbody tr th:only-of-type {\n",
       "        vertical-align: middle;\n",
       "    }\n",
       "\n",
       "    .dataframe tbody tr th {\n",
       "        vertical-align: top;\n",
       "    }\n",
       "\n",
       "    .dataframe thead th {\n",
       "        text-align: right;\n",
       "    }\n",
       "</style>\n",
       "<table border=\"1\" class=\"dataframe\">\n",
       "  <thead>\n",
       "    <tr style=\"text-align: right;\">\n",
       "      <th></th>\n",
       "      <th>document</th>\n",
       "      <th>code</th>\n",
       "    </tr>\n",
       "  </thead>\n",
       "  <tbody>\n",
       "    <tr>\n",
       "      <th>0</th>\n",
       "      <td>S0004-06142005000700014-1</td>\n",
       "      <td>bw03zzz</td>\n",
       "    </tr>\n",
       "    <tr>\n",
       "      <th>1</th>\n",
       "      <td>S0004-06142005000700014-1</td>\n",
       "      <td>3e02329</td>\n",
       "    </tr>\n",
       "    <tr>\n",
       "      <th>2</th>\n",
       "      <td>S0004-06142005000700014-1</td>\n",
       "      <td>bw40zzz</td>\n",
       "    </tr>\n",
       "    <tr>\n",
       "      <th>3</th>\n",
       "      <td>S0004-06142005000700014-1</td>\n",
       "      <td>bv44zzz</td>\n",
       "    </tr>\n",
       "    <tr>\n",
       "      <th>4</th>\n",
       "      <td>S0004-06142005000700014-1</td>\n",
       "      <td>bn20</td>\n",
       "    </tr>\n",
       "  </tbody>\n",
       "</table>\n",
       "</div>"
      ],
      "text/plain": [
       "                    document     code\n",
       "0  S0004-06142005000700014-1  bw03zzz\n",
       "1  S0004-06142005000700014-1  3e02329\n",
       "2  S0004-06142005000700014-1  bw40zzz\n",
       "3  S0004-06142005000700014-1  bv44zzz\n",
       "4  S0004-06142005000700014-1     bn20"
      ]
     },
     "execution_count": 258,
     "metadata": {},
     "output_type": "execute_result"
    }
   ],
   "source": [
    "codiesp_p_train_add_train_dev.head()"
   ]
  },
  {
   "cell_type": "code",
   "execution_count": 259,
   "metadata": {},
   "outputs": [
    {
     "data": {
      "text/html": [
       "<div>\n",
       "<style scoped>\n",
       "    .dataframe tbody tr th:only-of-type {\n",
       "        vertical-align: middle;\n",
       "    }\n",
       "\n",
       "    .dataframe tbody tr th {\n",
       "        vertical-align: top;\n",
       "    }\n",
       "\n",
       "    .dataframe thead th {\n",
       "        text-align: right;\n",
       "    }\n",
       "</style>\n",
       "<table border=\"1\" class=\"dataframe\">\n",
       "  <thead>\n",
       "    <tr style=\"text-align: right;\">\n",
       "      <th></th>\n",
       "      <th>document</th>\n",
       "      <th>code</th>\n",
       "    </tr>\n",
       "  </thead>\n",
       "  <tbody>\n",
       "    <tr>\n",
       "      <th>440750</th>\n",
       "      <td>ibc-95104</td>\n",
       "      <td>gzhzzzz</td>\n",
       "    </tr>\n",
       "    <tr>\n",
       "      <th>440898</th>\n",
       "      <td>ibc-62375</td>\n",
       "      <td>8e0zxy1</td>\n",
       "    </tr>\n",
       "    <tr>\n",
       "      <th>442228</th>\n",
       "      <td>lil-492262</td>\n",
       "      <td>gzhzzzz</td>\n",
       "    </tr>\n",
       "    <tr>\n",
       "      <th>442230</th>\n",
       "      <td>lil-492263</td>\n",
       "      <td>gzhzzzz</td>\n",
       "    </tr>\n",
       "    <tr>\n",
       "      <th>442235</th>\n",
       "      <td>lil-492265</td>\n",
       "      <td>gzhzzzz</td>\n",
       "    </tr>\n",
       "  </tbody>\n",
       "</table>\n",
       "</div>"
      ],
      "text/plain": [
       "          document     code\n",
       "440750   ibc-95104  gzhzzzz\n",
       "440898   ibc-62375  8e0zxy1\n",
       "442228  lil-492262  gzhzzzz\n",
       "442230  lil-492263  gzhzzzz\n",
       "442235  lil-492265  gzhzzzz"
      ]
     },
     "execution_count": 259,
     "metadata": {},
     "output_type": "execute_result"
    }
   ],
   "source": [
    "codiesp_p_train_add_train_dev.tail()"
   ]
  },
  {
   "cell_type": "code",
   "execution_count": 260,
   "metadata": {},
   "outputs": [
    {
     "data": {
      "text/plain": [
       "(2245, 2)"
      ]
     },
     "execution_count": 260,
     "metadata": {},
     "output_type": "execute_result"
    }
   ],
   "source": [
    "codiesp_p_train_add_train_dev.shape"
   ]
  },
  {
   "cell_type": "markdown",
   "metadata": {},
   "source": [
    "We examine the next tables in order to analyze the features of the new resulting CodiEsp corpus:"
   ]
  },
  {
   "cell_type": "code",
   "execution_count": 261,
   "metadata": {},
   "outputs": [],
   "source": [
    "train_dev_add_train_p_codes = set(codiesp_p_train_add_train_dev[\"code\"])"
   ]
  },
  {
   "cell_type": "code",
   "execution_count": 262,
   "metadata": {},
   "outputs": [
    {
     "data": {
      "text/html": [
       "<div>\n",
       "<style scoped>\n",
       "    .dataframe tbody tr th:only-of-type {\n",
       "        vertical-align: middle;\n",
       "    }\n",
       "\n",
       "    .dataframe tbody tr th {\n",
       "        vertical-align: top;\n",
       "    }\n",
       "\n",
       "    .dataframe thead th {\n",
       "        text-align: right;\n",
       "    }\n",
       "</style>\n",
       "<table border=\"1\" class=\"dataframe\">\n",
       "  <thead>\n",
       "    <tr style=\"text-align: right;\">\n",
       "      <th></th>\n",
       "      <th>Training</th>\n",
       "      <th>Development</th>\n",
       "      <th>Test</th>\n",
       "    </tr>\n",
       "  </thead>\n",
       "  <tbody>\n",
       "    <tr>\n",
       "      <th>Documents</th>\n",
       "      <td>1130</td>\n",
       "      <td>222.000000</td>\n",
       "      <td>~220.0</td>\n",
       "    </tr>\n",
       "    <tr>\n",
       "      <th>Total CIE codes</th>\n",
       "      <td>2245</td>\n",
       "      <td>817.000000</td>\n",
       "      <td>None</td>\n",
       "    </tr>\n",
       "    <tr>\n",
       "      <th>Avg CIE codes per doc.</th>\n",
       "      <td>1.98673</td>\n",
       "      <td>3.680180</td>\n",
       "      <td>None</td>\n",
       "    </tr>\n",
       "    <tr>\n",
       "      <th>Unique CIE codes</th>\n",
       "      <td>564</td>\n",
       "      <td>375.000000</td>\n",
       "      <td>None</td>\n",
       "    </tr>\n",
       "    <tr>\n",
       "      <th>Avg samples (docs) per CIE code</th>\n",
       "      <td>3.9805</td>\n",
       "      <td>2.178667</td>\n",
       "      <td>None</td>\n",
       "    </tr>\n",
       "    <tr>\n",
       "      <th>Unique unseen CIE codes</th>\n",
       "      <td>-</td>\n",
       "      <td>163.000000</td>\n",
       "      <td>~126.5</td>\n",
       "    </tr>\n",
       "  </tbody>\n",
       "</table>\n",
       "</div>"
      ],
      "text/plain": [
       "                                Training  Development    Test\n",
       "Documents                           1130   222.000000  ~220.0\n",
       "Total CIE codes                     2245   817.000000    None\n",
       "Avg CIE codes per doc.           1.98673     3.680180    None\n",
       "Unique CIE codes                     564   375.000000    None\n",
       "Avg samples (docs) per CIE code   3.9805     2.178667    None\n",
       "Unique unseen CIE codes                -   163.000000  ~126.5"
      ]
     },
     "execution_count": 262,
     "metadata": {},
     "output_type": "execute_result"
    }
   ],
   "source": [
    "# Abstracts-CodiEsp-Procedimiento codes table\n",
    "train_dev_add_p_tab = pd.DataFrame({col_names[0]: [len(set(codiesp_p_train_add_train_dev.document)), \n",
    "                                       codiesp_p_train_add_train_dev.shape[0], \n",
    "                                       codiesp_p_train_add_train_dev.shape[0]/len(set(codiesp_p_train_add_train_dev.document)), \n",
    "                                       len(train_dev_add_train_p_codes), \n",
    "                                     codiesp_p_train_add_train_dev.shape[0]/len(train_dev_add_train_p_codes), \n",
    "                                       \"-\"], \n",
    "              col_names[1]: [len(set(codiesp_p_dev.document)), \n",
    "                             codiesp_p_dev.shape[0], \n",
    "                             codiesp_p_dev.shape[0]/len(set(codiesp_p_dev.document)), \n",
    "                             len(dev_p_codes), \n",
    "                             codiesp_p_dev.shape[0]/len(dev_p_codes), \n",
    "                             len(dev_p_codes - train_dev_add_train_p_codes)],\n",
    "              col_names[2]: [\"~\" + str(c_approx*250), None, None, None, None, \n",
    "                             \"~\" + str((total_uniq_codes - len(d_codes) - len(p_codes))*(1-d_approx))]}, \n",
    "                       index=row_names)\n",
    "train_dev_add_p_tab = train_dev_add_p_tab.reindex(columns=col_names)\n",
    "train_dev_add_p_tab"
   ]
  },
  {
   "cell_type": "code",
   "execution_count": 263,
   "metadata": {},
   "outputs": [
    {
     "data": {
      "text/html": [
       "<div>\n",
       "<style scoped>\n",
       "    .dataframe tbody tr th:only-of-type {\n",
       "        vertical-align: middle;\n",
       "    }\n",
       "\n",
       "    .dataframe tbody tr th {\n",
       "        vertical-align: top;\n",
       "    }\n",
       "\n",
       "    .dataframe thead th {\n",
       "        text-align: right;\n",
       "    }\n",
       "</style>\n",
       "<table border=\"1\" class=\"dataframe\">\n",
       "  <thead>\n",
       "    <tr style=\"text-align: right;\">\n",
       "      <th></th>\n",
       "      <th>Training</th>\n",
       "      <th>Development</th>\n",
       "      <th>Test</th>\n",
       "    </tr>\n",
       "  </thead>\n",
       "  <tbody>\n",
       "    <tr>\n",
       "      <th>Documents</th>\n",
       "      <td>435</td>\n",
       "      <td>222.000000</td>\n",
       "      <td>~220.0</td>\n",
       "    </tr>\n",
       "    <tr>\n",
       "      <th>Total CIE codes</th>\n",
       "      <td>1550</td>\n",
       "      <td>817.000000</td>\n",
       "      <td>None</td>\n",
       "    </tr>\n",
       "    <tr>\n",
       "      <th>Avg CIE codes per doc.</th>\n",
       "      <td>3.56322</td>\n",
       "      <td>3.680180</td>\n",
       "      <td>None</td>\n",
       "    </tr>\n",
       "    <tr>\n",
       "      <th>Unique CIE codes</th>\n",
       "      <td>563</td>\n",
       "      <td>375.000000</td>\n",
       "      <td>None</td>\n",
       "    </tr>\n",
       "    <tr>\n",
       "      <th>Avg samples (docs) per CIE code</th>\n",
       "      <td>2.75311</td>\n",
       "      <td>2.178667</td>\n",
       "      <td>None</td>\n",
       "    </tr>\n",
       "    <tr>\n",
       "      <th>Unique unseen CIE codes</th>\n",
       "      <td>-</td>\n",
       "      <td>164.000000</td>\n",
       "      <td>~126.5</td>\n",
       "    </tr>\n",
       "  </tbody>\n",
       "</table>\n",
       "</div>"
      ],
      "text/plain": [
       "                                Training  Development    Test\n",
       "Documents                            435   222.000000  ~220.0\n",
       "Total CIE codes                     1550   817.000000    None\n",
       "Avg CIE codes per doc.           3.56322     3.680180    None\n",
       "Unique CIE codes                     563   375.000000    None\n",
       "Avg samples (docs) per CIE code  2.75311     2.178667    None\n",
       "Unique unseen CIE codes                -   164.000000  ~126.5"
      ]
     },
     "execution_count": 263,
     "metadata": {},
     "output_type": "execute_result"
    }
   ],
   "source": [
    "# Original table, when no abstract is added to the train corpus\n",
    "p_tab"
   ]
  },
  {
   "cell_type": "code",
   "execution_count": 264,
   "metadata": {},
   "outputs": [
    {
     "data": {
      "text/html": [
       "<div>\n",
       "<style scoped>\n",
       "    .dataframe tbody tr th:only-of-type {\n",
       "        vertical-align: middle;\n",
       "    }\n",
       "\n",
       "    .dataframe tbody tr th {\n",
       "        vertical-align: top;\n",
       "    }\n",
       "\n",
       "    .dataframe thead th {\n",
       "        text-align: right;\n",
       "    }\n",
       "</style>\n",
       "<table border=\"1\" class=\"dataframe\">\n",
       "  <thead>\n",
       "    <tr style=\"text-align: right;\">\n",
       "      <th></th>\n",
       "      <th>Train</th>\n",
       "      <th>Dev</th>\n",
       "      <th>Train+Dev</th>\n",
       "    </tr>\n",
       "  </thead>\n",
       "  <tbody>\n",
       "    <tr>\n",
       "      <th>count</th>\n",
       "      <td>564.000000</td>\n",
       "      <td>375.000000</td>\n",
       "      <td>727.000000</td>\n",
       "    </tr>\n",
       "    <tr>\n",
       "      <th>mean</th>\n",
       "      <td>3.980496</td>\n",
       "      <td>2.178667</td>\n",
       "      <td>4.211829</td>\n",
       "    </tr>\n",
       "    <tr>\n",
       "      <th>std</th>\n",
       "      <td>21.549842</td>\n",
       "      <td>3.415531</td>\n",
       "      <td>19.833792</td>\n",
       "    </tr>\n",
       "    <tr>\n",
       "      <th>min</th>\n",
       "      <td>1.000000</td>\n",
       "      <td>1.000000</td>\n",
       "      <td>1.000000</td>\n",
       "    </tr>\n",
       "    <tr>\n",
       "      <th>25%</th>\n",
       "      <td>1.000000</td>\n",
       "      <td>1.000000</td>\n",
       "      <td>1.000000</td>\n",
       "    </tr>\n",
       "    <tr>\n",
       "      <th>50%</th>\n",
       "      <td>1.000000</td>\n",
       "      <td>1.000000</td>\n",
       "      <td>1.000000</td>\n",
       "    </tr>\n",
       "    <tr>\n",
       "      <th>75%</th>\n",
       "      <td>2.000000</td>\n",
       "      <td>2.000000</td>\n",
       "      <td>2.000000</td>\n",
       "    </tr>\n",
       "    <tr>\n",
       "      <th>max</th>\n",
       "      <td>404.000000</td>\n",
       "      <td>40.000000</td>\n",
       "      <td>404.000000</td>\n",
       "    </tr>\n",
       "  </tbody>\n",
       "</table>\n",
       "</div>"
      ],
      "text/plain": [
       "            Train         Dev   Train+Dev\n",
       "count  564.000000  375.000000  727.000000\n",
       "mean     3.980496    2.178667    4.211829\n",
       "std     21.549842    3.415531   19.833792\n",
       "min      1.000000    1.000000    1.000000\n",
       "25%      1.000000    1.000000    1.000000\n",
       "50%      1.000000    1.000000    1.000000\n",
       "75%      2.000000    2.000000    2.000000\n",
       "max    404.000000   40.000000  404.000000"
      ]
     },
     "execution_count": 264,
     "metadata": {},
     "output_type": "execute_result"
    }
   ],
   "source": [
    "# Samples per CIE-Procedimiento code distribution\n",
    "train_dev_add_p_sample_code = pd.DataFrame({col_names_sample[0]: codiesp_p_train_add_train_dev[\"code\"].value_counts().describe(),\n",
    "                              col_names_sample[1]: codiesp_p_dev[\"code\"].value_counts().describe(),\n",
    "                              col_names_sample[2]: codiesp_p_train_add_train_dev[\"code\"].append(codiesp_p_dev[\"code\"]).value_counts().describe()})\n",
    "train_dev_add_p_sample_code = train_dev_add_p_sample_code.reindex(columns=col_names_sample)\n",
    "train_dev_add_p_sample_code"
   ]
  },
  {
   "cell_type": "code",
   "execution_count": 265,
   "metadata": {},
   "outputs": [
    {
     "data": {
      "text/html": [
       "<div>\n",
       "<style scoped>\n",
       "    .dataframe tbody tr th:only-of-type {\n",
       "        vertical-align: middle;\n",
       "    }\n",
       "\n",
       "    .dataframe tbody tr th {\n",
       "        vertical-align: top;\n",
       "    }\n",
       "\n",
       "    .dataframe thead th {\n",
       "        text-align: right;\n",
       "    }\n",
       "</style>\n",
       "<table border=\"1\" class=\"dataframe\">\n",
       "  <thead>\n",
       "    <tr style=\"text-align: right;\">\n",
       "      <th></th>\n",
       "      <th>Train</th>\n",
       "      <th>Dev</th>\n",
       "      <th>Train+Dev</th>\n",
       "    </tr>\n",
       "  </thead>\n",
       "  <tbody>\n",
       "    <tr>\n",
       "      <th>count</th>\n",
       "      <td>563.000000</td>\n",
       "      <td>375.000000</td>\n",
       "      <td>727.000000</td>\n",
       "    </tr>\n",
       "    <tr>\n",
       "      <th>mean</th>\n",
       "      <td>2.753108</td>\n",
       "      <td>2.178667</td>\n",
       "      <td>3.255846</td>\n",
       "    </tr>\n",
       "    <tr>\n",
       "      <th>std</th>\n",
       "      <td>5.603234</td>\n",
       "      <td>3.415531</td>\n",
       "      <td>7.580642</td>\n",
       "    </tr>\n",
       "    <tr>\n",
       "      <th>min</th>\n",
       "      <td>1.000000</td>\n",
       "      <td>1.000000</td>\n",
       "      <td>1.000000</td>\n",
       "    </tr>\n",
       "    <tr>\n",
       "      <th>25%</th>\n",
       "      <td>1.000000</td>\n",
       "      <td>1.000000</td>\n",
       "      <td>1.000000</td>\n",
       "    </tr>\n",
       "    <tr>\n",
       "      <th>50%</th>\n",
       "      <td>1.000000</td>\n",
       "      <td>1.000000</td>\n",
       "      <td>1.000000</td>\n",
       "    </tr>\n",
       "    <tr>\n",
       "      <th>75%</th>\n",
       "      <td>2.000000</td>\n",
       "      <td>2.000000</td>\n",
       "      <td>2.000000</td>\n",
       "    </tr>\n",
       "    <tr>\n",
       "      <th>max</th>\n",
       "      <td>67.000000</td>\n",
       "      <td>40.000000</td>\n",
       "      <td>107.000000</td>\n",
       "    </tr>\n",
       "  </tbody>\n",
       "</table>\n",
       "</div>"
      ],
      "text/plain": [
       "            Train         Dev   Train+Dev\n",
       "count  563.000000  375.000000  727.000000\n",
       "mean     2.753108    2.178667    3.255846\n",
       "std      5.603234    3.415531    7.580642\n",
       "min      1.000000    1.000000    1.000000\n",
       "25%      1.000000    1.000000    1.000000\n",
       "50%      1.000000    1.000000    1.000000\n",
       "75%      2.000000    2.000000    2.000000\n",
       "max     67.000000   40.000000  107.000000"
      ]
     },
     "execution_count": 265,
     "metadata": {},
     "output_type": "execute_result"
    }
   ],
   "source": [
    "# Original samples per CIE-Procedimiento code distribution\n",
    "p_sample_code"
   ]
  },
  {
   "cell_type": "markdown",
   "metadata": {},
   "source": [
    "##### Abstracts with CodiEsp train codes\n",
    "\n",
    "Only the additional abstracts labeled with CIE codes present in CodiEsp train corpus are added. This option is only meaningful during the model development phase, when the CodiEsp devel corpus is employed to evaluate the model, as in the final evaluation phase train+dev corpora will be used to train the final model."
   ]
  },
  {
   "cell_type": "code",
   "execution_count": 266,
   "metadata": {},
   "outputs": [],
   "source": [
    "codiesp_p_train_add_train = pd.concat([codiesp_p_train, \n",
    "    additional_ank_p[additional_ank_p[\"code\"].isin(train_p_codes & additional_ank_p_codes)][[\"document\", \"code\"]]]) "
   ]
  },
  {
   "cell_type": "code",
   "execution_count": 267,
   "metadata": {},
   "outputs": [
    {
     "data": {
      "text/html": [
       "<div>\n",
       "<style scoped>\n",
       "    .dataframe tbody tr th:only-of-type {\n",
       "        vertical-align: middle;\n",
       "    }\n",
       "\n",
       "    .dataframe tbody tr th {\n",
       "        vertical-align: top;\n",
       "    }\n",
       "\n",
       "    .dataframe thead th {\n",
       "        text-align: right;\n",
       "    }\n",
       "</style>\n",
       "<table border=\"1\" class=\"dataframe\">\n",
       "  <thead>\n",
       "    <tr style=\"text-align: right;\">\n",
       "      <th></th>\n",
       "      <th>document</th>\n",
       "      <th>code</th>\n",
       "    </tr>\n",
       "  </thead>\n",
       "  <tbody>\n",
       "    <tr>\n",
       "      <th>0</th>\n",
       "      <td>S0004-06142005000700014-1</td>\n",
       "      <td>bw03zzz</td>\n",
       "    </tr>\n",
       "    <tr>\n",
       "      <th>1</th>\n",
       "      <td>S0004-06142005000700014-1</td>\n",
       "      <td>3e02329</td>\n",
       "    </tr>\n",
       "    <tr>\n",
       "      <th>2</th>\n",
       "      <td>S0004-06142005000700014-1</td>\n",
       "      <td>bw40zzz</td>\n",
       "    </tr>\n",
       "    <tr>\n",
       "      <th>3</th>\n",
       "      <td>S0004-06142005000700014-1</td>\n",
       "      <td>bv44zzz</td>\n",
       "    </tr>\n",
       "    <tr>\n",
       "      <th>4</th>\n",
       "      <td>S0004-06142005000700014-1</td>\n",
       "      <td>bn20</td>\n",
       "    </tr>\n",
       "  </tbody>\n",
       "</table>\n",
       "</div>"
      ],
      "text/plain": [
       "                    document     code\n",
       "0  S0004-06142005000700014-1  bw03zzz\n",
       "1  S0004-06142005000700014-1  3e02329\n",
       "2  S0004-06142005000700014-1  bw40zzz\n",
       "3  S0004-06142005000700014-1  bv44zzz\n",
       "4  S0004-06142005000700014-1     bn20"
      ]
     },
     "execution_count": 267,
     "metadata": {},
     "output_type": "execute_result"
    }
   ],
   "source": [
    "codiesp_p_train_add_train.head()"
   ]
  },
  {
   "cell_type": "code",
   "execution_count": 268,
   "metadata": {},
   "outputs": [
    {
     "data": {
      "text/html": [
       "<div>\n",
       "<style scoped>\n",
       "    .dataframe tbody tr th:only-of-type {\n",
       "        vertical-align: middle;\n",
       "    }\n",
       "\n",
       "    .dataframe tbody tr th {\n",
       "        vertical-align: top;\n",
       "    }\n",
       "\n",
       "    .dataframe thead th {\n",
       "        text-align: right;\n",
       "    }\n",
       "</style>\n",
       "<table border=\"1\" class=\"dataframe\">\n",
       "  <thead>\n",
       "    <tr style=\"text-align: right;\">\n",
       "      <th></th>\n",
       "      <th>document</th>\n",
       "      <th>code</th>\n",
       "    </tr>\n",
       "  </thead>\n",
       "  <tbody>\n",
       "    <tr>\n",
       "      <th>440547</th>\n",
       "      <td>biblio-963399</td>\n",
       "      <td>gzhzzzz</td>\n",
       "    </tr>\n",
       "    <tr>\n",
       "      <th>440750</th>\n",
       "      <td>ibc-95104</td>\n",
       "      <td>gzhzzzz</td>\n",
       "    </tr>\n",
       "    <tr>\n",
       "      <th>442228</th>\n",
       "      <td>lil-492262</td>\n",
       "      <td>gzhzzzz</td>\n",
       "    </tr>\n",
       "    <tr>\n",
       "      <th>442230</th>\n",
       "      <td>lil-492263</td>\n",
       "      <td>gzhzzzz</td>\n",
       "    </tr>\n",
       "    <tr>\n",
       "      <th>442235</th>\n",
       "      <td>lil-492265</td>\n",
       "      <td>gzhzzzz</td>\n",
       "    </tr>\n",
       "  </tbody>\n",
       "</table>\n",
       "</div>"
      ],
      "text/plain": [
       "             document     code\n",
       "440547  biblio-963399  gzhzzzz\n",
       "440750      ibc-95104  gzhzzzz\n",
       "442228     lil-492262  gzhzzzz\n",
       "442230     lil-492263  gzhzzzz\n",
       "442235     lil-492265  gzhzzzz"
      ]
     },
     "execution_count": 268,
     "metadata": {},
     "output_type": "execute_result"
    }
   ],
   "source": [
    "codiesp_p_train_add_train.tail()"
   ]
  },
  {
   "cell_type": "code",
   "execution_count": 269,
   "metadata": {},
   "outputs": [
    {
     "data": {
      "text/plain": [
       "(1953, 2)"
      ]
     },
     "execution_count": 269,
     "metadata": {},
     "output_type": "execute_result"
    }
   ],
   "source": [
    "codiesp_p_train_add_train.shape"
   ]
  },
  {
   "cell_type": "markdown",
   "metadata": {},
   "source": [
    "We examine the next tables in order to analyze the features of the new resulting CodiEsp corpus:"
   ]
  },
  {
   "cell_type": "code",
   "execution_count": 270,
   "metadata": {},
   "outputs": [
    {
     "data": {
      "text/plain": [
       "True"
      ]
     },
     "execution_count": 270,
     "metadata": {},
     "output_type": "execute_result"
    }
   ],
   "source": [
    "# Sanity check, True expected\n",
    "set(codiesp_p_train_add_train[\"code\"]) == train_p_codes"
   ]
  },
  {
   "cell_type": "code",
   "execution_count": 271,
   "metadata": {},
   "outputs": [
    {
     "data": {
      "text/html": [
       "<div>\n",
       "<style scoped>\n",
       "    .dataframe tbody tr th:only-of-type {\n",
       "        vertical-align: middle;\n",
       "    }\n",
       "\n",
       "    .dataframe tbody tr th {\n",
       "        vertical-align: top;\n",
       "    }\n",
       "\n",
       "    .dataframe thead th {\n",
       "        text-align: right;\n",
       "    }\n",
       "</style>\n",
       "<table border=\"1\" class=\"dataframe\">\n",
       "  <thead>\n",
       "    <tr style=\"text-align: right;\">\n",
       "      <th></th>\n",
       "      <th>Training</th>\n",
       "      <th>Development</th>\n",
       "      <th>Test</th>\n",
       "    </tr>\n",
       "  </thead>\n",
       "  <tbody>\n",
       "    <tr>\n",
       "      <th>Documents</th>\n",
       "      <td>838</td>\n",
       "      <td>222.000000</td>\n",
       "      <td>~220.0</td>\n",
       "    </tr>\n",
       "    <tr>\n",
       "      <th>Total CIE codes</th>\n",
       "      <td>1953</td>\n",
       "      <td>817.000000</td>\n",
       "      <td>None</td>\n",
       "    </tr>\n",
       "    <tr>\n",
       "      <th>Avg CIE codes per doc.</th>\n",
       "      <td>2.33055</td>\n",
       "      <td>3.680180</td>\n",
       "      <td>None</td>\n",
       "    </tr>\n",
       "    <tr>\n",
       "      <th>Unique CIE codes</th>\n",
       "      <td>563</td>\n",
       "      <td>375.000000</td>\n",
       "      <td>None</td>\n",
       "    </tr>\n",
       "    <tr>\n",
       "      <th>Avg samples (docs) per CIE code</th>\n",
       "      <td>3.46892</td>\n",
       "      <td>2.178667</td>\n",
       "      <td>None</td>\n",
       "    </tr>\n",
       "    <tr>\n",
       "      <th>Unique unseen CIE codes</th>\n",
       "      <td>-</td>\n",
       "      <td>164.000000</td>\n",
       "      <td>~126.5</td>\n",
       "    </tr>\n",
       "  </tbody>\n",
       "</table>\n",
       "</div>"
      ],
      "text/plain": [
       "                                Training  Development    Test\n",
       "Documents                            838   222.000000  ~220.0\n",
       "Total CIE codes                     1953   817.000000    None\n",
       "Avg CIE codes per doc.           2.33055     3.680180    None\n",
       "Unique CIE codes                     563   375.000000    None\n",
       "Avg samples (docs) per CIE code  3.46892     2.178667    None\n",
       "Unique unseen CIE codes                -   164.000000  ~126.5"
      ]
     },
     "execution_count": 271,
     "metadata": {},
     "output_type": "execute_result"
    }
   ],
   "source": [
    "# Abstracts-CodiEsp-Procedimiento codes table\n",
    "train_add_p_tab = pd.DataFrame({col_names[0]: [len(set(codiesp_p_train_add_train.document)), \n",
    "                                       codiesp_p_train_add_train.shape[0], \n",
    "                                       codiesp_p_train_add_train.shape[0]/len(set(codiesp_p_train_add_train.document)), \n",
    "                                       len(train_p_codes), \n",
    "                                     codiesp_p_train_add_train.shape[0]/len(train_p_codes), \n",
    "                                       \"-\"], \n",
    "              col_names[1]: [len(set(codiesp_p_dev.document)), \n",
    "                             codiesp_p_dev.shape[0], \n",
    "                             codiesp_p_dev.shape[0]/len(set(codiesp_p_dev.document)), \n",
    "                             len(dev_p_codes), \n",
    "                             codiesp_p_dev.shape[0]/len(dev_p_codes), \n",
    "                             len(dev_p_codes - train_p_codes)],\n",
    "              col_names[2]: [\"~\" + str(c_approx*250), None, None, None, None, \n",
    "                             \"~\" + str((total_uniq_codes - len(d_codes) - len(p_codes))*(1-d_approx))]}, \n",
    "                       index=row_names)\n",
    "train_add_p_tab = train_add_p_tab.reindex(columns=col_names)\n",
    "train_add_p_tab"
   ]
  },
  {
   "cell_type": "code",
   "execution_count": 272,
   "metadata": {},
   "outputs": [
    {
     "data": {
      "text/html": [
       "<div>\n",
       "<style scoped>\n",
       "    .dataframe tbody tr th:only-of-type {\n",
       "        vertical-align: middle;\n",
       "    }\n",
       "\n",
       "    .dataframe tbody tr th {\n",
       "        vertical-align: top;\n",
       "    }\n",
       "\n",
       "    .dataframe thead th {\n",
       "        text-align: right;\n",
       "    }\n",
       "</style>\n",
       "<table border=\"1\" class=\"dataframe\">\n",
       "  <thead>\n",
       "    <tr style=\"text-align: right;\">\n",
       "      <th></th>\n",
       "      <th>Training</th>\n",
       "      <th>Development</th>\n",
       "      <th>Test</th>\n",
       "    </tr>\n",
       "  </thead>\n",
       "  <tbody>\n",
       "    <tr>\n",
       "      <th>Documents</th>\n",
       "      <td>435</td>\n",
       "      <td>222.000000</td>\n",
       "      <td>~220.0</td>\n",
       "    </tr>\n",
       "    <tr>\n",
       "      <th>Total CIE codes</th>\n",
       "      <td>1550</td>\n",
       "      <td>817.000000</td>\n",
       "      <td>None</td>\n",
       "    </tr>\n",
       "    <tr>\n",
       "      <th>Avg CIE codes per doc.</th>\n",
       "      <td>3.56322</td>\n",
       "      <td>3.680180</td>\n",
       "      <td>None</td>\n",
       "    </tr>\n",
       "    <tr>\n",
       "      <th>Unique CIE codes</th>\n",
       "      <td>563</td>\n",
       "      <td>375.000000</td>\n",
       "      <td>None</td>\n",
       "    </tr>\n",
       "    <tr>\n",
       "      <th>Avg samples (docs) per CIE code</th>\n",
       "      <td>2.75311</td>\n",
       "      <td>2.178667</td>\n",
       "      <td>None</td>\n",
       "    </tr>\n",
       "    <tr>\n",
       "      <th>Unique unseen CIE codes</th>\n",
       "      <td>-</td>\n",
       "      <td>164.000000</td>\n",
       "      <td>~126.5</td>\n",
       "    </tr>\n",
       "  </tbody>\n",
       "</table>\n",
       "</div>"
      ],
      "text/plain": [
       "                                Training  Development    Test\n",
       "Documents                            435   222.000000  ~220.0\n",
       "Total CIE codes                     1550   817.000000    None\n",
       "Avg CIE codes per doc.           3.56322     3.680180    None\n",
       "Unique CIE codes                     563   375.000000    None\n",
       "Avg samples (docs) per CIE code  2.75311     2.178667    None\n",
       "Unique unseen CIE codes                -   164.000000  ~126.5"
      ]
     },
     "execution_count": 272,
     "metadata": {},
     "output_type": "execute_result"
    }
   ],
   "source": [
    "# Original table, when no abstract is added to the train corpus\n",
    "p_tab"
   ]
  },
  {
   "cell_type": "code",
   "execution_count": 273,
   "metadata": {},
   "outputs": [
    {
     "data": {
      "text/html": [
       "<div>\n",
       "<style scoped>\n",
       "    .dataframe tbody tr th:only-of-type {\n",
       "        vertical-align: middle;\n",
       "    }\n",
       "\n",
       "    .dataframe tbody tr th {\n",
       "        vertical-align: top;\n",
       "    }\n",
       "\n",
       "    .dataframe thead th {\n",
       "        text-align: right;\n",
       "    }\n",
       "</style>\n",
       "<table border=\"1\" class=\"dataframe\">\n",
       "  <thead>\n",
       "    <tr style=\"text-align: right;\">\n",
       "      <th></th>\n",
       "      <th>Train</th>\n",
       "      <th>Dev</th>\n",
       "      <th>Train+Dev</th>\n",
       "    </tr>\n",
       "  </thead>\n",
       "  <tbody>\n",
       "    <tr>\n",
       "      <th>count</th>\n",
       "      <td>563.000000</td>\n",
       "      <td>375.000000</td>\n",
       "      <td>727.000000</td>\n",
       "    </tr>\n",
       "    <tr>\n",
       "      <th>mean</th>\n",
       "      <td>3.468917</td>\n",
       "      <td>2.178667</td>\n",
       "      <td>3.810179</td>\n",
       "    </tr>\n",
       "    <tr>\n",
       "      <th>std</th>\n",
       "      <td>17.814395</td>\n",
       "      <td>3.415531</td>\n",
       "      <td>16.684060</td>\n",
       "    </tr>\n",
       "    <tr>\n",
       "      <th>min</th>\n",
       "      <td>1.000000</td>\n",
       "      <td>1.000000</td>\n",
       "      <td>1.000000</td>\n",
       "    </tr>\n",
       "    <tr>\n",
       "      <th>25%</th>\n",
       "      <td>1.000000</td>\n",
       "      <td>1.000000</td>\n",
       "      <td>1.000000</td>\n",
       "    </tr>\n",
       "    <tr>\n",
       "      <th>50%</th>\n",
       "      <td>1.000000</td>\n",
       "      <td>1.000000</td>\n",
       "      <td>1.000000</td>\n",
       "    </tr>\n",
       "    <tr>\n",
       "      <th>75%</th>\n",
       "      <td>2.000000</td>\n",
       "      <td>2.000000</td>\n",
       "      <td>2.000000</td>\n",
       "    </tr>\n",
       "    <tr>\n",
       "      <th>max</th>\n",
       "      <td>404.000000</td>\n",
       "      <td>40.000000</td>\n",
       "      <td>404.000000</td>\n",
       "    </tr>\n",
       "  </tbody>\n",
       "</table>\n",
       "</div>"
      ],
      "text/plain": [
       "            Train         Dev   Train+Dev\n",
       "count  563.000000  375.000000  727.000000\n",
       "mean     3.468917    2.178667    3.810179\n",
       "std     17.814395    3.415531   16.684060\n",
       "min      1.000000    1.000000    1.000000\n",
       "25%      1.000000    1.000000    1.000000\n",
       "50%      1.000000    1.000000    1.000000\n",
       "75%      2.000000    2.000000    2.000000\n",
       "max    404.000000   40.000000  404.000000"
      ]
     },
     "execution_count": 273,
     "metadata": {},
     "output_type": "execute_result"
    }
   ],
   "source": [
    "# Samples per CIE-Procedimiento code distribution\n",
    "train_add_p_sample_code = pd.DataFrame({col_names_sample[0]: codiesp_p_train_add_train[\"code\"].value_counts().describe(),\n",
    "                              col_names_sample[1]: codiesp_p_dev[\"code\"].value_counts().describe(),\n",
    "                              col_names_sample[2]: codiesp_p_train_add_train[\"code\"].append(codiesp_p_dev[\"code\"]).value_counts().describe()})\n",
    "train_add_p_sample_code = train_add_p_sample_code.reindex(columns=col_names_sample)\n",
    "train_add_p_sample_code"
   ]
  },
  {
   "cell_type": "code",
   "execution_count": 274,
   "metadata": {},
   "outputs": [
    {
     "data": {
      "text/html": [
       "<div>\n",
       "<style scoped>\n",
       "    .dataframe tbody tr th:only-of-type {\n",
       "        vertical-align: middle;\n",
       "    }\n",
       "\n",
       "    .dataframe tbody tr th {\n",
       "        vertical-align: top;\n",
       "    }\n",
       "\n",
       "    .dataframe thead th {\n",
       "        text-align: right;\n",
       "    }\n",
       "</style>\n",
       "<table border=\"1\" class=\"dataframe\">\n",
       "  <thead>\n",
       "    <tr style=\"text-align: right;\">\n",
       "      <th></th>\n",
       "      <th>Train</th>\n",
       "      <th>Dev</th>\n",
       "      <th>Train+Dev</th>\n",
       "    </tr>\n",
       "  </thead>\n",
       "  <tbody>\n",
       "    <tr>\n",
       "      <th>count</th>\n",
       "      <td>563.000000</td>\n",
       "      <td>375.000000</td>\n",
       "      <td>727.000000</td>\n",
       "    </tr>\n",
       "    <tr>\n",
       "      <th>mean</th>\n",
       "      <td>2.753108</td>\n",
       "      <td>2.178667</td>\n",
       "      <td>3.255846</td>\n",
       "    </tr>\n",
       "    <tr>\n",
       "      <th>std</th>\n",
       "      <td>5.603234</td>\n",
       "      <td>3.415531</td>\n",
       "      <td>7.580642</td>\n",
       "    </tr>\n",
       "    <tr>\n",
       "      <th>min</th>\n",
       "      <td>1.000000</td>\n",
       "      <td>1.000000</td>\n",
       "      <td>1.000000</td>\n",
       "    </tr>\n",
       "    <tr>\n",
       "      <th>25%</th>\n",
       "      <td>1.000000</td>\n",
       "      <td>1.000000</td>\n",
       "      <td>1.000000</td>\n",
       "    </tr>\n",
       "    <tr>\n",
       "      <th>50%</th>\n",
       "      <td>1.000000</td>\n",
       "      <td>1.000000</td>\n",
       "      <td>1.000000</td>\n",
       "    </tr>\n",
       "    <tr>\n",
       "      <th>75%</th>\n",
       "      <td>2.000000</td>\n",
       "      <td>2.000000</td>\n",
       "      <td>2.000000</td>\n",
       "    </tr>\n",
       "    <tr>\n",
       "      <th>max</th>\n",
       "      <td>67.000000</td>\n",
       "      <td>40.000000</td>\n",
       "      <td>107.000000</td>\n",
       "    </tr>\n",
       "  </tbody>\n",
       "</table>\n",
       "</div>"
      ],
      "text/plain": [
       "            Train         Dev   Train+Dev\n",
       "count  563.000000  375.000000  727.000000\n",
       "mean     2.753108    2.178667    3.255846\n",
       "std      5.603234    3.415531    7.580642\n",
       "min      1.000000    1.000000    1.000000\n",
       "25%      1.000000    1.000000    1.000000\n",
       "50%      1.000000    1.000000    1.000000\n",
       "75%      2.000000    2.000000    2.000000\n",
       "max     67.000000   40.000000  107.000000"
      ]
     },
     "execution_count": 274,
     "metadata": {},
     "output_type": "execute_result"
    }
   ],
   "source": [
    "# Original samples per CIE-Procedimiento code distribution\n",
    "p_sample_code"
   ]
  },
  {
   "cell_type": "markdown",
   "metadata": {},
   "source": [
    "### Expanded corpus summary\n",
    "\n",
    "Description of the different resulting expanded CodiEsp corpora, depending on the way additional abstracts are added to the train corpus."
   ]
  },
  {
   "cell_type": "markdown",
   "metadata": {},
   "source": [
    "#### Diagnóstico"
   ]
  },
  {
   "cell_type": "markdown",
   "metadata": {},
   "source": [
    "Corpus description tables:"
   ]
  },
  {
   "cell_type": "code",
   "execution_count": 275,
   "metadata": {},
   "outputs": [
    {
     "data": {
      "text/html": [
       "<div>\n",
       "<style scoped>\n",
       "    .dataframe tbody tr th:only-of-type {\n",
       "        vertical-align: middle;\n",
       "    }\n",
       "\n",
       "    .dataframe tbody tr th {\n",
       "        vertical-align: top;\n",
       "    }\n",
       "\n",
       "    .dataframe thead th {\n",
       "        text-align: right;\n",
       "    }\n",
       "</style>\n",
       "<table border=\"1\" class=\"dataframe\">\n",
       "  <thead>\n",
       "    <tr style=\"text-align: right;\">\n",
       "      <th></th>\n",
       "      <th>Training</th>\n",
       "      <th>Development</th>\n",
       "      <th>Test</th>\n",
       "    </tr>\n",
       "  </thead>\n",
       "  <tbody>\n",
       "    <tr>\n",
       "      <th>Documents</th>\n",
       "      <td>170620</td>\n",
       "      <td>250.000000</td>\n",
       "      <td>~250</td>\n",
       "    </tr>\n",
       "    <tr>\n",
       "      <th>Total CIE codes</th>\n",
       "      <td>409495</td>\n",
       "      <td>2677.000000</td>\n",
       "      <td>None</td>\n",
       "    </tr>\n",
       "    <tr>\n",
       "      <th>Avg CIE codes per doc.</th>\n",
       "      <td>2.40004</td>\n",
       "      <td>10.708000</td>\n",
       "      <td>None</td>\n",
       "    </tr>\n",
       "    <tr>\n",
       "      <th>Unique CIE codes</th>\n",
       "      <td>4136</td>\n",
       "      <td>1158.000000</td>\n",
       "      <td>None</td>\n",
       "    </tr>\n",
       "    <tr>\n",
       "      <th>Avg samples (docs) per CIE code</th>\n",
       "      <td>99.0075</td>\n",
       "      <td>2.311744</td>\n",
       "      <td>None</td>\n",
       "    </tr>\n",
       "    <tr>\n",
       "      <th>Unique unseen CIE codes</th>\n",
       "      <td>-</td>\n",
       "      <td>309.000000</td>\n",
       "      <td>~273.24</td>\n",
       "    </tr>\n",
       "  </tbody>\n",
       "</table>\n",
       "</div>"
      ],
      "text/plain": [
       "                                Training  Development     Test\n",
       "Documents                         170620   250.000000     ~250\n",
       "Total CIE codes                   409495  2677.000000     None\n",
       "Avg CIE codes per doc.           2.40004    10.708000     None\n",
       "Unique CIE codes                    4136  1158.000000     None\n",
       "Avg samples (docs) per CIE code  99.0075     2.311744     None\n",
       "Unique unseen CIE codes                -   309.000000  ~273.24"
      ]
     },
     "execution_count": 275,
     "metadata": {},
     "output_type": "execute_result"
    }
   ],
   "source": [
    "# All abstracts are added\n",
    "all_d_tab"
   ]
  },
  {
   "cell_type": "code",
   "execution_count": 277,
   "metadata": {},
   "outputs": [
    {
     "data": {
      "text/html": [
       "<div>\n",
       "<style scoped>\n",
       "    .dataframe tbody tr th:only-of-type {\n",
       "        vertical-align: middle;\n",
       "    }\n",
       "\n",
       "    .dataframe tbody tr th {\n",
       "        vertical-align: top;\n",
       "    }\n",
       "\n",
       "    .dataframe thead th {\n",
       "        text-align: right;\n",
       "    }\n",
       "</style>\n",
       "<table border=\"1\" class=\"dataframe\">\n",
       "  <thead>\n",
       "    <tr style=\"text-align: right;\">\n",
       "      <th></th>\n",
       "      <th>Training</th>\n",
       "      <th>Development</th>\n",
       "      <th>Test</th>\n",
       "    </tr>\n",
       "  </thead>\n",
       "  <tbody>\n",
       "    <tr>\n",
       "      <th>Documents</th>\n",
       "      <td>115957</td>\n",
       "      <td>250.000000</td>\n",
       "      <td>~250</td>\n",
       "    </tr>\n",
       "    <tr>\n",
       "      <th>Total CIE codes</th>\n",
       "      <td>166291</td>\n",
       "      <td>2677.000000</td>\n",
       "      <td>None</td>\n",
       "    </tr>\n",
       "    <tr>\n",
       "      <th>Avg CIE codes per doc.</th>\n",
       "      <td>1.43407</td>\n",
       "      <td>10.708000</td>\n",
       "      <td>None</td>\n",
       "    </tr>\n",
       "    <tr>\n",
       "      <th>Unique CIE codes</th>\n",
       "      <td>1885</td>\n",
       "      <td>1158.000000</td>\n",
       "      <td>None</td>\n",
       "    </tr>\n",
       "    <tr>\n",
       "      <th>Avg samples (docs) per CIE code</th>\n",
       "      <td>88.218</td>\n",
       "      <td>2.311744</td>\n",
       "      <td>None</td>\n",
       "    </tr>\n",
       "    <tr>\n",
       "      <th>Unique unseen CIE codes</th>\n",
       "      <td>-</td>\n",
       "      <td>309.000000</td>\n",
       "      <td>~379.5</td>\n",
       "    </tr>\n",
       "  </tbody>\n",
       "</table>\n",
       "</div>"
      ],
      "text/plain": [
       "                                Training  Development    Test\n",
       "Documents                         115957   250.000000    ~250\n",
       "Total CIE codes                   166291  2677.000000    None\n",
       "Avg CIE codes per doc.           1.43407    10.708000    None\n",
       "Unique CIE codes                    1885  1158.000000    None\n",
       "Avg samples (docs) per CIE code   88.218     2.311744    None\n",
       "Unique unseen CIE codes                -   309.000000  ~379.5"
      ]
     },
     "execution_count": 277,
     "metadata": {},
     "output_type": "execute_result"
    }
   ],
   "source": [
    "# Abstracts with CodiEsp train or dev codes are added\n",
    "train_dev_add_d_tab"
   ]
  },
  {
   "cell_type": "code",
   "execution_count": 278,
   "metadata": {},
   "outputs": [
    {
     "data": {
      "text/html": [
       "<div>\n",
       "<style scoped>\n",
       "    .dataframe tbody tr th:only-of-type {\n",
       "        vertical-align: middle;\n",
       "    }\n",
       "\n",
       "    .dataframe tbody tr th {\n",
       "        vertical-align: top;\n",
       "    }\n",
       "\n",
       "    .dataframe thead th {\n",
       "        text-align: right;\n",
       "    }\n",
       "</style>\n",
       "<table border=\"1\" class=\"dataframe\">\n",
       "  <thead>\n",
       "    <tr style=\"text-align: right;\">\n",
       "      <th></th>\n",
       "      <th>Training</th>\n",
       "      <th>Development</th>\n",
       "      <th>Test</th>\n",
       "    </tr>\n",
       "  </thead>\n",
       "  <tbody>\n",
       "    <tr>\n",
       "      <th>Documents</th>\n",
       "      <td>108529</td>\n",
       "      <td>250.000000</td>\n",
       "      <td>~250</td>\n",
       "    </tr>\n",
       "    <tr>\n",
       "      <th>Total CIE codes</th>\n",
       "      <td>153836</td>\n",
       "      <td>2677.000000</td>\n",
       "      <td>None</td>\n",
       "    </tr>\n",
       "    <tr>\n",
       "      <th>Avg CIE codes per doc.</th>\n",
       "      <td>1.41746</td>\n",
       "      <td>10.708000</td>\n",
       "      <td>None</td>\n",
       "    </tr>\n",
       "    <tr>\n",
       "      <th>Unique CIE codes</th>\n",
       "      <td>1767</td>\n",
       "      <td>1158.000000</td>\n",
       "      <td>None</td>\n",
       "    </tr>\n",
       "    <tr>\n",
       "      <th>Avg samples (docs) per CIE code</th>\n",
       "      <td>87.0606</td>\n",
       "      <td>2.311744</td>\n",
       "      <td>None</td>\n",
       "    </tr>\n",
       "    <tr>\n",
       "      <th>Unique unseen CIE codes</th>\n",
       "      <td>-</td>\n",
       "      <td>427.000000</td>\n",
       "      <td>~379.5</td>\n",
       "    </tr>\n",
       "  </tbody>\n",
       "</table>\n",
       "</div>"
      ],
      "text/plain": [
       "                                Training  Development    Test\n",
       "Documents                         108529   250.000000    ~250\n",
       "Total CIE codes                   153836  2677.000000    None\n",
       "Avg CIE codes per doc.           1.41746    10.708000    None\n",
       "Unique CIE codes                    1767  1158.000000    None\n",
       "Avg samples (docs) per CIE code  87.0606     2.311744    None\n",
       "Unique unseen CIE codes                -   427.000000  ~379.5"
      ]
     },
     "execution_count": 278,
     "metadata": {},
     "output_type": "execute_result"
    }
   ],
   "source": [
    "# Abstracts with CodiEsp train codes are added\n",
    "train_add_d_tab"
   ]
  },
  {
   "cell_type": "code",
   "execution_count": 279,
   "metadata": {},
   "outputs": [
    {
     "data": {
      "text/html": [
       "<div>\n",
       "<style scoped>\n",
       "    .dataframe tbody tr th:only-of-type {\n",
       "        vertical-align: middle;\n",
       "    }\n",
       "\n",
       "    .dataframe tbody tr th {\n",
       "        vertical-align: top;\n",
       "    }\n",
       "\n",
       "    .dataframe thead th {\n",
       "        text-align: right;\n",
       "    }\n",
       "</style>\n",
       "<table border=\"1\" class=\"dataframe\">\n",
       "  <thead>\n",
       "    <tr style=\"text-align: right;\">\n",
       "      <th></th>\n",
       "      <th>Training</th>\n",
       "      <th>Development</th>\n",
       "      <th>Test</th>\n",
       "    </tr>\n",
       "  </thead>\n",
       "  <tbody>\n",
       "    <tr>\n",
       "      <th>Documents</th>\n",
       "      <td>500</td>\n",
       "      <td>250.000000</td>\n",
       "      <td>~250</td>\n",
       "    </tr>\n",
       "    <tr>\n",
       "      <th>Total CIE codes</th>\n",
       "      <td>5639</td>\n",
       "      <td>2677.000000</td>\n",
       "      <td>None</td>\n",
       "    </tr>\n",
       "    <tr>\n",
       "      <th>Avg CIE codes per doc.</th>\n",
       "      <td>11.278</td>\n",
       "      <td>10.708000</td>\n",
       "      <td>None</td>\n",
       "    </tr>\n",
       "    <tr>\n",
       "      <th>Unique CIE codes</th>\n",
       "      <td>1767</td>\n",
       "      <td>1158.000000</td>\n",
       "      <td>None</td>\n",
       "    </tr>\n",
       "    <tr>\n",
       "      <th>Avg samples (docs) per CIE code</th>\n",
       "      <td>3.19128</td>\n",
       "      <td>2.311744</td>\n",
       "      <td>None</td>\n",
       "    </tr>\n",
       "    <tr>\n",
       "      <th>Unique unseen CIE codes</th>\n",
       "      <td>-</td>\n",
       "      <td>427.000000</td>\n",
       "      <td>~379.5</td>\n",
       "    </tr>\n",
       "  </tbody>\n",
       "</table>\n",
       "</div>"
      ],
      "text/plain": [
       "                                Training  Development    Test\n",
       "Documents                            500   250.000000    ~250\n",
       "Total CIE codes                     5639  2677.000000    None\n",
       "Avg CIE codes per doc.            11.278    10.708000    None\n",
       "Unique CIE codes                    1767  1158.000000    None\n",
       "Avg samples (docs) per CIE code  3.19128     2.311744    None\n",
       "Unique unseen CIE codes                -   427.000000  ~379.5"
      ]
     },
     "execution_count": 279,
     "metadata": {},
     "output_type": "execute_result"
    }
   ],
   "source": [
    "# Original table, when no abstract is added to the train corpus\n",
    "d_tab"
   ]
  },
  {
   "cell_type": "markdown",
   "metadata": {},
   "source": [
    "Samples per codes distributions:"
   ]
  },
  {
   "cell_type": "code",
   "execution_count": 281,
   "metadata": {},
   "outputs": [
    {
     "data": {
      "text/html": [
       "<div>\n",
       "<style scoped>\n",
       "    .dataframe tbody tr th:only-of-type {\n",
       "        vertical-align: middle;\n",
       "    }\n",
       "\n",
       "    .dataframe tbody tr th {\n",
       "        vertical-align: top;\n",
       "    }\n",
       "\n",
       "    .dataframe thead th {\n",
       "        text-align: right;\n",
       "    }\n",
       "</style>\n",
       "<table border=\"1\" class=\"dataframe\">\n",
       "  <thead>\n",
       "    <tr style=\"text-align: right;\">\n",
       "      <th></th>\n",
       "      <th>Train</th>\n",
       "      <th>Dev</th>\n",
       "      <th>Train+Dev</th>\n",
       "    </tr>\n",
       "  </thead>\n",
       "  <tbody>\n",
       "    <tr>\n",
       "      <th>count</th>\n",
       "      <td>4136.000000</td>\n",
       "      <td>1158.000000</td>\n",
       "      <td>4445.000000</td>\n",
       "    </tr>\n",
       "    <tr>\n",
       "      <th>mean</th>\n",
       "      <td>99.007495</td>\n",
       "      <td>2.311744</td>\n",
       "      <td>92.727109</td>\n",
       "    </tr>\n",
       "    <tr>\n",
       "      <th>std</th>\n",
       "      <td>259.122685</td>\n",
       "      <td>3.770245</td>\n",
       "      <td>251.729374</td>\n",
       "    </tr>\n",
       "    <tr>\n",
       "      <th>min</th>\n",
       "      <td>1.000000</td>\n",
       "      <td>1.000000</td>\n",
       "      <td>1.000000</td>\n",
       "    </tr>\n",
       "    <tr>\n",
       "      <th>25%</th>\n",
       "      <td>3.000000</td>\n",
       "      <td>1.000000</td>\n",
       "      <td>2.000000</td>\n",
       "    </tr>\n",
       "    <tr>\n",
       "      <th>50%</th>\n",
       "      <td>22.000000</td>\n",
       "      <td>1.000000</td>\n",
       "      <td>18.000000</td>\n",
       "    </tr>\n",
       "    <tr>\n",
       "      <th>75%</th>\n",
       "      <td>86.000000</td>\n",
       "      <td>2.000000</td>\n",
       "      <td>79.000000</td>\n",
       "    </tr>\n",
       "    <tr>\n",
       "      <th>max</th>\n",
       "      <td>4768.000000</td>\n",
       "      <td>51.000000</td>\n",
       "      <td>4807.000000</td>\n",
       "    </tr>\n",
       "  </tbody>\n",
       "</table>\n",
       "</div>"
      ],
      "text/plain": [
       "             Train          Dev    Train+Dev\n",
       "count  4136.000000  1158.000000  4445.000000\n",
       "mean     99.007495     2.311744    92.727109\n",
       "std     259.122685     3.770245   251.729374\n",
       "min       1.000000     1.000000     1.000000\n",
       "25%       3.000000     1.000000     2.000000\n",
       "50%      22.000000     1.000000    18.000000\n",
       "75%      86.000000     2.000000    79.000000\n",
       "max    4768.000000    51.000000  4807.000000"
      ]
     },
     "execution_count": 281,
     "metadata": {},
     "output_type": "execute_result"
    }
   ],
   "source": [
    "# All abstracts are added\n",
    "all_d_sample_code"
   ]
  },
  {
   "cell_type": "code",
   "execution_count": 282,
   "metadata": {},
   "outputs": [
    {
     "data": {
      "text/html": [
       "<div>\n",
       "<style scoped>\n",
       "    .dataframe tbody tr th:only-of-type {\n",
       "        vertical-align: middle;\n",
       "    }\n",
       "\n",
       "    .dataframe tbody tr th {\n",
       "        vertical-align: top;\n",
       "    }\n",
       "\n",
       "    .dataframe thead th {\n",
       "        text-align: right;\n",
       "    }\n",
       "</style>\n",
       "<table border=\"1\" class=\"dataframe\">\n",
       "  <thead>\n",
       "    <tr style=\"text-align: right;\">\n",
       "      <th></th>\n",
       "      <th>Train</th>\n",
       "      <th>Dev</th>\n",
       "      <th>Train+Dev</th>\n",
       "    </tr>\n",
       "  </thead>\n",
       "  <tbody>\n",
       "    <tr>\n",
       "      <th>count</th>\n",
       "      <td>1885.000000</td>\n",
       "      <td>1158.000000</td>\n",
       "      <td>2194.000000</td>\n",
       "    </tr>\n",
       "    <tr>\n",
       "      <th>mean</th>\n",
       "      <td>88.218037</td>\n",
       "      <td>2.311744</td>\n",
       "      <td>77.013674</td>\n",
       "    </tr>\n",
       "    <tr>\n",
       "      <th>std</th>\n",
       "      <td>272.060588</td>\n",
       "      <td>3.770245</td>\n",
       "      <td>255.129413</td>\n",
       "    </tr>\n",
       "    <tr>\n",
       "      <th>min</th>\n",
       "      <td>1.000000</td>\n",
       "      <td>1.000000</td>\n",
       "      <td>1.000000</td>\n",
       "    </tr>\n",
       "    <tr>\n",
       "      <th>25%</th>\n",
       "      <td>1.000000</td>\n",
       "      <td>1.000000</td>\n",
       "      <td>1.000000</td>\n",
       "    </tr>\n",
       "    <tr>\n",
       "      <th>50%</th>\n",
       "      <td>3.000000</td>\n",
       "      <td>1.000000</td>\n",
       "      <td>2.000000</td>\n",
       "    </tr>\n",
       "    <tr>\n",
       "      <th>75%</th>\n",
       "      <td>64.000000</td>\n",
       "      <td>2.000000</td>\n",
       "      <td>44.000000</td>\n",
       "    </tr>\n",
       "    <tr>\n",
       "      <th>max</th>\n",
       "      <td>4768.000000</td>\n",
       "      <td>51.000000</td>\n",
       "      <td>4807.000000</td>\n",
       "    </tr>\n",
       "  </tbody>\n",
       "</table>\n",
       "</div>"
      ],
      "text/plain": [
       "             Train          Dev    Train+Dev\n",
       "count  1885.000000  1158.000000  2194.000000\n",
       "mean     88.218037     2.311744    77.013674\n",
       "std     272.060588     3.770245   255.129413\n",
       "min       1.000000     1.000000     1.000000\n",
       "25%       1.000000     1.000000     1.000000\n",
       "50%       3.000000     1.000000     2.000000\n",
       "75%      64.000000     2.000000    44.000000\n",
       "max    4768.000000    51.000000  4807.000000"
      ]
     },
     "execution_count": 282,
     "metadata": {},
     "output_type": "execute_result"
    }
   ],
   "source": [
    "# Abstracts with CodiEsp train or dev codes are added\n",
    "train_dev_add_d_sample_code"
   ]
  },
  {
   "cell_type": "code",
   "execution_count": 283,
   "metadata": {},
   "outputs": [
    {
     "data": {
      "text/html": [
       "<div>\n",
       "<style scoped>\n",
       "    .dataframe tbody tr th:only-of-type {\n",
       "        vertical-align: middle;\n",
       "    }\n",
       "\n",
       "    .dataframe tbody tr th {\n",
       "        vertical-align: top;\n",
       "    }\n",
       "\n",
       "    .dataframe thead th {\n",
       "        text-align: right;\n",
       "    }\n",
       "</style>\n",
       "<table border=\"1\" class=\"dataframe\">\n",
       "  <thead>\n",
       "    <tr style=\"text-align: right;\">\n",
       "      <th></th>\n",
       "      <th>Train</th>\n",
       "      <th>Dev</th>\n",
       "      <th>Train+Dev</th>\n",
       "    </tr>\n",
       "  </thead>\n",
       "  <tbody>\n",
       "    <tr>\n",
       "      <th>count</th>\n",
       "      <td>1767.000000</td>\n",
       "      <td>1158.000000</td>\n",
       "      <td>2194.000000</td>\n",
       "    </tr>\n",
       "    <tr>\n",
       "      <th>mean</th>\n",
       "      <td>87.060555</td>\n",
       "      <td>2.311744</td>\n",
       "      <td>71.336828</td>\n",
       "    </tr>\n",
       "    <tr>\n",
       "      <th>std</th>\n",
       "      <td>278.515095</td>\n",
       "      <td>3.770245</td>\n",
       "      <td>253.410353</td>\n",
       "    </tr>\n",
       "    <tr>\n",
       "      <th>min</th>\n",
       "      <td>1.000000</td>\n",
       "      <td>1.000000</td>\n",
       "      <td>1.000000</td>\n",
       "    </tr>\n",
       "    <tr>\n",
       "      <th>25%</th>\n",
       "      <td>1.000000</td>\n",
       "      <td>1.000000</td>\n",
       "      <td>1.000000</td>\n",
       "    </tr>\n",
       "    <tr>\n",
       "      <th>50%</th>\n",
       "      <td>2.000000</td>\n",
       "      <td>1.000000</td>\n",
       "      <td>2.000000</td>\n",
       "    </tr>\n",
       "    <tr>\n",
       "      <th>75%</th>\n",
       "      <td>53.500000</td>\n",
       "      <td>2.000000</td>\n",
       "      <td>24.000000</td>\n",
       "    </tr>\n",
       "    <tr>\n",
       "      <th>max</th>\n",
       "      <td>4768.000000</td>\n",
       "      <td>51.000000</td>\n",
       "      <td>4807.000000</td>\n",
       "    </tr>\n",
       "  </tbody>\n",
       "</table>\n",
       "</div>"
      ],
      "text/plain": [
       "             Train          Dev    Train+Dev\n",
       "count  1767.000000  1158.000000  2194.000000\n",
       "mean     87.060555     2.311744    71.336828\n",
       "std     278.515095     3.770245   253.410353\n",
       "min       1.000000     1.000000     1.000000\n",
       "25%       1.000000     1.000000     1.000000\n",
       "50%       2.000000     1.000000     2.000000\n",
       "75%      53.500000     2.000000    24.000000\n",
       "max    4768.000000    51.000000  4807.000000"
      ]
     },
     "execution_count": 283,
     "metadata": {},
     "output_type": "execute_result"
    }
   ],
   "source": [
    "# Abstracts with CodiEsp train codes are added\n",
    "train_add_d_sample_code"
   ]
  },
  {
   "cell_type": "code",
   "execution_count": 284,
   "metadata": {},
   "outputs": [
    {
     "data": {
      "text/html": [
       "<div>\n",
       "<style scoped>\n",
       "    .dataframe tbody tr th:only-of-type {\n",
       "        vertical-align: middle;\n",
       "    }\n",
       "\n",
       "    .dataframe tbody tr th {\n",
       "        vertical-align: top;\n",
       "    }\n",
       "\n",
       "    .dataframe thead th {\n",
       "        text-align: right;\n",
       "    }\n",
       "</style>\n",
       "<table border=\"1\" class=\"dataframe\">\n",
       "  <thead>\n",
       "    <tr style=\"text-align: right;\">\n",
       "      <th></th>\n",
       "      <th>Train</th>\n",
       "      <th>Dev</th>\n",
       "      <th>Train+Dev</th>\n",
       "    </tr>\n",
       "  </thead>\n",
       "  <tbody>\n",
       "    <tr>\n",
       "      <th>count</th>\n",
       "      <td>1767.000000</td>\n",
       "      <td>1158.000000</td>\n",
       "      <td>2194.000000</td>\n",
       "    </tr>\n",
       "    <tr>\n",
       "      <th>mean</th>\n",
       "      <td>3.191285</td>\n",
       "      <td>2.311744</td>\n",
       "      <td>3.790337</td>\n",
       "    </tr>\n",
       "    <tr>\n",
       "      <th>std</th>\n",
       "      <td>6.921389</td>\n",
       "      <td>3.770245</td>\n",
       "      <td>9.123652</td>\n",
       "    </tr>\n",
       "    <tr>\n",
       "      <th>min</th>\n",
       "      <td>1.000000</td>\n",
       "      <td>1.000000</td>\n",
       "      <td>1.000000</td>\n",
       "    </tr>\n",
       "    <tr>\n",
       "      <th>25%</th>\n",
       "      <td>1.000000</td>\n",
       "      <td>1.000000</td>\n",
       "      <td>1.000000</td>\n",
       "    </tr>\n",
       "    <tr>\n",
       "      <th>50%</th>\n",
       "      <td>1.000000</td>\n",
       "      <td>1.000000</td>\n",
       "      <td>1.000000</td>\n",
       "    </tr>\n",
       "    <tr>\n",
       "      <th>75%</th>\n",
       "      <td>3.000000</td>\n",
       "      <td>2.000000</td>\n",
       "      <td>3.000000</td>\n",
       "    </tr>\n",
       "    <tr>\n",
       "      <th>max</th>\n",
       "      <td>112.000000</td>\n",
       "      <td>51.000000</td>\n",
       "      <td>163.000000</td>\n",
       "    </tr>\n",
       "  </tbody>\n",
       "</table>\n",
       "</div>"
      ],
      "text/plain": [
       "             Train          Dev    Train+Dev\n",
       "count  1767.000000  1158.000000  2194.000000\n",
       "mean      3.191285     2.311744     3.790337\n",
       "std       6.921389     3.770245     9.123652\n",
       "min       1.000000     1.000000     1.000000\n",
       "25%       1.000000     1.000000     1.000000\n",
       "50%       1.000000     1.000000     1.000000\n",
       "75%       3.000000     2.000000     3.000000\n",
       "max     112.000000    51.000000   163.000000"
      ]
     },
     "execution_count": 284,
     "metadata": {},
     "output_type": "execute_result"
    }
   ],
   "source": [
    "# Original samples per CIE-Diagnóstico code distribution\n",
    "d_sample_code"
   ]
  },
  {
   "cell_type": "markdown",
   "metadata": {},
   "source": [
    "Expanding CodiEsp-Diagnóstico train corpus with additional abstracts seem to be beneficial. Indeed, both \"all abstracts\" (much greater number of unique CIE codes) and \"abstracts with CodiEsp codes\" approaches should be applied and compared."
   ]
  },
  {
   "cell_type": "markdown",
   "metadata": {},
   "source": [
    "#### Procedimiento"
   ]
  },
  {
   "cell_type": "markdown",
   "metadata": {},
   "source": [
    "Corpus description tables:"
   ]
  },
  {
   "cell_type": "code",
   "execution_count": 285,
   "metadata": {},
   "outputs": [
    {
     "data": {
      "text/html": [
       "<div>\n",
       "<style scoped>\n",
       "    .dataframe tbody tr th:only-of-type {\n",
       "        vertical-align: middle;\n",
       "    }\n",
       "\n",
       "    .dataframe tbody tr th {\n",
       "        vertical-align: top;\n",
       "    }\n",
       "\n",
       "    .dataframe thead th {\n",
       "        text-align: right;\n",
       "    }\n",
       "</style>\n",
       "<table border=\"1\" class=\"dataframe\">\n",
       "  <thead>\n",
       "    <tr style=\"text-align: right;\">\n",
       "      <th></th>\n",
       "      <th>Training</th>\n",
       "      <th>Development</th>\n",
       "      <th>Test</th>\n",
       "    </tr>\n",
       "  </thead>\n",
       "  <tbody>\n",
       "    <tr>\n",
       "      <th>Documents</th>\n",
       "      <td>2755</td>\n",
       "      <td>222.000000</td>\n",
       "      <td>~220.0</td>\n",
       "    </tr>\n",
       "    <tr>\n",
       "      <th>Total CIE codes</th>\n",
       "      <td>3901</td>\n",
       "      <td>817.000000</td>\n",
       "      <td>None</td>\n",
       "    </tr>\n",
       "    <tr>\n",
       "      <th>Avg CIE codes per doc.</th>\n",
       "      <td>1.41597</td>\n",
       "      <td>3.680180</td>\n",
       "      <td>None</td>\n",
       "    </tr>\n",
       "    <tr>\n",
       "      <th>Unique CIE codes</th>\n",
       "      <td>574</td>\n",
       "      <td>375.000000</td>\n",
       "      <td>None</td>\n",
       "    </tr>\n",
       "    <tr>\n",
       "      <th>Avg samples (docs) per CIE code</th>\n",
       "      <td>6.79617</td>\n",
       "      <td>2.178667</td>\n",
       "      <td>None</td>\n",
       "    </tr>\n",
       "    <tr>\n",
       "      <th>Unique unseen CIE codes</th>\n",
       "      <td>-</td>\n",
       "      <td>163.000000</td>\n",
       "      <td>~125.235</td>\n",
       "    </tr>\n",
       "  </tbody>\n",
       "</table>\n",
       "</div>"
      ],
      "text/plain": [
       "                                Training  Development      Test\n",
       "Documents                           2755   222.000000    ~220.0\n",
       "Total CIE codes                     3901   817.000000      None\n",
       "Avg CIE codes per doc.           1.41597     3.680180      None\n",
       "Unique CIE codes                     574   375.000000      None\n",
       "Avg samples (docs) per CIE code  6.79617     2.178667      None\n",
       "Unique unseen CIE codes                -   163.000000  ~125.235"
      ]
     },
     "execution_count": 285,
     "metadata": {},
     "output_type": "execute_result"
    }
   ],
   "source": [
    "# All abstracts are added\n",
    "all_p_tab"
   ]
  },
  {
   "cell_type": "code",
   "execution_count": 286,
   "metadata": {},
   "outputs": [
    {
     "data": {
      "text/html": [
       "<div>\n",
       "<style scoped>\n",
       "    .dataframe tbody tr th:only-of-type {\n",
       "        vertical-align: middle;\n",
       "    }\n",
       "\n",
       "    .dataframe tbody tr th {\n",
       "        vertical-align: top;\n",
       "    }\n",
       "\n",
       "    .dataframe thead th {\n",
       "        text-align: right;\n",
       "    }\n",
       "</style>\n",
       "<table border=\"1\" class=\"dataframe\">\n",
       "  <thead>\n",
       "    <tr style=\"text-align: right;\">\n",
       "      <th></th>\n",
       "      <th>Training</th>\n",
       "      <th>Development</th>\n",
       "      <th>Test</th>\n",
       "    </tr>\n",
       "  </thead>\n",
       "  <tbody>\n",
       "    <tr>\n",
       "      <th>Documents</th>\n",
       "      <td>1130</td>\n",
       "      <td>222.000000</td>\n",
       "      <td>~220.0</td>\n",
       "    </tr>\n",
       "    <tr>\n",
       "      <th>Total CIE codes</th>\n",
       "      <td>2245</td>\n",
       "      <td>817.000000</td>\n",
       "      <td>None</td>\n",
       "    </tr>\n",
       "    <tr>\n",
       "      <th>Avg CIE codes per doc.</th>\n",
       "      <td>1.98673</td>\n",
       "      <td>3.680180</td>\n",
       "      <td>None</td>\n",
       "    </tr>\n",
       "    <tr>\n",
       "      <th>Unique CIE codes</th>\n",
       "      <td>564</td>\n",
       "      <td>375.000000</td>\n",
       "      <td>None</td>\n",
       "    </tr>\n",
       "    <tr>\n",
       "      <th>Avg samples (docs) per CIE code</th>\n",
       "      <td>3.9805</td>\n",
       "      <td>2.178667</td>\n",
       "      <td>None</td>\n",
       "    </tr>\n",
       "    <tr>\n",
       "      <th>Unique unseen CIE codes</th>\n",
       "      <td>-</td>\n",
       "      <td>163.000000</td>\n",
       "      <td>~126.5</td>\n",
       "    </tr>\n",
       "  </tbody>\n",
       "</table>\n",
       "</div>"
      ],
      "text/plain": [
       "                                Training  Development    Test\n",
       "Documents                           1130   222.000000  ~220.0\n",
       "Total CIE codes                     2245   817.000000    None\n",
       "Avg CIE codes per doc.           1.98673     3.680180    None\n",
       "Unique CIE codes                     564   375.000000    None\n",
       "Avg samples (docs) per CIE code   3.9805     2.178667    None\n",
       "Unique unseen CIE codes                -   163.000000  ~126.5"
      ]
     },
     "execution_count": 286,
     "metadata": {},
     "output_type": "execute_result"
    }
   ],
   "source": [
    "# Abstracts with CodiEsp train or dev codes are added\n",
    "train_dev_add_p_tab"
   ]
  },
  {
   "cell_type": "code",
   "execution_count": 287,
   "metadata": {},
   "outputs": [
    {
     "data": {
      "text/html": [
       "<div>\n",
       "<style scoped>\n",
       "    .dataframe tbody tr th:only-of-type {\n",
       "        vertical-align: middle;\n",
       "    }\n",
       "\n",
       "    .dataframe tbody tr th {\n",
       "        vertical-align: top;\n",
       "    }\n",
       "\n",
       "    .dataframe thead th {\n",
       "        text-align: right;\n",
       "    }\n",
       "</style>\n",
       "<table border=\"1\" class=\"dataframe\">\n",
       "  <thead>\n",
       "    <tr style=\"text-align: right;\">\n",
       "      <th></th>\n",
       "      <th>Training</th>\n",
       "      <th>Development</th>\n",
       "      <th>Test</th>\n",
       "    </tr>\n",
       "  </thead>\n",
       "  <tbody>\n",
       "    <tr>\n",
       "      <th>Documents</th>\n",
       "      <td>838</td>\n",
       "      <td>222.000000</td>\n",
       "      <td>~220.0</td>\n",
       "    </tr>\n",
       "    <tr>\n",
       "      <th>Total CIE codes</th>\n",
       "      <td>1953</td>\n",
       "      <td>817.000000</td>\n",
       "      <td>None</td>\n",
       "    </tr>\n",
       "    <tr>\n",
       "      <th>Avg CIE codes per doc.</th>\n",
       "      <td>2.33055</td>\n",
       "      <td>3.680180</td>\n",
       "      <td>None</td>\n",
       "    </tr>\n",
       "    <tr>\n",
       "      <th>Unique CIE codes</th>\n",
       "      <td>563</td>\n",
       "      <td>375.000000</td>\n",
       "      <td>None</td>\n",
       "    </tr>\n",
       "    <tr>\n",
       "      <th>Avg samples (docs) per CIE code</th>\n",
       "      <td>3.46892</td>\n",
       "      <td>2.178667</td>\n",
       "      <td>None</td>\n",
       "    </tr>\n",
       "    <tr>\n",
       "      <th>Unique unseen CIE codes</th>\n",
       "      <td>-</td>\n",
       "      <td>164.000000</td>\n",
       "      <td>~126.5</td>\n",
       "    </tr>\n",
       "  </tbody>\n",
       "</table>\n",
       "</div>"
      ],
      "text/plain": [
       "                                Training  Development    Test\n",
       "Documents                            838   222.000000  ~220.0\n",
       "Total CIE codes                     1953   817.000000    None\n",
       "Avg CIE codes per doc.           2.33055     3.680180    None\n",
       "Unique CIE codes                     563   375.000000    None\n",
       "Avg samples (docs) per CIE code  3.46892     2.178667    None\n",
       "Unique unseen CIE codes                -   164.000000  ~126.5"
      ]
     },
     "execution_count": 287,
     "metadata": {},
     "output_type": "execute_result"
    }
   ],
   "source": [
    "# Abstracts with CodiEsp train codes are added\n",
    "train_add_p_tab"
   ]
  },
  {
   "cell_type": "code",
   "execution_count": 288,
   "metadata": {},
   "outputs": [
    {
     "data": {
      "text/html": [
       "<div>\n",
       "<style scoped>\n",
       "    .dataframe tbody tr th:only-of-type {\n",
       "        vertical-align: middle;\n",
       "    }\n",
       "\n",
       "    .dataframe tbody tr th {\n",
       "        vertical-align: top;\n",
       "    }\n",
       "\n",
       "    .dataframe thead th {\n",
       "        text-align: right;\n",
       "    }\n",
       "</style>\n",
       "<table border=\"1\" class=\"dataframe\">\n",
       "  <thead>\n",
       "    <tr style=\"text-align: right;\">\n",
       "      <th></th>\n",
       "      <th>Training</th>\n",
       "      <th>Development</th>\n",
       "      <th>Test</th>\n",
       "    </tr>\n",
       "  </thead>\n",
       "  <tbody>\n",
       "    <tr>\n",
       "      <th>Documents</th>\n",
       "      <td>435</td>\n",
       "      <td>222.000000</td>\n",
       "      <td>~220.0</td>\n",
       "    </tr>\n",
       "    <tr>\n",
       "      <th>Total CIE codes</th>\n",
       "      <td>1550</td>\n",
       "      <td>817.000000</td>\n",
       "      <td>None</td>\n",
       "    </tr>\n",
       "    <tr>\n",
       "      <th>Avg CIE codes per doc.</th>\n",
       "      <td>3.56322</td>\n",
       "      <td>3.680180</td>\n",
       "      <td>None</td>\n",
       "    </tr>\n",
       "    <tr>\n",
       "      <th>Unique CIE codes</th>\n",
       "      <td>563</td>\n",
       "      <td>375.000000</td>\n",
       "      <td>None</td>\n",
       "    </tr>\n",
       "    <tr>\n",
       "      <th>Avg samples (docs) per CIE code</th>\n",
       "      <td>2.75311</td>\n",
       "      <td>2.178667</td>\n",
       "      <td>None</td>\n",
       "    </tr>\n",
       "    <tr>\n",
       "      <th>Unique unseen CIE codes</th>\n",
       "      <td>-</td>\n",
       "      <td>164.000000</td>\n",
       "      <td>~126.5</td>\n",
       "    </tr>\n",
       "  </tbody>\n",
       "</table>\n",
       "</div>"
      ],
      "text/plain": [
       "                                Training  Development    Test\n",
       "Documents                            435   222.000000  ~220.0\n",
       "Total CIE codes                     1550   817.000000    None\n",
       "Avg CIE codes per doc.           3.56322     3.680180    None\n",
       "Unique CIE codes                     563   375.000000    None\n",
       "Avg samples (docs) per CIE code  2.75311     2.178667    None\n",
       "Unique unseen CIE codes                -   164.000000  ~126.5"
      ]
     },
     "execution_count": 288,
     "metadata": {},
     "output_type": "execute_result"
    }
   ],
   "source": [
    "# Original table, when no abstract is added to the train corpus\n",
    "p_tab"
   ]
  },
  {
   "cell_type": "markdown",
   "metadata": {},
   "source": [
    "Samples per codes distributions:"
   ]
  },
  {
   "cell_type": "code",
   "execution_count": 289,
   "metadata": {},
   "outputs": [
    {
     "data": {
      "text/html": [
       "<div>\n",
       "<style scoped>\n",
       "    .dataframe tbody tr th:only-of-type {\n",
       "        vertical-align: middle;\n",
       "    }\n",
       "\n",
       "    .dataframe tbody tr th {\n",
       "        vertical-align: top;\n",
       "    }\n",
       "\n",
       "    .dataframe thead th {\n",
       "        text-align: right;\n",
       "    }\n",
       "</style>\n",
       "<table border=\"1\" class=\"dataframe\">\n",
       "  <thead>\n",
       "    <tr style=\"text-align: right;\">\n",
       "      <th></th>\n",
       "      <th>Train</th>\n",
       "      <th>Dev</th>\n",
       "      <th>Train+Dev</th>\n",
       "    </tr>\n",
       "  </thead>\n",
       "  <tbody>\n",
       "    <tr>\n",
       "      <th>count</th>\n",
       "      <td>574.000000</td>\n",
       "      <td>375.000000</td>\n",
       "      <td>737.000000</td>\n",
       "    </tr>\n",
       "    <tr>\n",
       "      <th>mean</th>\n",
       "      <td>6.796167</td>\n",
       "      <td>2.178667</td>\n",
       "      <td>6.401628</td>\n",
       "    </tr>\n",
       "    <tr>\n",
       "      <th>std</th>\n",
       "      <td>36.959984</td>\n",
       "      <td>3.415531</td>\n",
       "      <td>33.116008</td>\n",
       "    </tr>\n",
       "    <tr>\n",
       "      <th>min</th>\n",
       "      <td>1.000000</td>\n",
       "      <td>1.000000</td>\n",
       "      <td>1.000000</td>\n",
       "    </tr>\n",
       "    <tr>\n",
       "      <th>25%</th>\n",
       "      <td>1.000000</td>\n",
       "      <td>1.000000</td>\n",
       "      <td>1.000000</td>\n",
       "    </tr>\n",
       "    <tr>\n",
       "      <th>50%</th>\n",
       "      <td>1.000000</td>\n",
       "      <td>1.000000</td>\n",
       "      <td>1.000000</td>\n",
       "    </tr>\n",
       "    <tr>\n",
       "      <th>75%</th>\n",
       "      <td>2.000000</td>\n",
       "      <td>2.000000</td>\n",
       "      <td>2.000000</td>\n",
       "    </tr>\n",
       "    <tr>\n",
       "      <th>max</th>\n",
       "      <td>596.000000</td>\n",
       "      <td>40.000000</td>\n",
       "      <td>596.000000</td>\n",
       "    </tr>\n",
       "  </tbody>\n",
       "</table>\n",
       "</div>"
      ],
      "text/plain": [
       "            Train         Dev   Train+Dev\n",
       "count  574.000000  375.000000  737.000000\n",
       "mean     6.796167    2.178667    6.401628\n",
       "std     36.959984    3.415531   33.116008\n",
       "min      1.000000    1.000000    1.000000\n",
       "25%      1.000000    1.000000    1.000000\n",
       "50%      1.000000    1.000000    1.000000\n",
       "75%      2.000000    2.000000    2.000000\n",
       "max    596.000000   40.000000  596.000000"
      ]
     },
     "execution_count": 289,
     "metadata": {},
     "output_type": "execute_result"
    }
   ],
   "source": [
    "# All abstracts are added\n",
    "all_p_sample_code"
   ]
  },
  {
   "cell_type": "code",
   "execution_count": 290,
   "metadata": {},
   "outputs": [
    {
     "data": {
      "text/html": [
       "<div>\n",
       "<style scoped>\n",
       "    .dataframe tbody tr th:only-of-type {\n",
       "        vertical-align: middle;\n",
       "    }\n",
       "\n",
       "    .dataframe tbody tr th {\n",
       "        vertical-align: top;\n",
       "    }\n",
       "\n",
       "    .dataframe thead th {\n",
       "        text-align: right;\n",
       "    }\n",
       "</style>\n",
       "<table border=\"1\" class=\"dataframe\">\n",
       "  <thead>\n",
       "    <tr style=\"text-align: right;\">\n",
       "      <th></th>\n",
       "      <th>Train</th>\n",
       "      <th>Dev</th>\n",
       "      <th>Train+Dev</th>\n",
       "    </tr>\n",
       "  </thead>\n",
       "  <tbody>\n",
       "    <tr>\n",
       "      <th>count</th>\n",
       "      <td>564.000000</td>\n",
       "      <td>375.000000</td>\n",
       "      <td>727.000000</td>\n",
       "    </tr>\n",
       "    <tr>\n",
       "      <th>mean</th>\n",
       "      <td>3.980496</td>\n",
       "      <td>2.178667</td>\n",
       "      <td>4.211829</td>\n",
       "    </tr>\n",
       "    <tr>\n",
       "      <th>std</th>\n",
       "      <td>21.549842</td>\n",
       "      <td>3.415531</td>\n",
       "      <td>19.833792</td>\n",
       "    </tr>\n",
       "    <tr>\n",
       "      <th>min</th>\n",
       "      <td>1.000000</td>\n",
       "      <td>1.000000</td>\n",
       "      <td>1.000000</td>\n",
       "    </tr>\n",
       "    <tr>\n",
       "      <th>25%</th>\n",
       "      <td>1.000000</td>\n",
       "      <td>1.000000</td>\n",
       "      <td>1.000000</td>\n",
       "    </tr>\n",
       "    <tr>\n",
       "      <th>50%</th>\n",
       "      <td>1.000000</td>\n",
       "      <td>1.000000</td>\n",
       "      <td>1.000000</td>\n",
       "    </tr>\n",
       "    <tr>\n",
       "      <th>75%</th>\n",
       "      <td>2.000000</td>\n",
       "      <td>2.000000</td>\n",
       "      <td>2.000000</td>\n",
       "    </tr>\n",
       "    <tr>\n",
       "      <th>max</th>\n",
       "      <td>404.000000</td>\n",
       "      <td>40.000000</td>\n",
       "      <td>404.000000</td>\n",
       "    </tr>\n",
       "  </tbody>\n",
       "</table>\n",
       "</div>"
      ],
      "text/plain": [
       "            Train         Dev   Train+Dev\n",
       "count  564.000000  375.000000  727.000000\n",
       "mean     3.980496    2.178667    4.211829\n",
       "std     21.549842    3.415531   19.833792\n",
       "min      1.000000    1.000000    1.000000\n",
       "25%      1.000000    1.000000    1.000000\n",
       "50%      1.000000    1.000000    1.000000\n",
       "75%      2.000000    2.000000    2.000000\n",
       "max    404.000000   40.000000  404.000000"
      ]
     },
     "execution_count": 290,
     "metadata": {},
     "output_type": "execute_result"
    }
   ],
   "source": [
    "# Abstracts with CodiEsp train or dev codes are added\n",
    "train_dev_add_p_sample_code"
   ]
  },
  {
   "cell_type": "code",
   "execution_count": 291,
   "metadata": {},
   "outputs": [
    {
     "data": {
      "text/html": [
       "<div>\n",
       "<style scoped>\n",
       "    .dataframe tbody tr th:only-of-type {\n",
       "        vertical-align: middle;\n",
       "    }\n",
       "\n",
       "    .dataframe tbody tr th {\n",
       "        vertical-align: top;\n",
       "    }\n",
       "\n",
       "    .dataframe thead th {\n",
       "        text-align: right;\n",
       "    }\n",
       "</style>\n",
       "<table border=\"1\" class=\"dataframe\">\n",
       "  <thead>\n",
       "    <tr style=\"text-align: right;\">\n",
       "      <th></th>\n",
       "      <th>Train</th>\n",
       "      <th>Dev</th>\n",
       "      <th>Train+Dev</th>\n",
       "    </tr>\n",
       "  </thead>\n",
       "  <tbody>\n",
       "    <tr>\n",
       "      <th>count</th>\n",
       "      <td>563.000000</td>\n",
       "      <td>375.000000</td>\n",
       "      <td>727.000000</td>\n",
       "    </tr>\n",
       "    <tr>\n",
       "      <th>mean</th>\n",
       "      <td>3.468917</td>\n",
       "      <td>2.178667</td>\n",
       "      <td>3.810179</td>\n",
       "    </tr>\n",
       "    <tr>\n",
       "      <th>std</th>\n",
       "      <td>17.814395</td>\n",
       "      <td>3.415531</td>\n",
       "      <td>16.684060</td>\n",
       "    </tr>\n",
       "    <tr>\n",
       "      <th>min</th>\n",
       "      <td>1.000000</td>\n",
       "      <td>1.000000</td>\n",
       "      <td>1.000000</td>\n",
       "    </tr>\n",
       "    <tr>\n",
       "      <th>25%</th>\n",
       "      <td>1.000000</td>\n",
       "      <td>1.000000</td>\n",
       "      <td>1.000000</td>\n",
       "    </tr>\n",
       "    <tr>\n",
       "      <th>50%</th>\n",
       "      <td>1.000000</td>\n",
       "      <td>1.000000</td>\n",
       "      <td>1.000000</td>\n",
       "    </tr>\n",
       "    <tr>\n",
       "      <th>75%</th>\n",
       "      <td>2.000000</td>\n",
       "      <td>2.000000</td>\n",
       "      <td>2.000000</td>\n",
       "    </tr>\n",
       "    <tr>\n",
       "      <th>max</th>\n",
       "      <td>404.000000</td>\n",
       "      <td>40.000000</td>\n",
       "      <td>404.000000</td>\n",
       "    </tr>\n",
       "  </tbody>\n",
       "</table>\n",
       "</div>"
      ],
      "text/plain": [
       "            Train         Dev   Train+Dev\n",
       "count  563.000000  375.000000  727.000000\n",
       "mean     3.468917    2.178667    3.810179\n",
       "std     17.814395    3.415531   16.684060\n",
       "min      1.000000    1.000000    1.000000\n",
       "25%      1.000000    1.000000    1.000000\n",
       "50%      1.000000    1.000000    1.000000\n",
       "75%      2.000000    2.000000    2.000000\n",
       "max    404.000000   40.000000  404.000000"
      ]
     },
     "execution_count": 291,
     "metadata": {},
     "output_type": "execute_result"
    }
   ],
   "source": [
    "# Abstracts with CodiEsp train codes are added\n",
    "train_add_p_sample_code"
   ]
  },
  {
   "cell_type": "code",
   "execution_count": 292,
   "metadata": {},
   "outputs": [
    {
     "data": {
      "text/html": [
       "<div>\n",
       "<style scoped>\n",
       "    .dataframe tbody tr th:only-of-type {\n",
       "        vertical-align: middle;\n",
       "    }\n",
       "\n",
       "    .dataframe tbody tr th {\n",
       "        vertical-align: top;\n",
       "    }\n",
       "\n",
       "    .dataframe thead th {\n",
       "        text-align: right;\n",
       "    }\n",
       "</style>\n",
       "<table border=\"1\" class=\"dataframe\">\n",
       "  <thead>\n",
       "    <tr style=\"text-align: right;\">\n",
       "      <th></th>\n",
       "      <th>Train</th>\n",
       "      <th>Dev</th>\n",
       "      <th>Train+Dev</th>\n",
       "    </tr>\n",
       "  </thead>\n",
       "  <tbody>\n",
       "    <tr>\n",
       "      <th>count</th>\n",
       "      <td>563.000000</td>\n",
       "      <td>375.000000</td>\n",
       "      <td>727.000000</td>\n",
       "    </tr>\n",
       "    <tr>\n",
       "      <th>mean</th>\n",
       "      <td>2.753108</td>\n",
       "      <td>2.178667</td>\n",
       "      <td>3.255846</td>\n",
       "    </tr>\n",
       "    <tr>\n",
       "      <th>std</th>\n",
       "      <td>5.603234</td>\n",
       "      <td>3.415531</td>\n",
       "      <td>7.580642</td>\n",
       "    </tr>\n",
       "    <tr>\n",
       "      <th>min</th>\n",
       "      <td>1.000000</td>\n",
       "      <td>1.000000</td>\n",
       "      <td>1.000000</td>\n",
       "    </tr>\n",
       "    <tr>\n",
       "      <th>25%</th>\n",
       "      <td>1.000000</td>\n",
       "      <td>1.000000</td>\n",
       "      <td>1.000000</td>\n",
       "    </tr>\n",
       "    <tr>\n",
       "      <th>50%</th>\n",
       "      <td>1.000000</td>\n",
       "      <td>1.000000</td>\n",
       "      <td>1.000000</td>\n",
       "    </tr>\n",
       "    <tr>\n",
       "      <th>75%</th>\n",
       "      <td>2.000000</td>\n",
       "      <td>2.000000</td>\n",
       "      <td>2.000000</td>\n",
       "    </tr>\n",
       "    <tr>\n",
       "      <th>max</th>\n",
       "      <td>67.000000</td>\n",
       "      <td>40.000000</td>\n",
       "      <td>107.000000</td>\n",
       "    </tr>\n",
       "  </tbody>\n",
       "</table>\n",
       "</div>"
      ],
      "text/plain": [
       "            Train         Dev   Train+Dev\n",
       "count  563.000000  375.000000  727.000000\n",
       "mean     2.753108    2.178667    3.255846\n",
       "std      5.603234    3.415531    7.580642\n",
       "min      1.000000    1.000000    1.000000\n",
       "25%      1.000000    1.000000    1.000000\n",
       "50%      1.000000    1.000000    1.000000\n",
       "75%      2.000000    2.000000    2.000000\n",
       "max     67.000000   40.000000  107.000000"
      ]
     },
     "execution_count": 292,
     "metadata": {},
     "output_type": "execute_result"
    }
   ],
   "source": [
    "# Original samples per CIE-Procedimiento code distribution\n",
    "p_sample_code"
   ]
  },
  {
   "cell_type": "markdown",
   "metadata": {},
   "source": [
    "In contrast with CodiEsp-Diagnóstico, in CodiEsp-Procedimiento, expanding the train corpus with additional abstracts does not seem to contribute in a significant manner. However, both \"all abstracts\" and \"abstracts with CodiEsp codes\" approaches could be applied and compared. Also, given the scarce number of samples, a transfer-learning approach or any other strategy that uses the expanded CodiEsp-Diagnóstico to also expand the CodiEsp-Procedimiento corpus should be considered."
   ]
  }
 ],
 "metadata": {
  "kernelspec": {
   "display_name": "Python 3",
   "language": "python",
   "name": "python3"
  },
  "language_info": {
   "codemirror_mode": {
    "name": "ipython",
    "version": 3
   },
   "file_extension": ".py",
   "mimetype": "text/x-python",
   "name": "python",
   "nbconvert_exporter": "python",
   "pygments_lexer": "ipython3",
   "version": "3.6.5"
  }
 },
 "nbformat": 4,
 "nbformat_minor": 2
}
